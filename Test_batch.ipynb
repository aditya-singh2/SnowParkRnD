{
 "cells": [
  {
   "cell_type": "code",
   "execution_count": 1,
   "id": "3f9a7e8a",
   "metadata": {},
   "outputs": [
    {
     "name": "stdout",
     "output_type": "stream",
     "text": [
      "Connection manager service url initialised to http://fdc-project-manager:80/project-manager\n",
      "If you need to update its value then update the variable CONNECTION_MANAGER_BASE_URL in os env.\n"
     ]
    }
   ],
   "source": [
    "from fosforio.manager import get_conn_details_from_ds_name\n",
    "from snowflake.snowpark.session import Session\n",
    "import json"
   ]
  },
  {
   "cell_type": "code",
   "execution_count": 2,
   "id": "c84f9a74",
   "metadata": {},
   "outputs": [],
   "source": [
    "def get_session(dataset, project_id):\n",
    "    \"\"\"\n",
    "    Method creates snowflake session object.\n",
    "    :return:\n",
    "    \"\"\"\n",
    "    try:\n",
    "        conn = get_conn_details_from_ds_name(dataset, project_id)\n",
    "        region=conn[\"params\"][\"READER\"][\"region\"] if conn[\"params\"][\"READER\"][\"cloudPlatform\"] is None \\\n",
    "                    else conn[\"params\"][\"READER\"][\"region\"]+\".\"+conn[\"params\"][\"READER\"][\"cloudPlatform\"]\n",
    "        account = conn['params']['READER']['accountId'] if region is None \\\n",
    "                    else conn['params']['READER']['accountId']+\".\"+region\n",
    "        CONNECTION_PARAMETERS = {\n",
    "            \"account\": account,\n",
    "            \"user\":conn['params']['READER']['user'],\n",
    "            \"password\": conn['params']['READER']['password'],\n",
    "            \"role\": conn['params']['READER']['role'],\n",
    "            \"database\": conn['params']['READER']['database'],\n",
    "            \"warehouse\": conn['params']['READER']['wareHouse'],\n",
    "            \"schema\": conn['params']['READER']['schema']\n",
    "        }\n",
    "        return Session.builder.configs(CONNECTION_PARAMETERS).create()\n",
    "    except Exception as ex:\n",
    "        print(\"Error while creating snowflake session\", ex)\n",
    "        raise ex"
   ]
  },
  {
   "cell_type": "code",
   "execution_count": 3,
   "id": "7d69f498",
   "metadata": {},
   "outputs": [],
   "source": [
    "session = get_session('EMPLOYEE',\"fd0cf79c-8118-43a7-8f0b-059e8f78227a\")"
   ]
  },
  {
   "cell_type": "code",
   "execution_count": 5,
   "id": "816f9f0a",
   "metadata": {},
   "outputs": [],
   "source": [
    "from snowflake.ml.registry.registry import Registry"
   ]
  },
  {
   "cell_type": "code",
   "execution_count": null,
   "id": "4962f918",
   "metadata": {},
   "outputs": [],
   "source": [
    "\n",
    "  \"configuration\": {\"filter_condition\": \"\",\n",
    "  \"frequency\": {\"frequencyType\":\"ONCE\"},\n",
    "  \"input_dataset\": \"EMPLOYEE_TEST\",\n",
    "  \"write_strategy\": \"New Table\"\n",
    "},\n",
    "  \"deployment_type\": \"BATCH\",\n",
    "  \"model_name\": \"MODEL_5AABC4FE_FC3D_4121_9E11_52C83C9FECC9_FDC_PRAKHAR_TEST\",\n",
    "  \"version\": \"V_110405\"\n",
    "}"
   ]
  },
  {
   "cell_type": "code",
   "execution_count": 19,
   "id": "d1bccb9e",
   "metadata": {},
   "outputs": [
    {
     "data": {
      "text/plain": [
       "['JOININGYEAR',\n",
       " 'AGE',\n",
       " 'PAYMENTTIER',\n",
       " 'EXPERIENCEINCURRENTDOMAIN',\n",
       " '\"EDUCATION_0.0\"',\n",
       " '\"EDUCATION_1.0\"',\n",
       " '\"EDUCATION_2.0\"',\n",
       " '\"CITY_0.0\"',\n",
       " '\"CITY_1.0\"',\n",
       " '\"CITY_2.0\"',\n",
       " '\"GENDER_0.0\"',\n",
       " '\"GENDER_1.0\"',\n",
       " '\"EVERBENCHED_0.0\"',\n",
       " '\"EVERBENCHED_1.0\"',\n",
       " 'EVERBENCHED',\n",
       " 'GENDER',\n",
       " 'CITY',\n",
       " 'EDUCATION',\n",
       " 'LEAVEORNOT']"
      ]
     },
     "execution_count": 19,
     "metadata": {},
     "output_type": "execute_result"
    }
   ],
   "source": [
    "reg = Registry(session=session)\n",
    "m = reg.get_model('MODEL_5AABC4FE_FC3D_4121_9E11_52C83C9FECC9_FDC_PRAKHAR_TEST')\n",
    "mv = m.version('V_110405')\n",
    "# fetch_data_sql = \"select * from \" + input_table + \" \" + filter_cond\n",
    "df = session.table(\"EMPLOYEE_TEST\")\n",
    "df = df.rename\n",
    "# print(type(df))\n",
    "# remote_prediction = mv.run(df, function_name=\"predict\")\n",
    "# new_table_name = \"prediction_\" + 'output_table_batch'\n",
    "# session.write_pandas(remote_prediction, new_table_name, auto_create_table=True, overwrite=True)"
   ]
  },
  {
   "cell_type": "code",
   "execution_count": null,
   "id": "95938966",
   "metadata": {},
   "outputs": [],
   "source": []
  }
 ],
 "metadata": {
  "kernelspec": {
   "display_name": "Python 3",
   "language": "python",
   "name": "python3"
  },
  "language_info": {
   "codemirror_mode": {
    "name": "ipython",
    "version": 3
   },
   "file_extension": ".py",
   "mimetype": "text/x-python",
   "name": "python",
   "nbconvert_exporter": "python",
   "pygments_lexer": "ipython3",
   "version": "3.9.18"
  }
 },
 "nbformat": 4,
 "nbformat_minor": 5
}
