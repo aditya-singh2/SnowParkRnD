{
 "cells": [
  {
   "cell_type": "code",
   "execution_count": 1,
   "id": "321d6a46",
   "metadata": {},
   "outputs": [
    {
     "name": "stdout",
     "output_type": "stream",
     "text": [
      "Connection manager service url initialised to http://fdc-project-manager:80/project-manager\n",
      "If you need to update its value then update the variable CONNECTION_MANAGER_BASE_URL in os env.\n"
     ]
    }
   ],
   "source": [
    "from fosforio.manager import get_conn_details_from_ds_name\n",
    "from snowflake.snowpark.session import Session\n",
    "import json"
   ]
  },
  {
   "cell_type": "code",
   "execution_count": 2,
   "id": "19d09c16",
   "metadata": {},
   "outputs": [],
   "source": [
    "def get_session(dataset, project_id):\n",
    "    \"\"\"\n",
    "    Method creates snowflake session object.\n",
    "    :return:\n",
    "    \"\"\"\n",
    "    try:\n",
    "        conn = get_conn_details_from_ds_name(dataset, project_id)\n",
    "        region=conn[\"params\"][\"READER\"][\"region\"] if conn[\"params\"][\"READER\"][\"cloudPlatform\"] is None \\\n",
    "                    else conn[\"params\"][\"READER\"][\"region\"]+\".\"+conn[\"params\"][\"READER\"][\"cloudPlatform\"]\n",
    "        account = conn['params']['READER']['accountId'] if region is None \\\n",
    "                    else conn['params']['READER']['accountId']+\".\"+region\n",
    "        CONNECTION_PARAMETERS = {\n",
    "            \"account\": account,\n",
    "            \"user\":conn['params']['READER']['user'],\n",
    "            \"password\": conn['params']['READER']['password'],\n",
    "            \"role\": conn['params']['READER']['role'],\n",
    "            \"database\": conn['params']['READER']['database'],\n",
    "            \"warehouse\": conn['params']['READER']['wareHouse'],\n",
    "            \"schema\": conn['params']['READER']['schema']\n",
    "        }\n",
    "        return Session.builder.configs(CONNECTION_PARAMETERS).create()\n",
    "    except Exception as ex:\n",
    "        print(\"Error while creating snowflake session\", ex)\n",
    "        raise ex"
   ]
  },
  {
   "cell_type": "code",
   "execution_count": 3,
   "id": "23991b8b",
   "metadata": {},
   "outputs": [],
   "source": [
    "session = get_session('EMPLOYEE',\"fd0cf79c-8118-43a7-8f0b-059e8f78227a\")"
   ]
  },
  {
   "cell_type": "code",
   "execution_count": 5,
   "id": "1f85f140",
   "metadata": {},
   "outputs": [],
   "source": [
    "from snowflake.ml.registry.registry import Registry"
   ]
  },
  {
   "cell_type": "code",
   "execution_count": null,
   "id": "4f7a2d5b",
   "metadata": {},
   "outputs": [],
   "source": [
    "\n",
    "  \"configuration\": {\"filter_condition\": \"\",\n",
    "  \"frequency\": {\"frequencyType\":\"ONCE\"},\n",
    "  \"input_dataset\": \"EMPLOYEE_TEST\",\n",
    "  \"write_strategy\": \"New Table\"\n",
    "},\n",
    "  \"deployment_type\": \"BATCH\",\n",
    "  \"model_name\": \"MODEL_5AABC4FE_FC3D_4121_9E11_52C83C9FECC9_FDC_PRAKHAR_TEST\",\n",
    "  \"version\": \"V_110405\"\n",
    "}"
   ]
  },
  {
   "cell_type": "code",
   "execution_count": 18,
   "id": "0d7a7906",
   "metadata": {},
   "outputs": [
    {
     "ename": "AttributeError",
     "evalue": "'list' object has no attribute 'str'",
     "output_type": "error",
     "traceback": [
      "\u001b[0;31m---------------------------------------------------------------------------\u001b[0m",
      "\u001b[0;31mAttributeError\u001b[0m                            Traceback (most recent call last)",
      "Cell \u001b[0;32mIn[18], line 6\u001b[0m\n\u001b[1;32m      4\u001b[0m \u001b[38;5;66;03m# fetch_data_sql = \"select * from \" + input_table + \" \" + filter_cond\u001b[39;00m\n\u001b[1;32m      5\u001b[0m df \u001b[38;5;241m=\u001b[39m session\u001b[38;5;241m.\u001b[39mtable(\u001b[38;5;124m\"\u001b[39m\u001b[38;5;124mEMPLOYEE_TEST\u001b[39m\u001b[38;5;124m\"\u001b[39m)\n\u001b[0;32m----> 6\u001b[0m df\u001b[38;5;241m.\u001b[39mcolumns \u001b[38;5;241m=\u001b[39m \u001b[43mdf\u001b[49m\u001b[38;5;241;43m.\u001b[39;49m\u001b[43mcolumns\u001b[49m\u001b[38;5;241;43m.\u001b[39;49m\u001b[43mstr\u001b[49m\u001b[38;5;241m.\u001b[39mstrip(\u001b[38;5;124m'\u001b[39m\u001b[38;5;124m\"\u001b[39m\u001b[38;5;124m'\u001b[39m)\n\u001b[1;32m      7\u001b[0m \u001b[38;5;28mprint\u001b[39m(\u001b[38;5;28mtype\u001b[39m(df))\n\u001b[1;32m      8\u001b[0m remote_prediction \u001b[38;5;241m=\u001b[39m mv\u001b[38;5;241m.\u001b[39mrun(df, function_name\u001b[38;5;241m=\u001b[39m\u001b[38;5;124m\"\u001b[39m\u001b[38;5;124mpredict\u001b[39m\u001b[38;5;124m\"\u001b[39m)\n",
      "\u001b[0;31mAttributeError\u001b[0m: 'list' object has no attribute 'str'"
     ]
    }
   ],
   "source": [
    "reg = Registry(session=session)\n",
    "m = reg.get_model('MODEL_5AABC4FE_FC3D_4121_9E11_52C83C9FECC9_FDC_PRAKHAR_TEST')\n",
    "mv = m.version('V_110405')\n",
    "# fetch_data_sql = \"select * from \" + input_table + \" \" + filter_cond\n",
    "df = session.table(\"EMPLOYEE_TEST\")\n",
    "df.columns = df.columns\n",
    "print(type(df))\n",
    "remote_prediction = mv.run(df, function_name=\"predict\")\n",
    "new_table_name = \"prediction_\" + 'output_table_batch'\n",
    "session.write_pandas(remote_prediction, new_table_name, auto_create_table=True, overwrite=True)"
   ]
  },
  {
   "cell_type": "code",
   "execution_count": null,
   "id": "db5f21e5",
   "metadata": {},
   "outputs": [],
   "source": []
  }
 ],
 "metadata": {
  "kernelspec": {
   "display_name": "Python 3",
   "language": "python",
   "name": "python3"
  },
  "language_info": {
   "codemirror_mode": {
    "name": "ipython",
    "version": 3
   },
   "file_extension": ".py",
   "mimetype": "text/x-python",
   "name": "python",
   "nbconvert_exporter": "python",
   "pygments_lexer": "ipython3",
   "version": "3.9.18"
  }
 },
 "nbformat": 4,
 "nbformat_minor": 5
}
