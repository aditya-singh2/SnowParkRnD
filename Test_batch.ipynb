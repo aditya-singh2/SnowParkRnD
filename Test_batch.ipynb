{
 "cells": [
  {
   "cell_type": "code",
   "execution_count": 1,
   "id": "8b2ebcdf",
   "metadata": {},
   "outputs": [
    {
     "name": "stdout",
     "output_type": "stream",
     "text": [
      "Connection manager service url initialised to http://fdc-project-manager:80/project-manager\n",
      "If you need to update its value then update the variable CONNECTION_MANAGER_BASE_URL in os env.\n"
     ]
    }
   ],
   "source": [
    "from fosforio.manager import get_conn_details_from_ds_name\n",
    "from snowflake.snowpark.session import Session\n",
    "import json"
   ]
  },
  {
   "cell_type": "code",
   "execution_count": 2,
   "id": "122b5502",
   "metadata": {},
   "outputs": [],
   "source": [
    "def get_session(dataset, project_id):\n",
    "    \"\"\"\n",
    "    Method creates snowflake session object.\n",
    "    :return:\n",
    "    \"\"\"\n",
    "    try:\n",
    "        conn = get_conn_details_from_ds_name(dataset, project_id)\n",
    "        region=conn[\"params\"][\"READER\"][\"region\"] if conn[\"params\"][\"READER\"][\"cloudPlatform\"] is None \\\n",
    "                    else conn[\"params\"][\"READER\"][\"region\"]+\".\"+conn[\"params\"][\"READER\"][\"cloudPlatform\"]\n",
    "        account = conn['params']['READER']['accountId'] if region is None \\\n",
    "                    else conn['params']['READER']['accountId']+\".\"+region\n",
    "        CONNECTION_PARAMETERS = {\n",
    "            \"account\": account,\n",
    "            \"user\":conn['params']['READER']['user'],\n",
    "            \"password\": conn['params']['READER']['password'],\n",
    "            \"role\": conn['params']['READER']['role'],\n",
    "            \"database\": conn['params']['READER']['database'],\n",
    "            \"warehouse\": conn['params']['READER']['wareHouse'],\n",
    "            \"schema\": conn['params']['READER']['schema']\n",
    "        }\n",
    "        return Session.builder.configs(CONNECTION_PARAMETERS).create()\n",
    "    except Exception as ex:\n",
    "        print(\"Error while creating snowflake session\", ex)\n",
    "        raise ex"
   ]
  },
  {
   "cell_type": "code",
   "execution_count": 3,
   "id": "f99bcc68",
   "metadata": {},
   "outputs": [],
   "source": [
    "session = get_session('EMPLOYEE',\"fd0cf79c-8118-43a7-8f0b-059e8f78227a\")"
   ]
  },
  {
   "cell_type": "code",
   "execution_count": 5,
   "id": "583955fa",
   "metadata": {},
   "outputs": [],
   "source": [
    "from snowflake.ml.registry.registry import Registry"
   ]
  },
  {
   "cell_type": "code",
   "execution_count": null,
   "id": "8cdbb803",
   "metadata": {},
   "outputs": [],
   "source": [
    "\n",
    "  \"configuration\": {\"filter_condition\": \"\",\n",
    "  \"frequency\": {\"frequencyType\":\"ONCE\"},\n",
    "  \"input_dataset\": \"EMPLOYEE_TEST\",\n",
    "  \"write_strategy\": \"New Table\"\n",
    "},\n",
    "  \"deployment_type\": \"BATCH\",\n",
    "  \"model_name\": \"MODEL_5AABC4FE_FC3D_4121_9E11_52C83C9FECC9_FDC_PRAKHAR_TEST\",\n",
    "  \"version\": \"V_110405\"\n",
    "}"
   ]
  },
  {
   "cell_type": "code",
   "execution_count": 14,
   "id": "b3af491e",
   "metadata": {},
   "outputs": [
    {
     "name": "stdout",
     "output_type": "stream",
     "text": [
      "      JOININGYEAR       AGE  PAYMENTTIER  EXPERIENCEINCURRENTDOMAIN  \\\n",
      "0        0.833333  0.631579          1.0                   0.000000   \n",
      "1        0.166667  0.315789          0.0                   0.428571   \n",
      "2        0.333333  0.842105          1.0                   0.285714   \n",
      "3        0.666667  0.263158          1.0                   0.714286   \n",
      "4        0.833333  0.105263          1.0                   0.285714   \n",
      "...           ...       ...          ...                        ...   \n",
      "3701     0.500000  0.526316          1.0                   0.142857   \n",
      "3702     0.833333  0.473684          0.5                   0.285714   \n",
      "3703     0.166667  0.157895          1.0                   0.428571   \n",
      "3704     0.666667  0.421053          1.0                   0.285714   \n",
      "3705     1.000000  0.263158          1.0                   0.714286   \n",
      "\n",
      "      EDUCATION_0.0  EDUCATION_1.0  EDUCATION_2.0  CITY_0.0  CITY_1.0  \\\n",
      "0               1.0            0.0            0.0       1.0       0.0   \n",
      "1               1.0            0.0            0.0       0.0       0.0   \n",
      "2               1.0            0.0            0.0       0.0       1.0   \n",
      "3               0.0            1.0            0.0       1.0       0.0   \n",
      "4               0.0            1.0            0.0       0.0       0.0   \n",
      "...             ...            ...            ...       ...       ...   \n",
      "3701            1.0            0.0            0.0       0.0       0.0   \n",
      "3702            0.0            1.0            0.0       0.0       0.0   \n",
      "3703            1.0            0.0            0.0       1.0       0.0   \n",
      "3704            1.0            0.0            0.0       0.0       0.0   \n",
      "3705            0.0            1.0            0.0       0.0       1.0   \n",
      "\n",
      "      CITY_2.0  GENDER_0.0  GENDER_1.0  EVERBENCHED_0.0  EVERBENCHED_1.0  \\\n",
      "0          0.0         0.0         1.0              1.0              0.0   \n",
      "1          1.0         1.0         0.0              1.0              0.0   \n",
      "2          0.0         1.0         0.0              1.0              0.0   \n",
      "3          0.0         0.0         1.0              1.0              0.0   \n",
      "4          1.0         0.0         1.0              0.0              1.0   \n",
      "...        ...         ...         ...              ...              ...   \n",
      "3701       1.0         1.0         0.0              0.0              1.0   \n",
      "3702       1.0         1.0         0.0              1.0              0.0   \n",
      "3703       0.0         1.0         0.0              1.0              0.0   \n",
      "3704       1.0         0.0         1.0              1.0              0.0   \n",
      "3705       0.0         0.0         1.0              1.0              0.0   \n",
      "\n",
      "      EVERBENCHED  GENDER  CITY  EDUCATION  LEAVEORNOT  \n",
      "0             0.0     1.0   0.0        0.0           0  \n",
      "1             0.0     0.0   2.0        0.0           1  \n",
      "2             0.0     0.0   1.0        0.0           0  \n",
      "3             0.0     1.0   0.0        1.0           1  \n",
      "4             1.0     1.0   2.0        1.0           1  \n",
      "...           ...     ...   ...        ...         ...  \n",
      "3701          1.0     0.0   2.0        0.0           1  \n",
      "3702          0.0     0.0   2.0        1.0           0  \n",
      "3703          0.0     0.0   0.0        0.0           0  \n",
      "3704          0.0     1.0   2.0        0.0           0  \n",
      "3705          0.0     1.0   1.0        1.0           1  \n",
      "\n",
      "[3706 rows x 19 columns]\n"
     ]
    },
    {
     "ename": "ValueError",
     "evalue": "(2112) Data Validation Error: feature \"EDUCATION_0.0\" does not exist in data.",
     "output_type": "error",
     "traceback": [
      "\u001b[0;31m---------------------------------------------------------------------------\u001b[0m",
      "\u001b[0;31mKeyError\u001b[0m                                  Traceback (most recent call last)",
      "File \u001b[0;32m/packages/Python-3.9-Snowpark/c4ae710c-7618-477a-97d0-5337fbf62a9a/3.9/pandas/core/indexes/base.py:3802\u001b[0m, in \u001b[0;36mIndex.get_loc\u001b[0;34m(self, key, method, tolerance)\u001b[0m\n\u001b[1;32m   3801\u001b[0m \u001b[38;5;28;01mtry\u001b[39;00m:\n\u001b[0;32m-> 3802\u001b[0m     \u001b[38;5;28;01mreturn\u001b[39;00m \u001b[38;5;28;43mself\u001b[39;49m\u001b[38;5;241;43m.\u001b[39;49m\u001b[43m_engine\u001b[49m\u001b[38;5;241;43m.\u001b[39;49m\u001b[43mget_loc\u001b[49m\u001b[43m(\u001b[49m\u001b[43mcasted_key\u001b[49m\u001b[43m)\u001b[49m\n\u001b[1;32m   3803\u001b[0m \u001b[38;5;28;01mexcept\u001b[39;00m \u001b[38;5;167;01mKeyError\u001b[39;00m \u001b[38;5;28;01mas\u001b[39;00m err:\n",
      "File \u001b[0;32m/packages/Python-3.9-Snowpark/c4ae710c-7618-477a-97d0-5337fbf62a9a/3.9/pandas/_libs/index.pyx:138\u001b[0m, in \u001b[0;36mpandas._libs.index.IndexEngine.get_loc\u001b[0;34m()\u001b[0m\n",
      "File \u001b[0;32m/packages/Python-3.9-Snowpark/c4ae710c-7618-477a-97d0-5337fbf62a9a/3.9/pandas/_libs/index.pyx:165\u001b[0m, in \u001b[0;36mpandas._libs.index.IndexEngine.get_loc\u001b[0;34m()\u001b[0m\n",
      "File \u001b[0;32mpandas/_libs/hashtable_class_helper.pxi:5745\u001b[0m, in \u001b[0;36mpandas._libs.hashtable.PyObjectHashTable.get_item\u001b[0;34m()\u001b[0m\n",
      "File \u001b[0;32mpandas/_libs/hashtable_class_helper.pxi:5753\u001b[0m, in \u001b[0;36mpandas._libs.hashtable.PyObjectHashTable.get_item\u001b[0;34m()\u001b[0m\n",
      "\u001b[0;31mKeyError\u001b[0m: '\"EDUCATION_0.0\"'",
      "\nThe above exception was the direct cause of the following exception:\n",
      "\u001b[0;31mKeyError\u001b[0m                                  Traceback (most recent call last)",
      "File \u001b[0;32m/packages/Python-3.9-Snowpark/c4ae710c-7618-477a-97d0-5337fbf62a9a/3.9/snowflake/ml/model/model_signature.py:198\u001b[0m, in \u001b[0;36m_validate_pandas_df\u001b[0;34m(data, features, strict)\u001b[0m\n\u001b[1;32m    197\u001b[0m \u001b[38;5;28;01mtry\u001b[39;00m:\n\u001b[0;32m--> 198\u001b[0m     data_col \u001b[38;5;241m=\u001b[39m \u001b[43mdata\u001b[49m\u001b[43m[\u001b[49m\u001b[43mft_name\u001b[49m\u001b[43m]\u001b[49m\n\u001b[1;32m    199\u001b[0m \u001b[38;5;28;01mexcept\u001b[39;00m \u001b[38;5;167;01mKeyError\u001b[39;00m:\n",
      "File \u001b[0;32m/packages/Python-3.9-Snowpark/c4ae710c-7618-477a-97d0-5337fbf62a9a/3.9/pandas/core/frame.py:3807\u001b[0m, in \u001b[0;36mDataFrame.__getitem__\u001b[0;34m(self, key)\u001b[0m\n\u001b[1;32m   3806\u001b[0m     \u001b[38;5;28;01mreturn\u001b[39;00m \u001b[38;5;28mself\u001b[39m\u001b[38;5;241m.\u001b[39m_getitem_multilevel(key)\n\u001b[0;32m-> 3807\u001b[0m indexer \u001b[38;5;241m=\u001b[39m \u001b[38;5;28;43mself\u001b[39;49m\u001b[38;5;241;43m.\u001b[39;49m\u001b[43mcolumns\u001b[49m\u001b[38;5;241;43m.\u001b[39;49m\u001b[43mget_loc\u001b[49m\u001b[43m(\u001b[49m\u001b[43mkey\u001b[49m\u001b[43m)\u001b[49m\n\u001b[1;32m   3808\u001b[0m \u001b[38;5;28;01mif\u001b[39;00m is_integer(indexer):\n",
      "File \u001b[0;32m/packages/Python-3.9-Snowpark/c4ae710c-7618-477a-97d0-5337fbf62a9a/3.9/pandas/core/indexes/base.py:3804\u001b[0m, in \u001b[0;36mIndex.get_loc\u001b[0;34m(self, key, method, tolerance)\u001b[0m\n\u001b[1;32m   3803\u001b[0m \u001b[38;5;28;01mexcept\u001b[39;00m \u001b[38;5;167;01mKeyError\u001b[39;00m \u001b[38;5;28;01mas\u001b[39;00m err:\n\u001b[0;32m-> 3804\u001b[0m     \u001b[38;5;28;01mraise\u001b[39;00m \u001b[38;5;167;01mKeyError\u001b[39;00m(key) \u001b[38;5;28;01mfrom\u001b[39;00m \u001b[38;5;21;01merr\u001b[39;00m\n\u001b[1;32m   3805\u001b[0m \u001b[38;5;28;01mexcept\u001b[39;00m \u001b[38;5;167;01mTypeError\u001b[39;00m:\n\u001b[1;32m   3806\u001b[0m     \u001b[38;5;66;03m# If we have a listlike key, _check_indexing_error will raise\u001b[39;00m\n\u001b[1;32m   3807\u001b[0m     \u001b[38;5;66;03m#  InvalidIndexError. Otherwise we fall through and re-raise\u001b[39;00m\n\u001b[1;32m   3808\u001b[0m     \u001b[38;5;66;03m#  the TypeError.\u001b[39;00m\n",
      "\u001b[0;31mKeyError\u001b[0m: '\"EDUCATION_0.0\"'",
      "\nDuring handling of the above exception, another exception occurred:\n",
      "\u001b[0;31mSnowflakeMLException\u001b[0m                      Traceback (most recent call last)",
      "File \u001b[0;32m/packages/Python-3.9-Snowpark/c4ae710c-7618-477a-97d0-5337fbf62a9a/3.9/snowflake/ml/_internal/telemetry.py:367\u001b[0m, in \u001b[0;36msend_api_usage_telemetry.<locals>.decorator.<locals>.wrap\u001b[0;34m(*args, **kwargs)\u001b[0m\n\u001b[1;32m    366\u001b[0m \u001b[38;5;28;01mtry\u001b[39;00m:\n\u001b[0;32m--> 367\u001b[0m     res \u001b[38;5;241m=\u001b[39m \u001b[43mfunc\u001b[49m\u001b[43m(\u001b[49m\u001b[38;5;241;43m*\u001b[39;49m\u001b[43margs\u001b[49m\u001b[43m,\u001b[49m\u001b[43m \u001b[49m\u001b[38;5;241;43m*\u001b[39;49m\u001b[38;5;241;43m*\u001b[39;49m\u001b[43mkwargs\u001b[49m\u001b[43m)\u001b[49m\n\u001b[1;32m    368\u001b[0m \u001b[38;5;28;01mexcept\u001b[39;00m \u001b[38;5;167;01mException\u001b[39;00m \u001b[38;5;28;01mas\u001b[39;00m e:\n",
      "File \u001b[0;32m/packages/Python-3.9-Snowpark/c4ae710c-7618-477a-97d0-5337fbf62a9a/3.9/snowflake/ml/model/_client/model/model_version_impl.py:336\u001b[0m, in \u001b[0;36mModelVersion.run\u001b[0;34m(self, X, function_name, strict_input_validation)\u001b[0m\n\u001b[1;32m    335\u001b[0m     target_function_info \u001b[38;5;241m=\u001b[39m functions[\u001b[38;5;241m0\u001b[39m]\n\u001b[0;32m--> 336\u001b[0m \u001b[38;5;28;01mreturn\u001b[39;00m \u001b[38;5;28;43mself\u001b[39;49m\u001b[38;5;241;43m.\u001b[39;49m\u001b[43m_model_ops\u001b[49m\u001b[38;5;241;43m.\u001b[39;49m\u001b[43minvoke_method\u001b[49m\u001b[43m(\u001b[49m\n\u001b[1;32m    337\u001b[0m \u001b[43m    \u001b[49m\u001b[43mmethod_name\u001b[49m\u001b[38;5;241;43m=\u001b[39;49m\u001b[43msql_identifier\u001b[49m\u001b[38;5;241;43m.\u001b[39;49m\u001b[43mSqlIdentifier\u001b[49m\u001b[43m(\u001b[49m\u001b[43mtarget_function_info\u001b[49m\u001b[43m[\u001b[49m\u001b[38;5;124;43m\"\u001b[39;49m\u001b[38;5;124;43mname\u001b[39;49m\u001b[38;5;124;43m\"\u001b[39;49m\u001b[43m]\u001b[49m\u001b[43m)\u001b[49m\u001b[43m,\u001b[49m\n\u001b[1;32m    338\u001b[0m \u001b[43m    \u001b[49m\u001b[43msignature\u001b[49m\u001b[38;5;241;43m=\u001b[39;49m\u001b[43mtarget_function_info\u001b[49m\u001b[43m[\u001b[49m\u001b[38;5;124;43m\"\u001b[39;49m\u001b[38;5;124;43msignature\u001b[39;49m\u001b[38;5;124;43m\"\u001b[39;49m\u001b[43m]\u001b[49m\u001b[43m,\u001b[49m\n\u001b[1;32m    339\u001b[0m \u001b[43m    \u001b[49m\u001b[43mX\u001b[49m\u001b[38;5;241;43m=\u001b[39;49m\u001b[43mX\u001b[49m\u001b[43m,\u001b[49m\n\u001b[1;32m    340\u001b[0m \u001b[43m    \u001b[49m\u001b[43mmodel_name\u001b[49m\u001b[38;5;241;43m=\u001b[39;49m\u001b[38;5;28;43mself\u001b[39;49m\u001b[38;5;241;43m.\u001b[39;49m\u001b[43m_model_name\u001b[49m\u001b[43m,\u001b[49m\n\u001b[1;32m    341\u001b[0m \u001b[43m    \u001b[49m\u001b[43mversion_name\u001b[49m\u001b[38;5;241;43m=\u001b[39;49m\u001b[38;5;28;43mself\u001b[39;49m\u001b[38;5;241;43m.\u001b[39;49m\u001b[43m_version_name\u001b[49m\u001b[43m,\u001b[49m\n\u001b[1;32m    342\u001b[0m \u001b[43m    \u001b[49m\u001b[43mstrict_input_validation\u001b[49m\u001b[38;5;241;43m=\u001b[39;49m\u001b[43mstrict_input_validation\u001b[49m\u001b[43m,\u001b[49m\n\u001b[1;32m    343\u001b[0m \u001b[43m    \u001b[49m\u001b[43mstatement_params\u001b[49m\u001b[38;5;241;43m=\u001b[39;49m\u001b[43mstatement_params\u001b[49m\u001b[43m,\u001b[49m\n\u001b[1;32m    344\u001b[0m \u001b[43m\u001b[49m\u001b[43m)\u001b[49m\n",
      "File \u001b[0;32m/packages/Python-3.9-Snowpark/c4ae710c-7618-477a-97d0-5337fbf62a9a/3.9/snowflake/ml/model/_client/ops/model_ops.py:394\u001b[0m, in \u001b[0;36mModelOperator.invoke_method\u001b[0;34m(self, method_name, signature, X, model_name, version_name, strict_input_validation, statement_params)\u001b[0m\n\u001b[1;32m    393\u001b[0m output_with_input_features \u001b[38;5;241m=\u001b[39m \u001b[38;5;28;01mFalse\u001b[39;00m\n\u001b[0;32m--> 394\u001b[0m df \u001b[38;5;241m=\u001b[39m \u001b[43mmodel_signature\u001b[49m\u001b[38;5;241;43m.\u001b[39;49m\u001b[43m_convert_and_validate_local_data\u001b[49m\u001b[43m(\u001b[49m\u001b[43mX\u001b[49m\u001b[43m,\u001b[49m\u001b[43m \u001b[49m\u001b[43msignature\u001b[49m\u001b[38;5;241;43m.\u001b[39;49m\u001b[43minputs\u001b[49m\u001b[43m,\u001b[49m\u001b[43m \u001b[49m\u001b[43mstrict\u001b[49m\u001b[38;5;241;43m=\u001b[39;49m\u001b[43mstrict_input_validation\u001b[49m\u001b[43m)\u001b[49m\n\u001b[1;32m    395\u001b[0m s_df \u001b[38;5;241m=\u001b[39m snowpark_handler\u001b[38;5;241m.\u001b[39mSnowparkDataFrameHandler\u001b[38;5;241m.\u001b[39mconvert_from_df(\n\u001b[1;32m    396\u001b[0m     \u001b[38;5;28mself\u001b[39m\u001b[38;5;241m.\u001b[39m_session, df, keep_order\u001b[38;5;241m=\u001b[39mkeep_order, features\u001b[38;5;241m=\u001b[39msignature\u001b[38;5;241m.\u001b[39minputs\n\u001b[1;32m    397\u001b[0m )\n",
      "File \u001b[0;32m/packages/Python-3.9-Snowpark/c4ae710c-7618-477a-97d0-5337fbf62a9a/3.9/snowflake/ml/model/model_signature.py:647\u001b[0m, in \u001b[0;36m_convert_and_validate_local_data\u001b[0;34m(data, features, strict)\u001b[0m\n\u001b[1;32m    646\u001b[0m df \u001b[38;5;241m=\u001b[39m utils\u001b[38;5;241m.\u001b[39mrename_pandas_df(df, features)\n\u001b[0;32m--> 647\u001b[0m \u001b[43m_validate_pandas_df\u001b[49m\u001b[43m(\u001b[49m\u001b[43mdf\u001b[49m\u001b[43m,\u001b[49m\u001b[43m \u001b[49m\u001b[43mfeatures\u001b[49m\u001b[43m,\u001b[49m\u001b[43m \u001b[49m\u001b[43mstrict\u001b[49m\u001b[38;5;241;43m=\u001b[39;49m\u001b[43mstrict\u001b[49m\u001b[43m)\u001b[49m\n\u001b[1;32m    649\u001b[0m \u001b[38;5;28;01mreturn\u001b[39;00m df\n",
      "File \u001b[0;32m/packages/Python-3.9-Snowpark/c4ae710c-7618-477a-97d0-5337fbf62a9a/3.9/snowflake/ml/model/model_signature.py:200\u001b[0m, in \u001b[0;36m_validate_pandas_df\u001b[0;34m(data, features, strict)\u001b[0m\n\u001b[1;32m    199\u001b[0m \u001b[38;5;28;01mexcept\u001b[39;00m \u001b[38;5;167;01mKeyError\u001b[39;00m:\n\u001b[0;32m--> 200\u001b[0m     \u001b[38;5;28;01mraise\u001b[39;00m snowml_exceptions\u001b[38;5;241m.\u001b[39mSnowflakeMLException(\n\u001b[1;32m    201\u001b[0m         error_code\u001b[38;5;241m=\u001b[39merror_codes\u001b[38;5;241m.\u001b[39mINVALID_DATA,\n\u001b[1;32m    202\u001b[0m         original_exception\u001b[38;5;241m=\u001b[39m\u001b[38;5;167;01mValueError\u001b[39;00m(\u001b[38;5;124mf\u001b[39m\u001b[38;5;124m\"\u001b[39m\u001b[38;5;124mData Validation Error: feature \u001b[39m\u001b[38;5;132;01m{\u001b[39;00mft_name\u001b[38;5;132;01m}\u001b[39;00m\u001b[38;5;124m does not exist in data.\u001b[39m\u001b[38;5;124m\"\u001b[39m),\n\u001b[1;32m    203\u001b[0m     )\n\u001b[1;32m    205\u001b[0m df_col_dtype \u001b[38;5;241m=\u001b[39m data_col\u001b[38;5;241m.\u001b[39mdtype\n",
      "\u001b[0;31mSnowflakeMLException\u001b[0m: ValueError('(2112) Data Validation Error: feature \"EDUCATION_0.0\" does not exist in data.')",
      "\nThe above exception was the direct cause of the following exception:\n",
      "\u001b[0;31mValueError\u001b[0m                                Traceback (most recent call last)",
      "Cell \u001b[0;32mIn[14], line 8\u001b[0m\n\u001b[1;32m      6\u001b[0m \u001b[38;5;28mprint\u001b[39m(df)\n\u001b[1;32m      7\u001b[0m \u001b[38;5;66;03m# print(type(df))\u001b[39;00m\n\u001b[0;32m----> 8\u001b[0m remote_prediction \u001b[38;5;241m=\u001b[39m \u001b[43mmv\u001b[49m\u001b[38;5;241;43m.\u001b[39;49m\u001b[43mrun\u001b[49m\u001b[43m(\u001b[49m\u001b[43mdf\u001b[49m\u001b[43m,\u001b[49m\u001b[43m \u001b[49m\u001b[43mfunction_name\u001b[49m\u001b[38;5;241;43m=\u001b[39;49m\u001b[38;5;124;43m\"\u001b[39;49m\u001b[38;5;124;43mpredict\u001b[39;49m\u001b[38;5;124;43m\"\u001b[39;49m\u001b[43m)\u001b[49m\n\u001b[1;32m      9\u001b[0m new_table_name \u001b[38;5;241m=\u001b[39m \u001b[38;5;124m\"\u001b[39m\u001b[38;5;124mprediction_\u001b[39m\u001b[38;5;124m\"\u001b[39m \u001b[38;5;241m+\u001b[39m \u001b[38;5;124m'\u001b[39m\u001b[38;5;124moutput_table_batch\u001b[39m\u001b[38;5;124m'\u001b[39m\n\u001b[1;32m     10\u001b[0m session\u001b[38;5;241m.\u001b[39mwrite_pandas(remote_prediction, new_table_name, auto_create_table\u001b[38;5;241m=\u001b[39m\u001b[38;5;28;01mTrue\u001b[39;00m, overwrite\u001b[38;5;241m=\u001b[39m\u001b[38;5;28;01mTrue\u001b[39;00m)\n",
      "File \u001b[0;32m/packages/Python-3.9-Snowpark/c4ae710c-7618-477a-97d0-5337fbf62a9a/3.9/snowflake/ml/_internal/telemetry.py:389\u001b[0m, in \u001b[0;36msend_api_usage_telemetry.<locals>.decorator.<locals>.wrap\u001b[0;34m(*args, **kwargs)\u001b[0m\n\u001b[1;32m    387\u001b[0m         \u001b[38;5;28;01mraise\u001b[39;00m me\u001b[38;5;241m.\u001b[39moriginal_exception \u001b[38;5;28;01mfrom\u001b[39;00m \u001b[38;5;28;01mNone\u001b[39;00m\n\u001b[1;32m    388\u001b[0m     \u001b[38;5;28;01melse\u001b[39;00m:\n\u001b[0;32m--> 389\u001b[0m         \u001b[38;5;28;01mraise\u001b[39;00m me\u001b[38;5;241m.\u001b[39moriginal_exception \u001b[38;5;28;01mfrom\u001b[39;00m \u001b[38;5;21;01me\u001b[39;00m\n\u001b[1;32m    390\u001b[0m \u001b[38;5;28;01melse\u001b[39;00m:\n\u001b[1;32m    391\u001b[0m     \u001b[38;5;28;01mreturn\u001b[39;00m update_stmt_params_if_snowpark_df(res, statement_params)\n",
      "\u001b[0;31mValueError\u001b[0m: (2112) Data Validation Error: feature \"EDUCATION_0.0\" does not exist in data."
     ]
    }
   ],
   "source": [
    "reg = Registry(session=session)\n",
    "m = reg.get_model('MODEL_5AABC4FE_FC3D_4121_9E11_52C83C9FECC9_FDC_PRAKHAR_TEST')\n",
    "mv = m.version('V_110405')\n",
    "# fetch_data_sql = \"select * from \" + input_table + \" \" + filter_cond\n",
    "df = session.sql('select * from EMPLOYEE_TEST').to_pandas() \n",
    "print(df)\n",
    "# print(type(df))\n",
    "remote_prediction = mv.run(df, function_name=\"predict\")\n",
    "new_table_name = \"prediction_\" + 'output_table_batch'\n",
    "session.write_pandas(remote_prediction, new_table_name, auto_create_table=True, overwrite=True)"
   ]
  },
  {
   "cell_type": "code",
   "execution_count": null,
   "id": "784a137d",
   "metadata": {},
   "outputs": [],
   "source": []
  }
 ],
 "metadata": {
  "kernelspec": {
   "display_name": "Python 3",
   "language": "python",
   "name": "python3"
  },
  "language_info": {
   "codemirror_mode": {
    "name": "ipython",
    "version": 3
   },
   "file_extension": ".py",
   "mimetype": "text/x-python",
   "name": "python",
   "nbconvert_exporter": "python",
   "pygments_lexer": "ipython3",
   "version": "3.9.18"
  }
 },
 "nbformat": 4,
 "nbformat_minor": 5
}
