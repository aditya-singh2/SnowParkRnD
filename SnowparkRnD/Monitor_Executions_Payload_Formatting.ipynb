{
 "cells": [
  {
   "cell_type": "code",
   "execution_count": null,
   "id": "423ea0fb",
   "metadata": {},
   "outputs": [],
   "source": [
    "# {\n",
    "#         \"algorithm_name\": \"snowflake.ml.modeling.tree.DecisionTreeClassifier\"\n",
    "#      }"
   ]
  },
  {
   "cell_type": "code",
   "execution_count": 1,
   "id": "0b1276c5",
   "metadata": {},
   "outputs": [],
   "source": [
    "import json\n",
    "\n",
    "request = {\n",
    "    \"experiment_id\" : \"aaaawwwwweeeer\",\n",
    "    \"experiment_name\":\"exp_001\",\n",
    "    \"algorithm_category\": \"Snowparkml\",\n",
    "    \"algorithm_type\": \"Classification\",\n",
    "    \"dataset_name\":\"diamonds_dataset\",\n",
    "    \"target_column\":\"quality\",\n",
    "    \"algorithms\": [{\n",
    "        \"algorithm_name\": \"snowflake.ml.modeling.ensemble.RandomForestRegressor\"\n",
    "     }\n",
    "    ]\n",
    "}\n",
    "headers = {\n",
    "    \"project_id\": \"fd0cf79c-8118-43a7-8f0b-059e8f78227a\"\n",
    "}"
   ]
  },
  {
   "cell_type": "code",
   "execution_count": 2,
   "id": "8fc3fb94",
   "metadata": {},
   "outputs": [],
   "source": [
    "_exp_data = {\n",
    "    \"monitor_run_id\": \"MONITORRUNID\", \n",
    "    \"experiment_id\" : request.get(\"experiment_id\"), \n",
    "    \"experiment_name\":request.get(\"experiment_name\"), \n",
    "    \"stored_procedure\":\"run_experiment\",\n",
    "    \"algorithm_category\":\"Snowparkml\",\n",
    "    \"algorithm_type\":request.get(\"algorithm_type\"),\n",
    "    \"dataset_name\":request.get(\"dataset_name\"),\n",
    "    \"target_column\":request.get(\"target_column\"),\n",
    "    \"algorithms\":[]\n",
    "}"
   ]
  },
  {
   "cell_type": "code",
   "execution_count": 3,
   "id": "254f9363",
   "metadata": {},
   "outputs": [],
   "source": [
    "_payload_format = {\n",
    "    \"jobObjectName\": request.get(\"experiment_name\"),\n",
    "    \"jobType\": \"Experiment\",\n",
    "    \"objectId\": request.get(\"experiment_id\"),\n",
    "    \"projectId\": headers.get(\"project_id\"),\n",
    "    \"jobInstanceInputParameter\": \"{}\",\n",
    "    \"runEngine\": \"SNOWFLAKE\",\n",
    "    \"jobConfig\": ''\n",
    "}"
   ]
  },
  {
   "cell_type": "code",
   "execution_count": 4,
   "id": "dc9a2d48",
   "metadata": {},
   "outputs": [
    {
     "name": "stdout",
     "output_type": "stream",
     "text": [
      "{\"monitor_run_id\": \"MONITORRUNID\", \"experiment_id\": \"aaaawwwwweeeer\", \"experiment_name\": \"exp_001\", \"stored_procedure\": \"run_experiment\", \"algorithm_category\": \"Snowparkml\", \"algorithm_type\": \"Classification\", \"dataset_name\": \"diamonds_dataset\", \"target_column\": \"quality\", \"algorithms\": [{\"algorithm_name\": \"snowflake.ml.modeling.ensemble.RandomForestRegressor\"}]}\n"
     ]
    }
   ],
   "source": [
    "payloads=[]\n",
    "for algo,i in zip(request.get(\"algorithms\"),range(len(request.get(\"algorithms\")))):\n",
    "    _exp_data.update({\"algorithms\": [algo]})\n",
    "    exp_data = json.dumps(_exp_data)\n",
    "    print(exp_data)\n",
    "    sf_query = f\"CALL run_experiment('{exp_data}');\"\n",
    "    _payload_format.update({\"jobConfig\":'{{\"snowflake_query\": \"{0}\", \"algorithm\": \"{1}\"}}'.format(sf_query, algo.get(\"algorithm_name\"))})\n",
    "    payloads.append(json.dumps(_payload_format))\n"
   ]
  },
  {
   "cell_type": "code",
   "execution_count": 5,
   "id": "0da66bc4",
   "metadata": {},
   "outputs": [
    {
     "name": "stdout",
     "output_type": "stream",
     "text": [
      "{\n"
     ]
    }
   ],
   "source": [
    "print(payloads[0][0])"
   ]
  },
  {
   "cell_type": "code",
   "execution_count": null,
   "id": "d8532efc",
   "metadata": {},
   "outputs": [],
   "source": [
    "for payload in payloads:\n",
    "#     payload = json.dumps(payload)\n",
    "#     payload = payload.encode('utf-8')\n",
    "    print(payload)"
   ]
  },
  {
   "cell_type": "code",
   "execution_count": null,
   "id": "0e2aeac8",
   "metadata": {},
   "outputs": [],
   "source": [
    "payload"
   ]
  },
  {
   "cell_type": "code",
   "execution_count": 6,
   "id": "4494fa6f",
   "metadata": {},
   "outputs": [],
   "source": [
    "import requests\n",
    "executions_url = \"http://monitor-backend-service/monitor/monitor/api/v2/executions/\"\n",
    "\n",
    "temp_head = {\n",
    "    \"X-Auth-Userid\": \"aditya1.singh2@fosfor.com\",\n",
    "    \"X-Auth-Username\": \"aditya1.singh2@fosfor.com\",\n",
    "    \"X-Auth-Email\": \"aditya1.singh2@fosfor.com\",\n",
    "    \"X-Project-Id\": \"fd0cf79c-8118-43a7-8f0b-059e8f78227a\"\n",
    "}"
   ]
  },
  {
   "cell_type": "code",
   "execution_count": 7,
   "id": "d0dc9abe",
   "metadata": {},
   "outputs": [
    {
     "ename": "JSONDecodeError",
     "evalue": "Expecting ',' delimiter: line 1 column 45 (char 44)",
     "output_type": "error",
     "traceback": [
      "\u001b[0;31m---------------------------------------------------------------------------\u001b[0m",
      "\u001b[0;31mJSONDecodeError\u001b[0m                           Traceback (most recent call last)",
      "Cell \u001b[0;32mIn[7], line 3\u001b[0m\n\u001b[1;32m      1\u001b[0m \u001b[38;5;28;01mfor\u001b[39;00m payload \u001b[38;5;129;01min\u001b[39;00m payloads:\n\u001b[1;32m      2\u001b[0m     payload \u001b[38;5;241m=\u001b[39m json\u001b[38;5;241m.\u001b[39mloads(payload)\n\u001b[0;32m----> 3\u001b[0m     \u001b[38;5;28mprint\u001b[39m(payload\u001b[38;5;241m.\u001b[39mupdate({\u001b[38;5;124m'\u001b[39m\u001b[38;5;124mjobConfig\u001b[39m\u001b[38;5;124m'\u001b[39m: \u001b[43mjson\u001b[49m\u001b[38;5;241;43m.\u001b[39;49m\u001b[43mloads\u001b[49m\u001b[43m(\u001b[49m\u001b[43mpayload\u001b[49m\u001b[43m[\u001b[49m\u001b[38;5;124;43m'\u001b[39;49m\u001b[38;5;124;43mjobConfig\u001b[39;49m\u001b[38;5;124;43m'\u001b[39;49m\u001b[43m]\u001b[49m\u001b[43m)\u001b[49m}))\n\u001b[1;32m      4\u001b[0m     response \u001b[38;5;241m=\u001b[39m requests\u001b[38;5;241m.\u001b[39mpost(executions_url, json\u001b[38;5;241m=\u001b[39mpayload, headers\u001b[38;5;241m=\u001b[39mtemp_head)\n\u001b[1;32m      5\u001b[0m     \u001b[38;5;28mprint\u001b[39m(response\u001b[38;5;241m.\u001b[39mtext)\n",
      "File \u001b[0;32m/opt/conda/lib/python3.9/json/__init__.py:346\u001b[0m, in \u001b[0;36mloads\u001b[0;34m(s, cls, object_hook, parse_float, parse_int, parse_constant, object_pairs_hook, **kw)\u001b[0m\n\u001b[1;32m    341\u001b[0m     s \u001b[38;5;241m=\u001b[39m s\u001b[38;5;241m.\u001b[39mdecode(detect_encoding(s), \u001b[38;5;124m'\u001b[39m\u001b[38;5;124msurrogatepass\u001b[39m\u001b[38;5;124m'\u001b[39m)\n\u001b[1;32m    343\u001b[0m \u001b[38;5;28;01mif\u001b[39;00m (\u001b[38;5;28mcls\u001b[39m \u001b[38;5;129;01mis\u001b[39;00m \u001b[38;5;28;01mNone\u001b[39;00m \u001b[38;5;129;01mand\u001b[39;00m object_hook \u001b[38;5;129;01mis\u001b[39;00m \u001b[38;5;28;01mNone\u001b[39;00m \u001b[38;5;129;01mand\u001b[39;00m\n\u001b[1;32m    344\u001b[0m         parse_int \u001b[38;5;129;01mis\u001b[39;00m \u001b[38;5;28;01mNone\u001b[39;00m \u001b[38;5;129;01mand\u001b[39;00m parse_float \u001b[38;5;129;01mis\u001b[39;00m \u001b[38;5;28;01mNone\u001b[39;00m \u001b[38;5;129;01mand\u001b[39;00m\n\u001b[1;32m    345\u001b[0m         parse_constant \u001b[38;5;129;01mis\u001b[39;00m \u001b[38;5;28;01mNone\u001b[39;00m \u001b[38;5;129;01mand\u001b[39;00m object_pairs_hook \u001b[38;5;129;01mis\u001b[39;00m \u001b[38;5;28;01mNone\u001b[39;00m \u001b[38;5;129;01mand\u001b[39;00m \u001b[38;5;129;01mnot\u001b[39;00m kw):\n\u001b[0;32m--> 346\u001b[0m     \u001b[38;5;28;01mreturn\u001b[39;00m \u001b[43m_default_decoder\u001b[49m\u001b[38;5;241;43m.\u001b[39;49m\u001b[43mdecode\u001b[49m\u001b[43m(\u001b[49m\u001b[43ms\u001b[49m\u001b[43m)\u001b[49m\n\u001b[1;32m    347\u001b[0m \u001b[38;5;28;01mif\u001b[39;00m \u001b[38;5;28mcls\u001b[39m \u001b[38;5;129;01mis\u001b[39;00m \u001b[38;5;28;01mNone\u001b[39;00m:\n\u001b[1;32m    348\u001b[0m     \u001b[38;5;28mcls\u001b[39m \u001b[38;5;241m=\u001b[39m JSONDecoder\n",
      "File \u001b[0;32m/opt/conda/lib/python3.9/json/decoder.py:337\u001b[0m, in \u001b[0;36mJSONDecoder.decode\u001b[0;34m(self, s, _w)\u001b[0m\n\u001b[1;32m    332\u001b[0m \u001b[38;5;28;01mdef\u001b[39;00m \u001b[38;5;21mdecode\u001b[39m(\u001b[38;5;28mself\u001b[39m, s, _w\u001b[38;5;241m=\u001b[39mWHITESPACE\u001b[38;5;241m.\u001b[39mmatch):\n\u001b[1;32m    333\u001b[0m \u001b[38;5;250m    \u001b[39m\u001b[38;5;124;03m\"\"\"Return the Python representation of ``s`` (a ``str`` instance\u001b[39;00m\n\u001b[1;32m    334\u001b[0m \u001b[38;5;124;03m    containing a JSON document).\u001b[39;00m\n\u001b[1;32m    335\u001b[0m \n\u001b[1;32m    336\u001b[0m \u001b[38;5;124;03m    \"\"\"\u001b[39;00m\n\u001b[0;32m--> 337\u001b[0m     obj, end \u001b[38;5;241m=\u001b[39m \u001b[38;5;28;43mself\u001b[39;49m\u001b[38;5;241;43m.\u001b[39;49m\u001b[43mraw_decode\u001b[49m\u001b[43m(\u001b[49m\u001b[43ms\u001b[49m\u001b[43m,\u001b[49m\u001b[43m \u001b[49m\u001b[43midx\u001b[49m\u001b[38;5;241;43m=\u001b[39;49m\u001b[43m_w\u001b[49m\u001b[43m(\u001b[49m\u001b[43ms\u001b[49m\u001b[43m,\u001b[49m\u001b[43m \u001b[49m\u001b[38;5;241;43m0\u001b[39;49m\u001b[43m)\u001b[49m\u001b[38;5;241;43m.\u001b[39;49m\u001b[43mend\u001b[49m\u001b[43m(\u001b[49m\u001b[43m)\u001b[49m\u001b[43m)\u001b[49m\n\u001b[1;32m    338\u001b[0m     end \u001b[38;5;241m=\u001b[39m _w(s, end)\u001b[38;5;241m.\u001b[39mend()\n\u001b[1;32m    339\u001b[0m     \u001b[38;5;28;01mif\u001b[39;00m end \u001b[38;5;241m!=\u001b[39m \u001b[38;5;28mlen\u001b[39m(s):\n",
      "File \u001b[0;32m/opt/conda/lib/python3.9/json/decoder.py:353\u001b[0m, in \u001b[0;36mJSONDecoder.raw_decode\u001b[0;34m(self, s, idx)\u001b[0m\n\u001b[1;32m    344\u001b[0m \u001b[38;5;250m\u001b[39m\u001b[38;5;124;03m\"\"\"Decode a JSON document from ``s`` (a ``str`` beginning with\u001b[39;00m\n\u001b[1;32m    345\u001b[0m \u001b[38;5;124;03ma JSON document) and return a 2-tuple of the Python\u001b[39;00m\n\u001b[1;32m    346\u001b[0m \u001b[38;5;124;03mrepresentation and the index in ``s`` where the document ended.\u001b[39;00m\n\u001b[0;32m   (...)\u001b[0m\n\u001b[1;32m    350\u001b[0m \n\u001b[1;32m    351\u001b[0m \u001b[38;5;124;03m\"\"\"\u001b[39;00m\n\u001b[1;32m    352\u001b[0m \u001b[38;5;28;01mtry\u001b[39;00m:\n\u001b[0;32m--> 353\u001b[0m     obj, end \u001b[38;5;241m=\u001b[39m \u001b[38;5;28;43mself\u001b[39;49m\u001b[38;5;241;43m.\u001b[39;49m\u001b[43mscan_once\u001b[49m\u001b[43m(\u001b[49m\u001b[43ms\u001b[49m\u001b[43m,\u001b[49m\u001b[43m \u001b[49m\u001b[43midx\u001b[49m\u001b[43m)\u001b[49m\n\u001b[1;32m    354\u001b[0m \u001b[38;5;28;01mexcept\u001b[39;00m \u001b[38;5;167;01mStopIteration\u001b[39;00m \u001b[38;5;28;01mas\u001b[39;00m err:\n\u001b[1;32m    355\u001b[0m     \u001b[38;5;28;01mraise\u001b[39;00m JSONDecodeError(\u001b[38;5;124m\"\u001b[39m\u001b[38;5;124mExpecting value\u001b[39m\u001b[38;5;124m\"\u001b[39m, s, err\u001b[38;5;241m.\u001b[39mvalue) \u001b[38;5;28;01mfrom\u001b[39;00m \u001b[38;5;28;01mNone\u001b[39;00m\n",
      "\u001b[0;31mJSONDecodeError\u001b[0m: Expecting ',' delimiter: line 1 column 45 (char 44)"
     ]
    }
   ],
   "source": [
    "for payload in payloads:\n",
    "    payload = json.loads(payload)\n",
    "    print(payload.update({'jobConfig': json.loads(payload['jobConfig'])}))\n",
    "    response = requests.post(executions_url, json=payload, headers=temp_head)\n",
    "    print(response.text)"
   ]
  },
  {
   "cell_type": "code",
   "execution_count": null,
   "id": "0885adeb",
   "metadata": {},
   "outputs": [],
   "source": [
    "jobConfig = \"{\\\"snowflake_query\\\": \\\"CALL experiment_stored_proc(\\\"{\\\"monitor_run_id\\\": \\\"MONITORRUNID\\\", \\\"experiment_id\\\": \\\"aaaawwwwweeeer\\\", \\\"experiment_name\\\": \\\"exp_001\\\", \\\"stored_procedure\\\": \\\"experiment_stored_proc\\\", \\\"algorithm_category\\\": \\\"Snowparkml\\\", \\\"algorithm_type\\\": \\\"Classification\\\", \\\"dataset_name\\\": \\\"diamonds_dataset\\\", \\\"target_column\\\": \\\"quality\\\", \\\"algorithms\\\": [{\\\"algorithm_name\\\": \\\"snowflake.ml.modeling.ensemble.RandomForestRegressor\\\"}]}\\\");\\\", \\\"algorithm\\\": \\\"snowflake.ml.modeling.ensemble.RandomForestRegressor\\\"}\""
   ]
  },
  {
   "cell_type": "code",
   "execution_count": null,
   "id": "dc694b60",
   "metadata": {},
   "outputs": [],
   "source": [
    "payl = {'jobObjectName': 'exp_001', 'jobType': 'Experiment', 'objectId': 'aaaawwwwweeeer', 'projectId': 'fd0cf79c-8118-43a7-8f0b-059e8f78227a', 'jobInstanceInputParameter': '{}', 'runEngine': 'SNOWFLAKE', 'jobConfig': '{\"snowflake_query\": \"CALL run_experiment(\\\"\\'{\\\"monitor_run_id\\\": \\\"MONITORRUNID\\\", \\\"experiment_id\\\": \\\"aaaawwwwweeeer\\\", \\\"experiment_name\\\": \\\"exp_001\\\", \\\"stored_procedure\\\": \\\"run_experiment\\\", \\\"algorithm_category\\\": \\\"Snowparkml\\\", \\\"algorithm_type\\\": \\\"Classification\\\", \\\"dataset_name\\\": \\\"diamonds_dataset\\\", \\\"target_column\\\": \\\"quality\\\", \\\"algorithms\\\": [{\\\"algorithm_name\\\": \\\"snowflake.ml.modeling.ensemble.RandomForestRegressor\\\"}]}\\'\\\");\", \"algorithm\": \"snowflake.ml.modeling.ensemble.RandomForestRegressor\"}'}"
   ]
  },
  {
   "cell_type": "code",
   "execution_count": null,
   "id": "61d01106",
   "metadata": {},
   "outputs": [],
   "source": [
    "payl.update({'jobConfig': jobConfig})"
   ]
  },
  {
   "cell_type": "code",
   "execution_count": null,
   "id": "72fae788",
   "metadata": {},
   "outputs": [],
   "source": [
    "print(payl)"
   ]
  },
  {
   "cell_type": "code",
   "execution_count": null,
   "id": "ca92a6c2",
   "metadata": {},
   "outputs": [],
   "source": [
    "response = requests.post(executions_url, json=payload, headers=temp_head)\n",
    "print(response.text)"
   ]
  },
  {
   "cell_type": "code",
   "execution_count": null,
   "id": "86ab0b40",
   "metadata": {},
   "outputs": [],
   "source": [
    "sf_query=\"select *\"\n",
    "a = '{{\"snowflake_query\": {0}, \"algorithm\": algo.get(\"algorithm_name\")}}'.format(sf_query)\n",
    "print(a)"
   ]
  },
  {
   "cell_type": "code",
   "execution_count": null,
   "id": "556c2e9f",
   "metadata": {},
   "outputs": [],
   "source": [
    "a"
   ]
  },
  {
   "cell_type": "code",
   "execution_count": null,
   "id": "0dc9c904",
   "metadata": {},
   "outputs": [],
   "source": []
  }
 ],
 "metadata": {
  "kernelspec": {
   "display_name": "Python 3",
   "language": "python",
   "name": "python3"
  },
  "language_info": {
   "codemirror_mode": {
    "name": "ipython",
    "version": 3
   },
   "file_extension": ".py",
   "mimetype": "text/x-python",
   "name": "python",
   "nbconvert_exporter": "python",
   "pygments_lexer": "ipython3",
   "version": "3.9.18"
  }
 },
 "nbformat": 4,
 "nbformat_minor": 5
}
