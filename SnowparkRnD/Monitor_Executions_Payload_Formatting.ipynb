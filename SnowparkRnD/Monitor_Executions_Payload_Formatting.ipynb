{
 "cells": [
  {
   "cell_type": "code",
   "execution_count": 11,
   "id": "0b1276c5",
   "metadata": {},
   "outputs": [],
   "source": [
    "request = {\n",
    "    \"experiment_id\" : \"aaaawwwwweeeer\",\n",
    "    \"experiment_name\":\"exp_001\",\n",
    "    \"algorithm_category\": \"Snowparkml\",\n",
    "    \"algorithm_type\": \"Classification\",\n",
    "    \"dataset_name\":\"diamonds_dataset\",\n",
    "    \"target_column\":\"quality\",\n",
    "    \"algorithms\": [{\n",
    "        \"algorithm_name\": \"snowflake.ml.modeling.ensemble.RandomForestRegressor\"\n",
    "     },{\n",
    "        \"algorithm_name\": \"snowflake.ml.modeling.tree.DecisionTreeClassifier\"\n",
    "     }\n",
    "    ]\n",
    "}\n",
    "headers = {\n",
    "    \"project_id\": \"0e0fb803-22db-4d88-9f2f-f6f75b6abcf0\"\n",
    "}"
   ]
  },
  {
   "cell_type": "code",
   "execution_count": 8,
   "id": "ddb88da9",
   "metadata": {},
   "outputs": [],
   "source": [
    "exp_data = '{ \"monitor_run_id\": \"\", \"experiment_id\" : \"aaaawwwwweeeer\", \"experiment_name\":\"exp_001\", \"stored_procedure\":\"experiment_stored_proc\",\"algorithm_category\":\"Snowparkml\",\"algorithm_type\":\"Classification\",\"dataset_name\":\"diamonds_dataset\",\"target_column\":\"quality\",\"algorithms\": [{ \"algorithm_name\":\"RandomForest\" }] }'"
   ]
  },
  {
   "cell_type": "code",
   "execution_count": 13,
   "id": "5cc7ad48",
   "metadata": {},
   "outputs": [],
   "source": [
    "_payload_format = {\n",
    "    \"jobObjectName\": request.get(\"experiment_name\"),\n",
    "    \"jobType\": \"Experiment\",\n",
    "    \"objectId\": request.get(\"experiment_id\"),\n",
    "    \"projectId\": headers.get(\"project_id\"),\n",
    "    \"runEngine\": \"SNOWFLAKE\",\n",
    "    \"jobConfig\": {\n",
    "  \"snowflake_query\":f\"CALL experiment_stored_proc({exp_data});\"\n",
    "      }\n",
    "}"
   ]
  },
  {
   "cell_type": "code",
   "execution_count": 5,
   "id": "6b61992b",
   "metadata": {},
   "outputs": [
    {
     "name": "stdout",
     "output_type": "stream",
     "text": [
      "{'algorithm_name': 'snowflake.ml.modeling.ensemble.RandomForestRegressor'}\n",
      "{'algorithm_name': 'snowflake.ml.modeling.tree.DecisionTreeClassifier'}\n"
     ]
    }
   ],
   "source": [
    "payload=[]\n",
    "for algos,i in zip(request.get(\"algorithms\"),range(len(request.get(\"algorithms\")))):\n",
    "    print(algos)"
   ]
  },
  {
   "cell_type": "code",
   "execution_count": null,
   "id": "e4ed14b9",
   "metadata": {},
   "outputs": [],
   "source": []
  }
 ],
 "metadata": {
  "kernelspec": {
   "display_name": "Python 3",
   "language": "python",
   "name": "python3"
  },
  "language_info": {
   "codemirror_mode": {
    "name": "ipython",
    "version": 3
   },
   "file_extension": ".py",
   "mimetype": "text/x-python",
   "name": "python",
   "nbconvert_exporter": "python",
   "pygments_lexer": "ipython3",
   "version": "3.9.18"
  }
 },
 "nbformat": 4,
 "nbformat_minor": 5
}
