{
 "cells": [
  {
   "cell_type": "code",
   "execution_count": null,
   "id": "423ea0fb",
   "metadata": {},
   "outputs": [],
   "source": [
    "# {\n",
    "#         \"algorithm_name\": \"snowflake.ml.modeling.tree.DecisionTreeClassifier\"\n",
    "#      }"
   ]
  },
  {
   "cell_type": "code",
   "execution_count": 1,
   "id": "0b1276c5",
   "metadata": {},
   "outputs": [],
   "source": [
    "import json\n",
    "\n",
    "request = {\n",
    "    \"experiment_id\" : \"aaaawwwwweeeer\",\n",
    "    \"experiment_name\":\"exp_001\",\n",
    "    \"algorithm_category\": \"Snowparkml\",\n",
    "    \"algorithm_type\": \"Classification\",\n",
    "    \"dataset_name\":\"DIAMONDS\",\n",
    "    \"target_column\":\"PRICE\",\n",
    "    \"algorithms\": [{\n",
    "        \"algorithm_name\": \"snowflake.ml.modeling.ensemble.RandomForestRegressor\"\n",
    "     }\n",
    "    ]\n",
    "}\n",
    "headers = {\n",
    "    \"project_id\": \"fd0cf79c-8118-43a7-8f0b-059e8f78227a\"\n",
    "}"
   ]
  },
  {
   "cell_type": "code",
   "execution_count": 3,
   "id": "8fc3fb94",
   "metadata": {},
   "outputs": [],
   "source": [
    "_exp_data = {\n",
    "    \"monitor_run_id\": \"MONITORRUNID\",\n",
    "    \"project_id\": \"fd0cf79c-8118-43a7-8f0b-059e8f78227a\",\n",
    "    \"experiment_id\" : request.get(\"experiment_id\"), \n",
    "    \"experiment_name\":request.get(\"experiment_name\"), \n",
    "    \"stored_procedure\":\"run_experiment\",\n",
    "    \"algorithm_category\":\"Snowparkml\",\n",
    "    \"algorithm_type\":request.get(\"algorithm_type\"),\n",
    "    \"dataset_name\":request.get(\"dataset_name\"),\n",
    "    \"target_column\":request.get(\"target_column\"),\n",
    "    \"algorithms\":[]\n",
    "}"
   ]
  },
  {
   "cell_type": "code",
   "execution_count": 4,
   "id": "254f9363",
   "metadata": {},
   "outputs": [],
   "source": [
    "_payload_format = {\n",
    "    \"jobObjectName\": request.get(\"experiment_name\"),\n",
    "    \"jobType\": \"Experiment\",\n",
    "    \"objectId\": request.get(\"experiment_id\"),\n",
    "    \"projectId\": headers.get(\"project_id\"),\n",
    "    \"jobInstanceInputParameter\": \"{}\",\n",
    "    \"runEngine\": \"SNOWFLAKE\",\n",
    "    \"jobConfig\": ''\n",
    "}"
   ]
  },
  {
   "cell_type": "code",
   "execution_count": 5,
   "id": "dc9a2d48",
   "metadata": {},
   "outputs": [
    {
     "name": "stdout",
     "output_type": "stream",
     "text": [
      "{'monitor_run_id': 'MONITORRUNID', 'project_id': 'fd0cf79c-8118-43a7-8f0b-059e8f78227a', 'experiment_id': 'aaaawwwwweeeer', 'experiment_name': 'exp_001', 'stored_procedure': 'run_experiment', 'algorithm_category': 'Snowparkml', 'algorithm_type': 'Classification', 'dataset_name': 'DIAMONDS', 'target_column': 'PRICE', 'algorithms': [{'algorithm_name': 'snowflake.ml.modeling.ensemble.RandomForestRegressor'}]}\n"
     ]
    }
   ],
   "source": [
    "payloads=[]\n",
    "for algo,i in zip(request.get(\"algorithms\"),range(len(request.get(\"algorithms\")))):\n",
    "    _exp_data.update({\"algorithms\": [algo]})\n",
    "    exp_data = _exp_data\n",
    "    print(exp_data)\n",
    "    sf_query = f\"CALL run_experiment({exp_data});\"\n",
    "    _payload_format.update({\"jobConfig\":'{{\"snowflake_query\": \"{0}\", \"algorithm\": \"{1}\"}}'.format(sf_query, algo.get(\"algorithm_name\"))})\n",
    "    payloads.append(_payload_format)\n"
   ]
  },
  {
   "cell_type": "code",
   "execution_count": null,
   "id": "0da66bc4",
   "metadata": {},
   "outputs": [],
   "source": [
    "print(payloads[0])"
   ]
  },
  {
   "cell_type": "code",
   "execution_count": null,
   "id": "d8532efc",
   "metadata": {},
   "outputs": [],
   "source": [
    "for payload in payloads:\n",
    "#     payload = json.dumps(payload)\n",
    "#     payload = payload.encode('utf-8')\n",
    "    print(payload)"
   ]
  },
  {
   "cell_type": "code",
   "execution_count": null,
   "id": "0e2aeac8",
   "metadata": {},
   "outputs": [],
   "source": [
    "payload"
   ]
  },
  {
   "cell_type": "code",
   "execution_count": 6,
   "id": "4494fa6f",
   "metadata": {},
   "outputs": [],
   "source": [
    "import requests\n",
    "executions_url = \"http://monitor-backend-service/monitor/monitor/api/v2/executions/\"\n",
    "\n",
    "temp_head = {\n",
    "    \"X-Auth-Userid\": \"aditya1.singh2@fosfor.com\",\n",
    "    \"X-Auth-Username\": \"aditya1.singh2@fosfor.com\",\n",
    "    \"X-Auth-Email\": \"aditya1.singh2@fosfor.com\",\n",
    "    \"X-Project-Id\": \"fd0cf79c-8118-43a7-8f0b-059e8f78227a\"\n",
    "}"
   ]
  },
  {
   "cell_type": "code",
   "execution_count": 7,
   "id": "d0dc9abe",
   "metadata": {},
   "outputs": [
    {
     "name": "stdout",
     "output_type": "stream",
     "text": [
      "{'jobObjectName': 'exp_001', 'jobType': 'Experiment', 'objectId': 'aaaawwwwweeeer', 'projectId': 'fd0cf79c-8118-43a7-8f0b-059e8f78227a', 'jobInstanceInputParameter': '{}', 'runEngine': 'SNOWFLAKE', 'jobConfig': '{\"snowflake_query\": \"CALL run_experiment({\\'monitor_run_id\\': \\'MONITORRUNID\\', \\'project_id\\': \\'fd0cf79c-8118-43a7-8f0b-059e8f78227a\\', \\'experiment_id\\': \\'aaaawwwwweeeer\\', \\'experiment_name\\': \\'exp_001\\', \\'stored_procedure\\': \\'run_experiment\\', \\'algorithm_category\\': \\'Snowparkml\\', \\'algorithm_type\\': \\'Classification\\', \\'dataset_name\\': \\'DIAMONDS\\', \\'target_column\\': \\'PRICE\\', \\'algorithms\\': [{\\'algorithm_name\\': \\'snowflake.ml.modeling.ensemble.RandomForestRegressor\\'}]});\", \"algorithm\": \"snowflake.ml.modeling.ensemble.RandomForestRegressor\"}'}\n",
      "{\"executionId\":\"109801\"}\n"
     ]
    }
   ],
   "source": [
    "for payload in payloads:\n",
    "#     payload = json.loads(payload)\n",
    "    print(payload)\n",
    "    response = requests.post(executions_url, json=payload, headers=temp_head)\n",
    "    print(response.text)"
   ]
  },
  {
   "cell_type": "code",
   "execution_count": null,
   "id": "0885adeb",
   "metadata": {},
   "outputs": [],
   "source": [
    "jobConfig = \"{\\\"snowflake_query\\\": \\\"CALL experiment_stored_proc(\\\"{\\\"monitor_run_id\\\": \\\"MONITORRUNID\\\", \\\"experiment_id\\\": \\\"aaaawwwwweeeer\\\", \\\"experiment_name\\\": \\\"exp_001\\\", \\\"stored_procedure\\\": \\\"experiment_stored_proc\\\", \\\"algorithm_category\\\": \\\"Snowparkml\\\", \\\"algorithm_type\\\": \\\"Classification\\\", \\\"dataset_name\\\": \\\"diamonds_dataset\\\", \\\"target_column\\\": \\\"quality\\\", \\\"algorithms\\\": [{\\\"algorithm_name\\\": \\\"snowflake.ml.modeling.ensemble.RandomForestRegressor\\\"}]}\\\");\\\", \\\"algorithm\\\": \\\"snowflake.ml.modeling.ensemble.RandomForestRegressor\\\"}\""
   ]
  },
  {
   "cell_type": "code",
   "execution_count": null,
   "id": "dc694b60",
   "metadata": {},
   "outputs": [],
   "source": [
    "payl = {'jobObjectName': 'exp_001', 'jobType': 'Experiment', 'objectId': 'aaaawwwwweeeer', 'projectId': 'fd0cf79c-8118-43a7-8f0b-059e8f78227a', 'jobInstanceInputParameter': '{}', 'runEngine': 'SNOWFLAKE', 'jobConfig': '{\"snowflake_query\": \"CALL run_experiment(\\\"\\'{\\\"monitor_run_id\\\": \\\"MONITORRUNID\\\", \\\"experiment_id\\\": \\\"aaaawwwwweeeer\\\", \\\"experiment_name\\\": \\\"exp_001\\\", \\\"stored_procedure\\\": \\\"run_experiment\\\", \\\"algorithm_category\\\": \\\"Snowparkml\\\", \\\"algorithm_type\\\": \\\"Classification\\\", \\\"dataset_name\\\": \\\"diamonds_dataset\\\", \\\"target_column\\\": \\\"quality\\\", \\\"algorithms\\\": [{\\\"algorithm_name\\\": \\\"snowflake.ml.modeling.ensemble.RandomForestRegressor\\\"}]}\\'\\\");\", \"algorithm\": \"snowflake.ml.modeling.ensemble.RandomForestRegressor\"}'}"
   ]
  },
  {
   "cell_type": "code",
   "execution_count": null,
   "id": "61d01106",
   "metadata": {},
   "outputs": [],
   "source": [
    "payl.update({'jobConfig': jobConfig})"
   ]
  },
  {
   "cell_type": "code",
   "execution_count": null,
   "id": "72fae788",
   "metadata": {},
   "outputs": [],
   "source": [
    "print(payl)"
   ]
  },
  {
   "cell_type": "code",
   "execution_count": null,
   "id": "ca92a6c2",
   "metadata": {},
   "outputs": [],
   "source": [
    "response = requests.post(executions_url, json=payload, headers=temp_head)\n",
    "print(response.text)"
   ]
  },
  {
   "cell_type": "code",
   "execution_count": null,
   "id": "86ab0b40",
   "metadata": {},
   "outputs": [],
   "source": [
    "sf_query=\"select *\"\n",
    "a = '{{\"snowflake_query\": {0}, \"algorithm\": algo.get(\"algorithm_name\")}}'.format(sf_query)\n",
    "print(a)"
   ]
  },
  {
   "cell_type": "code",
   "execution_count": null,
   "id": "556c2e9f",
   "metadata": {},
   "outputs": [],
   "source": [
    "a"
   ]
  },
  {
   "cell_type": "code",
   "execution_count": 28,
   "id": "89cd5a7e",
   "metadata": {},
   "outputs": [],
   "source": [
    "import requests"
   ]
  },
  {
   "cell_type": "code",
   "execution_count": 43,
   "id": "0dc9c904",
   "metadata": {},
   "outputs": [],
   "source": [
    "payload = {\"executions\":{\"jobObjectName\":\"New_Experiment_05\",\"jobType\":\"Experiment\",\"objectId\":\"a787e851-618d-4c3b-a8f6-a80178c019fd\",\"projectId\":\"68bce134-6d7a-4e24-9591-86266438acf9\",\"runEngine\":\"SNOWFLAKE\",\"jobInstanceInputParameter\":\"{}\",\"jobConfig\":\"\"},\"sproc_input\":{\"monitor_run_id\":\"MONITORRUNID\",\"project_id\":\"68bce134-6d7a-4e24-9591-86266438acf9\",\"experiment_id\":\"a787e851-618d-4c3b-a8f6-a80178c019fd\",\"experiment_name\":\"New_Experiment_05\",\"stored_procedure\":\"run_experiment\",\"algorithm_category\":\"Snowparkml\",\"algorithm_type\":\"Regression\",\"dataset_name\":\"DIAMONDS\",\"target_column\":\"PRICE\",\"algorithms\":[{\"algorithm_name\":\"XGBRegressor\",\"class_path\":\"snowflake.ml.modeling.xgboost.XGBRegressor\"},{\"algorithm_name\":\"SGDRegressor\",\"class_path\":\"snowflake.ml.modeling.linear_model.SGDRegressor\"},{\"algorithm_name\":\"RidgeCV\",\"class_path\":\"snowflake.ml.modeling.linear_model.RidgeCV\"}]}}"
   ]
  },
  {
   "cell_type": "code",
   "execution_count": 30,
   "id": "89b90e5a",
   "metadata": {},
   "outputs": [
    {
     "name": "stdout",
     "output_type": "stream",
     "text": [
      "{'jobObjectName': 'New_Experiment_05', 'jobType': 'Experiment', 'objectId': 'a787e851-618d-4c3b-a8f6-a80178c019fd', 'projectId': '68bce134-6d7a-4e24-9591-86266438acf9', 'runEngine': 'SNOWFLAKE', 'jobInstanceInputParameter': '{}', 'jobConfig': '{\"snowflake_query\": \"CALL RUN_EXPERIMENT({\\'monitor_run_id\\': \\'MONITORRUNID\\', \\'project_id\\': \\'68bce134-6d7a-4e24-9591-86266438acf9\\', \\'experiment_id\\': \\'a787e851-618d-4c3b-a8f6-a80178c019fd\\', \\'experiment_name\\': \\'New_Experiment_05\\', \\'stored_procedure\\': \\'run_experiment\\', \\'algorithm_category\\': \\'Snowparkml\\', \\'algorithm_type\\': \\'Regression\\', \\'dataset_name\\': \\'DIAMONDS\\', \\'target_column\\': \\'PRICE\\', \\'algorithms\\': [{\\'algorithm_name\\': \\'snowflake.ml.modeling.xgboost.XGBRegressor\\'}]});\"}'}\n",
      "{'jobObjectName': 'New_Experiment_05', 'jobType': 'Experiment', 'objectId': 'a787e851-618d-4c3b-a8f6-a80178c019fd', 'projectId': '68bce134-6d7a-4e24-9591-86266438acf9', 'runEngine': 'SNOWFLAKE', 'jobInstanceInputParameter': '{}', 'jobConfig': '{\"snowflake_query\": \"CALL RUN_EXPERIMENT({\\'monitor_run_id\\': \\'MONITORRUNID\\', \\'project_id\\': \\'68bce134-6d7a-4e24-9591-86266438acf9\\', \\'experiment_id\\': \\'a787e851-618d-4c3b-a8f6-a80178c019fd\\', \\'experiment_name\\': \\'New_Experiment_05\\', \\'stored_procedure\\': \\'run_experiment\\', \\'algorithm_category\\': \\'Snowparkml\\', \\'algorithm_type\\': \\'Regression\\', \\'dataset_name\\': \\'DIAMONDS\\', \\'target_column\\': \\'PRICE\\', \\'algorithms\\': [{\\'algorithm_name\\': \\'snowflake.ml.modeling.linear_model.SGDRegressor\\'}]});\"}'}\n",
      "{'jobObjectName': 'New_Experiment_05', 'jobType': 'Experiment', 'objectId': 'a787e851-618d-4c3b-a8f6-a80178c019fd', 'projectId': '68bce134-6d7a-4e24-9591-86266438acf9', 'runEngine': 'SNOWFLAKE', 'jobInstanceInputParameter': '{}', 'jobConfig': '{\"snowflake_query\": \"CALL RUN_EXPERIMENT({\\'monitor_run_id\\': \\'MONITORRUNID\\', \\'project_id\\': \\'68bce134-6d7a-4e24-9591-86266438acf9\\', \\'experiment_id\\': \\'a787e851-618d-4c3b-a8f6-a80178c019fd\\', \\'experiment_name\\': \\'New_Experiment_05\\', \\'stored_procedure\\': \\'run_experiment\\', \\'algorithm_category\\': \\'Snowparkml\\', \\'algorithm_type\\': \\'Regression\\', \\'dataset_name\\': \\'DIAMONDS\\', \\'target_column\\': \\'PRICE\\', \\'algorithms\\': [{\\'algorithm_name\\': \\'snowflake.ml.modeling.linear_model.RidgeCV\\'}]});\"}'}\n"
     ]
    }
   ],
   "source": [
    "algorithms = payload.get(\"sproc_input\").get('algorithms')\n",
    "payloads=[]\n",
    "for algo in algorithms:\n",
    "    _exp_data_format = {} #payload.get('sproc_input', '')\n",
    "    _payload_format = {} #payload.get('executions', '')\n",
    "    _exp_data_format.update(payload.get('sproc_input', ''))\n",
    "    _payload_format.update(payload.get('executions', ''))\n",
    "    _exp_data_format.update({\"algorithms\": [{\"algorithm_name\": algo.get('class_path')}]})\n",
    "    exp_data = _exp_data_format\n",
    "    sf_query = f\"CALL RUN_EXPERIMENT({exp_data});\"\n",
    "    _payload_format.update({\"jobConfig\":'{{\"snowflake_query\": \"{0}\"}}'.format(sf_query)})\n",
    "    payl = _payload_format\n",
    "    print(payl)\n",
    "    payloads.append(payl)"
   ]
  },
  {
   "cell_type": "code",
   "execution_count": 31,
   "id": "3504df0b",
   "metadata": {},
   "outputs": [
    {
     "data": {
      "text/plain": [
       "[{'jobObjectName': 'New_Experiment_05',\n",
       "  'jobType': 'Experiment',\n",
       "  'objectId': 'a787e851-618d-4c3b-a8f6-a80178c019fd',\n",
       "  'projectId': '68bce134-6d7a-4e24-9591-86266438acf9',\n",
       "  'runEngine': 'SNOWFLAKE',\n",
       "  'jobInstanceInputParameter': '{}',\n",
       "  'jobConfig': '{\"snowflake_query\": \"CALL RUN_EXPERIMENT({\\'monitor_run_id\\': \\'MONITORRUNID\\', \\'project_id\\': \\'68bce134-6d7a-4e24-9591-86266438acf9\\', \\'experiment_id\\': \\'a787e851-618d-4c3b-a8f6-a80178c019fd\\', \\'experiment_name\\': \\'New_Experiment_05\\', \\'stored_procedure\\': \\'run_experiment\\', \\'algorithm_category\\': \\'Snowparkml\\', \\'algorithm_type\\': \\'Regression\\', \\'dataset_name\\': \\'DIAMONDS\\', \\'target_column\\': \\'PRICE\\', \\'algorithms\\': [{\\'algorithm_name\\': \\'snowflake.ml.modeling.linear_model.RidgeCV\\'}]});\"}'},\n",
       " {'jobObjectName': 'New_Experiment_05',\n",
       "  'jobType': 'Experiment',\n",
       "  'objectId': 'a787e851-618d-4c3b-a8f6-a80178c019fd',\n",
       "  'projectId': '68bce134-6d7a-4e24-9591-86266438acf9',\n",
       "  'runEngine': 'SNOWFLAKE',\n",
       "  'jobInstanceInputParameter': '{}',\n",
       "  'jobConfig': '{\"snowflake_query\": \"CALL RUN_EXPERIMENT({\\'monitor_run_id\\': \\'MONITORRUNID\\', \\'project_id\\': \\'68bce134-6d7a-4e24-9591-86266438acf9\\', \\'experiment_id\\': \\'a787e851-618d-4c3b-a8f6-a80178c019fd\\', \\'experiment_name\\': \\'New_Experiment_05\\', \\'stored_procedure\\': \\'run_experiment\\', \\'algorithm_category\\': \\'Snowparkml\\', \\'algorithm_type\\': \\'Regression\\', \\'dataset_name\\': \\'DIAMONDS\\', \\'target_column\\': \\'PRICE\\', \\'algorithms\\': [{\\'algorithm_name\\': \\'snowflake.ml.modeling.linear_model.RidgeCV\\'}]});\"}'},\n",
       " {'jobObjectName': 'New_Experiment_05',\n",
       "  'jobType': 'Experiment',\n",
       "  'objectId': 'a787e851-618d-4c3b-a8f6-a80178c019fd',\n",
       "  'projectId': '68bce134-6d7a-4e24-9591-86266438acf9',\n",
       "  'runEngine': 'SNOWFLAKE',\n",
       "  'jobInstanceInputParameter': '{}',\n",
       "  'jobConfig': '{\"snowflake_query\": \"CALL RUN_EXPERIMENT({\\'monitor_run_id\\': \\'MONITORRUNID\\', \\'project_id\\': \\'68bce134-6d7a-4e24-9591-86266438acf9\\', \\'experiment_id\\': \\'a787e851-618d-4c3b-a8f6-a80178c019fd\\', \\'experiment_name\\': \\'New_Experiment_05\\', \\'stored_procedure\\': \\'run_experiment\\', \\'algorithm_category\\': \\'Snowparkml\\', \\'algorithm_type\\': \\'Regression\\', \\'dataset_name\\': \\'DIAMONDS\\', \\'target_column\\': \\'PRICE\\', \\'algorithms\\': [{\\'algorithm_name\\': \\'snowflake.ml.modeling.linear_model.RidgeCV\\'}]});\"}'}]"
      ]
     },
     "execution_count": 31,
     "metadata": {},
     "output_type": "execute_result"
    }
   ],
   "source": [
    "payloads"
   ]
  },
  {
   "cell_type": "code",
   "execution_count": 34,
   "id": "acdb6632",
   "metadata": {},
   "outputs": [],
   "source": [
    "import re"
   ]
  },
  {
   "cell_type": "code",
   "execution_count": 40,
   "id": "f1dfaa54",
   "metadata": {},
   "outputs": [],
   "source": [
    "res = {'totalRecordCount': 3, 'data': [{'jobinstanceId': 110212, 'objectId': '8baa2fcf-6e7f-4bca-b2ae-776011ec4363', 'projectId': '68bce134-6d7a-4e24-9591-86266438acf9', 'projectName': None, 'jobObjectName': 'New_Experiment_04', 'jobScheduleId': None, 'jobInstanceInputParameter': '{\"input_params\":\"{\\\\\"currentTime\\\\\":\\\\\"2024-07-11T05:24:29Z\\\\\",\\\\\"objectName\\\\\":\\\\\"New_Experiment_04\\\\\",\\\\\"lastRunDate\\\\\":\\\\\"\\\\\",\\\\\"instanceId\\\\\":\\\\\"110212\\\\\",\\\\\"lastSuccessfulRunDate\\\\\":\\\\\"\\\\\",\\\\\"userId\\\\\":\\\\\"aditya1.singh2@fosfor.com\\\\\"}\"}', 'jobType': 'EXPERIMENT', 'jobStatus': 'FAILED', 'finalStatus': 'FAILED', 'jobCreatedby': 'aditya1.singh2@fosfor.com', 'jobCreatedts': '2024-07-11T05:24:28.923+00:00', 'jobUpdatedby': 'aditya1.singh2@fosfor.com', 'jobUpdatedts': '2024-07-11T05:28:33.381+00:00', 'applicationId': '', 'executionId': None, 'runID': '110212', 'versionNumber': None, 'runEngine': 'SNOWFLAKE', 'attemptId': 110316, 'workflowId': None, 'jobConfig': '{\"snowflake_query\": \"CALL RUN_EXPERIMENT({\\'monitor_run_id\\': \\'MONITORRUNID\\', \\'project_id\\': \\'68bce134-6d7a-4e24-9591-86266438acf9\\', \\'experiment_id\\': \\'8baa2fcf-6e7f-4bca-b2ae-776011ec4363\\', \\'experiment_name\\': \\'New_Experiment_04\\', \\'stored_procedure\\': \\'run_experiment\\', \\'algorithm_category\\': \\'Snowparkml\\', \\'algorithm_type\\': \\'Classification\\', \\'dataset_name\\': \\'EMPLOYEE\\', \\'target_column\\': \\'LEAVEORNOT\\', \\'algorithms\\': [{\\'algorithm_name\\': \\'snowflake.ml.modeling.xgboost.XGBClassifier\\'}]});\"}'}, {'jobinstanceId': 110213, 'objectId': '8baa2fcf-6e7f-4bca-b2ae-776011ec4363', 'projectId': '68bce134-6d7a-4e24-9591-86266438acf9', 'projectName': None, 'jobObjectName': 'New_Experiment_04', 'jobScheduleId': None, 'jobInstanceInputParameter': '{\"input_params\":\"{\\\\\"currentTime\\\\\":\\\\\"2024-07-11T05:24:29Z\\\\\",\\\\\"objectName\\\\\":\\\\\"New_Experiment_04\\\\\",\\\\\"lastRunDate\\\\\":\\\\\"\\\\\",\\\\\"instanceId\\\\\":\\\\\"110213\\\\\",\\\\\"lastSuccessfulRunDate\\\\\":\\\\\"\\\\\",\\\\\"userId\\\\\":\\\\\"aditya1.singh2@fosfor.com\\\\\"}\"}', 'jobType': 'EXPERIMENT', 'jobStatus': 'FAILED', 'finalStatus': 'FAILED', 'jobCreatedby': 'aditya1.singh2@fosfor.com', 'jobCreatedts': '2024-07-11T05:24:29.074+00:00', 'jobUpdatedby': 'aditya1.singh2@fosfor.com', 'jobUpdatedts': '2024-07-11T05:28:34.100+00:00', 'applicationId': '', 'executionId': None, 'runID': '110213', 'versionNumber': None, 'runEngine': 'SNOWFLAKE', 'attemptId': 110317, 'workflowId': None, 'jobConfig': '{\"snowflake_query\": \"CALL RUN_EXPERIMENT({\\'monitor_run_id\\': \\'MONITORRUNID\\', \\'project_id\\': \\'68bce134-6d7a-4e24-9591-86266438acf9\\', \\'experiment_id\\': \\'8baa2fcf-6e7f-4bca-b2ae-776011ec4363\\', \\'experiment_name\\': \\'New_Experiment_04\\', \\'stored_procedure\\': \\'run_experiment\\', \\'algorithm_category\\': \\'Snowparkml\\', \\'algorithm_type\\': \\'Classification\\', \\'dataset_name\\': \\'EMPLOYEE\\', \\'target_column\\': \\'LEAVEORNOT\\', \\'algorithms\\': [{\\'algorithm_name\\': \\'snowflake.ml.modeling.xgboost.XGBRegressor\\'}]});\"}'}, {'jobinstanceId': 110214, 'objectId': '8baa2fcf-6e7f-4bca-b2ae-776011ec4363', 'projectId': '68bce134-6d7a-4e24-9591-86266438acf9', 'projectName': None, 'jobObjectName': 'New_Experiment_04', 'jobScheduleId': None, 'jobInstanceInputParameter': '{\"input_params\":\"{\\\\\"currentTime\\\\\":\\\\\"2024-07-11T05:24:29Z\\\\\",\\\\\"objectName\\\\\":\\\\\"New_Experiment_04\\\\\",\\\\\"lastRunDate\\\\\":\\\\\"\\\\\",\\\\\"instanceId\\\\\":\\\\\"110214\\\\\",\\\\\"lastSuccessfulRunDate\\\\\":\\\\\"\\\\\",\\\\\"userId\\\\\":\\\\\"aditya1.singh2@fosfor.com\\\\\"}\"}', 'jobType': 'EXPERIMENT', 'jobStatus': 'SUCCESSFUL', 'finalStatus': 'SUCCESSFUL', 'jobCreatedby': 'aditya1.singh2@fosfor.com', 'jobCreatedts': '2024-07-11T05:24:29.209+00:00', 'jobUpdatedby': 'aditya1.singh2@fosfor.com', 'jobUpdatedts': '2024-07-11T05:28:38.470+00:00', 'applicationId': '01b59724-0000-72d8-0000-576d074e081a', 'executionId': None, 'runID': '110214', 'versionNumber': None, 'runEngine': 'SNOWFLAKE', 'attemptId': 110318, 'workflowId': None, 'jobConfig': '{\"snowflake_query\": \"CALL RUN_EXPERIMENT({\\'monitor_run_id\\': \\'MONITORRUNID\\', \\'project_id\\': \\'68bce134-6d7a-4e24-9591-86266438acf9\\', \\'experiment_id\\': \\'8baa2fcf-6e7f-4bca-b2ae-776011ec4363\\', \\'experiment_name\\': \\'New_Experiment_04\\', \\'stored_procedure\\': \\'run_experiment\\', \\'algorithm_category\\': \\'Snowparkml\\', \\'algorithm_type\\': \\'Classification\\', \\'dataset_name\\': \\'EMPLOYEE\\', \\'target_column\\': \\'LEAVEORNOT\\', \\'algorithms\\': [{\\'algorithm_name\\': \\'snowflake.ml.modeling.xgboost.RidgeCV\\'}]});\"}'}], 'jobTypesList': None, 'executedByList': None, 'projectList': None}"
   ]
  },
  {
   "cell_type": "code",
   "execution_count": 41,
   "id": "a11f1475",
   "metadata": {},
   "outputs": [],
   "source": [
    "monitor_resp=[]\n",
    "for data in res.get('data'):\n",
    "    _res_format={\n",
    "    \"run_id\": \"\",\n",
    "    \"algorithm_used\": \"\",\n",
    "    \"run_status\": \"\"\n",
    "    }\n",
    "    jobConfig=data.get('jobConfig')\n",
    "    pattern = r\"snowflake\\.ml[^']*\"\n",
    "    match = re.search(pattern, jobConfig)\n",
    "    if match:\n",
    "        algorithm_used = match.group().rsplit('.', 1)\n",
    "    _res_format.update({\"run_id\": f'\"{data.get(\"runID\")}\"',\n",
    "                        \"run_status\": data.get('jobStatus'),\n",
    "                        \"algorithm_used\": algorithm_used[1] if match else None})\n",
    "    res_data = _res_format\n",
    "    monitor_resp.append(res_data)"
   ]
  },
  {
   "cell_type": "code",
   "execution_count": 42,
   "id": "c4b09e29",
   "metadata": {},
   "outputs": [
    {
     "data": {
      "text/plain": [
       "[{'run_id': '\"110212\"',\n",
       "  'algorithm_used': 'XGBClassifier',\n",
       "  'run_status': 'FAILED'},\n",
       " {'run_id': '\"110213\"',\n",
       "  'algorithm_used': 'XGBRegressor',\n",
       "  'run_status': 'FAILED'},\n",
       " {'run_id': '\"110214\"',\n",
       "  'algorithm_used': 'RidgeCV',\n",
       "  'run_status': 'SUCCESSFUL'}]"
      ]
     },
     "execution_count": 42,
     "metadata": {},
     "output_type": "execute_result"
    }
   ],
   "source": [
    "monitor_resp"
   ]
  },
  {
   "cell_type": "code",
   "execution_count": null,
   "id": "241af7e9",
   "metadata": {},
   "outputs": [],
   "source": []
  }
 ],
 "metadata": {
  "kernelspec": {
   "display_name": "Python 3",
   "language": "python",
   "name": "python3"
  },
  "language_info": {
   "codemirror_mode": {
    "name": "ipython",
    "version": 3
   },
   "file_extension": ".py",
   "mimetype": "text/x-python",
   "name": "python",
   "nbconvert_exporter": "python",
   "pygments_lexer": "ipython3",
   "version": "3.9.18"
  }
 },
 "nbformat": 4,
 "nbformat_minor": 5
}
