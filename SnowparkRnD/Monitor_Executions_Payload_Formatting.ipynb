{
 "cells": [
  {
   "cell_type": "code",
   "execution_count": null,
   "id": "423ea0fb",
   "metadata": {},
   "outputs": [],
   "source": [
    "# {\n",
    "#         \"algorithm_name\": \"snowflake.ml.modeling.tree.DecisionTreeClassifier\"\n",
    "#      }"
   ]
  },
  {
   "cell_type": "code",
   "execution_count": 1,
   "id": "0b1276c5",
   "metadata": {},
   "outputs": [],
   "source": [
    "import json\n",
    "\n",
    "request = {\n",
    "    \"experiment_id\" : \"aaaawwwwweeeer\",\n",
    "    \"experiment_name\":\"exp_001\",\n",
    "    \"algorithm_category\": \"Snowparkml\",\n",
    "    \"algorithm_type\": \"Classification\",\n",
    "    \"dataset_name\":\"diamonds_dataset\",\n",
    "    \"target_column\":\"quality\",\n",
    "    \"algorithms\": [{\n",
    "        \"algorithm_name\": \"snowflake.ml.modeling.ensemble.RandomForestRegressor\"\n",
    "     }\n",
    "    ]\n",
    "}\n",
    "headers = {\n",
    "    \"project_id\": \"fd0cf79c-8118-43a7-8f0b-059e8f78227a\"\n",
    "}"
   ]
  },
  {
   "cell_type": "code",
   "execution_count": 2,
   "id": "8fc3fb94",
   "metadata": {},
   "outputs": [],
   "source": [
    "_exp_data = {\n",
    "    \"monitor_run_id\": \"MONITORRUNID\", \n",
    "    \"experiment_id\" : request.get(\"experiment_id\"), \n",
    "    \"experiment_name\":request.get(\"experiment_name\"), \n",
    "    \"stored_procedure\":\"run_experiment\",\n",
    "    \"algorithm_category\":\"Snowparkml\",\n",
    "    \"algorithm_type\":request.get(\"algorithm_type\"),\n",
    "    \"dataset_name\":request.get(\"dataset_name\"),\n",
    "    \"target_column\":request.get(\"target_column\"),\n",
    "    \"algorithms\":[]\n",
    "}"
   ]
  },
  {
   "cell_type": "code",
   "execution_count": 3,
   "id": "254f9363",
   "metadata": {},
   "outputs": [],
   "source": [
    "_payload_format = {\n",
    "    \"jobObjectName\": request.get(\"experiment_name\"),\n",
    "    \"jobType\": \"Experiment\",\n",
    "    \"objectId\": request.get(\"experiment_id\"),\n",
    "    \"projectId\": headers.get(\"project_id\"),\n",
    "    \"jobInstanceInputParameter\": \"{}\",\n",
    "    \"runEngine\": \"SNOWFLAKE\",\n",
    "    \"jobConfig\": ''\n",
    "}"
   ]
  },
  {
   "cell_type": "code",
   "execution_count": 4,
   "id": "dc9a2d48",
   "metadata": {},
   "outputs": [
    {
     "name": "stdout",
     "output_type": "stream",
     "text": [
      "{\"monitor_run_id\": \"MONITORRUNID\", \"experiment_id\": \"aaaawwwwweeeer\", \"experiment_name\": \"exp_001\", \"stored_procedure\": \"run_experiment\", \"algorithm_category\": \"Snowparkml\", \"algorithm_type\": \"Classification\", \"dataset_name\": \"diamonds_dataset\", \"target_column\": \"quality\", \"algorithms\": [{\"algorithm_name\": \"snowflake.ml.modeling.ensemble.RandomForestRegressor\"}]}\n"
     ]
    }
   ],
   "source": [
    "payloads=[]\n",
    "for algo,i in zip(request.get(\"algorithms\"),range(len(request.get(\"algorithms\")))):\n",
    "    _exp_data.update({\"algorithms\": [algo]})\n",
    "    exp_data = json.dumps(_exp_data)\n",
    "    print(exp_data)\n",
    "    sf_query = f\"CALL run_experiment({exp_data});\"\n",
    "    _payload_format.update({\"jobConfig\":'{{\"snowflake_query\": \"\\{0}\", \"algorithm\": \"{1}\"}}'.format(sf_query, algo.get(\"algorithm_name\"))})\n",
    "    payloads.append(json.dumps(_payload_format))\n"
   ]
  },
  {
   "cell_type": "code",
   "execution_count": null,
   "id": "0da66bc4",
   "metadata": {},
   "outputs": [],
   "source": [
    "print(payloads[0][0])"
   ]
  },
  {
   "cell_type": "code",
   "execution_count": null,
   "id": "d8532efc",
   "metadata": {},
   "outputs": [],
   "source": [
    "for payload in payloads:\n",
    "#     payload = json.dumps(payload)\n",
    "#     payload = payload.encode('utf-8')\n",
    "    print(payload)"
   ]
  },
  {
   "cell_type": "code",
   "execution_count": null,
   "id": "0e2aeac8",
   "metadata": {},
   "outputs": [],
   "source": [
    "payload"
   ]
  },
  {
   "cell_type": "code",
   "execution_count": 5,
   "id": "4494fa6f",
   "metadata": {},
   "outputs": [],
   "source": [
    "import requests\n",
    "executions_url = \"http://monitor-backend-service/monitor/monitor/api/v2/executions/\"\n",
    "\n",
    "temp_head = {\n",
    "    \"X-Auth-Userid\": \"aditya1.singh2@fosfor.com\",\n",
    "    \"X-Auth-Username\": \"aditya1.singh2@fosfor.com\",\n",
    "    \"X-Auth-Email\": \"aditya1.singh2@fosfor.com\",\n",
    "    \"X-Project-Id\": \"fd0cf79c-8118-43a7-8f0b-059e8f78227a\"\n",
    "}"
   ]
  },
  {
   "cell_type": "code",
   "execution_count": 6,
   "id": "d0dc9abe",
   "metadata": {},
   "outputs": [
    {
     "name": "stdout",
     "output_type": "stream",
     "text": [
      "{'jobObjectName': 'exp_001', 'jobType': 'Experiment', 'objectId': 'aaaawwwwweeeer', 'projectId': 'fd0cf79c-8118-43a7-8f0b-059e8f78227a', 'jobInstanceInputParameter': '{}', 'runEngine': 'SNOWFLAKE', 'jobConfig': '{\"snowflake_query\": \"CALL run_experiment(\\\\\\\\\\'{\"monitor_run_id\": \"MONITORRUNID\", \"experiment_id\": \"aaaawwwwweeeer\", \"experiment_name\": \"exp_001\", \"stored_procedure\": \"run_experiment\", \"algorithm_category\": \"Snowparkml\", \"algorithm_type\": \"Classification\", \"dataset_name\": \"diamonds_dataset\", \"target_column\": \"quality\", \"algorithms\": [{\"algorithm_name\": \"snowflake.ml.modeling.ensemble.RandomForestRegressor\"}]}\\\\\\\\\\');\", \"algorithm\": \"snowflake.ml.modeling.ensemble.RandomForestRegressor\"}'}\n",
      "{\"message\":\"Error in running job\",\"detailMessage\":\"Expected a ',' or '}' at 47 [character 48 line 1]\",\"timestamp\":\"2024-07-09 19:54:57\",\"api\":\"/api/v2/executions\",\"serviceCode\":\"MON011\"}\n"
     ]
    }
   ],
   "source": [
    "for payload in payloads:\n",
    "    payload = json.loads(payload)\n",
    "    print(payload)\n",
    "    response = requests.post(executions_url, json=payload, headers=temp_head)\n",
    "    print(response.text)"
   ]
  },
  {
   "cell_type": "code",
   "execution_count": null,
   "id": "0885adeb",
   "metadata": {},
   "outputs": [],
   "source": [
    "jobConfig = \"{\\\"snowflake_query\\\": \\\"CALL experiment_stored_proc(\\\"{\\\"monitor_run_id\\\": \\\"MONITORRUNID\\\", \\\"experiment_id\\\": \\\"aaaawwwwweeeer\\\", \\\"experiment_name\\\": \\\"exp_001\\\", \\\"stored_procedure\\\": \\\"experiment_stored_proc\\\", \\\"algorithm_category\\\": \\\"Snowparkml\\\", \\\"algorithm_type\\\": \\\"Classification\\\", \\\"dataset_name\\\": \\\"diamonds_dataset\\\", \\\"target_column\\\": \\\"quality\\\", \\\"algorithms\\\": [{\\\"algorithm_name\\\": \\\"snowflake.ml.modeling.ensemble.RandomForestRegressor\\\"}]}\\\");\\\", \\\"algorithm\\\": \\\"snowflake.ml.modeling.ensemble.RandomForestRegressor\\\"}\""
   ]
  },
  {
   "cell_type": "code",
   "execution_count": null,
   "id": "dc694b60",
   "metadata": {},
   "outputs": [],
   "source": [
    "payl = {'jobObjectName': 'exp_001', 'jobType': 'Experiment', 'objectId': 'aaaawwwwweeeer', 'projectId': 'fd0cf79c-8118-43a7-8f0b-059e8f78227a', 'jobInstanceInputParameter': '{}', 'runEngine': 'SNOWFLAKE', 'jobConfig': '{\"snowflake_query\": \"CALL run_experiment(\\\"\\'{\\\"monitor_run_id\\\": \\\"MONITORRUNID\\\", \\\"experiment_id\\\": \\\"aaaawwwwweeeer\\\", \\\"experiment_name\\\": \\\"exp_001\\\", \\\"stored_procedure\\\": \\\"run_experiment\\\", \\\"algorithm_category\\\": \\\"Snowparkml\\\", \\\"algorithm_type\\\": \\\"Classification\\\", \\\"dataset_name\\\": \\\"diamonds_dataset\\\", \\\"target_column\\\": \\\"quality\\\", \\\"algorithms\\\": [{\\\"algorithm_name\\\": \\\"snowflake.ml.modeling.ensemble.RandomForestRegressor\\\"}]}\\'\\\");\", \"algorithm\": \"snowflake.ml.modeling.ensemble.RandomForestRegressor\"}'}"
   ]
  },
  {
   "cell_type": "code",
   "execution_count": null,
   "id": "61d01106",
   "metadata": {},
   "outputs": [],
   "source": [
    "payl.update({'jobConfig': jobConfig})"
   ]
  },
  {
   "cell_type": "code",
   "execution_count": null,
   "id": "72fae788",
   "metadata": {},
   "outputs": [],
   "source": [
    "print(payl)"
   ]
  },
  {
   "cell_type": "code",
   "execution_count": null,
   "id": "ca92a6c2",
   "metadata": {},
   "outputs": [],
   "source": [
    "response = requests.post(executions_url, json=payload, headers=temp_head)\n",
    "print(response.text)"
   ]
  },
  {
   "cell_type": "code",
   "execution_count": null,
   "id": "86ab0b40",
   "metadata": {},
   "outputs": [],
   "source": [
    "sf_query=\"select *\"\n",
    "a = '{{\"snowflake_query\": {0}, \"algorithm\": algo.get(\"algorithm_name\")}}'.format(sf_query)\n",
    "print(a)"
   ]
  },
  {
   "cell_type": "code",
   "execution_count": null,
   "id": "556c2e9f",
   "metadata": {},
   "outputs": [],
   "source": [
    "a"
   ]
  },
  {
   "cell_type": "code",
   "execution_count": null,
   "id": "0dc9c904",
   "metadata": {},
   "outputs": [],
   "source": []
  }
 ],
 "metadata": {
  "kernelspec": {
   "display_name": "Python 3",
   "language": "python",
   "name": "python3"
  },
  "language_info": {
   "codemirror_mode": {
    "name": "ipython",
    "version": 3
   },
   "file_extension": ".py",
   "mimetype": "text/x-python",
   "name": "python",
   "nbconvert_exporter": "python",
   "pygments_lexer": "ipython3",
   "version": "3.9.18"
  }
 },
 "nbformat": 4,
 "nbformat_minor": 5
}
