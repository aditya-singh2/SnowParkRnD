{
 "cells": [
  {
   "cell_type": "code",
   "execution_count": 11,
   "id": "0b1276c5",
   "metadata": {},
   "outputs": [],
   "source": [
    "request = {\n",
    "    \"experiment_id\" : \"aaaawwwwweeeer\",\n",
    "    \"experiment_name\":\"exp_001\",\n",
    "    \"algorithm_category\": \"Snowparkml\",\n",
    "    \"algorithm_type\": \"Classification\",\n",
    "    \"dataset_name\":\"diamonds_dataset\",\n",
    "    \"target_column\":\"quality\",\n",
    "    \"algorithms\": [{\n",
    "        \"algorithm_name\": \"snowflake.ml.modeling.ensemble.RandomForestRegressor\"\n",
    "     },{\n",
    "        \"algorithm_name\": \"snowflake.ml.modeling.tree.DecisionTreeClassifier\"\n",
    "     }\n",
    "    ]\n",
    "}\n",
    "headers = {\n",
    "    \"project_id\": \"0e0fb803-22db-4d88-9f2f-f6f75b6abcf0\"\n",
    "}"
   ]
  },
  {
   "cell_type": "code",
   "execution_count": 14,
   "id": "0c8fa3c4",
   "metadata": {},
   "outputs": [],
   "source": [
    "exp_data = { \"monitor_run_id\": \"\", \"experiment_id\" : \"aaaawwwwweeeer\", \"experiment_name\":\"exp_001\", \"stored_procedure\":\"experiment_stored_proc\",\"algorithm_category\":\"Snowparkml\",\"algorithm_type\":\"Classification\",\"dataset_name\":\"diamonds_dataset\",\"target_column\":\"quality\",\"algorithms\":[]}\n",
    "sf_query = f\"CALL experiment_stored_proc({exp_data});\""
   ]
  },
  {
   "cell_type": "code",
   "execution_count": 15,
   "id": "a66fcd94",
   "metadata": {},
   "outputs": [],
   "source": [
    "_payload_format = {\n",
    "    \"jobObjectName\": request.get(\"experiment_name\"),\n",
    "    \"jobType\": \"Experiment\",\n",
    "    \"objectId\": request.get(\"experiment_id\"),\n",
    "    \"projectId\": headers.get(\"project_id\"),\n",
    "    \"runEngine\": \"SNOWFLAKE\",\n",
    "    \"jobConfig\": {\n",
    "  \"snowflake_query\":sf_query\n",
    "      }\n",
    "}"
   ]
  },
  {
   "cell_type": "code",
   "execution_count": 17,
   "id": "9ad58165",
   "metadata": {},
   "outputs": [
    {
     "ename": "SyntaxError",
     "evalue": "invalid syntax (<ipython-input-17-3f07b33de0e5>, line 4)",
     "output_type": "error",
     "traceback": [
      "\u001b[0;36m  Cell \u001b[0;32mIn[17], line 4\u001b[0;36m\u001b[0m\n\u001b[0;31m    exp_data.update(\"algorithms\": [algo])\u001b[0m\n\u001b[0m                                ^\u001b[0m\n\u001b[0;31mSyntaxError\u001b[0m\u001b[0;31m:\u001b[0m invalid syntax\n"
     ]
    }
   ],
   "source": [
    "payload=[]\n",
    "for algo,i in zip(request.get(\"algorithms\"),range(len(request.get(\"algorithms\")))):\n",
    "    print(algo)\n",
    "    exp_data.update(\"algorithms\": [algo])\n",
    "    print(exp_data)\n",
    "#     payload[i] = _payload_format.pdate"
   ]
  },
  {
   "cell_type": "code",
   "execution_count": null,
   "id": "c2caa493",
   "metadata": {},
   "outputs": [],
   "source": []
  }
 ],
 "metadata": {
  "kernelspec": {
   "display_name": "Python 3",
   "language": "python",
   "name": "python3"
  },
  "language_info": {
   "codemirror_mode": {
    "name": "ipython",
    "version": 3
   },
   "file_extension": ".py",
   "mimetype": "text/x-python",
   "name": "python",
   "nbconvert_exporter": "python",
   "pygments_lexer": "ipython3",
   "version": "3.9.18"
  }
 },
 "nbformat": 4,
 "nbformat_minor": 5
}
