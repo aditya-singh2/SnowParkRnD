{
 "cells": [
  {
   "cell_type": "code",
   "execution_count": 25,
   "id": "0b1276c5",
   "metadata": {},
   "outputs": [],
   "source": [
    "import json\n",
    "request = {\n",
    "    \"experiment_id\" : \"aaaawwwwweeeer\",\n",
    "    \"experiment_name\":\"exp_001\",\n",
    "    \"algorithm_category\": \"Snowparkml\",\n",
    "    \"algorithm_type\": \"Classification\",\n",
    "    \"dataset_name\":\"diamonds_dataset\",\n",
    "    \"target_column\":\"quality\",\n",
    "    \"algorithms\": [{\n",
    "        \"algorithm_name\": \"snowflake.ml.modeling.ensemble.RandomForestRegressor\"\n",
    "     },{\n",
    "        \"algorithm_name\": \"snowflake.ml.modeling.tree.DecisionTreeClassifier\"\n",
    "     }\n",
    "    ]\n",
    "}\n",
    "headers = {\n",
    "    \"project_id\": \"0e0fb803-22db-4d88-9f2f-f6f75b6abcf0\"\n",
    "}"
   ]
  },
  {
   "cell_type": "code",
   "execution_count": null,
   "id": "539a9d96",
   "metadata": {},
   "outputs": [],
   "source": [
    "exp_data = {\n",
    "    \"monitor_run_id\": \"\", \n",
    "    \"experiment_id\" : request.get(\"experiment_id\"), \n",
    "    \"experiment_name\":request.get(\"experiment_name\"), \n",
    "    \"stored_procedure\":\"experiment_stored_proc\",\n",
    "    \"algorithm_category\":\"Snowparkml\",\n",
    "    \"algorithm_type\":request.get(\"algorithm_type\"),\n",
    "    \"dataset_name\":request.get(\"dataset_name\"),\n",
    "    \"target_column\":request.get(\"target_column\"),\n",
    "    \"algorithms\":[]\n",
    "}\n"
   ]
  },
  {
   "cell_type": "code",
   "execution_count": 24,
   "id": "d77aefee",
   "metadata": {},
   "outputs": [
    {
     "name": "stdout",
     "output_type": "stream",
     "text": [
      "{'monitor_run_id': '', 'experiment_id': 'aaaawwwwweeeer', 'experiment_name': 'exp_001', 'stored_procedure': 'experiment_stored_proc', 'algorithm_category': 'Snowparkml', 'algorithm_type': 'Classification', 'dataset_name': 'diamonds_dataset', 'target_column': 'quality', 'algorithms': []}\n",
      "CALL experiment_stored_proc({'monitor_run_id': '', 'experiment_id': 'aaaawwwwweeeer', 'experiment_name': 'exp_001', 'stored_procedure': 'experiment_stored_proc', 'algorithm_category': 'Snowparkml', 'algorithm_type': 'Classification', 'dataset_name': 'diamonds_dataset', 'target_column': 'quality', 'algorithms': []});\n"
     ]
    }
   ],
   "source": [
    "exp_data = {\"monitor_run_id\": \"\", \"experiment_id\" : \"aaaawwwwweeeer\", \"experiment_name\":\"exp_001\", \"stored_procedure\":\"experiment_stored_proc\",\"algorithm_category\":\"Snowparkml\",\"algorithm_type\":\"Classification\",\"dataset_name\":\"diamonds_dataset\",\"target_column\":\"quality\",\"algorithms\":[]}\n",
    "print(exp_data)\n",
    "sf_query = f\"CALL experiment_stored_proc({exp_data});\"\n",
    "print(sf_query)"
   ]
  },
  {
   "cell_type": "code",
   "execution_count": 19,
   "id": "4e71b9eb",
   "metadata": {},
   "outputs": [],
   "source": [
    "_payload_format = {\n",
    "    \"jobObjectName\": request.get(\"experiment_name\"),\n",
    "    \"jobType\": \"Experiment\",\n",
    "    \"objectId\": request.get(\"experiment_id\"),\n",
    "    \"projectId\": headers.get(\"project_id\"),\n",
    "    \"runEngine\": \"SNOWFLAKE\",\n",
    "    \"jobConfig\": {\n",
    "  \"snowflake_query\":\"\"\n",
    "      }\n",
    "}"
   ]
  },
  {
   "cell_type": "code",
   "execution_count": 22,
   "id": "9c88013c",
   "metadata": {},
   "outputs": [
    {
     "name": "stdout",
     "output_type": "stream",
     "text": [
      "{'algorithm_name': 'snowflake.ml.modeling.ensemble.RandomForestRegressor'}\n",
      "CALL experiment_stored_proc('{'monitor_run_id': '', 'experiment_id': 'aaaawwwwweeeer', 'experiment_name': 'exp_001', 'stored_procedure': 'experiment_stored_proc', 'algorithm_category': 'Snowparkml', 'algorithm_type': 'Classification', 'dataset_name': 'diamonds_dataset', 'target_column': 'quality', 'algorithms': [{'algorithm_name': 'snowflake.ml.modeling.ensemble.RandomForestRegressor'}]}'');\n"
     ]
    },
    {
     "ename": "IndexError",
     "evalue": "list assignment index out of range",
     "output_type": "error",
     "traceback": [
      "\u001b[0;31m---------------------------------------------------------------------------\u001b[0m",
      "\u001b[0;31mIndexError\u001b[0m                                Traceback (most recent call last)",
      "Cell \u001b[0;32mIn[22], line 8\u001b[0m\n\u001b[1;32m      6\u001b[0m sf_query \u001b[38;5;241m=\u001b[39m \u001b[38;5;124mf\u001b[39m\u001b[38;5;124m\"\u001b[39m\u001b[38;5;124mCALL experiment_stored_proc(\u001b[39m\u001b[38;5;132;01m{\u001b[39;00mexp_data\u001b[38;5;132;01m}\u001b[39;00m\u001b[38;5;124m);\u001b[39m\u001b[38;5;124m\"\u001b[39m\n\u001b[1;32m      7\u001b[0m \u001b[38;5;28mprint\u001b[39m(sf_query)\n\u001b[0;32m----> 8\u001b[0m \u001b[43mpayload\u001b[49m\u001b[43m[\u001b[49m\u001b[43mi\u001b[49m\u001b[43m]\u001b[49m \u001b[38;5;241m=\u001b[39m _payload_format\u001b[38;5;241m.\u001b[39mupdate({\u001b[38;5;124m\"\u001b[39m\u001b[38;5;124msnowflake_query\u001b[39m\u001b[38;5;124m\"\u001b[39m: sf_query})\n\u001b[1;32m      9\u001b[0m \u001b[38;5;28mprint\u001b[39m(payload[i])\n",
      "\u001b[0;31mIndexError\u001b[0m: list assignment index out of range"
     ]
    }
   ],
   "source": [
    "payload=[]\n",
    "for algo,i in zip(request.get(\"algorithms\"),range(len(request.get(\"algorithms\")))):\n",
    "    print(algo)\n",
    "    exp_data.update({\"algorithms\": [algo]})\n",
    "    exp_data = f\"'{exp_data}''\"\n",
    "    sf_query = f\"CALL experiment_stored_proc({exp_data});\"\n",
    "    print(sf_query)\n",
    "    payload[i] = _payload_format.update({\"snowflake_query\": sf_query})\n",
    "    print(payload[i])"
   ]
  },
  {
   "cell_type": "code",
   "execution_count": null,
   "id": "ed79593b",
   "metadata": {},
   "outputs": [],
   "source": []
  }
 ],
 "metadata": {
  "kernelspec": {
   "display_name": "Python 3",
   "language": "python",
   "name": "python3"
  },
  "language_info": {
   "codemirror_mode": {
    "name": "ipython",
    "version": 3
   },
   "file_extension": ".py",
   "mimetype": "text/x-python",
   "name": "python",
   "nbconvert_exporter": "python",
   "pygments_lexer": "ipython3",
   "version": "3.9.18"
  }
 },
 "nbformat": 4,
 "nbformat_minor": 5
}
