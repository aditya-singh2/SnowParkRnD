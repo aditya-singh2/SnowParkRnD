{
 "cells": [
  {
   "cell_type": "code",
   "execution_count": 4,
   "id": "0b1276c5",
   "metadata": {},
   "outputs": [],
   "source": [
    "request = {\n",
    "    \"experiment_id\" : \"aaaawwwwweeeer\",\n",
    "    \"experiment_name\":\"exp_001\",\n",
    "    \"algorithm_category\": \"Snowparkml\",\n",
    "    \"algorithm_type\": \"Classification\",\n",
    "    \"dataset_name\":\"diamonds_dataset\",\n",
    "    \"target_column\":\"quality\",\n",
    "    \"algorithms\": [{\n",
    "        \"algorithm_name\": \"snowflake.ml.modeling.ensemble.RandomForestRegressor\"\n",
    "     },{\n",
    "        \"algorithm_name\": \"snowflake.ml.modeling.tree.DecisionTreeClassifier\"\n",
    "     }\n",
    "    ]\n",
    "}"
   ]
  },
  {
   "cell_type": "code",
   "execution_count": null,
   "id": "0b3d2145",
   "metadata": {},
   "outputs": [],
   "source": [
    "_payload = {\n",
    "    \"jobObjectName\": \"<experiment_name>\",\n",
    "    \"jobType\": \"Experiment\",\n",
    "    \"objectId\": \"<experiment_id>\",\n",
    "    \"projectId\": \"5cf59718-9fa8-43f5-8170-98e5ebd8f0a1\",\n",
    "    \"runEngine\": \"SNOWFLAKE\",\n",
    "    \"jobConfig\": {\n",
    "  \"snowflake_query\":\"CALL experiment_stored_proc('{ \"monitor_run_id\": \"\", \"experiment_id\" : \"aaaawwwwweeeer\", \"experiment_name\":\"exp_001\", \"stored_procedure\":\"experiment_stored_proc\",\"algorithm_category\":\"Snowparkml\",\"algorithm_type\":\"Classification\",\"dataset_name\":\"diamonds_dataset\",\"target_column\":\"quality\",\"algorithms\": [{ \"algorithm_name\":\"RandomForest\" },{ \"algorithm_name\": \"DecisionTreeClassifier\" }] }');\"\n",
    "      }\n",
    "}"
   ]
  },
  {
   "cell_type": "code",
   "execution_count": 5,
   "id": "2894b08c",
   "metadata": {},
   "outputs": [
    {
     "name": "stdout",
     "output_type": "stream",
     "text": [
      "{'algorithm_name': 'snowflake.ml.modeling.ensemble.RandomForestRegressor'}\n",
      "{'algorithm_name': 'snowflake.ml.modeling.tree.DecisionTreeClassifier'}\n"
     ]
    }
   ],
   "source": [
    "payload=[]\n",
    "for algos,i in zip(request.get(\"algorithms\"),range(len(request.get(\"algorithms\")))):\n",
    "    print(algos)"
   ]
  },
  {
   "cell_type": "code",
   "execution_count": null,
   "id": "81b6bdd2",
   "metadata": {},
   "outputs": [],
   "source": []
  }
 ],
 "metadata": {
  "kernelspec": {
   "display_name": "Python 3",
   "language": "python",
   "name": "python3"
  },
  "language_info": {
   "codemirror_mode": {
    "name": "ipython",
    "version": 3
   },
   "file_extension": ".py",
   "mimetype": "text/x-python",
   "name": "python",
   "nbconvert_exporter": "python",
   "pygments_lexer": "ipython3",
   "version": "3.9.18"
  }
 },
 "nbformat": 4,
 "nbformat_minor": 5
}
