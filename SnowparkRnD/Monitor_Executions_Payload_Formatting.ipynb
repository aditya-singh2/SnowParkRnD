{
 "cells": [
  {
   "cell_type": "code",
   "execution_count": 1,
   "id": "0b1276c5",
   "metadata": {},
   "outputs": [],
   "source": [
    "import json\n",
    "request = {\n",
    "    \"experiment_id\" : \"aaaawwwwweeeer\",\n",
    "    \"experiment_name\":\"exp_001\",\n",
    "    \"algorithm_category\": \"Snowparkml\",\n",
    "    \"algorithm_type\": \"Classification\",\n",
    "    \"dataset_name\":\"diamonds_dataset\",\n",
    "    \"target_column\":\"quality\",\n",
    "    \"algorithms\": [{\n",
    "        \"algorithm_name\": \"snowflake.ml.modeling.ensemble.RandomForestRegressor\"\n",
    "     }\n",
    "    ]\n",
    "}\n",
    "headers = {\n",
    "    \"project_id\": \"fd0cf79c-8118-43a7-8f0b-059e8f78227a\"\n",
    "}"
   ]
  },
  {
   "cell_type": "code",
   "execution_count": 2,
   "id": "403de72a",
   "metadata": {},
   "outputs": [
    {
     "data": {
      "text/plain": [
       "{'algorithm_name': 'snowflake.ml.modeling.tree.DecisionTreeClassifier'}"
      ]
     },
     "execution_count": 2,
     "metadata": {},
     "output_type": "execute_result"
    }
   ],
   "source": [
    "{\n",
    "        \"algorithm_name\": \"snowflake.ml.modeling.tree.DecisionTreeClassifier\"\n",
    "     }"
   ]
  },
  {
   "cell_type": "code",
   "execution_count": 3,
   "id": "8fc3fb94",
   "metadata": {},
   "outputs": [],
   "source": [
    "_exp_data = {\n",
    "    \"monitor_run_id\": \"MONITORRUNID\", \n",
    "    \"experiment_id\" : request.get(\"experiment_id\"), \n",
    "    \"experiment_name\":request.get(\"experiment_name\"), \n",
    "    \"stored_procedure\":\"experiment_stored_proc\",\n",
    "    \"algorithm_category\":\"Snowparkml\",\n",
    "    \"algorithm_type\":request.get(\"algorithm_type\"),\n",
    "    \"dataset_name\":request.get(\"dataset_name\"),\n",
    "    \"target_column\":request.get(\"target_column\"),\n",
    "    \"algorithms\":[]\n",
    "}"
   ]
  },
  {
   "cell_type": "code",
   "execution_count": 4,
   "id": "254f9363",
   "metadata": {},
   "outputs": [],
   "source": [
    "_payload_format = {\n",
    "    \"jobObjectName\": request.get(\"experiment_name\"),\n",
    "    \"jobType\": \"Experiment\",\n",
    "    \"objectId\": request.get(\"experiment_id\"),\n",
    "    \"projectId\": headers.get(\"project_id\"),\n",
    "    \"jobInstanceInputParameter\": \"{}\",\n",
    "    \"runEngine\": \"SNOWFLAKE\",\n",
    "    \"jobConfig\": {\n",
    "      \"snowflake_query\":\"\",\n",
    "      \"algorithm\": \"\"  \n",
    "      }\n",
    "}"
   ]
  },
  {
   "cell_type": "code",
   "execution_count": 5,
   "id": "dc9a2d48",
   "metadata": {},
   "outputs": [],
   "source": [
    "payloads=[]\n",
    "for algo,i in zip(request.get(\"algorithms\"),range(len(request.get(\"algorithms\")))):\n",
    "#     print(\"\\n\",algo)\n",
    "    _exp_data.update({\"algorithms\": [algo]})\n",
    "    exp_data = _exp_data\n",
    "    exp_data = json.dumps(exp_data)\n",
    "    sf_query = f\"CALL experiment_stored_proc('{exp_data}');\"\n",
    "#     print(sf_query)\n",
    "    _payload_format.update({\"jobConfig\":{\"snowflake_query\": sf_query, \"algorithm\": algo.get(\"algorithm_name\")}})\n",
    "#     print(f\"payload {i}:\", _payload_format)\n",
    "    payloads.append(_payload_format)\n"
   ]
  },
  {
   "cell_type": "code",
   "execution_count": 6,
   "id": "0da66bc4",
   "metadata": {},
   "outputs": [
    {
     "name": "stdout",
     "output_type": "stream",
     "text": [
      "CALL experiment_stored_proc('{\"monitor_run_id\": \"MONITORRUNID\", \"experiment_id\": \"aaaawwwwweeeer\", \"experiment_name\": \"exp_001\", \"stored_procedure\": \"experiment_stored_proc\", \"algorithm_category\": \"Snowparkml\", \"algorithm_type\": \"Classification\", \"dataset_name\": \"diamonds_dataset\", \"target_column\": \"quality\", \"algorithms\": [{\"algorithm_name\": \"snowflake.ml.modeling.ensemble.RandomForestRegressor\"}]}');\n"
     ]
    }
   ],
   "source": [
    "print(payloads[0][\"jobConfig\"]['snowflake_query'])"
   ]
  },
  {
   "cell_type": "code",
   "execution_count": 7,
   "id": "d8532efc",
   "metadata": {},
   "outputs": [
    {
     "name": "stdout",
     "output_type": "stream",
     "text": [
      "[{'jobObjectName': 'exp_001', 'jobType': 'Experiment', 'objectId': 'aaaawwwwweeeer', 'projectId': '0e0fb803-22db-4d88-9f2f-f6f75b6abcf0', 'jobInstanceInputParameter': '{}', 'runEngine': 'SNOWFLAKE', 'jobConfig': {'snowflake_query': 'CALL experiment_stored_proc(\\'{\"monitor_run_id\": \"MONITORRUNID\", \"experiment_id\": \"aaaawwwwweeeer\", \"experiment_name\": \"exp_001\", \"stored_procedure\": \"experiment_stored_proc\", \"algorithm_category\": \"Snowparkml\", \"algorithm_type\": \"Classification\", \"dataset_name\": \"diamonds_dataset\", \"target_column\": \"quality\", \"algorithms\": [{\"algorithm_name\": \"snowflake.ml.modeling.ensemble.RandomForestRegressor\"}]}\\');', 'algorithm': 'snowflake.ml.modeling.ensemble.RandomForestRegressor'}}]\n"
     ]
    }
   ],
   "source": [
    "print(payloads)"
   ]
  },
  {
   "cell_type": "code",
   "execution_count": null,
   "id": "4f59447f",
   "metadata": {},
   "outputs": [],
   "source": [
    "payload"
   ]
  },
  {
   "cell_type": "code",
   "execution_count": 26,
   "id": "4494fa6f",
   "metadata": {},
   "outputs": [],
   "source": [
    "import requests\n",
    "executions_url = \"http://monitor-backend-service/monitor/monitor/api/v2/executions/\"\n",
    "\n",
    "temp_head = {\n",
    "    \"X-Auth-Userid\": \"aditya1.singh2@fosfor.com\",\n",
    "    \"X-Auth-Username\": \"aditya1.singh2@fosfor.com\",\n",
    "    \"X-Auth-Email\": \"aditya1.singh2@fosfor.com\",\n",
    "    \"X-Project-Id\": \"fd0cf79c-8118-43a7-8f0b-059e8f78227a\"\n",
    "}"
   ]
  },
  {
   "cell_type": "code",
   "execution_count": 9,
   "id": "d0dc9abe",
   "metadata": {},
   "outputs": [
    {
     "name": "stdout",
     "output_type": "stream",
     "text": [
      "{'jobObjectName': 'exp_001', 'jobType': 'Experiment', 'objectId': 'aaaawwwwweeeer', 'projectId': '0e0fb803-22db-4d88-9f2f-f6f75b6abcf0', 'jobInstanceInputParameter': '{}', 'runEngine': 'SNOWFLAKE', 'jobConfig': {'snowflake_query': 'CALL experiment_stored_proc(\\'{\"monitor_run_id\": \"MONITORRUNID\", \"experiment_id\": \"aaaawwwwweeeer\", \"experiment_name\": \"exp_001\", \"stored_procedure\": \"experiment_stored_proc\", \"algorithm_category\": \"Snowparkml\", \"algorithm_type\": \"Classification\", \"dataset_name\": \"diamonds_dataset\", \"target_column\": \"quality\", \"algorithms\": [{\"algorithm_name\": \"snowflake.ml.modeling.ensemble.RandomForestRegressor\"}]}\\');', 'algorithm': 'snowflake.ml.modeling.ensemble.RandomForestRegressor'}}\n",
      "{\"type\":\"about:blank\",\"title\":\"Bad Request\",\"status\":400,\"detail\":\"Failed to read request\",\"instance\":\"/monitor/monitor/api/v2/executions/\"}\n"
     ]
    }
   ],
   "source": [
    "for payload in payloads:\n",
    "    print(payload)\n",
    "    response = requests.post(executions_url, json=payload, headers=temp_head)\n",
    "    print(response.text)"
   ]
  },
  {
   "cell_type": "code",
   "execution_count": 10,
   "id": "0885adeb",
   "metadata": {},
   "outputs": [],
   "source": [
    "jobConfig = '{\"snowflake_query\": \"CALL experiment_stored_proc(\\\"{\"monitor_run_id\": \"MONITORRUNID\", \"experiment_id\": \"aaaawwwwweeeer\", \"experiment_name\": \"exp_001\", \"stored_procedure\": \"experiment_stored_proc\", \"algorithm_category\": \"Snowparkml\", \"algorithm_type\": \"Classification\", \"dataset_name\": \"diamonds_dataset\", \"target_column\": \"quality\", \"algorithms\": [{\"algorithm_name\": \"snowflake.ml.modeling.ensemble.RandomForestRegressor\"}]}\\\");\", \"algorithm\": \"snowflake.ml.modeling.ensemble.RandomForestRegressor\"}'"
   ]
  },
  {
   "cell_type": "code",
   "execution_count": 21,
   "id": "f8ec49ec",
   "metadata": {},
   "outputs": [],
   "source": [
    "payl = {'jobObjectName': 'exp_001', 'jobType': 'Experiment', 'objectId': 'aaaawwwwweeeer', 'projectId': '0e0fb803-22db-4d88-9f2f-f6f75b6abcf0', 'jobInstanceInputParameter': '{}', 'runEngine': 'SNOWFLAKE', 'jobConfig': {'snowflake_query': 'CALL experiment_stored_proc(\\'{\"monitor_run_id\": \"MONITORRUNID\", \"experiment_id\": \"aaaawwwwweeeer\", \"experiment_name\": \"exp_001\", \"stored_procedure\": \"experiment_stored_proc\", \"algorithm_category\": \"Snowparkml\", \"algorithm_type\": \"Classification\", \"dataset_name\": \"diamonds_dataset\", \"target_column\": \"quality\", \"algorithms\": [{\"algorithm_name\": \"snowflake.ml.modeling.ensemble.RandomForestRegressor\"}]}\\');', 'algorithm': 'snowflake.ml.modeling.ensemble.RandomForestRegressor'}}"
   ]
  },
  {
   "cell_type": "code",
   "execution_count": 24,
   "id": "07b3e3ce",
   "metadata": {},
   "outputs": [],
   "source": [
    "payl.update({'jobConfig': jobConfig})"
   ]
  },
  {
   "cell_type": "code",
   "execution_count": 25,
   "id": "f586d3b0",
   "metadata": {},
   "outputs": [
    {
     "name": "stdout",
     "output_type": "stream",
     "text": [
      "{'jobObjectName': 'exp_001', 'jobType': 'Experiment', 'objectId': 'aaaawwwwweeeer', 'projectId': '0e0fb803-22db-4d88-9f2f-f6f75b6abcf0', 'jobInstanceInputParameter': '{}', 'runEngine': 'SNOWFLAKE', 'jobConfig': '{\"snowflake_query\": \"CALL experiment_stored_proc(\"{\"monitor_run_id\": \"MONITORRUNID\", \"experiment_id\": \"aaaawwwwweeeer\", \"experiment_name\": \"exp_001\", \"stored_procedure\": \"experiment_stored_proc\", \"algorithm_category\": \"Snowparkml\", \"algorithm_type\": \"Classification\", \"dataset_name\": \"diamonds_dataset\", \"target_column\": \"quality\", \"algorithms\": [{\"algorithm_name\": \"snowflake.ml.modeling.ensemble.RandomForestRegressor\"}]}\");\", \"algorithm\": \"snowflake.ml.modeling.ensemble.RandomForestRegressor\"}'}\n"
     ]
    }
   ],
   "source": [
    "print(payl)"
   ]
  },
  {
   "cell_type": "code",
   "execution_count": null,
   "id": "d9316785",
   "metadata": {},
   "outputs": [],
   "source": [
    "response = requests.post(executions_url, json=payl, headers=temp_head)\n",
    "    print(response.text)"
   ]
  }
 ],
 "metadata": {
  "kernelspec": {
   "display_name": "Python 3",
   "language": "python",
   "name": "python3"
  },
  "language_info": {
   "codemirror_mode": {
    "name": "ipython",
    "version": 3
   },
   "file_extension": ".py",
   "mimetype": "text/x-python",
   "name": "python",
   "nbconvert_exporter": "python",
   "pygments_lexer": "ipython3",
   "version": "3.9.18"
  }
 },
 "nbformat": 4,
 "nbformat_minor": 5
}
