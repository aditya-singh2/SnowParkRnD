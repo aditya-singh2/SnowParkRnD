{
 "cells": [
  {
   "cell_type": "code",
   "execution_count": 3,
   "id": "e64930f1",
   "metadata": {},
   "outputs": [
    {
     "name": "stdout",
     "output_type": "stream",
     "text": [
      "1946719\n"
     ]
    }
   ],
   "source": [
    "import pandas as pd\n",
    "\n",
    "df = pd.read_csv('/data/AIRLINE_DEP_DELAY.csv')\n",
    "print(df.shape[0])"
   ]
  },
  {
   "cell_type": "code",
   "execution_count": 4,
   "id": "6a97f2d5",
   "metadata": {},
   "outputs": [],
   "source": [
    "df_10k = df.head(10000)\n",
    "df_100k = df.head(100000)"
   ]
  },
  {
   "cell_type": "code",
   "execution_count": 5,
   "id": "5f51355d",
   "metadata": {},
   "outputs": [],
   "source": [
    "df_10k.to_csv('/data/AIRLINE_DEP_DELAY_10k.csv')"
   ]
  },
  {
   "cell_type": "code",
   "execution_count": 6,
   "id": "58962c3d",
   "metadata": {},
   "outputs": [],
   "source": [
    "df_100k.to_csv('/data/AIRLINE_DEP_DELAY_100k.csv')"
   ]
  },
  {
   "cell_type": "code",
   "execution_count": 8,
   "id": "3bd7fb63",
   "metadata": {},
   "outputs": [
    {
     "name": "stdout",
     "output_type": "stream",
     "text": [
      "total 580784\r\n",
      "-rwxrwxrwx 1 mosaic-ai mosaic-ai 562814775 Jun  7 07:01 AIRLINE_DEP_DELAY.csv\r\n",
      "-rwxrwxrwx 1 mosaic-ai mosaic-ai    195247 Jun  7 07:01 Employee.csv\r\n",
      "-rwxrwxrwx 1 mosaic-ai mosaic-ai    100485 Jun  7 07:02 mlflow_sample_data.csv\r\n",
      "drwxr-xr-x 1 root      root             96 Jun 11 07:25 ..\r\n",
      "-rw-r--r-- 1 mosaic-ai mosaic-ai   2863919 Jun 11 08:03 AIRLINE_DEP_DELAY_10k.csv\r\n",
      "drwxrwxrwx 2 mosaic-ai mosaic-ai      6144 Jun 11 08:03 .\r\n",
      "-rw-r--r-- 1 mosaic-ai mosaic-ai  28736699 Jun 11 08:03 AIRLINE_DEP_DELAY_100k.csv\r\n"
     ]
    }
   ],
   "source": [
    "!ls -lart /data "
   ]
  },
  {
   "cell_type": "code",
   "execution_count": null,
   "id": "63e698af",
   "metadata": {},
   "outputs": [],
   "source": []
  }
 ],
 "metadata": {
  "kernelspec": {
   "display_name": "Python 3",
   "language": "python",
   "name": "python3"
  },
  "language_info": {
   "codemirror_mode": {
    "name": "ipython",
    "version": 3
   },
   "file_extension": ".py",
   "mimetype": "text/x-python",
   "name": "python",
   "nbconvert_exporter": "python",
   "pygments_lexer": "ipython3",
   "version": "3.9.18"
  }
 },
 "nbformat": 4,
 "nbformat_minor": 5
}
