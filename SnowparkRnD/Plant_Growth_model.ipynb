{
 "cells": [
  {
   "cell_type": "code",
   "execution_count": 1,
   "id": "bb42b68c-7000-4884-9c45-1cccfc950b32",
   "metadata": {},
   "outputs": [],
   "source": [
    "from fosforml.model_manager.snowflakesession import get_session\n",
    "my_session = get_session()"
   ]
  },
  {
   "cell_type": "code",
   "execution_count": 2,
   "id": "551a16d2-fe0d-4283-9eb5-cb05e2ed5e0e",
   "metadata": {},
   "outputs": [],
   "source": [
    "# sf_df = my_session.sql(\"select * from PLANT_GROWTH_DATA\")\n",
    "import pandas as pd\n",
    "pandas_df = pd.read_csv(\"plant_growth_data.csv\")"
   ]
  },
  {
   "cell_type": "code",
   "execution_count": 6,
   "id": "0ac03e87",
   "metadata": {},
   "outputs": [
    {
     "data": {
      "text/html": [
       "<div>\n",
       "<style scoped>\n",
       "    .dataframe tbody tr th:only-of-type {\n",
       "        vertical-align: middle;\n",
       "    }\n",
       "\n",
       "    .dataframe tbody tr th {\n",
       "        vertical-align: top;\n",
       "    }\n",
       "\n",
       "    .dataframe thead th {\n",
       "        text-align: right;\n",
       "    }\n",
       "</style>\n",
       "<table border=\"1\" class=\"dataframe\">\n",
       "  <thead>\n",
       "    <tr style=\"text-align: right;\">\n",
       "      <th></th>\n",
       "      <th>Soil_Type</th>\n",
       "      <th>Sunlight_Hours</th>\n",
       "      <th>Water_Frequency</th>\n",
       "      <th>Fertilizer_Type</th>\n",
       "      <th>Temperature</th>\n",
       "      <th>Humidity</th>\n",
       "      <th>Growth_Milestone</th>\n",
       "    </tr>\n",
       "  </thead>\n",
       "  <tbody>\n",
       "    <tr>\n",
       "      <th>0</th>\n",
       "      <td>loam</td>\n",
       "      <td>5.192294</td>\n",
       "      <td>bi-weekly</td>\n",
       "      <td>chemical</td>\n",
       "      <td>31.719602</td>\n",
       "      <td>61.591861</td>\n",
       "      <td>0</td>\n",
       "    </tr>\n",
       "    <tr>\n",
       "      <th>1</th>\n",
       "      <td>sandy</td>\n",
       "      <td>4.033133</td>\n",
       "      <td>weekly</td>\n",
       "      <td>organic</td>\n",
       "      <td>28.919484</td>\n",
       "      <td>52.422276</td>\n",
       "      <td>1</td>\n",
       "    </tr>\n",
       "    <tr>\n",
       "      <th>2</th>\n",
       "      <td>loam</td>\n",
       "      <td>8.892769</td>\n",
       "      <td>bi-weekly</td>\n",
       "      <td>none</td>\n",
       "      <td>23.179059</td>\n",
       "      <td>44.660539</td>\n",
       "      <td>0</td>\n",
       "    </tr>\n",
       "    <tr>\n",
       "      <th>3</th>\n",
       "      <td>loam</td>\n",
       "      <td>8.241144</td>\n",
       "      <td>bi-weekly</td>\n",
       "      <td>none</td>\n",
       "      <td>18.465886</td>\n",
       "      <td>46.433227</td>\n",
       "      <td>0</td>\n",
       "    </tr>\n",
       "    <tr>\n",
       "      <th>4</th>\n",
       "      <td>sandy</td>\n",
       "      <td>8.374043</td>\n",
       "      <td>bi-weekly</td>\n",
       "      <td>organic</td>\n",
       "      <td>18.128741</td>\n",
       "      <td>63.625923</td>\n",
       "      <td>0</td>\n",
       "    </tr>\n",
       "  </tbody>\n",
       "</table>\n",
       "</div>"
      ],
      "text/plain": [
       "  Soil_Type  Sunlight_Hours Water_Frequency Fertilizer_Type  Temperature  \\\n",
       "0      loam        5.192294       bi-weekly        chemical    31.719602   \n",
       "1     sandy        4.033133          weekly         organic    28.919484   \n",
       "2      loam        8.892769       bi-weekly            none    23.179059   \n",
       "3      loam        8.241144       bi-weekly            none    18.465886   \n",
       "4     sandy        8.374043       bi-weekly         organic    18.128741   \n",
       "\n",
       "    Humidity  Growth_Milestone  \n",
       "0  61.591861                 0  \n",
       "1  52.422276                 1  \n",
       "2  44.660539                 0  \n",
       "3  46.433227                 0  \n",
       "4  63.625923                 0  "
      ]
     },
     "execution_count": 6,
     "metadata": {},
     "output_type": "execute_result"
    }
   ],
   "source": [
    "pandas_df.head()"
   ]
  },
  {
   "cell_type": "code",
   "execution_count": 3,
   "id": "b3e83269-3572-430f-93af-70931131ee0d",
   "metadata": {},
   "outputs": [],
   "source": [
    "from sklearn.model_selection import train_test_split\n",
    "\n",
    "x_train, x_test = train_test_split(pandas_df, test_size=0.2)"
   ]
  },
  {
   "cell_type": "code",
   "execution_count": 7,
   "id": "899e0cb1-d239-40a5-a3f8-925e248a70fe",
   "metadata": {},
   "outputs": [
    {
     "data": {
      "text/plain": [
       "97     0\n",
       "192    0\n",
       "95     0\n",
       "188    0\n",
       "175    1\n",
       "      ..\n",
       "151    1\n",
       "115    1\n",
       "96     1\n",
       "131    1\n",
       "129    1\n",
       "Name: Growth_Milestone, Length: 154, dtype: int64"
      ]
     },
     "execution_count": 7,
     "metadata": {},
     "output_type": "execute_result"
    }
   ],
   "source": [
    "y_train = x_train['Growth_Milestone']\n",
    "x_train = x_train.drop('Growth_Milestone',axis=1)\n",
    "y_train"
   ]
  },
  {
   "cell_type": "code",
   "execution_count": 8,
   "id": "8a34b129-c808-428d-8fa9-26a7380fd390",
   "metadata": {},
   "outputs": [
    {
     "data": {
      "text/plain": [
       "187    1\n",
       "24     1\n",
       "111    0\n",
       "39     1\n",
       "156    0\n",
       "105    0\n",
       "19     1\n",
       "90     1\n",
       "113    0\n",
       "114    0\n",
       "78     1\n",
       "51     1\n",
       "62     0\n",
       "5      0\n",
       "102    1\n",
       "107    0\n",
       "148    0\n",
       "191    1\n",
       "70     0\n",
       "57     0\n",
       "54     0\n",
       "12     1\n",
       "20     0\n",
       "1      1\n",
       "181    1\n",
       "25     0\n",
       "44     0\n",
       "84     0\n",
       "155    1\n",
       "92     0\n",
       "173    1\n",
       "34     1\n",
       "26     0\n",
       "153    1\n",
       "9      1\n",
       "29     1\n",
       "58     0\n",
       "83     1\n",
       "132    0\n",
       "Name: Growth_Milestone, dtype: int64"
      ]
     },
     "execution_count": 8,
     "metadata": {},
     "output_type": "execute_result"
    }
   ],
   "source": [
    "y_test = x_test['Growth_Milestone']\n",
    "x_test = x_test.drop('Growth_Milestone',axis=1)\n",
    "y_test"
   ]
  },
  {
   "cell_type": "code",
   "execution_count": 9,
   "id": "c6b35263-8808-4103-b1ac-0d686e6e06b3",
   "metadata": {},
   "outputs": [
    {
     "data": {
      "text/html": [
       "<div>\n",
       "<style scoped>\n",
       "    .dataframe tbody tr th:only-of-type {\n",
       "        vertical-align: middle;\n",
       "    }\n",
       "\n",
       "    .dataframe tbody tr th {\n",
       "        vertical-align: top;\n",
       "    }\n",
       "\n",
       "    .dataframe thead th {\n",
       "        text-align: right;\n",
       "    }\n",
       "</style>\n",
       "<table border=\"1\" class=\"dataframe\">\n",
       "  <thead>\n",
       "    <tr style=\"text-align: right;\">\n",
       "      <th></th>\n",
       "      <th>Soil_Type</th>\n",
       "      <th>Sunlight_Hours</th>\n",
       "      <th>Water_Frequency</th>\n",
       "      <th>Fertilizer_Type</th>\n",
       "      <th>Temperature</th>\n",
       "      <th>Humidity</th>\n",
       "    </tr>\n",
       "  </thead>\n",
       "  <tbody>\n",
       "    <tr>\n",
       "      <th>97</th>\n",
       "      <td>1</td>\n",
       "      <td>4.244651</td>\n",
       "      <td>1</td>\n",
       "      <td>0</td>\n",
       "      <td>34.001239</td>\n",
       "      <td>50.912152</td>\n",
       "    </tr>\n",
       "    <tr>\n",
       "      <th>192</th>\n",
       "      <td>0</td>\n",
       "      <td>6.732000</td>\n",
       "      <td>2</td>\n",
       "      <td>1</td>\n",
       "      <td>21.700000</td>\n",
       "      <td>56.900000</td>\n",
       "    </tr>\n",
       "    <tr>\n",
       "      <th>95</th>\n",
       "      <td>2</td>\n",
       "      <td>5.924680</td>\n",
       "      <td>0</td>\n",
       "      <td>0</td>\n",
       "      <td>16.825734</td>\n",
       "      <td>66.285975</td>\n",
       "    </tr>\n",
       "    <tr>\n",
       "      <th>188</th>\n",
       "      <td>2</td>\n",
       "      <td>5.652000</td>\n",
       "      <td>1</td>\n",
       "      <td>1</td>\n",
       "      <td>28.000000</td>\n",
       "      <td>70.200000</td>\n",
       "    </tr>\n",
       "    <tr>\n",
       "      <th>175</th>\n",
       "      <td>1</td>\n",
       "      <td>4.568000</td>\n",
       "      <td>0</td>\n",
       "      <td>2</td>\n",
       "      <td>30.100000</td>\n",
       "      <td>48.000000</td>\n",
       "    </tr>\n",
       "    <tr>\n",
       "      <th>...</th>\n",
       "      <td>...</td>\n",
       "      <td>...</td>\n",
       "      <td>...</td>\n",
       "      <td>...</td>\n",
       "      <td>...</td>\n",
       "      <td>...</td>\n",
       "    </tr>\n",
       "    <tr>\n",
       "      <th>151</th>\n",
       "      <td>1</td>\n",
       "      <td>8.019000</td>\n",
       "      <td>2</td>\n",
       "      <td>2</td>\n",
       "      <td>27.300000</td>\n",
       "      <td>55.300000</td>\n",
       "    </tr>\n",
       "    <tr>\n",
       "      <th>115</th>\n",
       "      <td>1</td>\n",
       "      <td>4.546000</td>\n",
       "      <td>1</td>\n",
       "      <td>0</td>\n",
       "      <td>29.100000</td>\n",
       "      <td>71.200000</td>\n",
       "    </tr>\n",
       "    <tr>\n",
       "      <th>96</th>\n",
       "      <td>2</td>\n",
       "      <td>5.119111</td>\n",
       "      <td>1</td>\n",
       "      <td>2</td>\n",
       "      <td>21.386273</td>\n",
       "      <td>60.670760</td>\n",
       "    </tr>\n",
       "    <tr>\n",
       "      <th>131</th>\n",
       "      <td>2</td>\n",
       "      <td>7.245000</td>\n",
       "      <td>1</td>\n",
       "      <td>1</td>\n",
       "      <td>30.400000</td>\n",
       "      <td>63.400000</td>\n",
       "    </tr>\n",
       "    <tr>\n",
       "      <th>129</th>\n",
       "      <td>0</td>\n",
       "      <td>6.127000</td>\n",
       "      <td>1</td>\n",
       "      <td>1</td>\n",
       "      <td>25.700000</td>\n",
       "      <td>70.900000</td>\n",
       "    </tr>\n",
       "  </tbody>\n",
       "</table>\n",
       "<p>154 rows × 6 columns</p>\n",
       "</div>"
      ],
      "text/plain": [
       "     Soil_Type  Sunlight_Hours  Water_Frequency  Fertilizer_Type  Temperature  \\\n",
       "97           1        4.244651                1                0    34.001239   \n",
       "192          0        6.732000                2                1    21.700000   \n",
       "95           2        5.924680                0                0    16.825734   \n",
       "188          2        5.652000                1                1    28.000000   \n",
       "175          1        4.568000                0                2    30.100000   \n",
       "..         ...             ...              ...              ...          ...   \n",
       "151          1        8.019000                2                2    27.300000   \n",
       "115          1        4.546000                1                0    29.100000   \n",
       "96           2        5.119111                1                2    21.386273   \n",
       "131          2        7.245000                1                1    30.400000   \n",
       "129          0        6.127000                1                1    25.700000   \n",
       "\n",
       "      Humidity  \n",
       "97   50.912152  \n",
       "192  56.900000  \n",
       "95   66.285975  \n",
       "188  70.200000  \n",
       "175  48.000000  \n",
       "..         ...  \n",
       "151  55.300000  \n",
       "115  71.200000  \n",
       "96   60.670760  \n",
       "131  63.400000  \n",
       "129  70.900000  \n",
       "\n",
       "[154 rows x 6 columns]"
      ]
     },
     "execution_count": 9,
     "metadata": {},
     "output_type": "execute_result"
    }
   ],
   "source": [
    "from sklearn.preprocessing import LabelEncoder\n",
    "le = LabelEncoder()\n",
    "string_columns = x_train.select_dtypes(include=['object']).columns\n",
    "# Encoding each specified column\n",
    "for column in string_columns:\n",
    "    le = LabelEncoder()\n",
    "    x_train[column] = le.fit_transform(x_train[column])\n",
    "x_train"
   ]
  },
  {
   "cell_type": "code",
   "execution_count": 10,
   "id": "941cd20c-0973-4bd1-95b7-a16051daca8f",
   "metadata": {},
   "outputs": [
    {
     "data": {
      "text/plain": [
       "100.0"
      ]
     },
     "execution_count": 10,
     "metadata": {},
     "output_type": "execute_result"
    }
   ],
   "source": [
    "from sklearn.tree import DecisionTreeClassifier\n",
    "model = DecisionTreeClassifier(random_state=42)\n",
    "model.fit(x_train, y_train)\n",
    "model.score(x_train,y_train)*100\n",
    "# model.score(x_test,y_test)*100"
   ]
  },
  {
   "cell_type": "code",
   "execution_count": 15,
   "id": "f580f186",
   "metadata": {},
   "outputs": [],
   "source": [
    "def label_encoding_function(x_train):\n",
    "    from sklearn.preprocessing import LabelEncoder\n",
    "    le = LabelEncoder()\n",
    "    string_columns = x_train.select_dtypes(include=['object']).columns\n",
    "# Encoding each specified column\n",
    "    for column in string_columns:\n",
    "        le = LabelEncoder()\n",
    "        x_train[column] = le.fit_transform(x_train[column])\n",
    "    return x_train"
   ]
  },
  {
   "cell_type": "code",
   "execution_count": 19,
   "id": "574105b1-e121-47f6-9127-b10da25ccfbd",
   "metadata": {},
   "outputs": [],
   "source": [
    "x_test = label_encoding_function(x_test)\n",
    "y_pred =pd.DataFrame(model.predict(x_test),columns=['Ouput_Growth_Milestone'])"
   ]
  },
  {
   "cell_type": "code",
   "execution_count": 20,
   "id": "24e1d8c6-7e39-4b5d-bb84-0d4ac60a178f",
   "metadata": {},
   "outputs": [
    {
     "name": "stdout",
     "output_type": "stream",
     "text": [
      "Calculating build time metrics\n",
      "\n",
      "Progress: ██████████████                                                         20.0%\n",
      "Calculating build time metrics\n",
      "\n",
      "Progress: ████████████████████████████                                           40.0%\n"
     ]
    },
    {
     "name": "stderr",
     "output_type": "stream",
     "text": [
      "The version of package 'scikit-learn' in the local environment is 1.3.2, which does not fit the criteria for the requirement 'scikit-learn<1.4'. Your UDF might not work when the package version is different between the server and your local environment.\n",
      "DataFrame.flatten() is deprecated since 0.7.0. Use `DataFrame.join_table_function()` instead.\n",
      "The version of package 'scikit-learn' in the local environment is 1.3.2, which does not fit the criteria for the requirement 'scikit-learn<1.4'. Your UDF might not work when the package version is different between the server and your local environment.\n"
     ]
    },
    {
     "name": "stdout",
     "output_type": "stream",
     "text": [
      "Calculating build time metrics\n",
      "\n",
      "Progress: ██████████████████████████████████████████                             60.0%\n"
     ]
    },
    {
     "name": "stderr",
     "output_type": "stream",
     "text": [
      "The version of package 'scikit-learn' in the local environment is 1.3.2, which does not fit the criteria for the requirement 'scikit-learn==1.3.*'. Your UDF might not work when the package version is different between the server and your local environment.\n",
      "The version of package 'snowflake-snowpark-python' in the local environment is 1.20.0, which does not fit the criteria for the requirement 'snowflake-snowpark-python'. Your UDF might not work when the package version is different between the server and your local environment.\n",
      "The version of package 'scikit-learn' in the local environment is 1.3.2, which does not fit the criteria for the requirement 'scikit-learn==1.3.*'. Your UDF might not work when the package version is different between the server and your local environment.\n",
      "The version of package 'snowflake-snowpark-python' in the local environment is 1.20.0, which does not fit the criteria for the requirement 'snowflake-snowpark-python'. Your UDF might not work when the package version is different between the server and your local environment.\n"
     ]
    },
    {
     "name": "stdout",
     "output_type": "stream",
     "text": [
      "Calculating build time metrics\n",
      "\n",
      "Progress: ████████████████████████████████████████████████████████               80.0%\n",
      "Calculating build time metrics\n",
      "\n",
      "Progress: ██████████████████████████████████████████████████████████████████████ 100.0%\n"
     ]
    },
    {
     "data": {
      "text/plain": [
       "\"Model 'MODEL_FD0CF79C_8118_43A7_8F0B_059E8F78227A_FDC_PLANT_GROWTH_DATASET' registered successfully.\""
      ]
     },
     "execution_count": 20,
     "metadata": {},
     "output_type": "execute_result"
    }
   ],
   "source": [
    "from fosforml import register_model\n",
    "\n",
    "register_model(\n",
    "  model_obj=model,\n",
    "  session=my_session,\n",
    "  x_train=x_train,\n",
    "  y_train=y_train,\n",
    "  x_test=x_test,\n",
    "  y_test=y_test,\n",
    "  y_pred=y_pred,\n",
    "  source=\"Notebook\",\n",
    "  dataset_name=\"PLANT_GROWTH_DATA\",\n",
    "  dataset_source=\"Snowflake\",\n",
    "  name=\"Plant_Growth_dataset\",\n",
    "  description=\"This is a Model for the plant growth\",\n",
    "  flavour=\"sklearn\",\n",
    "  model_type=\"classification\",\n",
    "  conda_dependencies=[\"scikit-learn==1.3.2\"]\n",
    ")"
   ]
  },
  {
   "cell_type": "code",
   "execution_count": null,
   "id": "f65ddc82-4137-4dac-b23a-8fe2e24c8168",
   "metadata": {},
   "outputs": [],
   "source": []
  }
 ],
 "metadata": {
  "kernelspec": {
   "display_name": "Python 3",
   "language": "python",
   "name": "python3"
  },
  "language_info": {
   "codemirror_mode": {
    "name": "ipython",
    "version": 3
   },
   "file_extension": ".py",
   "mimetype": "text/x-python",
   "name": "python",
   "nbconvert_exporter": "python",
   "pygments_lexer": "ipython3",
   "version": "3.10.13"
  }
 },
 "nbformat": 4,
 "nbformat_minor": 5
}
