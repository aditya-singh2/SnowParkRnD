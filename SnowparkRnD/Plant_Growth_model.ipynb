{
 "cells": [
  {
   "cell_type": "code",
   "execution_count": 1,
   "id": "bb42b68c-7000-4884-9c45-1cccfc950b32",
   "metadata": {},
   "outputs": [],
   "source": [
    "from fosforml.model_manager.snowflakesession import get_session\n",
    "my_session = get_session()"
   ]
  },
  {
   "cell_type": "code",
   "execution_count": 2,
   "id": "551a16d2-fe0d-4283-9eb5-cb05e2ed5e0e",
   "metadata": {},
   "outputs": [],
   "source": [
    "sf_df = my_session.sql(\"select * from PLANT_GROWTH_DATA\")\n",
    "pandas_df = sf_df.to_pandas()"
   ]
  },
  {
   "cell_type": "code",
   "execution_count": 3,
   "id": "b3e83269-3572-430f-93af-70931131ee0d",
   "metadata": {},
   "outputs": [],
   "source": [
    "from sklearn.model_selection import train_test_split\n",
    "\n",
    "x_train, x_test = train_test_split(pandas_df, test_size=0.2)"
   ]
  },
  {
   "cell_type": "code",
   "execution_count": 4,
   "id": "899e0cb1-d239-40a5-a3f8-925e248a70fe",
   "metadata": {},
   "outputs": [
    {
     "data": {
      "text/plain": [
       "42     1\n",
       "78     1\n",
       "37     1\n",
       "18     1\n",
       "71     1\n",
       "      ..\n",
       "135    1\n",
       "121    1\n",
       "85     0\n",
       "10     0\n",
       "158    0\n",
       "Name: GROWTH_MILESTONE, Length: 154, dtype: int8"
      ]
     },
     "execution_count": 4,
     "metadata": {},
     "output_type": "execute_result"
    }
   ],
   "source": [
    "y_train = x_train['GROWTH_MILESTONE']\n",
    "x_train = x_train.drop('GROWTH_MILESTONE',axis=1)\n",
    "y_train"
   ]
  },
  {
   "cell_type": "code",
   "execution_count": 5,
   "id": "8a34b129-c808-428d-8fa9-26a7380fd390",
   "metadata": {},
   "outputs": [
    {
     "data": {
      "text/plain": [
       "12     1\n",
       "13     1\n",
       "117    1\n",
       "1      1\n",
       "28     1\n",
       "180    0\n",
       "100    1\n",
       "164    0\n",
       "65     1\n",
       "25     0\n",
       "141    1\n",
       "47     1\n",
       "75     0\n",
       "62     0\n",
       "152    0\n",
       "120    0\n",
       "103    0\n",
       "171    1\n",
       "188    0\n",
       "187    1\n",
       "106    1\n",
       "79     1\n",
       "166    0\n",
       "81     1\n",
       "68     0\n",
       "2      0\n",
       "84     0\n",
       "54     0\n",
       "184    0\n",
       "77     1\n",
       "128    0\n",
       "123    1\n",
       "88     0\n",
       "133    1\n",
       "167    1\n",
       "69     1\n",
       "22     0\n",
       "130    0\n",
       "163    1\n",
       "Name: GROWTH_MILESTONE, dtype: int8"
      ]
     },
     "execution_count": 5,
     "metadata": {},
     "output_type": "execute_result"
    }
   ],
   "source": [
    "y_test = x_test['GROWTH_MILESTONE']\n",
    "x_test = x_test.drop('GROWTH_MILESTONE',axis=1)\n",
    "y_test"
   ]
  },
  {
   "cell_type": "code",
   "execution_count": 22,
   "id": "c6b35263-8808-4103-b1ac-0d686e6e06b3",
   "metadata": {},
   "outputs": [
    {
     "data": {
      "text/html": [
       "<div>\n",
       "<style scoped>\n",
       "    .dataframe tbody tr th:only-of-type {\n",
       "        vertical-align: middle;\n",
       "    }\n",
       "\n",
       "    .dataframe tbody tr th {\n",
       "        vertical-align: top;\n",
       "    }\n",
       "\n",
       "    .dataframe thead th {\n",
       "        text-align: right;\n",
       "    }\n",
       "</style>\n",
       "<table border=\"1\" class=\"dataframe\">\n",
       "  <thead>\n",
       "    <tr style=\"text-align: right;\">\n",
       "      <th></th>\n",
       "      <th>SOIL_TYPE</th>\n",
       "      <th>SUNLIGHT_HOURS</th>\n",
       "      <th>WATER_FREQUENCY</th>\n",
       "      <th>FERTILIZER_TYPE</th>\n",
       "      <th>TEMPERATURE</th>\n",
       "      <th>HUMIDITY</th>\n",
       "    </tr>\n",
       "  </thead>\n",
       "  <tbody>\n",
       "    <tr>\n",
       "      <th>42</th>\n",
       "      <td>1</td>\n",
       "      <td>8.848722</td>\n",
       "      <td>0</td>\n",
       "      <td>2</td>\n",
       "      <td>15.530226</td>\n",
       "      <td>30.567682</td>\n",
       "    </tr>\n",
       "    <tr>\n",
       "      <th>78</th>\n",
       "      <td>1</td>\n",
       "      <td>5.671879</td>\n",
       "      <td>2</td>\n",
       "      <td>1</td>\n",
       "      <td>22.440362</td>\n",
       "      <td>43.869059</td>\n",
       "    </tr>\n",
       "    <tr>\n",
       "      <th>37</th>\n",
       "      <td>1</td>\n",
       "      <td>5.372789</td>\n",
       "      <td>1</td>\n",
       "      <td>1</td>\n",
       "      <td>32.129797</td>\n",
       "      <td>57.920212</td>\n",
       "    </tr>\n",
       "    <tr>\n",
       "      <th>18</th>\n",
       "      <td>0</td>\n",
       "      <td>6.833290</td>\n",
       "      <td>2</td>\n",
       "      <td>0</td>\n",
       "      <td>15.287870</td>\n",
       "      <td>60.910903</td>\n",
       "    </tr>\n",
       "    <tr>\n",
       "      <th>71</th>\n",
       "      <td>0</td>\n",
       "      <td>6.983491</td>\n",
       "      <td>2</td>\n",
       "      <td>1</td>\n",
       "      <td>31.069619</td>\n",
       "      <td>75.057901</td>\n",
       "    </tr>\n",
       "    <tr>\n",
       "      <th>...</th>\n",
       "      <td>...</td>\n",
       "      <td>...</td>\n",
       "      <td>...</td>\n",
       "      <td>...</td>\n",
       "      <td>...</td>\n",
       "      <td>...</td>\n",
       "    </tr>\n",
       "    <tr>\n",
       "      <th>135</th>\n",
       "      <td>0</td>\n",
       "      <td>8.512000</td>\n",
       "      <td>0</td>\n",
       "      <td>0</td>\n",
       "      <td>21.400000</td>\n",
       "      <td>69.300000</td>\n",
       "    </tr>\n",
       "    <tr>\n",
       "      <th>121</th>\n",
       "      <td>1</td>\n",
       "      <td>7.456000</td>\n",
       "      <td>0</td>\n",
       "      <td>1</td>\n",
       "      <td>24.600000</td>\n",
       "      <td>55.900000</td>\n",
       "    </tr>\n",
       "    <tr>\n",
       "      <th>85</th>\n",
       "      <td>0</td>\n",
       "      <td>8.032813</td>\n",
       "      <td>1</td>\n",
       "      <td>2</td>\n",
       "      <td>30.090857</td>\n",
       "      <td>79.310537</td>\n",
       "    </tr>\n",
       "    <tr>\n",
       "      <th>10</th>\n",
       "      <td>1</td>\n",
       "      <td>7.739789</td>\n",
       "      <td>1</td>\n",
       "      <td>1</td>\n",
       "      <td>34.097306</td>\n",
       "      <td>32.877938</td>\n",
       "    </tr>\n",
       "    <tr>\n",
       "      <th>158</th>\n",
       "      <td>2</td>\n",
       "      <td>5.451000</td>\n",
       "      <td>1</td>\n",
       "      <td>1</td>\n",
       "      <td>31.300000</td>\n",
       "      <td>46.100000</td>\n",
       "    </tr>\n",
       "  </tbody>\n",
       "</table>\n",
       "<p>154 rows × 6 columns</p>\n",
       "</div>"
      ],
      "text/plain": [
       "     SOIL_TYPE  SUNLIGHT_HOURS  WATER_FREQUENCY  FERTILIZER_TYPE  TEMPERATURE  \\\n",
       "42           1        8.848722                0                2    15.530226   \n",
       "78           1        5.671879                2                1    22.440362   \n",
       "37           1        5.372789                1                1    32.129797   \n",
       "18           0        6.833290                2                0    15.287870   \n",
       "71           0        6.983491                2                1    31.069619   \n",
       "..         ...             ...              ...              ...          ...   \n",
       "135          0        8.512000                0                0    21.400000   \n",
       "121          1        7.456000                0                1    24.600000   \n",
       "85           0        8.032813                1                2    30.090857   \n",
       "10           1        7.739789                1                1    34.097306   \n",
       "158          2        5.451000                1                1    31.300000   \n",
       "\n",
       "      HUMIDITY  \n",
       "42   30.567682  \n",
       "78   43.869059  \n",
       "37   57.920212  \n",
       "18   60.910903  \n",
       "71   75.057901  \n",
       "..         ...  \n",
       "135  69.300000  \n",
       "121  55.900000  \n",
       "85   79.310537  \n",
       "10   32.877938  \n",
       "158  46.100000  \n",
       "\n",
       "[154 rows x 6 columns]"
      ]
     },
     "execution_count": 22,
     "metadata": {},
     "output_type": "execute_result"
    }
   ],
   "source": [
    "from sklearn.preprocessing import LabelEncoder\n",
    "le = LabelEncoder()\n",
    "string_columns = x_train.select_dtypes(include=['object']).columns\n",
    "# Encoding each specified column\n",
    "for column in string_columns:\n",
    "    le = LabelEncoder()\n",
    "    x_train[column] = le.fit_transform(x_train[column])\n",
    "x_train"
   ]
  },
  {
   "cell_type": "code",
   "execution_count": 28,
   "id": "941cd20c-0973-4bd1-95b7-a16051daca8f",
   "metadata": {},
   "outputs": [
    {
     "data": {
      "text/plain": [
       "100.0"
      ]
     },
     "execution_count": 28,
     "metadata": {},
     "output_type": "execute_result"
    }
   ],
   "source": [
    "from sklearn.tree import DecisionTreeClassifier\n",
    "model = DecisionTreeClassifier(random_state=42)\n",
    "model.fit(x_train, y_train)\n",
    "model.score(x_train,y_train)*100\n",
    "# model.score(x_test,y_test)*100"
   ]
  },
  {
   "cell_type": "code",
   "execution_count": 39,
   "id": "574105b1-e121-47f6-9127-b10da25ccfbd",
   "metadata": {},
   "outputs": [],
   "source": [
    "x_test = label_encoding_function(x_test)\n",
    "y_pred =model.predict(x_test)"
   ]
  },
  {
   "cell_type": "code",
   "execution_count": 56,
   "id": "24e1d8c6-7e39-4b5d-bb84-0d4ac60a178f",
   "metadata": {},
   "outputs": [
    {
     "name": "stdout",
     "output_type": "stream",
     "text": [
      "Error in while calculating confusion_matrix  list index out of range\n",
      "Calculating build time metrics\n",
      "\n",
      "Progress: ██████████████                                                         20.0%\n",
      "Calculating build time metrics\n",
      "\n",
      "Progress: ████████████████████████████                                           40.0%\n",
      "(1300) (1304): 01b5bf88-0002-a40f-0033-ac8700a60292: 001003 (42000): SQL compilation error:\n",
      "syntax error line 1 at position 15 unexpected ','.\n",
      "syntax error line 1 at position 14 unexpected '('.\n",
      "(0000) The input of select() cannot be empty\n",
      "(0000) The input of select() cannot be empty\n",
      "(0000) The input of select() cannot be empty\n"
     ]
    },
    {
     "name": "stderr",
     "output_type": "stream",
     "text": [
      "WARNING:snowflake.snowpark.session:The version of package 'scikit-learn' in the local environment is 1.3.2, which does not fit the criteria for the requirement 'scikit-learn<1.4'. Your UDF might not work when the package version is different between the server and your local environment.\n"
     ]
    },
    {
     "name": "stdout",
     "output_type": "stream",
     "text": [
      "(1300) (1304): 01b5bf88-0002-a5b2-0033-ac8700a54f42: 100357 (P0000): Python Interpreter Error:\n",
      "Traceback (most recent call last):\n",
      "  File \"/opt/conda/lib/python3.9/site-packages/snowflake/ml/modeling/metrics/classification.py\", line 662, in end_partition\n",
      "  File \"/usr/lib/python_udf/377e00d9b9ac0c9078d09d2432ad7113c7868fb82a0f8710e28f6fc4a77378db/lib/python3.9/site-packages/sklearn/utils/_param_validation.py\", line 211, in wrapper\n",
      "    return func(*args, **kwargs)\n",
      "  File \"/usr/lib/python_udf/377e00d9b9ac0c9078d09d2432ad7113c7868fb82a0f8710e28f6fc4a77378db/lib/python3.9/site-packages/sklearn/metrics/_classification.py\", line 2838, in log_loss\n",
      "    y_pred = check_array(\n",
      "  File \"/usr/lib/python_udf/377e00d9b9ac0c9078d09d2432ad7113c7868fb82a0f8710e28f6fc4a77378db/lib/python3.9/site-packages/sklearn/utils/validation.py\", line 978, in check_array\n",
      "    raise ValueError(\n",
      "ValueError: Found array with 0 feature(s) (shape=(39, 0)) while a minimum of 1 is required.\n",
      " in function SNOWPARK_TEMP_TABLE_FUNCTION_CHYOCW65TS with handler compute\n",
      "Calculating build time metrics\n",
      "\n",
      "Progress: ██████████████████████████████████████████                             60.0%\n",
      "Error in while calculating roc_auc  (0000) The input of select() cannot be empty\n",
      "Calculating build time metrics\n",
      "\n",
      "Progress: ████████████████████████████████████████████████████████               80.0%\n",
      "Calculating build time metrics\n",
      "\n",
      "Progress: ██████████████████████████████████████████████████████████████████████ 100.0%\n",
      "Failed to set tags for model MODEL_D3F0D4F9_D4D0_4B78_BEA3_6D96A055F5DA_FDC_PLANT_GROWTH_DATASET.\n",
      "(1304): 01b5bf89-0002-a410-0033-ac8700a61542: 000002 (0A000): Unsupported feature 'TAG'.\n"
     ]
    },
    {
     "data": {
      "text/plain": [
       "\"Model 'MODEL_D3F0D4F9_D4D0_4B78_BEA3_6D96A055F5DA_FDC_PLANT_GROWTH_DATASET' registered successfully.\""
      ]
     },
     "execution_count": 56,
     "metadata": {},
     "output_type": "execute_result"
    }
   ],
   "source": [
    "from fosforml import register_model\n",
    "\n",
    "register_model(\n",
    "  model_obj=model,\n",
    "  session=my_session,\n",
    "  x_train=x_train,\n",
    "  y_train=y_train,\n",
    "  x_test=x_test,\n",
    "  y_test=y_test,\n",
    "  y_pred=y_pred,\n",
    "  source=\"Notebook\",\n",
    "  dataset_name=\"PLANT_GROWTH_DATA\",\n",
    "  dataset_source=\"Snowflake\",\n",
    "  name=\"Plant_Growth_dataset\",\n",
    "  description=\"This is a Model for the plant growth\",\n",
    "  flavour=\"sklearn\",\n",
    "  model_type=\"classification\",\n",
    "  conda_dependencies=[\"scikit-learn==1.3.2\"]\n",
    ")"
   ]
  },
  {
   "cell_type": "code",
   "execution_count": 33,
   "id": "6cf8f687-04d7-47d5-ac23-4f63035f41c6",
   "metadata": {},
   "outputs": [],
   "source": [
    "def label_encoding_function(x_train):\n",
    "    from sklearn.preprocessing import LabelEncoder\n",
    "    le = LabelEncoder()\n",
    "    string_columns = x_train.select_dtypes(include=['object']).columns\n",
    "# Encoding each specified column\n",
    "    for column in string_columns:\n",
    "        le = LabelEncoder()\n",
    "        x_train[column] = le.fit_transform(x_train[column])\n",
    "    return x_train"
   ]
  },
  {
   "cell_type": "code",
   "execution_count": 54,
   "id": "1a807fa9-dacd-4989-b77d-69359b349a8d",
   "metadata": {},
   "outputs": [
    {
     "data": {
      "text/plain": [
       "12     1\n",
       "13     1\n",
       "117    1\n",
       "1      1\n",
       "28     1\n",
       "180    0\n",
       "100    1\n",
       "164    0\n",
       "65     1\n",
       "25     0\n",
       "141    1\n",
       "47     1\n",
       "75     0\n",
       "62     0\n",
       "152    0\n",
       "120    0\n",
       "103    0\n",
       "171    1\n",
       "188    0\n",
       "187    1\n",
       "106    1\n",
       "79     1\n",
       "166    0\n",
       "81     1\n",
       "68     0\n",
       "2      0\n",
       "84     0\n",
       "54     0\n",
       "184    0\n",
       "77     1\n",
       "128    0\n",
       "123    1\n",
       "88     0\n",
       "133    1\n",
       "167    1\n",
       "69     1\n",
       "22     0\n",
       "130    0\n",
       "163    1\n",
       "Name: GROWTH_MILESTONE, dtype: int8"
      ]
     },
     "execution_count": 54,
     "metadata": {},
     "output_type": "execute_result"
    }
   ],
   "source": [
    "y_test"
   ]
  },
  {
   "cell_type": "code",
   "execution_count": null,
   "id": "f65ddc82-4137-4dac-b23a-8fe2e24c8168",
   "metadata": {},
   "outputs": [],
   "source": []
  }
 ],
 "metadata": {
  "kernelspec": {
   "display_name": "Python 3 (ipykernel)",
   "language": "python",
   "name": "python3"
  },
  "language_info": {
   "codemirror_mode": {
    "name": "ipython",
    "version": 3
   },
   "file_extension": ".py",
   "mimetype": "text/x-python",
   "name": "python",
   "nbconvert_exporter": "python",
   "pygments_lexer": "ipython3",
   "version": "3.9.19"
  }
 },
 "nbformat": 4,
 "nbformat_minor": 5
}
