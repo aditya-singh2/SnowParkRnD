{
 "cells": [
  {
   "cell_type": "code",
   "execution_count": 3,
   "id": "8a615090",
   "metadata": {},
   "outputs": [
    {
     "name": "stdout",
     "output_type": "stream",
     "text": [
      "Connection manager service url initialised to http://fdc-project-manager:80/project-manager\n",
      "If you need to update its value then update the variable CONNECTION_MANAGER_BASE_URL in os env.\n",
      "CPU times: user 1.59 s, sys: 903 ms, total: 2.49 s\n",
      "Wall time: 9.69 s\n"
     ]
    }
   ],
   "source": [
    "%%time\n",
    "from fosforio.manager import get_conn_details_from_ds_name\n",
    "from snowflake.snowpark.session import Session\n",
    "from snowflake.ml.registry import Registry\n",
    "import pandas as pd"
   ]
  },
  {
   "cell_type": "code",
   "execution_count": 4,
   "id": "7e19aebb",
   "metadata": {},
   "outputs": [],
   "source": [
    "import requests\n",
    "exp_id=\"aaaawwwwweeeer\"\n",
    "project_id=\"fd0cf79c-8118-43a7-8f0b-059e8f78227a\"\n",
    "executions_url = f\"http://monitor-backend-service/monitor/api/v4/executions/search?objectId={exp_id}&projectId={project_id}&jobType=EXPERIMENT&profile=DETAILED\"\n",
    "\n",
    "temp_head = {\n",
    "    \"X-Auth-Userid\": \"aditya1.singh2@fosfor.com\",\n",
    "    \"X-Auth-Username\": \"aditya1.singh2@fosfor.com\",\n",
    "    \"X-Auth-Email\": \"aditya1.singh2@fosfor.com\",\n",
    "    \"X-Project-Id\": \"fd0cf79c-8118-43a7-8f0b-059e8f78227a\"\n",
    "}"
   ]
  },
  {
   "cell_type": "code",
   "execution_count": 5,
   "id": "86b7c456",
   "metadata": {},
   "outputs": [
    {
     "name": "stdout",
     "output_type": "stream",
     "text": [
      "{\"totalRecordCount\":32,\"data\":[{\"jobinstanceId\":109574,\"objectId\":\"aaaawwwwweeeer\",\"projectId\":\"fd0cf79c-8118-43a7-8f0b-059e8f78227a\",\"projectName\":null,\"jobObjectName\":\"exp_001\",\"jobScheduleId\":null,\"jobInstanceInputParameter\":\"{}\",\"jobType\":\"EXPERIMENT\",\"jobStatus\":\"DIDNOTRUN\",\"finalStatus\":\"DIDNOTRUN\",\"jobCreatedby\":\"aditya1.singh2@fosfor.com\",\"jobCreatedts\":\"2024-07-09T09:07:50.960+00:00\",\"jobUpdatedby\":\"aditya1.singh2@fosfor.com\",\"jobUpdatedts\":\"2024-07-09T09:07:50.960+00:00\",\"applicationId\":\"\",\"executionId\":null,\"runID\":\"109574\",\"versionNumber\":null,\"runEngine\":\"SNOWFLAKE\",\"attemptId\":109678,\"workflowId\":null,\"jobConfig\":\"{\\\"snowflake_query\\\": CALL experiment_stored_proc('{\\\"monitor_run_id\\\": \\\"MONITORRUNID\\\", \\\"experiment_id\\\": \\\"aaaawwwwweeeer\\\", \\\"experiment_name\\\": \\\"exp_001\\\", \\\"stored_procedure\\\": \\\"run_experiment\\\", \\\"algorithm_category\\\": \\\"Snowparkml\\\", \\\"algorithm_type\\\": \\\"Classification\\\", \\\"dataset_name\\\": \\\"diamonds_dataset\\\", \\\"target_column\\\": \\\"quality\\\", \\\"algorithms\\\": [{\\\"algorithm_name\\\": \\\"snowflake.ml.modeling.ensemble.RandomForestRegressor\\\"}]}');, \\\"algorithm\\\": algo.get(\\\"algorithm_name\\\")}\"},{\"jobinstanceId\":109579,\"objectId\":\"aaaawwwwweeeer\",\"projectId\":\"fd0cf79c-8118-43a7-8f0b-059e8f78227a\",\"projectName\":null,\"jobObjectName\":\"exp_001\",\"jobScheduleId\":null,\"jobInstanceInputParameter\":\"{}\",\"jobType\":\"EXPERIMENT\",\"jobStatus\":\"DIDNOTRUN\",\"finalStatus\":\"DIDNOTRUN\",\"jobCreatedby\":\"aditya1.singh2@fosfor.com\",\"jobCreatedts\":\"2024-07-09T09:20:18.621+00:00\",\"jobUpdatedby\":\"aditya1.singh2@fosfor.com\",\"jobUpdatedts\":\"2024-07-09T09:20:18.621+00:00\",\"applicationId\":\"\",\"executionId\":null,\"runID\":\"109579\",\"versionNumber\":null,\"runEngine\":\"SNOWFLAKE\",\"attemptId\":109683,\"workflowId\":null,\"jobConfig\":\"{\\\"snowflake_query\\\": CALL experiment_stored_proc('{\\\"monitor_run_id\\\": \\\"MONITORRUNID\\\", \\\"experiment_id\\\": \\\"aaaawwwwweeeer\\\", \\\"experiment_name\\\": \\\"exp_001\\\", \\\"stored_procedure\\\": \\\"run_experiment\\\", \\\"algorithm_category\\\": \\\"Snowparkml\\\", \\\"algorithm_type\\\": \\\"Classification\\\", \\\"dataset_name\\\": \\\"diamonds_dataset\\\", \\\"target_column\\\": \\\"quality\\\", \\\"algorithms\\\": [{\\\"algorithm_name\\\": \\\"snowflake.ml.modeling.ensemble.RandomForestRegressor\\\"}]}');, \\\"algorithm\\\": algo.get(\\\"algorithm_name\\\")}\"},{\"jobinstanceId\":109587,\"objectId\":\"aaaawwwwweeeer\",\"projectId\":\"fd0cf79c-8118-43a7-8f0b-059e8f78227a\",\"projectName\":null,\"jobObjectName\":\"exp_001\",\"jobScheduleId\":null,\"jobInstanceInputParameter\":\"{}\",\"jobType\":\"EXPERIMENT\",\"jobStatus\":\"DIDNOTRUN\",\"finalStatus\":\"DIDNOTRUN\",\"jobCreatedby\":\"aditya1.singh2@fosfor.com\",\"jobCreatedts\":\"2024-07-09T09:47:07.724+00:00\",\"jobUpdatedby\":\"aditya1.singh2@fosfor.com\",\"jobUpdatedts\":\"2024-07-09T09:47:07.724+00:00\",\"applicationId\":\"\",\"executionId\":null,\"runID\":\"109587\",\"versionNumber\":null,\"runEngine\":\"SNOWFLAKE\",\"attemptId\":109691,\"workflowId\":null,\"jobConfig\":\"{\\\"snowflake_query\\\": \\\"CALL experiment_stored_proc('{\\\"monitor_run_id\\\": \\\"MONITORRUNID\\\", \\\"experiment_id\\\": \\\"aaaawwwwweeeer\\\", \\\"experiment_name\\\": \\\"exp_001\\\", \\\"stored_procedure\\\": \\\"run_experiment\\\", \\\"algorithm_category\\\": \\\"Snowparkml\\\", \\\"algorithm_type\\\": \\\"Classification\\\", \\\"dataset_name\\\": \\\"diamonds_dataset\\\", \\\"target_column\\\": \\\"quality\\\", \\\"algorithms\\\": [{\\\"algorithm_name\\\": \\\"snowflake.ml.modeling.ensemble.RandomForestRegressor\\\"}]}');\\\", \\\"algorithm\\\": algo.get(\\\"algorithm_name\\\")}\"},{\"jobinstanceId\":109588,\"objectId\":\"aaaawwwwweeeer\",\"projectId\":\"fd0cf79c-8118-43a7-8f0b-059e8f78227a\",\"projectName\":null,\"jobObjectName\":\"exp_001\",\"jobScheduleId\":null,\"jobInstanceInputParameter\":\"{}\",\"jobType\":\"EXPERIMENT\",\"jobStatus\":\"DIDNOTRUN\",\"finalStatus\":\"DIDNOTRUN\",\"jobCreatedby\":\"aditya1.singh2@fosfor.com\",\"jobCreatedts\":\"2024-07-09T09:49:02.660+00:00\",\"jobUpdatedby\":\"aditya1.singh2@fosfor.com\",\"jobUpdatedts\":\"2024-07-09T09:49:02.660+00:00\",\"applicationId\":\"\",\"executionId\":null,\"runID\":\"109588\",\"versionNumber\":null,\"runEngine\":\"SNOWFLAKE\",\"attemptId\":109692,\"workflowId\":null,\"jobConfig\":\"{\\\"snowflake_query\\\": \\\"CALL experiment_stored_proc('{\\\"monitor_run_id\\\": \\\"MONITORRUNID\\\", \\\"experiment_id\\\": \\\"aaaawwwwweeeer\\\", \\\"experiment_name\\\": \\\"exp_001\\\", \\\"stored_procedure\\\": \\\"run_experiment\\\", \\\"algorithm_category\\\": \\\"Snowparkml\\\", \\\"algorithm_type\\\": \\\"Classification\\\", \\\"dataset_name\\\": \\\"diamonds_dataset\\\", \\\"target_column\\\": \\\"quality\\\", \\\"algorithms\\\": [{\\\"algorithm_name\\\": \\\"snowflake.ml.modeling.ensemble.RandomForestRegressor\\\"}]}');\\\", \\\"algorithm\\\": \\\"snowflake.ml.modeling.ensemble.RandomForestRegressor\\\"}\"},{\"jobinstanceId\":109590,\"objectId\":\"aaaawwwwweeeer\",\"projectId\":\"fd0cf79c-8118-43a7-8f0b-059e8f78227a\",\"projectName\":null,\"jobObjectName\":\"exp_001\",\"jobScheduleId\":null,\"jobInstanceInputParameter\":\"{\\\"input_params\\\":\\\"{\\\\\\\"currentTime\\\\\\\":\\\\\\\"2024-07-09T09:51:40Z\\\\\\\",\\\\\\\"objectName\\\\\\\":\\\\\\\"exp_001\\\\\\\",\\\\\\\"lastRunDate\\\\\\\":\\\\\\\"\\\\\\\",\\\\\\\"instanceId\\\\\\\":\\\\\\\"109590\\\\\\\",\\\\\\\"lastSuccessfulRunDate\\\\\\\":\\\\\\\"\\\\\\\",\\\\\\\"userId\\\\\\\":\\\\\\\"aditya1.singh2@fosfor.com\\\\\\\"}\\\"}\",\"jobType\":\"EXPERIMENT\",\"jobStatus\":\"FAILED\",\"finalStatus\":\"FAILED\",\"jobCreatedby\":\"aditya1.singh2@fosfor.com\",\"jobCreatedts\":\"2024-07-09T09:51:40.347+00:00\",\"jobUpdatedby\":\"aditya1.singh2@fosfor.com\",\"jobUpdatedts\":\"2024-07-09T09:51:43.027+00:00\",\"applicationId\":\"\",\"executionId\":null,\"runID\":\"109590\",\"versionNumber\":null,\"runEngine\":\"SNOWFLAKE\",\"attemptId\":109694,\"workflowId\":null,\"jobConfig\":\"{\\\"snowflake_query\\\": \\\"CALL experiment_stored_proc('{'monitor_run_id': 'MONITORRUNID', 'experiment_id': 'aaaawwwwweeeer', 'experiment_name': 'exp_001', 'stored_procedure': 'run_experiment', 'algorithm_category': 'Snowparkml', 'algorithm_type': 'Classification', 'dataset_name': 'diamonds_dataset', 'target_column': 'quality', 'algorithms': [{'algorithm_name': 'snowflake.ml.modeling.ensemble.RandomForestRegressor'}]}');\\\", \\\"algorithm\\\": \\\"snowflake.ml.modeling.ensemble.RandomForestRegressor\\\"}\"},{\"jobinstanceId\":109593,\"objectId\":\"aaaawwwwweeeer\",\"projectId\":\"fd0cf79c-8118-43a7-8f0b-059e8f78227a\",\"projectName\":null,\"jobObjectName\":\"exp_001\",\"jobScheduleId\":null,\"jobInstanceInputParameter\":\"{\\\"input_params\\\":\\\"{\\\\\\\"currentTime\\\\\\\":\\\\\\\"2024-07-09T09:57:54Z\\\\\\\",\\\\\\\"objectName\\\\\\\":\\\\\\\"exp_001\\\\\\\",\\\\\\\"lastRunDate\\\\\\\":\\\\\\\"2024-07-09T09:51:40Z\\\\\\\",\\\\\\\"instanceId\\\\\\\":\\\\\\\"109593\\\\\\\",\\\\\\\"lastSuccessfulRunDate\\\\\\\":\\\\\\\"\\\\\\\",\\\\\\\"userId\\\\\\\":\\\\\\\"aditya1.singh2@fosfor.com\\\\\\\"}\\\"}\",\"jobType\":\"EXPERIMENT\",\"jobStatus\":\"FAILED\",\"finalStatus\":\"FAILED\",\"jobCreatedby\":\"aditya1.singh2@fosfor.com\",\"jobCreatedts\":\"2024-07-09T09:57:54.589+00:00\",\"jobUpdatedby\":\"aditya1.singh2@fosfor.com\",\"jobUpdatedts\":\"2024-07-09T09:57:55.285+00:00\",\"applicationId\":\"\",\"executionId\":null,\"runID\":\"109593\",\"versionNumber\":null,\"runEngine\":\"SNOWFLAKE\",\"attemptId\":109697,\"workflowId\":null,\"jobConfig\":\"{\\\"snowflake_query\\\": \\\"CALL experiment_stored_proc('{'monitor_run_id': 'MONITORRUNID', 'experiment_id': 'aaaawwwwweeeer', 'experiment_name': 'exp_001', 'stored_procedure': 'run_experiment', 'algorithm_category': 'Snowparkml', 'algorithm_type': 'Classification', 'dataset_name': 'diamonds_dataset', 'target_column': 'quality', 'algorithms': [{'algorithm_name': 'snowflake.ml.modeling.ensemble.RandomForestRegressor'}]}');\\\", \\\"algorithm\\\": \\\"snowflake.ml.modeling.ensemble.RandomForestRegressor\\\"}\"},{\"jobinstanceId\":109594,\"objectId\":\"aaaawwwwweeeer\",\"projectId\":\"fd0cf79c-8118-43a7-8f0b-059e8f78227a\",\"projectName\":null,\"jobObjectName\":\"exp_001\",\"jobScheduleId\":null,\"jobInstanceInputParameter\":\"{\\\"input_params\\\":\\\"{\\\\\\\"currentTime\\\\\\\":\\\\\\\"2024-07-09T09:58:02Z\\\\\\\",\\\\\\\"objectName\\\\\\\":\\\\\\\"exp_001\\\\\\\",\\\\\\\"lastRunDate\\\\\\\":\\\\\\\"2024-07-09T09:57:54Z\\\\\\\",\\\\\\\"instanceId\\\\\\\":\\\\\\\"109594\\\\\\\",\\\\\\\"lastSuccessfulRunDate\\\\\\\":\\\\\\\"\\\\\\\",\\\\\\\"userId\\\\\\\":\\\\\\\"aditya1.singh2@fosfor.com\\\\\\\"}\\\"}\",\"jobType\":\"EXPERIMENT\",\"jobStatus\":\"FAILED\",\"finalStatus\":\"FAILED\",\"jobCreatedby\":\"aditya1.singh2@fosfor.com\",\"jobCreatedts\":\"2024-07-09T09:58:02.296+00:00\",\"jobUpdatedby\":\"aditya1.singh2@fosfor.com\",\"jobUpdatedts\":\"2024-07-09T09:58:03.080+00:00\",\"applicationId\":\"\",\"executionId\":null,\"runID\":\"109594\",\"versionNumber\":null,\"runEngine\":\"SNOWFLAKE\",\"attemptId\":109698,\"workflowId\":null,\"jobConfig\":\"{\\\"snowflake_query\\\": \\\"CALL experiment_stored_proc('{'monitor_run_id': 'MONITORRUNID', 'experiment_id': 'aaaawwwwweeeer', 'experiment_name': 'exp_001', 'stored_procedure': 'run_experiment', 'algorithm_category': 'Snowparkml', 'algorithm_type': 'Classification', 'dataset_name': 'diamonds_dataset', 'target_column': 'quality', 'algorithms': [{'algorithm_name': 'snowflake.ml.modeling.ensemble.RandomForestRegressor'}]}');\\\", \\\"algorithm\\\": \\\"snowflake.ml.modeling.ensemble.RandomForestRegressor\\\"}\"},{\"jobinstanceId\":109739,\"objectId\":\"aaaawwwwweeeer\",\"projectId\":\"fd0cf79c-8118-43a7-8f0b-059e8f78227a\",\"projectName\":null,\"jobObjectName\":\"exp_001\",\"jobScheduleId\":null,\"jobInstanceInputParameter\":\"{}\",\"jobType\":\"EXPERIMENT\",\"jobStatus\":\"DIDNOTRUN\",\"finalStatus\":\"DIDNOTRUN\",\"jobCreatedby\":\"aditya1.singh2@fosfor.com\",\"jobCreatedts\":\"2024-07-09T18:49:50.514+00:00\",\"jobUpdatedby\":\"aditya1.singh2@fosfor.com\",\"jobUpdatedts\":\"2024-07-09T18:49:50.514+00:00\",\"applicationId\":\"\",\"executionId\":null,\"runID\":\"109739\",\"versionNumber\":null,\"runEngine\":\"SNOWFLAKE\",\"attemptId\":109843,\"workflowId\":null,\"jobConfig\":\"{\\\"snowflake_query\\\": \\\"CALL experiment_stored_proc('{\\\"monitor_run_id\\\": \\\"MONITORRUNID\\\", \\\"experiment_id\\\": \\\"aaaawwwwweeeer\\\", \\\"experiment_name\\\": \\\"exp_001\\\", \\\"stored_procedure\\\": \\\"run_experiment\\\", \\\"algorithm_category\\\": \\\"Snowparkml\\\", \\\"algorithm_type\\\": \\\"Classification\\\", \\\"dataset_name\\\": \\\"diamonds_dataset\\\", \\\"target_column\\\": \\\"quality\\\", \\\"algorithms\\\": [{\\\"algorithm_name\\\": \\\"snowflake.ml.modeling.ensemble.RandomForestRegressor\\\"}]}');\\\", \\\"algorithm\\\": \\\"snowflake.ml.modeling.ensemble.RandomForestRegressor\\\"}\"},{\"jobinstanceId\":109740,\"objectId\":\"aaaawwwwweeeer\",\"projectId\":\"fd0cf79c-8118-43a7-8f0b-059e8f78227a\",\"projectName\":null,\"jobObjectName\":\"exp_001\",\"jobScheduleId\":null,\"jobInstanceInputParameter\":\"{}\",\"jobType\":\"EXPERIMENT\",\"jobStatus\":\"DIDNOTRUN\",\"finalStatus\":\"DIDNOTRUN\",\"jobCreatedby\":\"aditya1.singh2@fosfor.com\",\"jobCreatedts\":\"2024-07-09T18:51:53.752+00:00\",\"jobUpdatedby\":\"aditya1.singh2@fosfor.com\",\"jobUpdatedts\":\"2024-07-09T18:51:53.752+00:00\",\"applicationId\":\"\",\"executionId\":null,\"runID\":\"109740\",\"versionNumber\":null,\"runEngine\":\"SNOWFLAKE\",\"attemptId\":109844,\"workflowId\":null,\"jobConfig\":\"{\\\"snowflake_query\\\": \\\"CALL experiment_stored_proc('{\\\"monitor_run_id\\\": \\\"MONITORRUNID\\\", \\\"experiment_id\\\": \\\"aaaawwwwweeeer\\\", \\\"experiment_name\\\": \\\"exp_001\\\", \\\"stored_procedure\\\": \\\"run_experiment\\\", \\\"algorithm_category\\\": \\\"Snowparkml\\\", \\\"algorithm_type\\\": \\\"Classification\\\", \\\"dataset_name\\\": \\\"diamonds_dataset\\\", \\\"target_column\\\": \\\"quality\\\", \\\"algorithms\\\": [{\\\"algorithm_name\\\": \\\"snowflake.ml.modeling.ensemble.RandomForestRegressor\\\"}]}');\\\", \\\"algorithm\\\": \\\"snowflake.ml.modeling.ensemble.RandomForestRegressor\\\"}\"},{\"jobinstanceId\":109741,\"objectId\":\"aaaawwwwweeeer\",\"projectId\":\"fd0cf79c-8118-43a7-8f0b-059e8f78227a\",\"projectName\":null,\"jobObjectName\":\"exp_001\",\"jobScheduleId\":null,\"jobInstanceInputParameter\":\"{}\",\"jobType\":\"EXPERIMENT\",\"jobStatus\":\"DIDNOTRUN\",\"finalStatus\":\"DIDNOTRUN\",\"jobCreatedby\":\"aditya1.singh2@fosfor.com\",\"jobCreatedts\":\"2024-07-09T18:53:06.244+00:00\",\"jobUpdatedby\":\"aditya1.singh2@fosfor.com\",\"jobUpdatedts\":\"2024-07-09T18:53:06.244+00:00\",\"applicationId\":\"\",\"executionId\":null,\"runID\":\"109741\",\"versionNumber\":null,\"runEngine\":\"SNOWFLAKE\",\"attemptId\":109845,\"workflowId\":null,\"jobConfig\":\"{\\\"snowflake_query\\\": \\\"CALL experiment_stored_proc(\\\\'{\\\"monitor_run_id\\\": \\\"MONITORRUNID\\\", \\\"experiment_id\\\": \\\"aaaawwwwweeeer\\\", \\\"experiment_name\\\": \\\"exp_001\\\", \\\"stored_procedure\\\": \\\"run_experiment\\\", \\\"algorithm_category\\\": \\\"Snowparkml\\\", \\\"algorithm_type\\\": \\\"Classification\\\", \\\"dataset_name\\\": \\\"diamonds_dataset\\\", \\\"target_column\\\": \\\"quality\\\", \\\"algorithms\\\": [{\\\"algorithm_name\\\": \\\"snowflake.ml.modeling.ensemble.RandomForestRegressor\\\"}]}\\\\');\\\", \\\"algorithm\\\": \\\"snowflake.ml.modeling.ensemble.RandomForestRegressor\\\"}\"}],\"jobTypesList\":null,\"executedByList\":null,\"projectList\":null}\n"
     ]
    }
   ],
   "source": [
    "response = requests.get(executions_url, headers=temp_head)\n",
    "print(response.text)"
   ]
  },
  {
   "cell_type": "code",
   "execution_count": 2,
   "id": "394ab096",
   "metadata": {},
   "outputs": [],
   "source": []
  },
  {
   "cell_type": "code",
   "execution_count": 4,
   "id": "cbaf3f16",
   "metadata": {},
   "outputs": [
    {
     "name": "stdout",
     "output_type": "stream",
     "text": [
      "{'data': [{'run_id': 'RUN_0001', 'algorithm_used': 'XGBClassifier', 'status': 'Successful', 'model_metrics': '{\\n  \"algo_details\": {\\n    \"snowflake.ml.modeling.xgboost.XGBClassifier\": null\\n  },\\n  \"algorithm_type\": \"classification\",\\n  \"dataset\": \"AIRLINE_DEP_DELAY_10K\",\\n  \"exp_name\": \"Final_recipe\",\\n  \"id\": \"7bbb5061-54d4-4862-8d47-7fbee388a4d1\",\\n  \"model_metrics\": {\\n    \"accuracy_score\": 0.803922,\\n    \"f1_score\": 0.23076923076923075,\\n    \"log_loss\": 7.0706121046545105,\\n    \"precision_score\": 0.4878048780487805,\\n    \"recall_score\": 0.15113350125944586,\\n    \"roc_auc\": 0.5563945047380613\\n  },\\n  \"project_id\": \"0e0fb803-22db-4d88-9f2f-f6f75b6abcf0\",\\n  \"run_id\": \"6d0370b7-7aab-4394-884a-266bc284d07a\",\\n  \"source\": \"EXP\",\\n  \"target_column\": \"DEP_DEL15\"\\n}'}, {'run_id': 'RUN_0001_11', 'algorithm_used': 'DecisionTreeClassifier', 'status': 'Successful', 'model_metrics': '{\\n  \"algo_details\": {\\n    \"snowflake.ml.modeling.xgboost.XGBClassifier\": null\\n  },\\n  \"algorithm_type\": \"classification\",\\n  \"dataset\": \"AIRLINE_DEP_DELAY_10K\",\\n  \"exp_name\": \"Final_recipe\",\\n  \"id\": \"7bbb5061-54d4-4862-8d47-7fbee388a4d1\",\\n  \"model_metrics\": {\\n    \"accuracy_score\": 0.81652,\\n    \"f1_score\": 0.23076923076923075,\\n    \"log_loss\": 7.0706121046545105,\\n    \"precision_score\": 0.4878048780487805,\\n    \"recall_score\": 0.15113350125944586,\\n    \"roc_auc\": 0.5563945047380613\\n  },\\n  \"project_id\": \"0e0fb803-22db-4d88-9f2f-f6f75b6abcf0\",\\n  \"run_id\": \"266bc284d07a\",\\n  \"source\": \"EXP\",\\n  \"target_column\": \"DEP_DEL15\"\\n}'}, {'run_id': 'ef47a0a5', 'algorithm_used': 'GradientBoostingClassifier', 'status': 'Running', 'model_metrics': nan}, {'run_id': '26a15f9c', 'algorithm_used': 'RandomForestClassifier', 'status': 'Running', 'model_metrics': nan}]}\n",
      "CPU times: user 297 ms, sys: 32.4 ms, total: 330 ms\n",
      "Wall time: 4.63 s\n"
     ]
    }
   ],
   "source": [
    "%%time\n",
    "monitor_resp = [\n",
    "    {\n",
    "        \"run_id\": \"RUN_0001\",\n",
    "        \"algorithm_used\": \"XGBClassifier\",\n",
    "        \"status\": \"Successful\"\n",
    "    },\n",
    "    {\n",
    "        \"run_id\": \"RUN_0001_11\",\n",
    "        \"algorithm_used\": \"DecisionTreeClassifier\",\n",
    "        \"status\": \"Successful\"\n",
    "    },\n",
    "    {\n",
    "        \"run_id\": \"ef47a0a5\",\n",
    "        \"algorithm_used\": \"GradientBoostingClassifier\",\n",
    "        \"status\": \"Running\"\n",
    "    },\n",
    "    {\n",
    "        \"run_id\": \"26a15f9c\",\n",
    "        \"algorithm_used\": \"RandomForestClassifier\",\n",
    "        \"status\": \"Running\"\n",
    "    }\n",
    "]\n",
    "\n",
    "# monitor_resp = []\n",
    "def get_session(dataset, project_id):\n",
    "    \"\"\"\n",
    "    Method creates snowflake session object.\n",
    "    :return:\n",
    "    \"\"\"\n",
    "    try:\n",
    "        conn = get_conn_details_from_ds_name(dataset, project_id)\n",
    "        region=conn[\"params\"][\"READER\"][\"region\"] if conn[\"params\"][\"READER\"][\"cloudPlatform\"] is None \\\n",
    "                    else conn[\"params\"][\"READER\"][\"region\"]+\".\"+conn[\"params\"][\"READER\"][\"cloudPlatform\"]\n",
    "        account = conn['params']['READER']['accountId'] if region is None \\\n",
    "                    else conn['params']['READER']['accountId']+\".\"+region\n",
    "        CONNECTION_PARAMETERS = {\n",
    "            \"account\": account,\n",
    "            \"user\":conn['params']['READER']['user'],\n",
    "            \"password\": conn['params']['READER']['password'],\n",
    "            \"role\": conn['params']['READER']['role'],\n",
    "            \"database\": conn['params']['READER']['database'],\n",
    "            \"warehouse\": conn['params']['READER']['wareHouse'],\n",
    "            \"schema\": conn['params']['READER']['schema']\n",
    "        }\n",
    "        return Session.builder.configs(CONNECTION_PARAMETERS).create()\n",
    "    except Exception as ex:\n",
    "        print(\"Error while creating snowflake session\", ex)\n",
    "        raise ex\n",
    "        \n",
    "session = get_session(\"EMPLOYEE_10L\",\"fd0cf79c-8118-43a7-8f0b-059e8f78227a\") #,\"\")0e0fb803-22db-4d88-9f2f-f6f75b6abcf0\n",
    "query =\"SELECT METADATA:metrics as model_metrics, COMMENT as run_id FROM INFORMATION_SCHEMA.MODEL_VERSIONS where MODEL_NAME like '%EXP_001%';\"\n",
    "registry_resp = session.sql(query).to_pandas()\n",
    "registry_resp.rename(columns={'RUN_ID': 'run_id', \n",
    "                              'MODEL_METRICS': 'model_metrics'}, inplace=True)\n",
    "monitor_resp = pd.DataFrame(monitor_resp)\n",
    "final_resp = pd.merge(monitor_resp, registry_resp, on='run_id', how='left')\n",
    "print({'data': final_resp.to_dict(orient='records')})"
   ]
  },
  {
   "cell_type": "code",
   "execution_count": 8,
   "id": "4bedb568",
   "metadata": {},
   "outputs": [
    {
     "name": "stdout",
     "output_type": "stream",
     "text": [
      "NOT TRUE\n"
     ]
    }
   ],
   "source": [
    "monitor_resp=[]\n",
    "if monitor_resp:\n",
    "    print(\"TRUE\")\n",
    "else:\n",
    "    print(\"NOT TRUE\")"
   ]
  },
  {
   "cell_type": "code",
   "execution_count": 3,
   "id": "9c9dddd8",
   "metadata": {},
   "outputs": [
    {
     "name": "stdout",
     "output_type": "stream",
     "text": [
      "[{'run_id': '8042932c-101a-4ddc-a808-00c092797960', 'algorithm_used': 'XGBClassifier', 'status': 'Successful', 'model_metrics': {'accuracy_score': 0.912834, 'f1_score': 0.863711823763472, 'recall_score': 0.8009236633760141, 'precision_score': 0.9371819065591582, 'roc_auc': 0.8863324874130605, 'log_loss': 3.1437201566897612}}, {'run_id': '16e3f179-bb70-4632-9a39-9a6fac4a5581', 'algorithm_used': 'DecisionTreeClassifier', 'status': 'Successful', 'model_metrics': {}}, {'run_id': 'ef47a0a5-1a74-4a14-b0fd-8dbbd322057f', 'algorithm_used': 'GradientBoostingClassifier', 'status': 'Running', 'model_metrics': {}}, {'run_id': '26a15f9c-29fd-4d55-82fb-3d38cc18e4b8', 'algorithm_used': 'RandomForestClassifier', 'status': 'Running', 'model_metrics': {}}]\n",
      "CPU times: user 1.61 s, sys: 195 ms, total: 1.81 s\n",
      "Wall time: 10.2 s\n"
     ]
    }
   ],
   "source": [
    "%%time\n",
    "monitor_resp = [\n",
    "    {\n",
    "        \"run_id\": \"8042932c-101a-4ddc-a808-00c092797960\",\n",
    "        \"algorithm_used\": \"XGBClassifier\",\n",
    "        \"status\": \"Successful\",\n",
    "        \"model_metrics\": {}\n",
    "    },\n",
    "    {\n",
    "        \"run_id\": \"16e3f179-bb70-4632-9a39-9a6fac4a5581\",\n",
    "        \"algorithm_used\": \"DecisionTreeClassifier\",\n",
    "        \"status\": \"Successful\",\n",
    "        \"model_metrics\": {}\n",
    "    },\n",
    "    {\n",
    "        \"run_id\": \"ef47a0a5-1a74-4a14-b0fd-8dbbd322057f\",\n",
    "        \"algorithm_used\": \"GradientBoostingClassifier\",\n",
    "        \"status\": \"Running\",\n",
    "        \"model_metrics\": {}\n",
    "    },\n",
    "    {\n",
    "        \"run_id\": \"26a15f9c-29fd-4d55-82fb-3d38cc18e4b8\",\n",
    "        \"algorithm_used\": \"RandomForestClassifier\",\n",
    "        \"status\": \"Running\",\n",
    "        \"model_metrics\": {}\n",
    "    }\n",
    "]\n",
    "\n",
    "def get_session(dataset, project_id):\n",
    "    \"\"\"\n",
    "    Method creates snowflake session object.\n",
    "    :return:\n",
    "    \"\"\"\n",
    "    try:\n",
    "        conn = get_conn_details_from_ds_name(dataset, project_id)\n",
    "        region=conn[\"params\"][\"READER\"][\"region\"] if conn[\"params\"][\"READER\"][\"cloudPlatform\"] is None \\\n",
    "                    else conn[\"params\"][\"READER\"][\"region\"]+\".\"+conn[\"params\"][\"READER\"][\"cloudPlatform\"]\n",
    "        account = conn['params']['READER']['accountId'] if region is None \\\n",
    "                    else conn['params']['READER']['accountId']+\".\"+region\n",
    "        CONNECTION_PARAMETERS = {\n",
    "            \"account\": account,\n",
    "            \"user\":conn['params']['READER']['user'],\n",
    "            \"password\": conn['params']['READER']['password'],\n",
    "            \"role\": conn['params']['READER']['role'],\n",
    "            \"database\": conn['params']['READER']['database'],\n",
    "            \"warehouse\": conn['params']['READER']['wareHouse'],\n",
    "            \"schema\": conn['params']['READER']['schema']\n",
    "        }\n",
    "        return Session.builder.configs(CONNECTION_PARAMETERS).create()\n",
    "    except Exception as ex:\n",
    "        print(\"Error while creating snowflake session\", ex)\n",
    "        raise ex\n",
    "        \n",
    "session = get_session(\"EMPLOYEE_10L\",\"fd0cf79c-8118-43a7-8f0b-059e8f78227a\")\n",
    "reg = Registry(session=session)\n",
    "\n",
    "model_list = session.sql(\"show models like '%exp6789%'\").collect()\n",
    "for model in model_list:\n",
    "    model_name = model[\"name\"]\n",
    "    model_run_id = model_name[-36:].replace('_','-').lower()\n",
    "    model_obj = reg.get_model(model_name)\n",
    "    metrics = {\n",
    "        \"model_metrics\" : model_obj.default.get_metric('model_metrics')\n",
    "    }\n",
    "    for run in monitor_resp:\n",
    "        if run.get('run_id') == model_run_id:\n",
    "            run.update(metrics)\n",
    "print(monitor_resp)"
   ]
  },
  {
   "cell_type": "code",
   "execution_count": 7,
   "id": "558c239d",
   "metadata": {},
   "outputs": [
    {
     "name": "stdout",
     "output_type": "stream",
     "text": [
      "                                 run_id              algorithm_used  \\\n",
      "0  8042932c-101a-4ddc-a808-00c092797960               XGBClassifier   \n",
      "1  16e3f179-bb70-4632-9a39-9a6fac4a5581      DecisionTreeClassifier   \n",
      "2  ef47a0a5-1a74-4a14-b0fd-8dbbd322057f  GradientBoostingClassifier   \n",
      "3  26a15f9c-29fd-4d55-82fb-3d38cc18e4b8      RandomForestClassifier   \n",
      "\n",
      "       status                                      model_metrics  \n",
      "0  Successful  {'accuracy_score': 0.912834, 'f1_score': 0.863...  \n",
      "1  Successful                                                 {}  \n",
      "2     Running                                                 {}  \n",
      "3     Running                                                 {}  \n",
      "CPU times: user 922 ms, sys: 19.8 ms, total: 942 ms\n",
      "Wall time: 4.72 s\n"
     ]
    }
   ],
   "source": [
    "%%time\n",
    "####Approach 2####\n",
    "monitor_resp = [\n",
    "    {\n",
    "        \"run_id\": \"8042932c-101a-4ddc-a808-00c092797960\",\n",
    "        \"algorithm_used\": \"XGBClassifier\",\n",
    "        \"status\": \"Successful\",\n",
    "        \"model_metrics\": {}\n",
    "    },\n",
    "    {\n",
    "        \"run_id\": \"16e3f179-bb70-4632-9a39-9a6fac4a5581\",\n",
    "        \"algorithm_used\": \"DecisionTreeClassifier\",\n",
    "        \"status\": \"Successful\",\n",
    "        \"model_metrics\": {}\n",
    "    },\n",
    "    {\n",
    "        \"run_id\": \"ef47a0a5-1a74-4a14-b0fd-8dbbd322057f\",\n",
    "        \"algorithm_used\": \"GradientBoostingClassifier\",\n",
    "        \"status\": \"Running\",\n",
    "        \"model_metrics\": {}\n",
    "    },\n",
    "    {\n",
    "        \"run_id\": \"26a15f9c-29fd-4d55-82fb-3d38cc18e4b8\",\n",
    "        \"algorithm_used\": \"RandomForestClassifier\",\n",
    "        \"status\": \"Running\",\n",
    "        \"model_metrics\": {}\n",
    "    }\n",
    "]\n",
    "\n",
    "def get_session(dataset, project_id):\n",
    "    \"\"\"\n",
    "    Method creates snowflake session object.\n",
    "    :return:\n",
    "    \"\"\"\n",
    "    try:\n",
    "        conn = get_conn_details_from_ds_name(dataset, project_id)\n",
    "        region=conn[\"params\"][\"READER\"][\"region\"] if conn[\"params\"][\"READER\"][\"cloudPlatform\"] is None \\\n",
    "                    else conn[\"params\"][\"READER\"][\"region\"]+\".\"+conn[\"params\"][\"READER\"][\"cloudPlatform\"]\n",
    "        account = conn['params']['READER']['accountId'] if region is None \\\n",
    "                    else conn['params']['READER']['accountId']+\".\"+region\n",
    "        CONNECTION_PARAMETERS = {\n",
    "            \"account\": account,\n",
    "            \"user\":conn['params']['READER']['user'],\n",
    "            \"password\": conn['params']['READER']['password'],\n",
    "            \"role\": conn['params']['READER']['role'],\n",
    "            \"database\": conn['params']['READER']['database'],\n",
    "            \"warehouse\": conn['params']['READER']['wareHouse'],\n",
    "            \"schema\": conn['params']['READER']['schema']\n",
    "        }\n",
    "        return Session.builder.configs(CONNECTION_PARAMETERS).create()\n",
    "    except Exception as ex:\n",
    "        print(\"Error while creating snowflake session\", ex)\n",
    "        raise ex\n",
    "        \n",
    "session = get_session(\"EMPLOYEE_10L\",\"fd0cf79c-8118-43a7-8f0b-059e8f78227a\")\n",
    "reg = Registry(session=session)\n",
    "resp_df = pd.DataFrame(monitor_resp)\n",
    "model_list = session.sql(\"show models like '%exp6789%'\").collect()\n",
    "for model in model_list:\n",
    "    model_name = model[\"name\"]\n",
    "    model_run_id = model_name[-36:].replace('_','-').lower()\n",
    "    model_obj = reg.get_model(model_name)\n",
    "    metrics = {\n",
    "        \"model_metrics\" : model_obj.default.get_metric('model_metrics')\n",
    "    }\n",
    "    select_row = resp_df.loc[resp_df['run_id']==model_run_id]\n",
    "    resp_df.loc[resp_df['run_id']==model_run_id, 'model_metrics'] = str(metrics.get('model_metrics'))   \n",
    "print(resp_df)"
   ]
  },
  {
   "cell_type": "code",
   "execution_count": null,
   "id": "b7f27efb",
   "metadata": {},
   "outputs": [],
   "source": []
  },
  {
   "cell_type": "code",
   "execution_count": 2,
   "id": "ed905fe1",
   "metadata": {},
   "outputs": [],
   "source": [
    "import requests, json"
   ]
  },
  {
   "cell_type": "code",
   "execution_count": 9,
   "id": "6d626a52",
   "metadata": {},
   "outputs": [],
   "source": [
    "monitor_url = \"http://monitor-backend-service/monitor/api/v5/executions/search?objectId=f40619bc-16a1-4d6b-8f74-6b95c1d7c76a_bWFpbg==_U25vd3BhcmtSbkQvQnVpbGRfRGF0YXNldC5pcHluYg==&projectId=0e0fb803-22db-4d88-9f2f-f6f75b6abcf0&jobType=NOTEBOOK\"\n",
    "temp_head = {\n",
    "    \"X-Auth-Userid\": \"aditya1.singh2@fosfor.com\",\n",
    "    \"X-Auth-Username\": \"aditya1.singh2@fosfor.com\",\n",
    "    \"X-Auth-Email\": \"aditya1.singh2@fosfor.com\",\n",
    "    \"X-Project-Id\": \"0e0fb803-22db-4d88-9f2f-f6f75b6abcf0\"\n",
    "}"
   ]
  },
  {
   "cell_type": "code",
   "execution_count": 10,
   "id": "c4992261",
   "metadata": {},
   "outputs": [],
   "source": [
    "res = requests.get(monitor_url, headers=temp_head)\n",
    "res = json.loads(res.text)"
   ]
  },
  {
   "cell_type": "code",
   "execution_count": 11,
   "id": "b597925e",
   "metadata": {},
   "outputs": [
    {
     "data": {
      "text/plain": [
       "{'totalRecordCount': 1,\n",
       " 'data': [{'jobinstanceId': 502283,\n",
       "   'objectId': 'f40619bc-16a1-4d6b-8f74-6b95c1d7c76a_bWFpbg==_U25vd3BhcmtSbkQvQnVpbGRfRGF0YXNldC5pcHluYg==',\n",
       "   'projectId': '0e0fb803-22db-4d88-9f2f-f6f75b6abcf0',\n",
       "   'projectName': 'SnowParkRnd',\n",
       "   'jobObjectName': 'Build_Dataset.ipynb',\n",
       "   'jobScheduleId': None,\n",
       "   'jobInstanceInputParameter': '{\"namespace\":\"insight\"}',\n",
       "   'jobType': 'NOTEBOOK',\n",
       "   'jobStatus': 'FAILED',\n",
       "   'finalStatus': 'FAILED',\n",
       "   'jobCreatedby': 'aditya1.singh2@fosfor.com',\n",
       "   'jobCreatedts': '2024-07-08T10:47:33.847+00:00',\n",
       "   'jobUpdatedby': 'aditya1.singh2@fosfor.com',\n",
       "   'jobUpdatedts': '2024-07-08T10:48:51.959+00:00',\n",
       "   'applicationId': None,\n",
       "   'executionId': None,\n",
       "   'runID': '502283',\n",
       "   'versionNumber': None,\n",
       "   'runEngine': None,\n",
       "   'attemptId': 0,\n",
       "   'workflowId': None,\n",
       "   'jobConfig': None}],\n",
       " 'jobTypesList': None,\n",
       " 'executedByList': None,\n",
       " 'projectList': None}"
      ]
     },
     "execution_count": 11,
     "metadata": {},
     "output_type": "execute_result"
    }
   ],
   "source": [
    "res"
   ]
  },
  {
   "cell_type": "code",
   "execution_count": 12,
   "id": "9b7d77d7",
   "metadata": {},
   "outputs": [],
   "source": [
    "class ResponseFormats:\n",
    "    LIST_RUNS = {\n",
    "            \"run_id\": \"\",\n",
    "            \"algorithm_used\": \"\",\n",
    "            \"status\": \"\",\n",
    "            \"model_metrics\": {}\n",
    "            }"
   ]
  },
  {
   "cell_type": "code",
   "execution_count": 13,
   "id": "f735a3a6",
   "metadata": {},
   "outputs": [],
   "source": [
    "_res_format = ResponseFormats.LIST_RUNS"
   ]
  },
  {
   "cell_type": "code",
   "execution_count": 14,
   "id": "7bddf06c",
   "metadata": {},
   "outputs": [
    {
     "data": {
      "text/plain": [
       "''"
      ]
     },
     "execution_count": 14,
     "metadata": {},
     "output_type": "execute_result"
    }
   ],
   "source": [
    "_res_format['status']"
   ]
  },
  {
   "cell_type": "code",
   "execution_count": 15,
   "id": "29952bd2",
   "metadata": {},
   "outputs": [
    {
     "name": "stdout",
     "output_type": "stream",
     "text": [
      "[{'run_id': '502283', 'algorithm_used': '', 'status': 'FAILED', 'model_metrics': {}}]\n"
     ]
    }
   ],
   "source": [
    "final_resp = []\n",
    "for data in res.get('data'):\n",
    "    _res_format.update({\"run_id\": data.get('runID'), \"status\": data.get('jobStatus')})\n",
    "    res_data = _res_format\n",
    "    final_resp.append(res_data)\n",
    "\n",
    "print(final_resp)"
   ]
  },
  {
   "cell_type": "code",
   "execution_count": 3,
   "id": "73a74b09",
   "metadata": {},
   "outputs": [],
   "source": [
    "def get_session(dataset, project_id):\n",
    "    \"\"\"\n",
    "    Method creates snowflake session object.\n",
    "    :return:\n",
    "    \"\"\"\n",
    "    try:\n",
    "        conn = get_conn_details_from_ds_name(dataset, project_id)\n",
    "        region=conn[\"params\"][\"READER\"][\"region\"] if conn[\"params\"][\"READER\"][\"cloudPlatform\"] is None \\\n",
    "                    else conn[\"params\"][\"READER\"][\"region\"]+\".\"+conn[\"params\"][\"READER\"][\"cloudPlatform\"]\n",
    "        account = conn['params']['READER']['accountId'] if region is None \\\n",
    "                    else conn['params']['READER']['accountId']+\".\"+region\n",
    "        CONNECTION_PARAMETERS = {\n",
    "            \"account\": account,\n",
    "            \"user\":conn['params']['READER']['user'],\n",
    "            \"password\": conn['params']['READER']['password'],\n",
    "            \"role\": conn['params']['READER']['role'],\n",
    "            \"database\": conn['params']['READER']['database'],\n",
    "            \"warehouse\": conn['params']['READER']['wareHouse'],\n",
    "            \"schema\": conn['params']['READER']['schema']\n",
    "        }\n",
    "        return Session.builder.configs(CONNECTION_PARAMETERS).create()\n",
    "    except Exception as ex:\n",
    "        print(\"Error while creating snowflake session\", ex)\n",
    "        raise ex\n",
    "        \n",
    "session = get_session(\"EMPLOYEE_10L\",\"fd0cf79c-8118-43a7-8f0b-059e8f78227a\")"
   ]
  },
  {
   "cell_type": "code",
   "execution_count": 12,
   "id": "860f9a0c",
   "metadata": {},
   "outputs": [],
   "source": [
    "reg = Registry(session=session)"
   ]
  },
  {
   "cell_type": "code",
   "execution_count": 13,
   "id": "19f5e1af",
   "metadata": {},
   "outputs": [],
   "source": [
    "model_name = 'FD0CF79C_8118_43A7_8F0B_059E8F78227A_EXP_001_RUN_0001'"
   ]
  },
  {
   "cell_type": "code",
   "execution_count": 22,
   "id": "34ba51db",
   "metadata": {},
   "outputs": [],
   "source": [
    "model_obj = reg.get_model(model_name)\n",
    "metrics = model_obj.default.show_metrics()\n"
   ]
  },
  {
   "cell_type": "code",
   "execution_count": 25,
   "id": "d03d39a9",
   "metadata": {},
   "outputs": [
    {
     "data": {
      "text/plain": [
       "{'model_metrics': {'accuracy_score': 0.92473,\n",
       "  'f1_score': 0.8841251148525358,\n",
       "  'recall_score': 0.8361769313619897,\n",
       "  'precision_score': 0.9379067021773153,\n",
       "  'roc_auc': 0.9036114375207266,\n",
       "  'log_loss': 2.7149916732535027},\n",
       " 'project_id': 'test12345',\n",
       " 'experiment_id': 'exp6789',\n",
       " 'monitor_run_id': '16e3f179-bb70-4632-9a39-9a6fac4a5581',\n",
       " 'algorithm_type': 'Classification',\n",
       " 'algorithm': 'DecisionTreeClassifier',\n",
       " 'dataset': 'EMPLOYEE_10L',\n",
       " 'target_column': 'LEAVEORNOT',\n",
       " 'experiment_name': 'My_run_listing_exp',\n",
       " 'source': 'EXP'}"
      ]
     },
     "execution_count": 25,
     "metadata": {},
     "output_type": "execute_result"
    }
   ],
   "source": [
    "metrics"
   ]
  },
  {
   "cell_type": "code",
   "execution_count": 17,
   "id": "139a3121",
   "metadata": {},
   "outputs": [],
   "source": [
    "dataset = model_obj.default.get_metric('dataset')"
   ]
  },
  {
   "cell_type": "code",
   "execution_count": 18,
   "id": "1472fab5",
   "metadata": {},
   "outputs": [
    {
     "data": {
      "text/plain": [
       "'EMPLOYEE_10L'"
      ]
     },
     "execution_count": 18,
     "metadata": {},
     "output_type": "execute_result"
    }
   ],
   "source": [
    "dataset"
   ]
  },
  {
   "cell_type": "code",
   "execution_count": 4,
   "id": "7d489035",
   "metadata": {},
   "outputs": [
    {
     "name": "stdout",
     "output_type": "stream",
     "text": [
      "snowflake==0.10.0\r\n",
      "snowflake-connector-python==3.11.0\r\n",
      "snowflake-core==0.10.0\r\n",
      "snowflake-legacy==0.10.0\r\n",
      "snowflake-ml-python==1.5.3\r\n",
      "snowflake-snowpark-python==1.19.0\r\n"
     ]
    }
   ],
   "source": [
    "! pip freeze | grep -i snowf"
   ]
  },
  {
   "cell_type": "code",
   "execution_count": null,
   "id": "d5b1f4cc",
   "metadata": {},
   "outputs": [],
   "source": []
  }
 ],
 "metadata": {
  "kernelspec": {
   "display_name": "Python 3",
   "language": "python",
   "name": "python3"
  },
  "language_info": {
   "codemirror_mode": {
    "name": "ipython",
    "version": 3
   },
   "file_extension": ".py",
   "mimetype": "text/x-python",
   "name": "python",
   "nbconvert_exporter": "python",
   "pygments_lexer": "ipython3",
   "version": "3.9.18"
  }
 },
 "nbformat": 4,
 "nbformat_minor": 5
}
