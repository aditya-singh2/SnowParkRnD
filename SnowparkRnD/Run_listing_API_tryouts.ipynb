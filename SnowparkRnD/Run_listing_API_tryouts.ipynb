{
 "cells": [
  {
   "cell_type": "code",
   "execution_count": 1,
   "id": "8a615090",
   "metadata": {},
   "outputs": [
    {
     "name": "stdout",
     "output_type": "stream",
     "text": [
      "Connection manager service url initialised to http://fdc-project-manager:80/project-manager\n",
      "If you need to update its value then update the variable CONNECTION_MANAGER_BASE_URL in os env.\n",
      "CPU times: user 1.49 s, sys: 877 ms, total: 2.37 s\n",
      "Wall time: 10.1 s\n"
     ]
    }
   ],
   "source": [
    "%%time\n",
    "from fosforio.manager import get_conn_details_from_ds_name\n",
    "from snowflake.snowpark.session import Session\n",
    "from snowflake.ml.registry.registry import Registry\n",
    "import pandas as pd"
   ]
  },
  {
   "cell_type": "code",
   "execution_count": 2,
   "id": "9c9dddd8",
   "metadata": {},
   "outputs": [
    {
     "name": "stdout",
     "output_type": "stream",
     "text": [
      "[{'run_id': '8042932c-101a-4ddc-a808-00c092797960', 'algorithm_used': 'XGBClassifier', 'status': 'Successful', 'model_metrics': {'accuracy_score': 0.912834, 'f1_score': 0.863711823763472, 'recall_score': 0.8009236633760141, 'precision_score': 0.9371819065591582, 'roc_auc': 0.8863324874130605, 'log_loss': 3.1437201566897612}}, {'run_id': '16e3f179-bb70-4632-9a39-9a6fac4a5581', 'algorithm_used': 'DecisionTreeClassifier', 'status': 'Successful', 'model_metrics': {'accuracy_score': 0.92473, 'f1_score': 0.8841251148525358, 'recall_score': 0.8361769313619897, 'precision_score': 0.9379067021773153, 'roc_auc': 0.9036114375207266, 'log_loss': 2.7149916732535027}}, {'run_id': 'ef47a0a5-1a74-4a14-b0fd-8dbbd322057f', 'algorithm_used': 'GradientBoostingClassifier', 'status': 'Running', 'model_metrics': {}}, {'run_id': '26a15f9c-29fd-4d55-82fb-3d38cc18e4b8', 'algorithm_used': 'RandomForestClassifier', 'status': 'Running', 'model_metrics': {}}]\n",
      "CPU times: user 793 ms, sys: 239 ms, total: 1.03 s\n",
      "Wall time: 8.99 s\n"
     ]
    }
   ],
   "source": [
    "%%time\n",
    "monitor_resp = [\n",
    "    {\n",
    "        \"run_id\": \"8042932c-101a-4ddc-a808-00c092797960\",\n",
    "        \"algorithm_used\": \"XGBClassifier\",\n",
    "        \"status\": \"Successful\",\n",
    "        \"model_metrics\": {}\n",
    "    },\n",
    "    {\n",
    "        \"run_id\": \"16e3f179-bb70-4632-9a39-9a6fac4a5581\",\n",
    "        \"algorithm_used\": \"DecisionTreeClassifier\",\n",
    "        \"status\": \"Successful\",\n",
    "        \"model_metrics\": {}\n",
    "    },\n",
    "    {\n",
    "        \"run_id\": \"ef47a0a5-1a74-4a14-b0fd-8dbbd322057f\",\n",
    "        \"algorithm_used\": \"GradientBoostingClassifier\",\n",
    "        \"status\": \"Running\",\n",
    "        \"model_metrics\": {}\n",
    "    },\n",
    "    {\n",
    "        \"run_id\": \"26a15f9c-29fd-4d55-82fb-3d38cc18e4b8\",\n",
    "        \"algorithm_used\": \"RandomForestClassifier\",\n",
    "        \"status\": \"Running\",\n",
    "        \"model_metrics\": {}\n",
    "    }\n",
    "]\n",
    "\n",
    "def get_session(dataset, project_id):\n",
    "    \"\"\"\n",
    "    Method creates snowflake session object.\n",
    "    :return:\n",
    "    \"\"\"\n",
    "    try:\n",
    "        conn = get_conn_details_from_ds_name(dataset, project_id)\n",
    "        region=conn[\"params\"][\"READER\"][\"region\"] if conn[\"params\"][\"READER\"][\"cloudPlatform\"] is None \\\n",
    "                    else conn[\"params\"][\"READER\"][\"region\"]+\".\"+conn[\"params\"][\"READER\"][\"cloudPlatform\"]\n",
    "        account = conn['params']['READER']['accountId'] if region is None \\\n",
    "                    else conn['params']['READER']['accountId']+\".\"+region\n",
    "        CONNECTION_PARAMETERS = {\n",
    "            \"account\": account,\n",
    "            \"user\":conn['params']['READER']['user'],\n",
    "            \"password\": conn['params']['READER']['password'],\n",
    "            \"role\": conn['params']['READER']['role'],\n",
    "            \"database\": conn['params']['READER']['database'],\n",
    "            \"warehouse\": conn['params']['READER']['wareHouse'],\n",
    "            \"schema\": conn['params']['READER']['schema']\n",
    "        }\n",
    "        return Session.builder.configs(CONNECTION_PARAMETERS).create()\n",
    "    except Exception as ex:\n",
    "        print(\"Error while creating snowflake session\", ex)\n",
    "        raise ex\n",
    "        \n",
    "session = get_session(\"EMPLOYEE_10L\",\"0e0fb803-22db-4d88-9f2f-f6f75b6abcf0\")\n",
    "reg = Registry(session=session)\n",
    "\n",
    "model_list = session.sql(\"show models like '%exp6789%'\").collect()\n",
    "for model in model_list:\n",
    "    model_name = model[\"name\"]\n",
    "    model_run_id = model_name[-36:].replace('_','-').lower()\n",
    "    model_obj = reg.get_model(model_name)\n",
    "    metrics = {\n",
    "        \"model_metrics\" : model_obj.default.get_metric('model_metrics')\n",
    "    }\n",
    "    for run in monitor_resp:\n",
    "        if run.get('run_id') == model_run_id:\n",
    "            run.update(metrics)\n",
    "print(monitor_resp)"
   ]
  },
  {
   "cell_type": "code",
   "execution_count": 3,
   "id": "558c239d",
   "metadata": {},
   "outputs": [
    {
     "name": "stdout",
     "output_type": "stream",
     "text": [
      "                                 run_id              algorithm_used  \\\n",
      "0  8042932c-101a-4ddc-a808-00c092797960               XGBClassifier   \n",
      "1  16e3f179-bb70-4632-9a39-9a6fac4a5581      DecisionTreeClassifier   \n",
      "2  ef47a0a5-1a74-4a14-b0fd-8dbbd322057f  GradientBoostingClassifier   \n",
      "3  26a15f9c-29fd-4d55-82fb-3d38cc18e4b8      RandomForestClassifier   \n",
      "\n",
      "       status                                      model_metrics  \n",
      "0  Successful  {'accuracy_score': 0.912834, 'f1_score': 0.863...  \n",
      "1  Successful  {'accuracy_score': 0.92473, 'f1_score': 0.8841...  \n",
      "2     Running                                                 {}  \n",
      "3     Running                                                 {}  \n",
      "CPU times: user 559 ms, sys: 0 ns, total: 559 ms\n",
      "Wall time: 3.1 s\n"
     ]
    }
   ],
   "source": [
    "%%time\n",
    "####Approach 2####\n",
    "monitor_resp = [\n",
    "    {\n",
    "        \"run_id\": \"8042932c-101a-4ddc-a808-00c092797960\",\n",
    "        \"algorithm_used\": \"XGBClassifier\",\n",
    "        \"status\": \"Successful\",\n",
    "        \"model_metrics\": {}\n",
    "    },\n",
    "    {\n",
    "        \"run_id\": \"16e3f179-bb70-4632-9a39-9a6fac4a5581\",\n",
    "        \"algorithm_used\": \"DecisionTreeClassifier\",\n",
    "        \"status\": \"Successful\",\n",
    "        \"model_metrics\": {}\n",
    "    },\n",
    "    {\n",
    "        \"run_id\": \"ef47a0a5-1a74-4a14-b0fd-8dbbd322057f\",\n",
    "        \"algorithm_used\": \"GradientBoostingClassifier\",\n",
    "        \"status\": \"Running\",\n",
    "        \"model_metrics\": {}\n",
    "    },\n",
    "    {\n",
    "        \"run_id\": \"26a15f9c-29fd-4d55-82fb-3d38cc18e4b8\",\n",
    "        \"algorithm_used\": \"RandomForestClassifier\",\n",
    "        \"status\": \"Running\",\n",
    "        \"model_metrics\": {}\n",
    "    }\n",
    "]\n",
    "\n",
    "def get_session(dataset, project_id):\n",
    "    \"\"\"\n",
    "    Method creates snowflake session object.\n",
    "    :return:\n",
    "    \"\"\"\n",
    "    try:\n",
    "        conn = get_conn_details_from_ds_name(dataset, project_id)\n",
    "        region=conn[\"params\"][\"READER\"][\"region\"] if conn[\"params\"][\"READER\"][\"cloudPlatform\"] is None \\\n",
    "                    else conn[\"params\"][\"READER\"][\"region\"]+\".\"+conn[\"params\"][\"READER\"][\"cloudPlatform\"]\n",
    "        account = conn['params']['READER']['accountId'] if region is None \\\n",
    "                    else conn['params']['READER']['accountId']+\".\"+region\n",
    "        CONNECTION_PARAMETERS = {\n",
    "            \"account\": account,\n",
    "            \"user\":conn['params']['READER']['user'],\n",
    "            \"password\": conn['params']['READER']['password'],\n",
    "            \"role\": conn['params']['READER']['role'],\n",
    "            \"database\": conn['params']['READER']['database'],\n",
    "            \"warehouse\": conn['params']['READER']['wareHouse'],\n",
    "            \"schema\": conn['params']['READER']['schema']\n",
    "        }\n",
    "        return Session.builder.configs(CONNECTION_PARAMETERS).create()\n",
    "    except Exception as ex:\n",
    "        print(\"Error while creating snowflake session\", ex)\n",
    "        raise ex\n",
    "        \n",
    "session = get_session(\"EMPLOYEE_10L\",\"0e0fb803-22db-4d88-9f2f-f6f75b6abcf0\")\n",
    "reg = Registry(session=session)\n",
    "resp_df = pd.DataFrame(monitor_resp)\n",
    "model_list = session.sql(\"show models like '%exp6789%'\").collect()\n",
    "for model in model_list:\n",
    "    model_name = model[\"name\"]\n",
    "    model_run_id = model_name[-36:].replace('_','-').lower()\n",
    "    model_obj = reg.get_model(model_name)\n",
    "    metrics = {\n",
    "        \"model_metrics\" : model_obj.default.get_metric('model_metrics')\n",
    "    }\n",
    "    select_row = resp_df.loc[resp_df['run_id']==model_run_id]\n",
    "    resp_df.loc[resp_df['run_id']==model_run_id, 'model_metrics'] = str(metrics.get('model_metrics'))   \n",
    "print(resp_df)"
   ]
  },
  {
   "cell_type": "code",
   "execution_count": 30,
   "id": "ed905fe1",
   "metadata": {},
   "outputs": [],
   "source": [
    "import requests, json"
   ]
  },
  {
   "cell_type": "code",
   "execution_count": 46,
   "id": "6d626a52",
   "metadata": {},
   "outputs": [],
   "source": [
    "monitor_url = \"http://monitor-backend-service/monitor/api/v5/executions/search?objectId=f4c813a1-86f1-4148-9ef3-cf8758331729&projectId=784a85f3-443c-4662-b56d-20d9bccd0027&jobType=Schedule\"\n",
    "temp_head = {\n",
    "    \"X-Auth-Userid\": \"aditya1.singh2@fosfor.com\",\n",
    "    \"X-Auth-Username\": \"aditya1.singh2@fosfor.com\",\n",
    "    \"X-Auth-Email\": \"aditya1.singh2@fosfor.com\",\n",
    "    \"X-Project-Id\": \"0e0fb803-22db-4d88-9f2f-f6f75b6abcf0\"\n",
    "}"
   ]
  },
  {
   "cell_type": "code",
   "execution_count": 47,
   "id": "c4992261",
   "metadata": {},
   "outputs": [],
   "source": [
    "res = requests.get(monitor_url, headers=temp_head)\n",
    "res = json.loads(res.text)"
   ]
  },
  {
   "cell_type": "code",
   "execution_count": 48,
   "id": "f735a3a6",
   "metadata": {},
   "outputs": [],
   "source": [
    "_res_format = {\n",
    "        \"run_id\": \"\",\n",
    "        \"algorithm_used\": \"\",\n",
    "        \"status\": \"\",\n",
    "        \"model_metrics\": {}\n",
    "    }"
   ]
  },
  {
   "cell_type": "code",
   "execution_count": 49,
   "id": "29952bd2",
   "metadata": {},
   "outputs": [
    {
     "name": "stdout",
     "output_type": "stream",
     "text": [
      "[]\n"
     ]
    }
   ],
   "source": [
    "final_resp = []\n",
    "for data in res.get('data'):\n",
    "    _res_format.update({\"run_id\": data.get('runID'), \"status\": data.get('jobStatus')})\n",
    "    res_data = _res_format\n",
    "    final_resp.append(res_data)\n",
    "\n",
    "print(final_resp)"
   ]
  },
  {
   "cell_type": "code",
   "execution_count": 3,
   "id": "73a74b09",
   "metadata": {},
   "outputs": [],
   "source": [
    "def get_session(dataset, project_id):\n",
    "    \"\"\"\n",
    "    Method creates snowflake session object.\n",
    "    :return:\n",
    "    \"\"\"\n",
    "    try:\n",
    "        conn = get_conn_details_from_ds_name(dataset, project_id)\n",
    "        region=conn[\"params\"][\"READER\"][\"region\"] if conn[\"params\"][\"READER\"][\"cloudPlatform\"] is None \\\n",
    "                    else conn[\"params\"][\"READER\"][\"region\"]+\".\"+conn[\"params\"][\"READER\"][\"cloudPlatform\"]\n",
    "        account = conn['params']['READER']['accountId'] if region is None \\\n",
    "                    else conn['params']['READER']['accountId']+\".\"+region\n",
    "        CONNECTION_PARAMETERS = {\n",
    "            \"account\": account,\n",
    "            \"user\":conn['params']['READER']['user'],\n",
    "            \"password\": conn['params']['READER']['password'],\n",
    "            \"role\": conn['params']['READER']['role'],\n",
    "            \"database\": conn['params']['READER']['database'],\n",
    "            \"warehouse\": conn['params']['READER']['wareHouse'],\n",
    "            \"schema\": conn['params']['READER']['schema']\n",
    "        }\n",
    "        return Session.builder.configs(CONNECTION_PARAMETERS).create()\n",
    "    except Exception as ex:\n",
    "        print(\"Error while creating snowflake session\", ex)\n",
    "        raise ex\n",
    "        \n",
    "session = get_session(\"EMPLOYEE_10L\",\"fd0cf79c-8118-43a7-8f0b-059e8f78227a\")"
   ]
  },
  {
   "cell_type": "code",
   "execution_count": 4,
   "id": "0db4b78d",
   "metadata": {},
   "outputs": [],
   "source": [
    "reg = Registry(session=session)"
   ]
  },
  {
   "cell_type": "code",
   "execution_count": 5,
   "id": "3fefff90",
   "metadata": {},
   "outputs": [],
   "source": [
    "model_name = 'FD0CF79C_8118_43A7_8F0B_059E8F78227A_EXP_001_RUN_0001'"
   ]
  },
  {
   "cell_type": "code",
   "execution_count": 10,
   "id": "b90204b8",
   "metadata": {},
   "outputs": [],
   "source": [
    "metric = {'model_metrics': {'accuracy_score': 0.803922, 'f1_score': 0.23076923076923075, 'recall_score': 0.15113350125944586, 'precision_score': 0.4878048780487805, 'roc_auc': 0.5563945047380613, 'log_loss': 7.0706121046545105}, 'project_id': '0e0fb803-22db-4d88-9f2f-f6f75b6abcf0', 'id': '7bbb5061-54d4-4862-8d47-7fbee388a4d1', 'run_id': '6d0370b7-7aab-4394-884a-266bc284d07a', 'algorithm_type': 'classification', 'algo_details': {'snowflake.ml.modeling.xgboost.XGBClassifier': None}, 'dataset': 'AIRLINE_DEP_DELAY_10K', 'target_column': 'DEP_DEL15', 'exp_name': 'Final_recipe', 'source': 'EXP'}"
   ]
  },
  {
   "cell_type": "code",
   "execution_count": 11,
   "id": "352666e6",
   "metadata": {},
   "outputs": [
    {
     "ename": "ValueError",
     "evalue": "(0000) Metrics in the metadata is expected to be a dictionary, getting [{'model_metrics': {'accuracy_score': 0.803922, 'f1_score': 0.23076923076923075, 'recall_score': 0.15113350125944586, 'precision_score': 0.4878048780487805, 'roc_auc': 0.5563945047380613, 'log_loss': 7.0706121046545105}, 'project_id': '0e0fb803-22db-4d88-9f2f-f6f75b6abcf0', 'id': '7bbb5061-54d4-4862-8d47-7fbee388a4d1', 'run_id': '6d0370b7-7aab-4394-884a-266bc284d07a', 'algorithm_type': 'classification', 'algo_details': {'snowflake.ml.modeling.xgboost.XGBClassifier': None}, 'dataset': 'AIRLINE_DEP_DELAY_10K', 'target_column': 'DEP_DEL15', 'exp_name': 'Final_recipe', 'source': 'EXP'}]",
     "output_type": "error",
     "traceback": [
      "\u001b[0;31m---------------------------------------------------------------------------\u001b[0m",
      "\u001b[0;31mValueError\u001b[0m                                Traceback (most recent call last)",
      "File \u001b[0;32m/packages/Python-3.9-Snowpark/c4ae710c-7618-477a-97d0-5337fbf62a9a/3.9/snowflake/ml/_internal/telemetry.py:367\u001b[0m, in \u001b[0;36msend_api_usage_telemetry.<locals>.decorator.<locals>.wrap\u001b[0;34m(*args, **kwargs)\u001b[0m\n\u001b[1;32m    366\u001b[0m \u001b[38;5;28;01mtry\u001b[39;00m:\n\u001b[0;32m--> 367\u001b[0m     res \u001b[38;5;241m=\u001b[39m \u001b[43mfunc\u001b[49m\u001b[43m(\u001b[49m\u001b[38;5;241;43m*\u001b[39;49m\u001b[43margs\u001b[49m\u001b[43m,\u001b[49m\u001b[43m \u001b[49m\u001b[38;5;241;43m*\u001b[39;49m\u001b[38;5;241;43m*\u001b[39;49m\u001b[43mkwargs\u001b[49m\u001b[43m)\u001b[49m\n\u001b[1;32m    368\u001b[0m \u001b[38;5;28;01mexcept\u001b[39;00m \u001b[38;5;167;01mException\u001b[39;00m \u001b[38;5;28;01mas\u001b[39;00m e:\n",
      "File \u001b[0;32m/packages/Python-3.9-Snowpark/c4ae710c-7618-477a-97d0-5337fbf62a9a/3.9/snowflake/ml/model/_client/model/model_version_impl.py:133\u001b[0m, in \u001b[0;36mModelVersion.show_metrics\u001b[0;34m(self)\u001b[0m\n\u001b[1;32m    129\u001b[0m statement_params \u001b[38;5;241m=\u001b[39m telemetry\u001b[38;5;241m.\u001b[39mget_statement_params(\n\u001b[1;32m    130\u001b[0m     project\u001b[38;5;241m=\u001b[39m_TELEMETRY_PROJECT,\n\u001b[1;32m    131\u001b[0m     subproject\u001b[38;5;241m=\u001b[39m_TELEMETRY_SUBPROJECT,\n\u001b[1;32m    132\u001b[0m )\n\u001b[0;32m--> 133\u001b[0m \u001b[38;5;28;01mreturn\u001b[39;00m \u001b[38;5;28;43mself\u001b[39;49m\u001b[38;5;241;43m.\u001b[39;49m\u001b[43m_model_ops\u001b[49m\u001b[38;5;241;43m.\u001b[39;49m\u001b[43m_metadata_ops\u001b[49m\u001b[38;5;241;43m.\u001b[39;49m\u001b[43mload\u001b[49m\u001b[43m(\u001b[49m\n\u001b[1;32m    134\u001b[0m \u001b[43m    \u001b[49m\u001b[43mmodel_name\u001b[49m\u001b[38;5;241;43m=\u001b[39;49m\u001b[38;5;28;43mself\u001b[39;49m\u001b[38;5;241;43m.\u001b[39;49m\u001b[43m_model_name\u001b[49m\u001b[43m,\u001b[49m\u001b[43m \u001b[49m\u001b[43mversion_name\u001b[49m\u001b[38;5;241;43m=\u001b[39;49m\u001b[38;5;28;43mself\u001b[39;49m\u001b[38;5;241;43m.\u001b[39;49m\u001b[43m_version_name\u001b[49m\u001b[43m,\u001b[49m\u001b[43m \u001b[49m\u001b[43mstatement_params\u001b[49m\u001b[38;5;241;43m=\u001b[39;49m\u001b[43mstatement_params\u001b[49m\n\u001b[1;32m    135\u001b[0m \u001b[43m\u001b[49m\u001b[43m)\u001b[49m[\u001b[38;5;124m\"\u001b[39m\u001b[38;5;124mmetrics\u001b[39m\u001b[38;5;124m\"\u001b[39m]\n",
      "File \u001b[0;32m/packages/Python-3.9-Snowpark/c4ae710c-7618-477a-97d0-5337fbf62a9a/3.9/snowflake/ml/model/_client/ops/metadata_ops.py:89\u001b[0m, in \u001b[0;36mMetadataOperator.load\u001b[0;34m(self, model_name, version_name, statement_params)\u001b[0m\n\u001b[1;32m     86\u001b[0m metadata_dict \u001b[38;5;241m=\u001b[39m \u001b[38;5;28mself\u001b[39m\u001b[38;5;241m.\u001b[39m_get_current_metadata_dict(\n\u001b[1;32m     87\u001b[0m     model_name\u001b[38;5;241m=\u001b[39mmodel_name, version_name\u001b[38;5;241m=\u001b[39mversion_name, statement_params\u001b[38;5;241m=\u001b[39mstatement_params\n\u001b[1;32m     88\u001b[0m )\n\u001b[0;32m---> 89\u001b[0m \u001b[38;5;28;01mreturn\u001b[39;00m \u001b[43mMetadataOperator\u001b[49m\u001b[38;5;241;43m.\u001b[39;49m\u001b[43m_parse\u001b[49m\u001b[43m(\u001b[49m\u001b[43mmetadata_dict\u001b[49m\u001b[43m)\u001b[49m\n",
      "File \u001b[0;32m/packages/Python-3.9-Snowpark/c4ae710c-7618-477a-97d0-5337fbf62a9a/3.9/snowflake/ml/model/_client/ops/metadata_ops.py:58\u001b[0m, in \u001b[0;36mMetadataOperator._parse\u001b[0;34m(metadata_dict)\u001b[0m\n\u001b[1;32m     57\u001b[0m \u001b[38;5;28;01mif\u001b[39;00m \u001b[38;5;129;01mnot\u001b[39;00m \u001b[38;5;28misinstance\u001b[39m(loaded_metrics, \u001b[38;5;28mdict\u001b[39m):\n\u001b[0;32m---> 58\u001b[0m     \u001b[38;5;28;01mraise\u001b[39;00m \u001b[38;5;167;01mValueError\u001b[39;00m(\u001b[38;5;124mf\u001b[39m\u001b[38;5;124m\"\u001b[39m\u001b[38;5;124mMetrics in the metadata is expected to be a dictionary, getting \u001b[39m\u001b[38;5;132;01m{\u001b[39;00mloaded_metrics\u001b[38;5;132;01m}\u001b[39;00m\u001b[38;5;124m\"\u001b[39m)\n\u001b[1;32m     59\u001b[0m \u001b[38;5;28;01mreturn\u001b[39;00m ModelVersionMetadataSchema(metrics\u001b[38;5;241m=\u001b[39mloaded_metrics)\n",
      "\u001b[0;31mValueError\u001b[0m: Metrics in the metadata is expected to be a dictionary, getting [{'model_metrics': {'accuracy_score': 0.803922, 'f1_score': 0.23076923076923075, 'recall_score': 0.15113350125944586, 'precision_score': 0.4878048780487805, 'roc_auc': 0.5563945047380613, 'log_loss': 7.0706121046545105}, 'project_id': '0e0fb803-22db-4d88-9f2f-f6f75b6abcf0', 'id': '7bbb5061-54d4-4862-8d47-7fbee388a4d1', 'run_id': '6d0370b7-7aab-4394-884a-266bc284d07a', 'algorithm_type': 'classification', 'algo_details': {'snowflake.ml.modeling.xgboost.XGBClassifier': None}, 'dataset': 'AIRLINE_DEP_DELAY_10K', 'target_column': 'DEP_DEL15', 'exp_name': 'Final_recipe', 'source': 'EXP'}]",
      "\nThe above exception was the direct cause of the following exception:\n",
      "\u001b[0;31mValueError\u001b[0m                                Traceback (most recent call last)",
      "Cell \u001b[0;32mIn[11], line 1\u001b[0m\n\u001b[0;32m----> 1\u001b[0m \u001b[43mmodel_obj\u001b[49m\u001b[38;5;241;43m.\u001b[39;49m\u001b[43mdefault\u001b[49m\u001b[38;5;241;43m.\u001b[39;49m\u001b[43mset_metric\u001b[49m\u001b[43m(\u001b[49m\u001b[38;5;124;43m\"\u001b[39;49m\u001b[38;5;124;43mmodel_metrics\u001b[39;49m\u001b[38;5;124;43m\"\u001b[39;49m\u001b[43m,\u001b[49m\u001b[43mmetric\u001b[49m\u001b[43m)\u001b[49m\n\u001b[1;32m      2\u001b[0m \u001b[38;5;66;03m# dir(model_obj.default)\u001b[39;00m\n",
      "File \u001b[0;32m/packages/Python-3.9-Snowpark/c4ae710c-7618-477a-97d0-5337fbf62a9a/3.9/snowflake/ml/_internal/telemetry.py:372\u001b[0m, in \u001b[0;36msend_api_usage_telemetry.<locals>.decorator.<locals>.wrap\u001b[0;34m(*args, **kwargs)\u001b[0m\n\u001b[1;32m    369\u001b[0m \u001b[38;5;28;01mif\u001b[39;00m \u001b[38;5;129;01mnot\u001b[39;00m \u001b[38;5;28misinstance\u001b[39m(e, snowml_exceptions\u001b[38;5;241m.\u001b[39mSnowflakeMLException):\n\u001b[1;32m    370\u001b[0m     \u001b[38;5;66;03m# already handled via a nested decorated function\u001b[39;00m\n\u001b[1;32m    371\u001b[0m     \u001b[38;5;28;01mif\u001b[39;00m \u001b[38;5;28mhasattr\u001b[39m(e, \u001b[38;5;124m\"\u001b[39m\u001b[38;5;124m_snowflake_ml_handled\u001b[39m\u001b[38;5;124m\"\u001b[39m) \u001b[38;5;129;01mand\u001b[39;00m e\u001b[38;5;241m.\u001b[39m_snowflake_ml_handled:\n\u001b[0;32m--> 372\u001b[0m         \u001b[38;5;28;01mraise\u001b[39;00m e\n\u001b[1;32m    373\u001b[0m     \u001b[38;5;28;01mif\u001b[39;00m \u001b[38;5;28misinstance\u001b[39m(e, snowpark_exceptions\u001b[38;5;241m.\u001b[39mSnowparkClientException):\n\u001b[1;32m    374\u001b[0m         me \u001b[38;5;241m=\u001b[39m snowml_exceptions\u001b[38;5;241m.\u001b[39mSnowflakeMLException(\n\u001b[1;32m    375\u001b[0m             error_code\u001b[38;5;241m=\u001b[39merror_codes\u001b[38;5;241m.\u001b[39mINTERNAL_SNOWPARK_ERROR, original_exception\u001b[38;5;241m=\u001b[39me\n\u001b[1;32m    376\u001b[0m         )\n",
      "File \u001b[0;32m/packages/Python-3.9-Snowpark/c4ae710c-7618-477a-97d0-5337fbf62a9a/3.9/snowflake/ml/_internal/telemetry.py:367\u001b[0m, in \u001b[0;36msend_api_usage_telemetry.<locals>.decorator.<locals>.wrap\u001b[0;34m(*args, **kwargs)\u001b[0m\n\u001b[1;32m    358\u001b[0m telemetry_args \u001b[38;5;241m=\u001b[39m \u001b[38;5;28mdict\u001b[39m(\n\u001b[1;32m    359\u001b[0m     func_name\u001b[38;5;241m=\u001b[39m_get_full_func_name(func),\n\u001b[1;32m    360\u001b[0m     function_category\u001b[38;5;241m=\u001b[39mTelemetryField\u001b[38;5;241m.\u001b[39mFUNC_CAT_USAGE\u001b[38;5;241m.\u001b[39mvalue,\n\u001b[0;32m   (...)\u001b[0m\n\u001b[1;32m    364\u001b[0m     custom_tags\u001b[38;5;241m=\u001b[39mcustom_tags,\n\u001b[1;32m    365\u001b[0m )\n\u001b[1;32m    366\u001b[0m \u001b[38;5;28;01mtry\u001b[39;00m:\n\u001b[0;32m--> 367\u001b[0m     res \u001b[38;5;241m=\u001b[39m \u001b[43mfunc\u001b[49m\u001b[43m(\u001b[49m\u001b[38;5;241;43m*\u001b[39;49m\u001b[43margs\u001b[49m\u001b[43m,\u001b[49m\u001b[43m \u001b[49m\u001b[38;5;241;43m*\u001b[39;49m\u001b[38;5;241;43m*\u001b[39;49m\u001b[43mkwargs\u001b[49m\u001b[43m)\u001b[49m\n\u001b[1;32m    368\u001b[0m \u001b[38;5;28;01mexcept\u001b[39;00m \u001b[38;5;167;01mException\u001b[39;00m \u001b[38;5;28;01mas\u001b[39;00m e:\n\u001b[1;32m    369\u001b[0m     \u001b[38;5;28;01mif\u001b[39;00m \u001b[38;5;129;01mnot\u001b[39;00m \u001b[38;5;28misinstance\u001b[39m(e, snowml_exceptions\u001b[38;5;241m.\u001b[39mSnowflakeMLException):\n\u001b[1;32m    370\u001b[0m         \u001b[38;5;66;03m# already handled via a nested decorated function\u001b[39;00m\n",
      "File \u001b[0;32m/packages/Python-3.9-Snowpark/c4ae710c-7618-477a-97d0-5337fbf62a9a/3.9/snowflake/ml/model/_client/model/model_version_impl.py:173\u001b[0m, in \u001b[0;36mModelVersion.set_metric\u001b[0;34m(self, metric_name, value)\u001b[0m\n\u001b[1;32m    163\u001b[0m \u001b[38;5;250m\u001b[39m\u001b[38;5;124;03m\"\"\"Set the value of a specific metric.\u001b[39;00m\n\u001b[1;32m    164\u001b[0m \n\u001b[1;32m    165\u001b[0m \u001b[38;5;124;03mArgs:\u001b[39;00m\n\u001b[1;32m    166\u001b[0m \u001b[38;5;124;03m    metric_name: The name of the metric.\u001b[39;00m\n\u001b[1;32m    167\u001b[0m \u001b[38;5;124;03m    value: The value of the metric.\u001b[39;00m\n\u001b[1;32m    168\u001b[0m \u001b[38;5;124;03m\"\"\"\u001b[39;00m\n\u001b[1;32m    169\u001b[0m statement_params \u001b[38;5;241m=\u001b[39m telemetry\u001b[38;5;241m.\u001b[39mget_statement_params(\n\u001b[1;32m    170\u001b[0m     project\u001b[38;5;241m=\u001b[39m_TELEMETRY_PROJECT,\n\u001b[1;32m    171\u001b[0m     subproject\u001b[38;5;241m=\u001b[39m_TELEMETRY_SUBPROJECT,\n\u001b[1;32m    172\u001b[0m )\n\u001b[0;32m--> 173\u001b[0m metrics \u001b[38;5;241m=\u001b[39m \u001b[38;5;28;43mself\u001b[39;49m\u001b[38;5;241;43m.\u001b[39;49m\u001b[43mshow_metrics\u001b[49m\u001b[43m(\u001b[49m\u001b[43m)\u001b[49m\n\u001b[1;32m    174\u001b[0m metrics[metric_name] \u001b[38;5;241m=\u001b[39m value\n\u001b[1;32m    175\u001b[0m \u001b[38;5;28mself\u001b[39m\u001b[38;5;241m.\u001b[39m_model_ops\u001b[38;5;241m.\u001b[39m_metadata_ops\u001b[38;5;241m.\u001b[39msave(\n\u001b[1;32m    176\u001b[0m     metadata_ops\u001b[38;5;241m.\u001b[39mModelVersionMetadataSchema(metrics\u001b[38;5;241m=\u001b[39mmetrics),\n\u001b[1;32m    177\u001b[0m     model_name\u001b[38;5;241m=\u001b[39m\u001b[38;5;28mself\u001b[39m\u001b[38;5;241m.\u001b[39m_model_name,\n\u001b[1;32m    178\u001b[0m     version_name\u001b[38;5;241m=\u001b[39m\u001b[38;5;28mself\u001b[39m\u001b[38;5;241m.\u001b[39m_version_name,\n\u001b[1;32m    179\u001b[0m     statement_params\u001b[38;5;241m=\u001b[39mstatement_params,\n\u001b[1;32m    180\u001b[0m )\n",
      "File \u001b[0;32m/packages/Python-3.9-Snowpark/c4ae710c-7618-477a-97d0-5337fbf62a9a/3.9/snowflake/ml/_internal/telemetry.py:389\u001b[0m, in \u001b[0;36msend_api_usage_telemetry.<locals>.decorator.<locals>.wrap\u001b[0;34m(*args, **kwargs)\u001b[0m\n\u001b[1;32m    387\u001b[0m         \u001b[38;5;28;01mraise\u001b[39;00m me\u001b[38;5;241m.\u001b[39moriginal_exception \u001b[38;5;28;01mfrom\u001b[39;00m \u001b[38;5;28;01mNone\u001b[39;00m\n\u001b[1;32m    388\u001b[0m     \u001b[38;5;28;01melse\u001b[39;00m:\n\u001b[0;32m--> 389\u001b[0m         \u001b[38;5;28;01mraise\u001b[39;00m me\u001b[38;5;241m.\u001b[39moriginal_exception \u001b[38;5;28;01mfrom\u001b[39;00m \u001b[38;5;21;01me\u001b[39;00m\n\u001b[1;32m    390\u001b[0m \u001b[38;5;28;01melse\u001b[39;00m:\n\u001b[1;32m    391\u001b[0m     \u001b[38;5;28;01mreturn\u001b[39;00m update_stmt_params_if_snowpark_df(res, statement_params)\n",
      "\u001b[0;31mValueError\u001b[0m: (0000) Metrics in the metadata is expected to be a dictionary, getting [{'model_metrics': {'accuracy_score': 0.803922, 'f1_score': 0.23076923076923075, 'recall_score': 0.15113350125944586, 'precision_score': 0.4878048780487805, 'roc_auc': 0.5563945047380613, 'log_loss': 7.0706121046545105}, 'project_id': '0e0fb803-22db-4d88-9f2f-f6f75b6abcf0', 'id': '7bbb5061-54d4-4862-8d47-7fbee388a4d1', 'run_id': '6d0370b7-7aab-4394-884a-266bc284d07a', 'algorithm_type': 'classification', 'algo_details': {'snowflake.ml.modeling.xgboost.XGBClassifier': None}, 'dataset': 'AIRLINE_DEP_DELAY_10K', 'target_column': 'DEP_DEL15', 'exp_name': 'Final_recipe', 'source': 'EXP'}]"
     ]
    }
   ],
   "source": [
    "model_obj.default.set_metric(\"model_metrics\",metric)\n",
    "# dir(model_obj.default)"
   ]
  },
  {
   "cell_type": "code",
   "execution_count": 7,
   "id": "4d7e47d8",
   "metadata": {},
   "outputs": [
    {
     "ename": "ValueError",
     "evalue": "(0000) Metrics in the metadata is expected to be a dictionary, getting [{'model_metrics': {'accuracy_score': 0.803922, 'f1_score': 0.23076923076923075, 'recall_score': 0.15113350125944586, 'precision_score': 0.4878048780487805, 'roc_auc': 0.5563945047380613, 'log_loss': 7.0706121046545105}, 'project_id': '0e0fb803-22db-4d88-9f2f-f6f75b6abcf0', 'id': '7bbb5061-54d4-4862-8d47-7fbee388a4d1', 'run_id': '6d0370b7-7aab-4394-884a-266bc284d07a', 'algorithm_type': 'classification', 'algo_details': {'snowflake.ml.modeling.xgboost.XGBClassifier': None}, 'dataset': 'AIRLINE_DEP_DELAY_10K', 'target_column': 'DEP_DEL15', 'exp_name': 'Final_recipe', 'source': 'EXP'}]",
     "output_type": "error",
     "traceback": [
      "\u001b[0;31m---------------------------------------------------------------------------\u001b[0m",
      "\u001b[0;31mValueError\u001b[0m                                Traceback (most recent call last)",
      "File \u001b[0;32m/packages/Python-3.9-Snowpark/c4ae710c-7618-477a-97d0-5337fbf62a9a/3.9/snowflake/ml/_internal/telemetry.py:367\u001b[0m, in \u001b[0;36msend_api_usage_telemetry.<locals>.decorator.<locals>.wrap\u001b[0;34m(*args, **kwargs)\u001b[0m\n\u001b[1;32m    366\u001b[0m \u001b[38;5;28;01mtry\u001b[39;00m:\n\u001b[0;32m--> 367\u001b[0m     res \u001b[38;5;241m=\u001b[39m \u001b[43mfunc\u001b[49m\u001b[43m(\u001b[49m\u001b[38;5;241;43m*\u001b[39;49m\u001b[43margs\u001b[49m\u001b[43m,\u001b[49m\u001b[43m \u001b[49m\u001b[38;5;241;43m*\u001b[39;49m\u001b[38;5;241;43m*\u001b[39;49m\u001b[43mkwargs\u001b[49m\u001b[43m)\u001b[49m\n\u001b[1;32m    368\u001b[0m \u001b[38;5;28;01mexcept\u001b[39;00m \u001b[38;5;167;01mException\u001b[39;00m \u001b[38;5;28;01mas\u001b[39;00m e:\n",
      "File \u001b[0;32m/packages/Python-3.9-Snowpark/c4ae710c-7618-477a-97d0-5337fbf62a9a/3.9/snowflake/ml/model/_client/model/model_version_impl.py:133\u001b[0m, in \u001b[0;36mModelVersion.show_metrics\u001b[0;34m(self)\u001b[0m\n\u001b[1;32m    129\u001b[0m statement_params \u001b[38;5;241m=\u001b[39m telemetry\u001b[38;5;241m.\u001b[39mget_statement_params(\n\u001b[1;32m    130\u001b[0m     project\u001b[38;5;241m=\u001b[39m_TELEMETRY_PROJECT,\n\u001b[1;32m    131\u001b[0m     subproject\u001b[38;5;241m=\u001b[39m_TELEMETRY_SUBPROJECT,\n\u001b[1;32m    132\u001b[0m )\n\u001b[0;32m--> 133\u001b[0m \u001b[38;5;28;01mreturn\u001b[39;00m \u001b[38;5;28;43mself\u001b[39;49m\u001b[38;5;241;43m.\u001b[39;49m\u001b[43m_model_ops\u001b[49m\u001b[38;5;241;43m.\u001b[39;49m\u001b[43m_metadata_ops\u001b[49m\u001b[38;5;241;43m.\u001b[39;49m\u001b[43mload\u001b[49m\u001b[43m(\u001b[49m\n\u001b[1;32m    134\u001b[0m \u001b[43m    \u001b[49m\u001b[43mmodel_name\u001b[49m\u001b[38;5;241;43m=\u001b[39;49m\u001b[38;5;28;43mself\u001b[39;49m\u001b[38;5;241;43m.\u001b[39;49m\u001b[43m_model_name\u001b[49m\u001b[43m,\u001b[49m\u001b[43m \u001b[49m\u001b[43mversion_name\u001b[49m\u001b[38;5;241;43m=\u001b[39;49m\u001b[38;5;28;43mself\u001b[39;49m\u001b[38;5;241;43m.\u001b[39;49m\u001b[43m_version_name\u001b[49m\u001b[43m,\u001b[49m\u001b[43m \u001b[49m\u001b[43mstatement_params\u001b[49m\u001b[38;5;241;43m=\u001b[39;49m\u001b[43mstatement_params\u001b[49m\n\u001b[1;32m    135\u001b[0m \u001b[43m\u001b[49m\u001b[43m)\u001b[49m[\u001b[38;5;124m\"\u001b[39m\u001b[38;5;124mmetrics\u001b[39m\u001b[38;5;124m\"\u001b[39m]\n",
      "File \u001b[0;32m/packages/Python-3.9-Snowpark/c4ae710c-7618-477a-97d0-5337fbf62a9a/3.9/snowflake/ml/model/_client/ops/metadata_ops.py:89\u001b[0m, in \u001b[0;36mMetadataOperator.load\u001b[0;34m(self, model_name, version_name, statement_params)\u001b[0m\n\u001b[1;32m     86\u001b[0m metadata_dict \u001b[38;5;241m=\u001b[39m \u001b[38;5;28mself\u001b[39m\u001b[38;5;241m.\u001b[39m_get_current_metadata_dict(\n\u001b[1;32m     87\u001b[0m     model_name\u001b[38;5;241m=\u001b[39mmodel_name, version_name\u001b[38;5;241m=\u001b[39mversion_name, statement_params\u001b[38;5;241m=\u001b[39mstatement_params\n\u001b[1;32m     88\u001b[0m )\n\u001b[0;32m---> 89\u001b[0m \u001b[38;5;28;01mreturn\u001b[39;00m \u001b[43mMetadataOperator\u001b[49m\u001b[38;5;241;43m.\u001b[39;49m\u001b[43m_parse\u001b[49m\u001b[43m(\u001b[49m\u001b[43mmetadata_dict\u001b[49m\u001b[43m)\u001b[49m\n",
      "File \u001b[0;32m/packages/Python-3.9-Snowpark/c4ae710c-7618-477a-97d0-5337fbf62a9a/3.9/snowflake/ml/model/_client/ops/metadata_ops.py:58\u001b[0m, in \u001b[0;36mMetadataOperator._parse\u001b[0;34m(metadata_dict)\u001b[0m\n\u001b[1;32m     57\u001b[0m \u001b[38;5;28;01mif\u001b[39;00m \u001b[38;5;129;01mnot\u001b[39;00m \u001b[38;5;28misinstance\u001b[39m(loaded_metrics, \u001b[38;5;28mdict\u001b[39m):\n\u001b[0;32m---> 58\u001b[0m     \u001b[38;5;28;01mraise\u001b[39;00m \u001b[38;5;167;01mValueError\u001b[39;00m(\u001b[38;5;124mf\u001b[39m\u001b[38;5;124m\"\u001b[39m\u001b[38;5;124mMetrics in the metadata is expected to be a dictionary, getting \u001b[39m\u001b[38;5;132;01m{\u001b[39;00mloaded_metrics\u001b[38;5;132;01m}\u001b[39;00m\u001b[38;5;124m\"\u001b[39m)\n\u001b[1;32m     59\u001b[0m \u001b[38;5;28;01mreturn\u001b[39;00m ModelVersionMetadataSchema(metrics\u001b[38;5;241m=\u001b[39mloaded_metrics)\n",
      "\u001b[0;31mValueError\u001b[0m: Metrics in the metadata is expected to be a dictionary, getting [{'model_metrics': {'accuracy_score': 0.803922, 'f1_score': 0.23076923076923075, 'recall_score': 0.15113350125944586, 'precision_score': 0.4878048780487805, 'roc_auc': 0.5563945047380613, 'log_loss': 7.0706121046545105}, 'project_id': '0e0fb803-22db-4d88-9f2f-f6f75b6abcf0', 'id': '7bbb5061-54d4-4862-8d47-7fbee388a4d1', 'run_id': '6d0370b7-7aab-4394-884a-266bc284d07a', 'algorithm_type': 'classification', 'algo_details': {'snowflake.ml.modeling.xgboost.XGBClassifier': None}, 'dataset': 'AIRLINE_DEP_DELAY_10K', 'target_column': 'DEP_DEL15', 'exp_name': 'Final_recipe', 'source': 'EXP'}]",
      "\nThe above exception was the direct cause of the following exception:\n",
      "\u001b[0;31mValueError\u001b[0m                                Traceback (most recent call last)",
      "Cell \u001b[0;32mIn[7], line 3\u001b[0m\n\u001b[1;32m      1\u001b[0m model_obj \u001b[38;5;241m=\u001b[39m reg\u001b[38;5;241m.\u001b[39mget_model(model_name)\n\u001b[1;32m      2\u001b[0m metrics \u001b[38;5;241m=\u001b[39m {\n\u001b[0;32m----> 3\u001b[0m     \u001b[38;5;124m\"\u001b[39m\u001b[38;5;124mmodel_metrics\u001b[39m\u001b[38;5;124m\"\u001b[39m : \u001b[43mmodel_obj\u001b[49m\u001b[38;5;241;43m.\u001b[39;49m\u001b[43mdefault\u001b[49m\u001b[38;5;241;43m.\u001b[39;49m\u001b[43mget_metric\u001b[49m\u001b[43m(\u001b[49m\u001b[38;5;124;43m'\u001b[39;49m\u001b[38;5;124;43mmodel_metrics\u001b[39;49m\u001b[38;5;124;43m'\u001b[39;49m\u001b[43m)\u001b[49m\n\u001b[1;32m      4\u001b[0m }\n",
      "File \u001b[0;32m/packages/Python-3.9-Snowpark/c4ae710c-7618-477a-97d0-5337fbf62a9a/3.9/snowflake/ml/_internal/telemetry.py:372\u001b[0m, in \u001b[0;36msend_api_usage_telemetry.<locals>.decorator.<locals>.wrap\u001b[0;34m(*args, **kwargs)\u001b[0m\n\u001b[1;32m    369\u001b[0m \u001b[38;5;28;01mif\u001b[39;00m \u001b[38;5;129;01mnot\u001b[39;00m \u001b[38;5;28misinstance\u001b[39m(e, snowml_exceptions\u001b[38;5;241m.\u001b[39mSnowflakeMLException):\n\u001b[1;32m    370\u001b[0m     \u001b[38;5;66;03m# already handled via a nested decorated function\u001b[39;00m\n\u001b[1;32m    371\u001b[0m     \u001b[38;5;28;01mif\u001b[39;00m \u001b[38;5;28mhasattr\u001b[39m(e, \u001b[38;5;124m\"\u001b[39m\u001b[38;5;124m_snowflake_ml_handled\u001b[39m\u001b[38;5;124m\"\u001b[39m) \u001b[38;5;129;01mand\u001b[39;00m e\u001b[38;5;241m.\u001b[39m_snowflake_ml_handled:\n\u001b[0;32m--> 372\u001b[0m         \u001b[38;5;28;01mraise\u001b[39;00m e\n\u001b[1;32m    373\u001b[0m     \u001b[38;5;28;01mif\u001b[39;00m \u001b[38;5;28misinstance\u001b[39m(e, snowpark_exceptions\u001b[38;5;241m.\u001b[39mSnowparkClientException):\n\u001b[1;32m    374\u001b[0m         me \u001b[38;5;241m=\u001b[39m snowml_exceptions\u001b[38;5;241m.\u001b[39mSnowflakeMLException(\n\u001b[1;32m    375\u001b[0m             error_code\u001b[38;5;241m=\u001b[39merror_codes\u001b[38;5;241m.\u001b[39mINTERNAL_SNOWPARK_ERROR, original_exception\u001b[38;5;241m=\u001b[39me\n\u001b[1;32m    376\u001b[0m         )\n",
      "File \u001b[0;32m/packages/Python-3.9-Snowpark/c4ae710c-7618-477a-97d0-5337fbf62a9a/3.9/snowflake/ml/_internal/telemetry.py:367\u001b[0m, in \u001b[0;36msend_api_usage_telemetry.<locals>.decorator.<locals>.wrap\u001b[0;34m(*args, **kwargs)\u001b[0m\n\u001b[1;32m    358\u001b[0m telemetry_args \u001b[38;5;241m=\u001b[39m \u001b[38;5;28mdict\u001b[39m(\n\u001b[1;32m    359\u001b[0m     func_name\u001b[38;5;241m=\u001b[39m_get_full_func_name(func),\n\u001b[1;32m    360\u001b[0m     function_category\u001b[38;5;241m=\u001b[39mTelemetryField\u001b[38;5;241m.\u001b[39mFUNC_CAT_USAGE\u001b[38;5;241m.\u001b[39mvalue,\n\u001b[0;32m   (...)\u001b[0m\n\u001b[1;32m    364\u001b[0m     custom_tags\u001b[38;5;241m=\u001b[39mcustom_tags,\n\u001b[1;32m    365\u001b[0m )\n\u001b[1;32m    366\u001b[0m \u001b[38;5;28;01mtry\u001b[39;00m:\n\u001b[0;32m--> 367\u001b[0m     res \u001b[38;5;241m=\u001b[39m \u001b[43mfunc\u001b[49m\u001b[43m(\u001b[49m\u001b[38;5;241;43m*\u001b[39;49m\u001b[43margs\u001b[49m\u001b[43m,\u001b[49m\u001b[43m \u001b[49m\u001b[38;5;241;43m*\u001b[39;49m\u001b[38;5;241;43m*\u001b[39;49m\u001b[43mkwargs\u001b[49m\u001b[43m)\u001b[49m\n\u001b[1;32m    368\u001b[0m \u001b[38;5;28;01mexcept\u001b[39;00m \u001b[38;5;167;01mException\u001b[39;00m \u001b[38;5;28;01mas\u001b[39;00m e:\n\u001b[1;32m    369\u001b[0m     \u001b[38;5;28;01mif\u001b[39;00m \u001b[38;5;129;01mnot\u001b[39;00m \u001b[38;5;28misinstance\u001b[39m(e, snowml_exceptions\u001b[38;5;241m.\u001b[39mSnowflakeMLException):\n\u001b[1;32m    370\u001b[0m         \u001b[38;5;66;03m# already handled via a nested decorated function\u001b[39;00m\n",
      "File \u001b[0;32m/packages/Python-3.9-Snowpark/c4ae710c-7618-477a-97d0-5337fbf62a9a/3.9/snowflake/ml/model/_client/model/model_version_impl.py:153\u001b[0m, in \u001b[0;36mModelVersion.get_metric\u001b[0;34m(self, metric_name)\u001b[0m\n\u001b[1;32m    137\u001b[0m \u001b[38;5;129m@telemetry\u001b[39m\u001b[38;5;241m.\u001b[39msend_api_usage_telemetry(\n\u001b[1;32m    138\u001b[0m     project\u001b[38;5;241m=\u001b[39m_TELEMETRY_PROJECT,\n\u001b[1;32m    139\u001b[0m     subproject\u001b[38;5;241m=\u001b[39m_TELEMETRY_SUBPROJECT,\n\u001b[1;32m    140\u001b[0m )\n\u001b[1;32m    141\u001b[0m \u001b[38;5;28;01mdef\u001b[39;00m \u001b[38;5;21mget_metric\u001b[39m(\u001b[38;5;28mself\u001b[39m, metric_name: \u001b[38;5;28mstr\u001b[39m) \u001b[38;5;241m-\u001b[39m\u001b[38;5;241m>\u001b[39m Any:\n\u001b[1;32m    142\u001b[0m \u001b[38;5;250m    \u001b[39m\u001b[38;5;124;03m\"\"\"Get the value of a specific metric.\u001b[39;00m\n\u001b[1;32m    143\u001b[0m \n\u001b[1;32m    144\u001b[0m \u001b[38;5;124;03m    Args:\u001b[39;00m\n\u001b[0;32m   (...)\u001b[0m\n\u001b[1;32m    151\u001b[0m \u001b[38;5;124;03m        The value of the metric.\u001b[39;00m\n\u001b[1;32m    152\u001b[0m \u001b[38;5;124;03m    \"\"\"\u001b[39;00m\n\u001b[0;32m--> 153\u001b[0m     metrics \u001b[38;5;241m=\u001b[39m \u001b[38;5;28;43mself\u001b[39;49m\u001b[38;5;241;43m.\u001b[39;49m\u001b[43mshow_metrics\u001b[49m\u001b[43m(\u001b[49m\u001b[43m)\u001b[49m\n\u001b[1;32m    154\u001b[0m     \u001b[38;5;28;01mif\u001b[39;00m metric_name \u001b[38;5;129;01mnot\u001b[39;00m \u001b[38;5;129;01min\u001b[39;00m metrics:\n\u001b[1;32m    155\u001b[0m         \u001b[38;5;28;01mraise\u001b[39;00m \u001b[38;5;167;01mKeyError\u001b[39;00m(\u001b[38;5;124mf\u001b[39m\u001b[38;5;124m\"\u001b[39m\u001b[38;5;124mCannot find metric with name \u001b[39m\u001b[38;5;132;01m{\u001b[39;00mmetric_name\u001b[38;5;132;01m}\u001b[39;00m\u001b[38;5;124m.\u001b[39m\u001b[38;5;124m\"\u001b[39m)\n",
      "File \u001b[0;32m/packages/Python-3.9-Snowpark/c4ae710c-7618-477a-97d0-5337fbf62a9a/3.9/snowflake/ml/_internal/telemetry.py:389\u001b[0m, in \u001b[0;36msend_api_usage_telemetry.<locals>.decorator.<locals>.wrap\u001b[0;34m(*args, **kwargs)\u001b[0m\n\u001b[1;32m    387\u001b[0m         \u001b[38;5;28;01mraise\u001b[39;00m me\u001b[38;5;241m.\u001b[39moriginal_exception \u001b[38;5;28;01mfrom\u001b[39;00m \u001b[38;5;28;01mNone\u001b[39;00m\n\u001b[1;32m    388\u001b[0m     \u001b[38;5;28;01melse\u001b[39;00m:\n\u001b[0;32m--> 389\u001b[0m         \u001b[38;5;28;01mraise\u001b[39;00m me\u001b[38;5;241m.\u001b[39moriginal_exception \u001b[38;5;28;01mfrom\u001b[39;00m \u001b[38;5;21;01me\u001b[39;00m\n\u001b[1;32m    390\u001b[0m \u001b[38;5;28;01melse\u001b[39;00m:\n\u001b[1;32m    391\u001b[0m     \u001b[38;5;28;01mreturn\u001b[39;00m update_stmt_params_if_snowpark_df(res, statement_params)\n",
      "\u001b[0;31mValueError\u001b[0m: (0000) Metrics in the metadata is expected to be a dictionary, getting [{'model_metrics': {'accuracy_score': 0.803922, 'f1_score': 0.23076923076923075, 'recall_score': 0.15113350125944586, 'precision_score': 0.4878048780487805, 'roc_auc': 0.5563945047380613, 'log_loss': 7.0706121046545105}, 'project_id': '0e0fb803-22db-4d88-9f2f-f6f75b6abcf0', 'id': '7bbb5061-54d4-4862-8d47-7fbee388a4d1', 'run_id': '6d0370b7-7aab-4394-884a-266bc284d07a', 'algorithm_type': 'classification', 'algo_details': {'snowflake.ml.modeling.xgboost.XGBClassifier': None}, 'dataset': 'AIRLINE_DEP_DELAY_10K', 'target_column': 'DEP_DEL15', 'exp_name': 'Final_recipe', 'source': 'EXP'}]"
     ]
    }
   ],
   "source": [
    "model_obj = reg.get_model(model_name)\n",
    "metrics = {\n",
    "    \"model_metrics\" : model_obj.default.get_metric('model_metrics')\n",
    "}"
   ]
  },
  {
   "cell_type": "code",
   "execution_count": null,
   "id": "36f7059b",
   "metadata": {},
   "outputs": [],
   "source": []
  }
 ],
 "metadata": {
  "kernelspec": {
   "display_name": "Python 3",
   "language": "python",
   "name": "python3"
  },
  "language_info": {
   "codemirror_mode": {
    "name": "ipython",
    "version": 3
   },
   "file_extension": ".py",
   "mimetype": "text/x-python",
   "name": "python",
   "nbconvert_exporter": "python",
   "pygments_lexer": "ipython3",
   "version": "3.9.18"
  }
 },
 "nbformat": 4,
 "nbformat_minor": 5
}
