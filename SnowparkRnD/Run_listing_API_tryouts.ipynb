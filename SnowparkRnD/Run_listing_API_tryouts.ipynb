{
 "cells": [
  {
   "cell_type": "code",
   "execution_count": 1,
   "id": "b5cc4589",
   "metadata": {},
   "outputs": [],
   "source": [
    "monitor_resp = [\n",
    "    {\n",
    "        \"run_id\": \"8042932c-101a-4ddc-a808-00c092797960\",\n",
    "        \"algorithm_used\": \"XGBClassifier\",\n",
    "        \"status\": \"Successful\"\n",
    "    },\n",
    "    {\n",
    "        \"run_id\": \"16e3f179-bb70-4632-9a39-9a6fac4a5581\",\n",
    "        \"algorithm_used\": \"DecisionTreeClassifier\",\n",
    "        \"status\": \"Successful\"\n",
    "    },\n",
    "    {\n",
    "        \"run_id\": \"ef47a0a5-1a74-4a14-b0fd-8dbbd322057f\",\n",
    "        \"algorithm_used\": \"GradientBoostingClassifier\",\n",
    "        \"status\": \"Running\"\n",
    "    },\n",
    "    {\n",
    "        \"run_id\": \"26a15f9c-29fd-4d55-82fb-3d38cc18e4b8\",\n",
    "        \"algorithm_used\": \"RandomForestClassifier\",\n",
    "        \"status\": \"Running\"\n",
    "    }\n",
    "]"
   ]
  },
  {
   "cell_type": "code",
   "execution_count": 4,
   "id": "d30db239",
   "metadata": {},
   "outputs": [],
   "source": [
    "from fosforio.manager import get_conn_details_from_ds_name\n",
    "from snowflake.snowpark.session import Session\n",
    "from snowflake.ml.registry.registry import Registry"
   ]
  },
  {
   "cell_type": "code",
   "execution_count": 2,
   "id": "81f74ed5",
   "metadata": {},
   "outputs": [
    {
     "name": "stdout",
     "output_type": "stream",
     "text": [
      "Connection manager service url initialised to http://fdc-project-manager:80/project-manager\n",
      "If you need to update its value then update the variable CONNECTION_MANAGER_BASE_URL in os env.\n"
     ]
    }
   ],
   "source": [
    "def get_session(dataset, project_id):\n",
    "    \"\"\"\n",
    "    Method creates snowflake session object.\n",
    "    :return:\n",
    "    \"\"\"\n",
    "    try:\n",
    "        conn = get_conn_details_from_ds_name(dataset, project_id)\n",
    "        region=conn[\"params\"][\"READER\"][\"region\"] if conn[\"params\"][\"READER\"][\"cloudPlatform\"] is None \\\n",
    "                    else conn[\"params\"][\"READER\"][\"region\"]+\".\"+conn[\"params\"][\"READER\"][\"cloudPlatform\"]\n",
    "        account = conn['params']['READER']['accountId'] if region is None \\\n",
    "                    else conn['params']['READER']['accountId']+\".\"+region\n",
    "        CONNECTION_PARAMETERS = {\n",
    "            \"account\": account,\n",
    "            \"user\":conn['params']['READER']['user'],\n",
    "            \"password\": conn['params']['READER']['password'],\n",
    "            \"role\": conn['params']['READER']['role'],\n",
    "            \"database\": conn['params']['READER']['database'],\n",
    "            \"warehouse\": conn['params']['READER']['wareHouse'],\n",
    "            \"schema\": conn['params']['READER']['schema']\n",
    "        }\n",
    "        return Session.builder.configs(CONNECTION_PARAMETERS).create()\n",
    "    except Exception as ex:\n",
    "        print(\"Error while creating snowflake session\", ex)\n",
    "        raise ex"
   ]
  },
  {
   "cell_type": "code",
   "execution_count": 3,
   "id": "dd851daa",
   "metadata": {},
   "outputs": [],
   "source": [
    "session = get_session(\"EMPLOYEE_10L\",\"0e0fb803-22db-4d88-9f2f-f6f75b6abcf0\")"
   ]
  },
  {
   "cell_type": "code",
   "execution_count": 5,
   "id": "3a34008c",
   "metadata": {},
   "outputs": [],
   "source": [
    "reg = Registry(session=session)"
   ]
  },
  {
   "cell_type": "code",
   "execution_count": null,
   "id": "8457cae2",
   "metadata": {},
   "outputs": [],
   "source": [
    "model_list = "
   ]
  }
 ],
 "metadata": {
  "kernelspec": {
   "display_name": "Python 3",
   "language": "python",
   "name": "python3"
  },
  "language_info": {
   "codemirror_mode": {
    "name": "ipython",
    "version": 3
   },
   "file_extension": ".py",
   "mimetype": "text/x-python",
   "name": "python",
   "nbconvert_exporter": "python",
   "pygments_lexer": "ipython3",
   "version": "3.9.18"
  }
 },
 "nbformat": 4,
 "nbformat_minor": 5
}
