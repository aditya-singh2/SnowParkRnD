{
 "cells": [
  {
   "cell_type": "code",
   "execution_count": 1,
   "id": "8a615090",
   "metadata": {},
   "outputs": [
    {
     "name": "stdout",
     "output_type": "stream",
     "text": [
      "Connection manager service url initialised to http://fdc-project-manager:80/project-manager\n",
      "If you need to update its value then update the variable CONNECTION_MANAGER_BASE_URL in os env.\n",
      "CPU times: user 1.5 s, sys: 717 ms, total: 2.22 s\n",
      "Wall time: 3.35 s\n"
     ]
    }
   ],
   "source": [
    "%%time\n",
    "from fosforio.manager import get_conn_details_from_ds_name\n",
    "from snowflake.snowpark.session import Session\n",
    "from snowflake.ml.registry import Registry\n",
    "import pandas as pd, re"
   ]
  },
  {
   "cell_type": "code",
   "execution_count": 2,
   "id": "aa992ac1",
   "metadata": {},
   "outputs": [],
   "source": [
    "def get_session(dataset, project_id):\n",
    "    \"\"\"\n",
    "    Method creates snowflake session object.\n",
    "    :return:\n",
    "    \"\"\"\n",
    "    try:\n",
    "        conn = get_conn_details_from_ds_name(dataset, project_id)\n",
    "        region=conn[\"params\"][\"READER\"][\"region\"] if conn[\"params\"][\"READER\"][\"cloudPlatform\"] is None \\\n",
    "                    else conn[\"params\"][\"READER\"][\"region\"]+\".\"+conn[\"params\"][\"READER\"][\"cloudPlatform\"]\n",
    "        account = conn['params']['READER']['accountId'] if region is None \\\n",
    "                    else conn['params']['READER']['accountId']+\".\"+region\n",
    "        CONNECTION_PARAMETERS = {\n",
    "            \"account\": account,\n",
    "            \"user\":conn['params']['READER']['user'],\n",
    "            \"password\": conn['params']['READER']['password'],\n",
    "            \"role\": conn['params']['READER']['role'],\n",
    "            \"database\": conn['params']['READER']['database'],\n",
    "            \"warehouse\": conn['params']['READER']['wareHouse'],\n",
    "            \"schema\": conn['params']['READER']['schema']\n",
    "        }\n",
    "        return Session.builder.configs(CONNECTION_PARAMETERS).create()\n",
    "    except Exception as ex:\n",
    "        print(\"Error while creating snowflake session\", ex)\n",
    "        raise ex"
   ]
  },
  {
   "cell_type": "code",
   "execution_count": 3,
   "id": "5b9d6ddf",
   "metadata": {},
   "outputs": [],
   "source": [
    "session = get_session('DIAMONDS',\"fd0cf79c-8118-43a7-8f0b-059e8f78227a\")"
   ]
  },
  {
   "cell_type": "code",
   "execution_count": 4,
   "id": "4864c26d",
   "metadata": {},
   "outputs": [],
   "source": [
    "import requests\n",
    "exp_id=\"600b9f90-f431-4590-83c7-f38fe138dedc\"\n",
    "project_id=\"68bce134-6d7a-4e24-9591-86266438acf9\"\n",
    "executions_url = f\"http://monitor-backend-service/monitor/api/v4/executions/search?objectId={exp_id}&projectId={project_id}&jobType=EXPERIMENT&profile=DETAILED\"\n",
    "\n",
    "temp_head = {\n",
    "    \"X-Auth-Userid\": \"aditya1.singh2@fosfor.com\",\n",
    "    \"X-Auth-Username\": \"aditya1.singh2@fosfor.com\",\n",
    "    \"X-Auth-Email\": \"aditya1.singh2@fosfor.com\",\n",
    "    \"X-Project-Id\": \"68bce134-6d7a-4e24-9591-86266438acf9\"\n",
    "}"
   ]
  },
  {
   "cell_type": "code",
   "execution_count": 5,
   "id": "5e2d9789",
   "metadata": {},
   "outputs": [
    {
     "name": "stdout",
     "output_type": "stream",
     "text": [
      "{'totalRecordCount': 1, 'data': [{'jobinstanceId': 110003, 'objectId': '600b9f90-f431-4590-83c7-f38fe138dedc', 'projectId': '68bce134-6d7a-4e24-9591-86266438acf9', 'projectName': None, 'jobObjectName': 'New_Experiment_01', 'jobScheduleId': None, 'jobInstanceInputParameter': '{\"input_params\":\"{\\\\\"currentTime\\\\\":\\\\\"2024-07-10T14:10:56Z\\\\\",\\\\\"objectName\\\\\":\\\\\"New_Experiment_01\\\\\",\\\\\"lastRunDate\\\\\":\\\\\"2024-07-10T13:45:54Z\\\\\",\\\\\"instanceId\\\\\":\\\\\"110003\\\\\",\\\\\"lastSuccessfulRunDate\\\\\":\\\\\"\\\\\",\\\\\"userId\\\\\":\\\\\"aditya1.singh2@fosfor.com\\\\\"}\"}', 'jobType': 'EXPERIMENT', 'jobStatus': 'SUCCESSFUL', 'finalStatus': 'SUCCESSFUL', 'jobCreatedby': 'aditya1.singh2@fosfor.com', 'jobCreatedts': '2024-07-10T14:10:56.270+00:00', 'jobUpdatedby': 'aditya1.singh2@fosfor.com', 'jobUpdatedts': '2024-07-10T14:11:41.460+00:00', 'applicationId': '01b59392-0000-72c9-0000-576d074ae99a', 'executionId': None, 'runID': '110003', 'versionNumber': None, 'runEngine': 'SNOWFLAKE', 'attemptId': 110107, 'workflowId': None, 'jobConfig': '{\"snowflake_query\": \"CALL RUN_EXPERIMENT({\\'algorithm_category\\': \\'Snowparkml\\', \\'algorithm_type\\': \\'Classification\\', \\'algorithms\\': [{\\'algorithm_name\\': \\'snowflake.ml.modeling.xgboost.XGBClassifier\\'}], \\'dataset_name\\': \\'DIAMONDS\\', \\'experiment_id\\': \\'600b9f90-f431-4590-83c7-f38fe138dedc\\', \\'experiment_name\\': \\'New_Experiment_01\\', \\'monitor_run_id\\': \\'MONITORRUNID\\', \\'project_id\\': \\'68bce134-6d7a-4e24-9591-86266438acf9\\', \\'stored_procedure\\': \\'run_experiment\\', \\'target_column\\': \\'PRICE\\'});\", \"algorithm\": \"snowflake.ml.modeling.xgboost.XGBClassifier\"}'}], 'jobTypesList': None, 'executedByList': None, 'projectList': None}\n"
     ]
    }
   ],
   "source": [
    "response = requests.get(executions_url, headers=temp_head)\n",
    "print(response.json())\n",
    "res = response.json()"
   ]
  },
  {
   "cell_type": "code",
   "execution_count": 6,
   "id": "489be17d",
   "metadata": {},
   "outputs": [],
   "source": [
    "_res_format = {\n",
    "            \"run_id\": \"\",\n",
    "            \"algorithm_used\": \"\",\n",
    "            \"status\": \"\"\n",
    "        }\n",
    "monitor_resp = []"
   ]
  },
  {
   "cell_type": "code",
   "execution_count": 7,
   "id": "532cdd5e",
   "metadata": {},
   "outputs": [
    {
     "name": "stdout",
     "output_type": "stream",
     "text": [
      "XGBClassifier\n"
     ]
    }
   ],
   "source": [
    "for data in res.get('data'):\n",
    "    jobConfig=data.get('jobConfig')\n",
    "    pattern = r\"snowflake\\.ml[^']*\"\n",
    "    match = re.search(pattern, jobConfig)\n",
    "    if match:\n",
    "        algorithm_used = match.group().rsplit('.', 1)\n",
    "    _res_format.update({\"run_id\": data.get('runID'),\n",
    "                        \"run_status\": data.get('jobStatus'),\n",
    "                        \"algorithm_used\": algorithm_used[1] if match else None})\n",
    "    res_data = _res_format\n",
    "    monitor_resp.append(res_data)"
   ]
  },
  {
   "cell_type": "code",
   "execution_count": 8,
   "id": "14d0ae84",
   "metadata": {},
   "outputs": [],
   "source": [
    "query = \"SELECT \" \\\n",
    "        \"METADATA:metrics:model_metrics as model_metrics,\" \\\n",
    "        \"METADATA:metrics:run_id as run_id,\" \\\n",
    "        \"METADATA:metrics:status as status,\" \\\n",
    "        \"MODEL_NAME as sf_model_name \" \\\n",
    "        f\"FROM INFORMATION_SCHEMA.MODEL_VERSIONS where METADATA:metrics:experiment_id='{exp_id}';\""
   ]
  },
  {
   "cell_type": "code",
   "execution_count": 14,
   "id": "6d5c8669",
   "metadata": {},
   "outputs": [],
   "source": [
    "registry_resp = session.sql(query).to_pandas()\n",
    "monitor_resp = pd.DataFrame(monitor_resp)\n",
    "registry_resp.rename(columns={'MODEL_METRICS': 'model_metrics',\n",
    "                              'RUN_ID': 'run_id',\n",
    "                              'STATUS': 'status',\n",
    "                              'SF_MODEL_NAME': 'experiment_model_name'}, inplace=True)          \n",
    "final_resp = pd.merge(monitor_resp, registry_resp, on='run_id', how='left')\n",
    "a = {'data': final_resp.to_dict(orient='records')}"
   ]
  },
  {
   "cell_type": "code",
   "execution_count": 16,
   "id": "701bf603",
   "metadata": {},
   "outputs": [
    {
     "name": "stdout",
     "output_type": "stream",
     "text": [
      "   run_id                                  algorithm_used status  run_status\n",
      "0  110003  [snowflake.ml.modeling.xgboost, XGBClassifier]         SUCCESSFUL\n",
      "Empty DataFrame\n",
      "Columns: [model_metrics, run_id, status, experiment_model_name]\n",
      "Index: []\n",
      "{'data': [{'run_id': '110003', 'algorithm_used': ['snowflake.ml.modeling.xgboost', 'XGBClassifier'], 'status_x': '', 'run_status': 'SUCCESSFUL', 'model_metrics': nan, 'status_y': nan, 'experiment_model_name': nan}]}\n"
     ]
    }
   ],
   "source": [
    "print(monitor_resp)\n",
    "print(registry_resp)\n",
    "print(a)"
   ]
  },
  {
   "cell_type": "code",
   "execution_count": null,
   "id": "394ab096",
   "metadata": {},
   "outputs": [],
   "source": [
    "import json, re\n",
    "res=response.json()\n",
    "for data in res.get('data'):\n",
    "    jobConfig=data.get('jobConfig')\n",
    "    print(jobConfig)\n",
    "#     data = json.loads(data)\n",
    "#     print(jobConfig)\n",
    "    pattern = r'snowflake\\.ml[^\"]*'\n",
    "    x = re.search(pattern, jobConfig)\n",
    "    print(x.group(0))\n",
    "    print(type(data))\n",
    "    break"
   ]
  },
  {
   "cell_type": "code",
   "execution_count": null,
   "id": "cbaf3f16",
   "metadata": {},
   "outputs": [],
   "source": [
    "%%time\n",
    "monitor_resp = [\n",
    "    {\n",
    "        \"run_id\": \"RUN_0001\",\n",
    "        \"algorithm_used\": \"XGBClassifier\",\n",
    "        \"status\": \"Successful\"\n",
    "    },\n",
    "    {\n",
    "        \"run_id\": \"RUN_0001_11\",\n",
    "        \"algorithm_used\": \"DecisionTreeClassifier\",\n",
    "        \"status\": \"Successful\"\n",
    "    },\n",
    "    {\n",
    "        \"run_id\": \"ef47a0a5\",\n",
    "        \"algorithm_used\": \"GradientBoostingClassifier\",\n",
    "        \"status\": \"Running\"\n",
    "    },\n",
    "    {\n",
    "        \"run_id\": \"26a15f9c\",\n",
    "        \"algorithm_used\": \"RandomForestClassifier\",\n",
    "        \"status\": \"Running\"\n",
    "    }\n",
    "]\n",
    "\n",
    "# monitor_resp = []\n",
    "def get_session(dataset, project_id):\n",
    "    \"\"\"\n",
    "    Method creates snowflake session object.\n",
    "    :return:\n",
    "    \"\"\"\n",
    "    try:\n",
    "        conn = get_conn_details_from_ds_name(dataset, project_id)\n",
    "        region=conn[\"params\"][\"READER\"][\"region\"] if conn[\"params\"][\"READER\"][\"cloudPlatform\"] is None \\\n",
    "                    else conn[\"params\"][\"READER\"][\"region\"]+\".\"+conn[\"params\"][\"READER\"][\"cloudPlatform\"]\n",
    "        account = conn['params']['READER']['accountId'] if region is None \\\n",
    "                    else conn['params']['READER']['accountId']+\".\"+region\n",
    "        CONNECTION_PARAMETERS = {\n",
    "            \"account\": account,\n",
    "            \"user\":conn['params']['READER']['user'],\n",
    "            \"password\": conn['params']['READER']['password'],\n",
    "            \"role\": conn['params']['READER']['role'],\n",
    "            \"database\": conn['params']['READER']['database'],\n",
    "            \"warehouse\": conn['params']['READER']['wareHouse'],\n",
    "            \"schema\": conn['params']['READER']['schema']\n",
    "        }\n",
    "        return Session.builder.configs(CONNECTION_PARAMETERS).create()\n",
    "    except Exception as ex:\n",
    "        print(\"Error while creating snowflake session\", ex)\n",
    "        raise ex\n",
    "        \n",
    "session = get_session(\"EMPLOYEE_10L\",\"fd0cf79c-8118-43a7-8f0b-059e8f78227a\") #,\"\")0e0fb803-22db-4d88-9f2f-f6f75b6abcf0\n",
    "query =\"SELECT METADATA:metrics as model_metrics, COMMENT as run_id FROM INFORMATION_SCHEMA.MODEL_VERSIONS where MODEL_NAME like '%EXP_001%';\"\n",
    "registry_resp = session.sql(query).to_pandas()\n",
    "registry_resp.rename(columns={'RUN_ID': 'run_id', \n",
    "                              'MODEL_METRICS': 'model_metrics'}, inplace=True)\n",
    "monitor_resp = pd.DataFrame(monitor_resp)\n",
    "final_resp = pd.merge(monitor_resp, registry_resp, on='run_id', how='left')\n",
    "print({'data': final_resp.to_dict(orient='records')})"
   ]
  },
  {
   "cell_type": "code",
   "execution_count": null,
   "id": "4bedb568",
   "metadata": {},
   "outputs": [],
   "source": [
    "monitor_resp=[]\n",
    "if monitor_resp:\n",
    "    print(\"TRUE\")\n",
    "else:\n",
    "    print(\"NOT TRUE\")"
   ]
  },
  {
   "cell_type": "code",
   "execution_count": null,
   "id": "9c9dddd8",
   "metadata": {},
   "outputs": [],
   "source": [
    "%%time\n",
    "monitor_resp = [\n",
    "    {\n",
    "        \"run_id\": \"8042932c-101a-4ddc-a808-00c092797960\",\n",
    "        \"algorithm_used\": \"XGBClassifier\",\n",
    "        \"status\": \"Successful\",\n",
    "        \"model_metrics\": {}\n",
    "    },\n",
    "    {\n",
    "        \"run_id\": \"16e3f179-bb70-4632-9a39-9a6fac4a5581\",\n",
    "        \"algorithm_used\": \"DecisionTreeClassifier\",\n",
    "        \"status\": \"Successful\",\n",
    "        \"model_metrics\": {}\n",
    "    },\n",
    "    {\n",
    "        \"run_id\": \"ef47a0a5-1a74-4a14-b0fd-8dbbd322057f\",\n",
    "        \"algorithm_used\": \"GradientBoostingClassifier\",\n",
    "        \"status\": \"Running\",\n",
    "        \"model_metrics\": {}\n",
    "    },\n",
    "    {\n",
    "        \"run_id\": \"26a15f9c-29fd-4d55-82fb-3d38cc18e4b8\",\n",
    "        \"algorithm_used\": \"RandomForestClassifier\",\n",
    "        \"status\": \"Running\",\n",
    "        \"model_metrics\": {}\n",
    "    }\n",
    "]\n",
    "\n",
    "def get_session(dataset, project_id):\n",
    "    \"\"\"\n",
    "    Method creates snowflake session object.\n",
    "    :return:\n",
    "    \"\"\"\n",
    "    try:\n",
    "        conn = get_conn_details_from_ds_name(dataset, project_id)\n",
    "        region=conn[\"params\"][\"READER\"][\"region\"] if conn[\"params\"][\"READER\"][\"cloudPlatform\"] is None \\\n",
    "                    else conn[\"params\"][\"READER\"][\"region\"]+\".\"+conn[\"params\"][\"READER\"][\"cloudPlatform\"]\n",
    "        account = conn['params']['READER']['accountId'] if region is None \\\n",
    "                    else conn['params']['READER']['accountId']+\".\"+region\n",
    "        CONNECTION_PARAMETERS = {\n",
    "            \"account\": account,\n",
    "            \"user\":conn['params']['READER']['user'],\n",
    "            \"password\": conn['params']['READER']['password'],\n",
    "            \"role\": conn['params']['READER']['role'],\n",
    "            \"database\": conn['params']['READER']['database'],\n",
    "            \"warehouse\": conn['params']['READER']['wareHouse'],\n",
    "            \"schema\": conn['params']['READER']['schema']\n",
    "        }\n",
    "        return Session.builder.configs(CONNECTION_PARAMETERS).create()\n",
    "    except Exception as ex:\n",
    "        print(\"Error while creating snowflake session\", ex)\n",
    "        raise ex\n",
    "        \n",
    "session = get_session(\"EMPLOYEE_10L\",\"fd0cf79c-8118-43a7-8f0b-059e8f78227a\")\n",
    "reg = Registry(session=session)\n",
    "\n",
    "model_list = session.sql(\"show models like '%exp6789%'\").collect()\n",
    "for model in model_list:\n",
    "    model_name = model[\"name\"]\n",
    "    model_run_id = model_name[-36:].replace('_','-').lower()\n",
    "    model_obj = reg.get_model(model_name)\n",
    "    metrics = {\n",
    "        \"model_metrics\" : model_obj.default.get_metric('model_metrics')\n",
    "    }\n",
    "    for run in monitor_resp:\n",
    "        if run.get('run_id') == model_run_id:\n",
    "            run.update(metrics)\n",
    "print(monitor_resp)"
   ]
  },
  {
   "cell_type": "code",
   "execution_count": null,
   "id": "558c239d",
   "metadata": {},
   "outputs": [],
   "source": [
    "%%time\n",
    "####Approach 2####\n",
    "monitor_resp = [\n",
    "    {\n",
    "        \"run_id\": \"8042932c-101a-4ddc-a808-00c092797960\",\n",
    "        \"algorithm_used\": \"XGBClassifier\",\n",
    "        \"status\": \"Successful\",\n",
    "        \"model_metrics\": {}\n",
    "    },\n",
    "    {\n",
    "        \"run_id\": \"16e3f179-bb70-4632-9a39-9a6fac4a5581\",\n",
    "        \"algorithm_used\": \"DecisionTreeClassifier\",\n",
    "        \"status\": \"Successful\",\n",
    "        \"model_metrics\": {}\n",
    "    },\n",
    "    {\n",
    "        \"run_id\": \"ef47a0a5-1a74-4a14-b0fd-8dbbd322057f\",\n",
    "        \"algorithm_used\": \"GradientBoostingClassifier\",\n",
    "        \"status\": \"Running\",\n",
    "        \"model_metrics\": {}\n",
    "    },\n",
    "    {\n",
    "        \"run_id\": \"26a15f9c-29fd-4d55-82fb-3d38cc18e4b8\",\n",
    "        \"algorithm_used\": \"RandomForestClassifier\",\n",
    "        \"status\": \"Running\",\n",
    "        \"model_metrics\": {}\n",
    "    }\n",
    "]\n",
    "\n",
    "def get_session(dataset, project_id):\n",
    "    \"\"\"\n",
    "    Method creates snowflake session object.\n",
    "    :return:\n",
    "    \"\"\"\n",
    "    try:\n",
    "        conn = get_conn_details_from_ds_name(dataset, project_id)\n",
    "        region=conn[\"params\"][\"READER\"][\"region\"] if conn[\"params\"][\"READER\"][\"cloudPlatform\"] is None \\\n",
    "                    else conn[\"params\"][\"READER\"][\"region\"]+\".\"+conn[\"params\"][\"READER\"][\"cloudPlatform\"]\n",
    "        account = conn['params']['READER']['accountId'] if region is None \\\n",
    "                    else conn['params']['READER']['accountId']+\".\"+region\n",
    "        CONNECTION_PARAMETERS = {\n",
    "            \"account\": account,\n",
    "            \"user\":conn['params']['READER']['user'],\n",
    "            \"password\": conn['params']['READER']['password'],\n",
    "            \"role\": conn['params']['READER']['role'],\n",
    "            \"database\": conn['params']['READER']['database'],\n",
    "            \"warehouse\": conn['params']['READER']['wareHouse'],\n",
    "            \"schema\": conn['params']['READER']['schema']\n",
    "        }\n",
    "        return Session.builder.configs(CONNECTION_PARAMETERS).create()\n",
    "    except Exception as ex:\n",
    "        print(\"Error while creating snowflake session\", ex)\n",
    "        raise ex\n",
    "        \n",
    "session = get_session(\"EMPLOYEE_10L\",\"fd0cf79c-8118-43a7-8f0b-059e8f78227a\")\n",
    "reg = Registry(session=session)\n",
    "resp_df = pd.DataFrame(monitor_resp)\n",
    "model_list = session.sql(\"show models like '%exp6789%'\").collect()\n",
    "for model in model_list:\n",
    "    model_name = model[\"name\"]\n",
    "    model_run_id = model_name[-36:].replace('_','-').lower()\n",
    "    model_obj = reg.get_model(model_name)\n",
    "    metrics = {\n",
    "        \"model_metrics\" : model_obj.default.get_metric('model_metrics')\n",
    "    }\n",
    "    select_row = resp_df.loc[resp_df['run_id']==model_run_id]\n",
    "    resp_df.loc[resp_df['run_id']==model_run_id, 'model_metrics'] = str(metrics.get('model_metrics'))   \n",
    "print(resp_df)"
   ]
  },
  {
   "cell_type": "code",
   "execution_count": null,
   "id": "b7f27efb",
   "metadata": {},
   "outputs": [],
   "source": []
  },
  {
   "cell_type": "code",
   "execution_count": null,
   "id": "ed905fe1",
   "metadata": {},
   "outputs": [],
   "source": [
    "import requests, json"
   ]
  },
  {
   "cell_type": "code",
   "execution_count": null,
   "id": "6d626a52",
   "metadata": {},
   "outputs": [],
   "source": [
    "monitor_url = \"http://monitor-backend-service/monitor/api/v5/executions/search?objectId=f40619bc-16a1-4d6b-8f74-6b95c1d7c76a_bWFpbg==_U25vd3BhcmtSbkQvQnVpbGRfRGF0YXNldC5pcHluYg==&projectId=0e0fb803-22db-4d88-9f2f-f6f75b6abcf0&jobType=NOTEBOOK\"\n",
    "temp_head = {\n",
    "    \"X-Auth-Userid\": \"aditya1.singh2@fosfor.com\",\n",
    "    \"X-Auth-Username\": \"aditya1.singh2@fosfor.com\",\n",
    "    \"X-Auth-Email\": \"aditya1.singh2@fosfor.com\",\n",
    "    \"X-Project-Id\": \"0e0fb803-22db-4d88-9f2f-f6f75b6abcf0\"\n",
    "}"
   ]
  },
  {
   "cell_type": "code",
   "execution_count": null,
   "id": "c4992261",
   "metadata": {},
   "outputs": [],
   "source": [
    "res = requests.get(monitor_url, headers=temp_head)\n",
    "res = json.loads(res.text)"
   ]
  },
  {
   "cell_type": "code",
   "execution_count": null,
   "id": "b597925e",
   "metadata": {},
   "outputs": [],
   "source": [
    "res"
   ]
  },
  {
   "cell_type": "code",
   "execution_count": null,
   "id": "9b7d77d7",
   "metadata": {},
   "outputs": [],
   "source": [
    "class ResponseFormats:\n",
    "    LIST_RUNS = {\n",
    "            \"run_id\": \"\",\n",
    "            \"algorithm_used\": \"\",\n",
    "            \"status\": \"\",\n",
    "            \"model_metrics\": {}\n",
    "            }"
   ]
  },
  {
   "cell_type": "code",
   "execution_count": null,
   "id": "f735a3a6",
   "metadata": {},
   "outputs": [],
   "source": [
    "_res_format = ResponseFormats.LIST_RUNS"
   ]
  },
  {
   "cell_type": "code",
   "execution_count": null,
   "id": "7bddf06c",
   "metadata": {},
   "outputs": [],
   "source": [
    "_res_format['status']"
   ]
  },
  {
   "cell_type": "code",
   "execution_count": null,
   "id": "29952bd2",
   "metadata": {},
   "outputs": [],
   "source": [
    "final_resp = []\n",
    "for data in res.get('data'):\n",
    "    _res_format.update({\"run_id\": data.get('runID'), \"status\": data.get('jobStatus')})\n",
    "    res_data = _res_format\n",
    "    final_resp.append(res_data)\n",
    "\n",
    "print(final_resp)"
   ]
  },
  {
   "cell_type": "code",
   "execution_count": null,
   "id": "73a74b09",
   "metadata": {},
   "outputs": [],
   "source": [
    "def get_session(dataset, project_id):\n",
    "    \"\"\"\n",
    "    Method creates snowflake session object.\n",
    "    :return:\n",
    "    \"\"\"\n",
    "    try:\n",
    "        conn = get_conn_details_from_ds_name(dataset, project_id)\n",
    "        region=conn[\"params\"][\"READER\"][\"region\"] if conn[\"params\"][\"READER\"][\"cloudPlatform\"] is None \\\n",
    "                    else conn[\"params\"][\"READER\"][\"region\"]+\".\"+conn[\"params\"][\"READER\"][\"cloudPlatform\"]\n",
    "        account = conn['params']['READER']['accountId'] if region is None \\\n",
    "                    else conn['params']['READER']['accountId']+\".\"+region\n",
    "        CONNECTION_PARAMETERS = {\n",
    "            \"account\": account,\n",
    "            \"user\":conn['params']['READER']['user'],\n",
    "            \"password\": conn['params']['READER']['password'],\n",
    "            \"role\": conn['params']['READER']['role'],\n",
    "            \"database\": conn['params']['READER']['database'],\n",
    "            \"warehouse\": conn['params']['READER']['wareHouse'],\n",
    "            \"schema\": conn['params']['READER']['schema']\n",
    "        }\n",
    "        return Session.builder.configs(CONNECTION_PARAMETERS).create()\n",
    "    except Exception as ex:\n",
    "        print(\"Error while creating snowflake session\", ex)\n",
    "        raise ex\n",
    "        \n",
    "session = get_session(\"EMPLOYEE_10L\",\"fd0cf79c-8118-43a7-8f0b-059e8f78227a\")"
   ]
  },
  {
   "cell_type": "code",
   "execution_count": null,
   "id": "860f9a0c",
   "metadata": {},
   "outputs": [],
   "source": [
    "reg = Registry(session=session)"
   ]
  },
  {
   "cell_type": "code",
   "execution_count": null,
   "id": "19f5e1af",
   "metadata": {},
   "outputs": [],
   "source": [
    "model_name = 'FD0CF79C_8118_43A7_8F0B_059E8F78227A_EXP_001_RUN_0001'"
   ]
  },
  {
   "cell_type": "code",
   "execution_count": null,
   "id": "34ba51db",
   "metadata": {},
   "outputs": [],
   "source": [
    "model_obj = reg.get_model(model_name)\n",
    "metrics = model_obj.default.show_metrics()\n"
   ]
  },
  {
   "cell_type": "code",
   "execution_count": null,
   "id": "d03d39a9",
   "metadata": {},
   "outputs": [],
   "source": [
    "metrics"
   ]
  },
  {
   "cell_type": "code",
   "execution_count": null,
   "id": "139a3121",
   "metadata": {},
   "outputs": [],
   "source": [
    "dataset = model_obj.default.get_metric('dataset')"
   ]
  },
  {
   "cell_type": "code",
   "execution_count": null,
   "id": "1472fab5",
   "metadata": {},
   "outputs": [],
   "source": [
    "dataset"
   ]
  },
  {
   "cell_type": "code",
   "execution_count": null,
   "id": "7d489035",
   "metadata": {},
   "outputs": [],
   "source": [
    "! pip freeze | grep -i snowf"
   ]
  },
  {
   "cell_type": "code",
   "execution_count": null,
   "id": "d5b1f4cc",
   "metadata": {},
   "outputs": [],
   "source": []
  }
 ],
 "metadata": {
  "kernelspec": {
   "display_name": "Python 3",
   "language": "python",
   "name": "python3"
  },
  "language_info": {
   "codemirror_mode": {
    "name": "ipython",
    "version": 3
   },
   "file_extension": ".py",
   "mimetype": "text/x-python",
   "name": "python",
   "nbconvert_exporter": "python",
   "pygments_lexer": "ipython3",
   "version": "3.9.18"
  }
 },
 "nbformat": 4,
 "nbformat_minor": 5
}
