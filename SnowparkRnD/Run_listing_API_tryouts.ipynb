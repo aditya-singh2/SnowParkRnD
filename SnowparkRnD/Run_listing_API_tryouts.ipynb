{
 "cells": [
  {
   "cell_type": "code",
   "execution_count": 1,
   "id": "8a615090",
   "metadata": {},
   "outputs": [
    {
     "name": "stdout",
     "output_type": "stream",
     "text": [
      "Connection manager service url initialised to http://fdc-project-manager:80/project-manager\n",
      "If you need to update its value then update the variable CONNECTION_MANAGER_BASE_URL in os env.\n",
      "CPU times: user 962 ms, sys: 605 ms, total: 1.57 s\n",
      "Wall time: 11.9 s\n"
     ]
    }
   ],
   "source": [
    "%%time\n",
    "from fosforio.manager import get_conn_details_from_ds_name\n",
    "from snowflake.snowpark.session import Session\n",
    "from snowflake.ml.registry.registry import Registry\n",
    "import pandas as pd"
   ]
  },
  {
   "cell_type": "code",
   "execution_count": 2,
   "id": "9c9dddd8",
   "metadata": {},
   "outputs": [
    {
     "name": "stdout",
     "output_type": "stream",
     "text": [
      "[{'run_id': '8042932c-101a-4ddc-a808-00c092797960', 'algorithm_used': 'XGBClassifier', 'status': 'Successful', 'model_metrics': {'accuracy_score': 0.912834, 'f1_score': 0.863711823763472, 'recall_score': 0.8009236633760141, 'precision_score': 0.9371819065591582, 'roc_auc': 0.8863324874130605, 'log_loss': 3.1437201566897612}}, {'run_id': '16e3f179-bb70-4632-9a39-9a6fac4a5581', 'algorithm_used': 'DecisionTreeClassifier', 'status': 'Successful', 'model_metrics': {'accuracy_score': 0.92473, 'f1_score': 0.8841251148525358, 'recall_score': 0.8361769313619897, 'precision_score': 0.9379067021773153, 'roc_auc': 0.9036114375207266, 'log_loss': 2.7149916732535027}}, {'run_id': 'ef47a0a5-1a74-4a14-b0fd-8dbbd322057f', 'algorithm_used': 'GradientBoostingClassifier', 'status': 'Running', 'model_metrics': {}}, {'run_id': '26a15f9c-29fd-4d55-82fb-3d38cc18e4b8', 'algorithm_used': 'RandomForestClassifier', 'status': 'Running', 'model_metrics': {}}]\n",
      "CPU times: user 793 ms, sys: 239 ms, total: 1.03 s\n",
      "Wall time: 8.99 s\n"
     ]
    }
   ],
   "source": [
    "%%time\n",
    "monitor_resp = [\n",
    "    {\n",
    "        \"run_id\": \"8042932c-101a-4ddc-a808-00c092797960\",\n",
    "        \"algorithm_used\": \"XGBClassifier\",\n",
    "        \"status\": \"Successful\",\n",
    "        \"model_metrics\": {}\n",
    "    },\n",
    "    {\n",
    "        \"run_id\": \"16e3f179-bb70-4632-9a39-9a6fac4a5581\",\n",
    "        \"algorithm_used\": \"DecisionTreeClassifier\",\n",
    "        \"status\": \"Successful\",\n",
    "        \"model_metrics\": {}\n",
    "    },\n",
    "    {\n",
    "        \"run_id\": \"ef47a0a5-1a74-4a14-b0fd-8dbbd322057f\",\n",
    "        \"algorithm_used\": \"GradientBoostingClassifier\",\n",
    "        \"status\": \"Running\",\n",
    "        \"model_metrics\": {}\n",
    "    },\n",
    "    {\n",
    "        \"run_id\": \"26a15f9c-29fd-4d55-82fb-3d38cc18e4b8\",\n",
    "        \"algorithm_used\": \"RandomForestClassifier\",\n",
    "        \"status\": \"Running\",\n",
    "        \"model_metrics\": {}\n",
    "    }\n",
    "]\n",
    "\n",
    "def get_session(dataset, project_id):\n",
    "    \"\"\"\n",
    "    Method creates snowflake session object.\n",
    "    :return:\n",
    "    \"\"\"\n",
    "    try:\n",
    "        conn = get_conn_details_from_ds_name(dataset, project_id)\n",
    "        region=conn[\"params\"][\"READER\"][\"region\"] if conn[\"params\"][\"READER\"][\"cloudPlatform\"] is None \\\n",
    "                    else conn[\"params\"][\"READER\"][\"region\"]+\".\"+conn[\"params\"][\"READER\"][\"cloudPlatform\"]\n",
    "        account = conn['params']['READER']['accountId'] if region is None \\\n",
    "                    else conn['params']['READER']['accountId']+\".\"+region\n",
    "        CONNECTION_PARAMETERS = {\n",
    "            \"account\": account,\n",
    "            \"user\":conn['params']['READER']['user'],\n",
    "            \"password\": conn['params']['READER']['password'],\n",
    "            \"role\": conn['params']['READER']['role'],\n",
    "            \"database\": conn['params']['READER']['database'],\n",
    "            \"warehouse\": conn['params']['READER']['wareHouse'],\n",
    "            \"schema\": conn['params']['READER']['schema']\n",
    "        }\n",
    "        return Session.builder.configs(CONNECTION_PARAMETERS).create()\n",
    "    except Exception as ex:\n",
    "        print(\"Error while creating snowflake session\", ex)\n",
    "        raise ex\n",
    "        \n",
    "session = get_session(\"EMPLOYEE_10L\",\"0e0fb803-22db-4d88-9f2f-f6f75b6abcf0\")\n",
    "reg = Registry(session=session)\n",
    "\n",
    "model_list = session.sql(\"show models like '%exp6789%'\").collect()\n",
    "for model in model_list:\n",
    "    model_name = model[\"name\"]\n",
    "    model_run_id = model_name[-36:].replace('_','-').lower()\n",
    "    model_obj = reg.get_model(model_name)\n",
    "    metrics = {\n",
    "        \"model_metrics\" : model_obj.default.get_metric('model_metrics')\n",
    "    }\n",
    "    for run in monitor_resp:\n",
    "        if run.get('run_id') == model_run_id:\n",
    "            run.update(metrics)\n",
    "print(monitor_resp)"
   ]
  },
  {
   "cell_type": "code",
   "execution_count": 3,
   "id": "558c239d",
   "metadata": {},
   "outputs": [
    {
     "name": "stdout",
     "output_type": "stream",
     "text": [
      "                                 run_id              algorithm_used  \\\n",
      "0  8042932c-101a-4ddc-a808-00c092797960               XGBClassifier   \n",
      "1  16e3f179-bb70-4632-9a39-9a6fac4a5581      DecisionTreeClassifier   \n",
      "2  ef47a0a5-1a74-4a14-b0fd-8dbbd322057f  GradientBoostingClassifier   \n",
      "3  26a15f9c-29fd-4d55-82fb-3d38cc18e4b8      RandomForestClassifier   \n",
      "\n",
      "       status                                      model_metrics  \n",
      "0  Successful  {'accuracy_score': 0.912834, 'f1_score': 0.863...  \n",
      "1  Successful  {'accuracy_score': 0.92473, 'f1_score': 0.8841...  \n",
      "2     Running                                                 {}  \n",
      "3     Running                                                 {}  \n",
      "CPU times: user 559 ms, sys: 0 ns, total: 559 ms\n",
      "Wall time: 3.1 s\n"
     ]
    }
   ],
   "source": [
    "%%time\n",
    "####Approach 2####\n",
    "monitor_resp = [\n",
    "    {\n",
    "        \"run_id\": \"8042932c-101a-4ddc-a808-00c092797960\",\n",
    "        \"algorithm_used\": \"XGBClassifier\",\n",
    "        \"status\": \"Successful\",\n",
    "        \"model_metrics\": {}\n",
    "    },\n",
    "    {\n",
    "        \"run_id\": \"16e3f179-bb70-4632-9a39-9a6fac4a5581\",\n",
    "        \"algorithm_used\": \"DecisionTreeClassifier\",\n",
    "        \"status\": \"Successful\",\n",
    "        \"model_metrics\": {}\n",
    "    },\n",
    "    {\n",
    "        \"run_id\": \"ef47a0a5-1a74-4a14-b0fd-8dbbd322057f\",\n",
    "        \"algorithm_used\": \"GradientBoostingClassifier\",\n",
    "        \"status\": \"Running\",\n",
    "        \"model_metrics\": {}\n",
    "    },\n",
    "    {\n",
    "        \"run_id\": \"26a15f9c-29fd-4d55-82fb-3d38cc18e4b8\",\n",
    "        \"algorithm_used\": \"RandomForestClassifier\",\n",
    "        \"status\": \"Running\",\n",
    "        \"model_metrics\": {}\n",
    "    }\n",
    "]\n",
    "\n",
    "def get_session(dataset, project_id):\n",
    "    \"\"\"\n",
    "    Method creates snowflake session object.\n",
    "    :return:\n",
    "    \"\"\"\n",
    "    try:\n",
    "        conn = get_conn_details_from_ds_name(dataset, project_id)\n",
    "        region=conn[\"params\"][\"READER\"][\"region\"] if conn[\"params\"][\"READER\"][\"cloudPlatform\"] is None \\\n",
    "                    else conn[\"params\"][\"READER\"][\"region\"]+\".\"+conn[\"params\"][\"READER\"][\"cloudPlatform\"]\n",
    "        account = conn['params']['READER']['accountId'] if region is None \\\n",
    "                    else conn['params']['READER']['accountId']+\".\"+region\n",
    "        CONNECTION_PARAMETERS = {\n",
    "            \"account\": account,\n",
    "            \"user\":conn['params']['READER']['user'],\n",
    "            \"password\": conn['params']['READER']['password'],\n",
    "            \"role\": conn['params']['READER']['role'],\n",
    "            \"database\": conn['params']['READER']['database'],\n",
    "            \"warehouse\": conn['params']['READER']['wareHouse'],\n",
    "            \"schema\": conn['params']['READER']['schema']\n",
    "        }\n",
    "        return Session.builder.configs(CONNECTION_PARAMETERS).create()\n",
    "    except Exception as ex:\n",
    "        print(\"Error while creating snowflake session\", ex)\n",
    "        raise ex\n",
    "        \n",
    "session = get_session(\"EMPLOYEE_10L\",\"0e0fb803-22db-4d88-9f2f-f6f75b6abcf0\")\n",
    "reg = Registry(session=session)\n",
    "resp_df = pd.DataFrame(monitor_resp)\n",
    "model_list = session.sql(\"show models like '%exp6789%'\").collect()\n",
    "for model in model_list:\n",
    "    model_name = model[\"name\"]\n",
    "    model_run_id = model_name[-36:].replace('_','-').lower()\n",
    "    model_obj = reg.get_model(model_name)\n",
    "    metrics = {\n",
    "        \"model_metrics\" : model_obj.default.get_metric('model_metrics')\n",
    "    }\n",
    "    select_row = resp_df.loc[resp_df['run_id']==model_run_id]\n",
    "    resp_df.loc[resp_df['run_id']==model_run_id, 'model_metrics'] = str(metrics.get('model_metrics'))   \n",
    "print(resp_df)"
   ]
  },
  {
   "cell_type": "code",
   "execution_count": 2,
   "id": "fcaf1c36",
   "metadata": {},
   "outputs": [],
   "source": [
    "import requests"
   ]
  },
  {
   "cell_type": "code",
   "execution_count": 5,
   "id": "6d626a52",
   "metadata": {},
   "outputs": [],
   "source": [
    "monitor_url = \"https://qa.fdc.leni.ai/monitor/api/v5/executions/search?objectId=f4c813a1-86f1-4148-9ef3-cf8758331729&projectId=784a85f3-443c-4662-b56d-20d9bccd0027\"\n",
    "temp_head = {\n",
    "    \"X-Auth-Userid\": \"aditya1.singh2@fosfor.com\",\n",
    "    \"X-Auth-Username\": \"aditya1.singh2@fosfor.com\",\n",
    "    \"X-Auth-Email\": \"aditya1.singh2@fosfor.com\",\n",
    "    \"X-Project-Id\": \"0e0fb803-22db-4d88-9f2f-f6f75b6abcf0\"\n",
    "}"
   ]
  },
  {
   "cell_type": "code",
   "execution_count": 6,
   "id": "a7b22680",
   "metadata": {},
   "outputs": [],
   "source": [
    "res = requests.get(monitor_url, headers=temp_head)"
   ]
  },
  {
   "cell_type": "code",
   "execution_count": 8,
   "id": "5c799f5c",
   "metadata": {},
   "outputs": [
    {
     "data": {
      "text/plain": [
       "'<!DOCTYPE html>\\n<html>\\n\\n<head>\\n\\t<title>Fosfor</title>\\n\\t<meta charset=\"UTF-8\" />\\n\\t<link rel=\"icon\" type=\"image/ico\" href=\"/images/favicon.ico\">\\n\\t<link rel=\"preconnect\" href=\"https://fonts.googleapis.com\">\\n\\t<link rel=\"preconnect\" href=\"https://fonts.gstatic.com\" crossorigin>\\n\\t<!-- <link href=\"https://fonts.googleapis.com/css2?family=Work+Sans&display=swap\" rel=\"stylesheet\"> -->\\n\\t<link href=\"https://fonts.cdnfonts.com/css/sharp-sans\" rel=\"stylesheet\">\\n\\t<style>\\n\\t\\tbody,\\n\\t\\thtml {\\n\\t\\tfont-family: \\'Sharp Sans\\';\\n\\t\\t}\\n\\t\\tbody {\\n\\t\\t\\tmargin: 0;\\n\\t\\t\\tpadding: 0;\\n\\t\\t\\theight: 100vh;\\n\\t\\t\\toverflow-y: hidden;\\n\\t\\t\\t.login-container {\\n\\t\\t\\t\\tdisplay: flex;\\n\\t\\t\\t\\tflex-direction: row;\\n\\t\\t\\t\\twidth: 100%;\\n\\t\\t\\t\\theight: 100%;\\n\\t\\t\\t\\t.left-content {\\n\\t\\t\\t\\t\\tdisplay: flex;\\n\\t\\t\\t\\t\\tflex-direction: column;\\n\\t\\t\\t\\t\\twidth: 50%; height: 100%;\\n\\t\\t\\t\\t\\tbackground-color: #F0F7FF;\\n\\t\\t\\t\\t\\t/* background-image: url(\\'../images/login_bg.svg\\'); */\\n\\t\\t\\t\\t\\tbackground-image: url(/images/login_bg.svg);\\n\\t\\t\\t\\t\\tbackground-size: cover;\\n\\t\\t\\t\\t\\t.fosfor-logo {\\n\\t\\t\\t\\t\\t\\tdisplay: flex;\\n\\t\\t\\t\\t\\t\\tflex-direction: column;\\n\\t\\t\\t\\t\\t\\tmargin-bottom: 32px;\\n\\t\\t\\t\\t\\t\\twidth: 122px;\\n\\t\\t\\t\\t\\t\\theight: 31px;\\n\\t\\t\\t\\t\\t\\tpadding:22px;\\n\\t\\t\\t\\t\\t}\\n\\t\\t\\t\\t\\t.title-container {\\n\\t\\t\\t\\t\\t\\tdisplay: flex;\\n\\t\\t\\t\\t\\t\\tflex-direction: column;\\n\\t\\t\\t\\t\\t\\twidth: 100%;align-items: center;\\n\\t\\t\\t\\t\\t\\tmargin-top: 40px;\\n\\t\\t\\t\\t\\t\\t.title {\\n\\t\\t\\t\\t\\t\\t\\tfont-size: 40px; \\n\\t\\t\\t\\t\\t\\t\\tfont-weight: 700; \\n\\t\\t\\t\\t\\t\\t\\tcolor: #333333;\\n\\t\\t\\t\\t\\t\\t\\t/* font-family: Sharp sans-serif; */\\n\\t\\t\\t\\t\\t\\t}\\n\\t\\t\\t\\t\\t\\t.sub-title {\\n\\t\\t\\t\\t\\t\\t\\tfont-size: 40px; \\n\\t\\t\\t\\t\\t\\t\\tfont-weight: 700;\\n\\t\\t\\t\\t\\t\\t\\tcolor: #333333;\\n\\t\\t\\t\\t\\t\\t\\t/* font-family: Sharp sans-serif; */\\n\\t\\t\\t\\t\\t\\t}\\n\\t\\t\\t\\t\\t}\\n\\t\\t\\t\\t\\t.group-logo {\\n\\t\\t\\t\\t\\t\\twidth: 100%;\\n\\t\\t\\t\\t\\t\\tdisplay: flex;\\n\\t\\t\\t\\t\\t\\tjustify-content: center;\\n\\t\\t\\t\\t\\t\\talign-items: center;\\n\\t\\t\\t\\t\\t}\\n\\t\\t\\t\\t}\\n\\t\\t\\t\\t.right-content {\\n\\t\\t\\t\\t\\tdisplay: flex;\\n\\t\\t\\t\\t\\tflex-direction: column;\\n\\t\\t\\t\\t\\twidth: 50%;\\n\\t\\t\\t\\t\\theight: 100%;\\n\\t\\t\\t\\t\\tjustify-content: center;\\n\\t\\t\\t\\t\\talign-items: center;\\n\\t\\t\\t\\t\\t.right-content-wrapper {\\n\\t\\t\\t\\t\\t\\tdisplay: flex;\\n\\t\\t\\t\\t\\t\\tflex-direction: column;\\n\\t\\t\\t\\t\\t\\tjustify-content: center;\\n\\t\\t\\t\\t\\t\\t.right-title {\\n\\t\\t\\t\\t\\t\\t\\tmargin-bottom: 16px;\\n\\t\\t\\t\\t\\t\\t\\tfont-size: 18px;\\n\\t\\t\\t\\t\\t\\t\\tfont-weight: 600;\\n\\t\\t\\t\\t\\t\\t\\tcolor: #333333;\\n\\t\\t\\t\\t\\t\\t}\\n\\t\\t\\t\\t\\t\\t.right-sub-title {\\n\\t\\t\\t\\t\\t\\t\\tmargin-bottom: 44px;\\n\\t\\t\\t\\t\\t\\t\\tfont-size: 24px;\\n\\t\\t\\t\\t\\t\\t\\tfont-weight: 600;\\n\\t\\t\\t\\t\\t\\t\\tcolor: #333333;\\n\\t\\t\\t\\t\\t\\t}\\n\\t\\t\\t\\t\\t\\t.form-container {\\n\\t\\t\\t\\t\\t\\t\\tdisplay: flex;\\n\\t\\t\\t\\t\\t\\t\\tflex-direction: column;\\n\\t\\t\\t\\t\\t\\t\\t.label {\\n\\t\\t\\t\\t\\t\\t\\t\\tfont-size: 12px;\\n\\t\\t\\t\\t\\t\\t\\t\\tfont-weight: 500;\\n\\t\\t\\t\\t\\t\\t\\t\\t/* font-family: Sharp sans-serif; */\\n\\t\\t\\t\\t\\t\\t\\t\\tcolor: #475467;\\n\\t\\t\\t\\t\\t\\t\\t\\tline-height: 16px;\\n\\t\\t\\t\\t\\t\\t\\t\\tmargin-bottom: 4px;\\n\\t\\t\\t\\t\\t\\t\\t}\\n\\t\\t\\t\\t\\t\\t\\t/* .label::before {\\n\\t\\t\\t\\t\\t\\t\\t\\tcontent: \\'*\\';\\n\\t\\t\\t\\t\\t\\t\\t\\tcolor: #DF3F34;\\n\\t\\t\\t\\t\\t\\t\\t} */\\n\\t\\t\\t\\t\\t\\t\\t.user {\\n\\t\\t\\t\\t\\t\\t\\t\\tmargin-bottom: 24px;\\n\\t\\t\\t\\t\\t\\t\\t\\tinput#email {\\n\\t\\t\\t\\t\\t\\t\\t\\t\\twidth: 100%;\\n\\t\\t\\t\\t\\t\\t\\t\\t\\tborder: 1px solid #BCC4CF;\\n\\t\\t\\t\\t\\t\\t\\t\\t\\tborder-radius: 4px;\\n\\t\\t\\t\\t\\t\\t\\t\\t\\theight: 42px;\\n\\t\\t\\t\\t\\t\\t\\t\\t\\tpadding-left: 12px;\\n    \\t\\t\\t\\t\\t\\t\\t\\toutline: none;\\n\\t\\t\\t\\t\\t\\t\\t\\t\\twidth: 398.09px;\\n\\t\\t\\t\\t\\t\\t\\t\\t}\\n\\t\\t\\t\\t\\t\\t\\t\\t.error-message-container {\\n\\t\\t\\t\\t\\t\\t\\t\\t\\tdisplay: flex;\\n\\t\\t\\t\\t\\t\\t\\t\\t\\tflex-direction: row;\\n\\t\\t\\t\\t\\t\\t\\t\\t\\t.icon {\\n\\t\\t\\t\\t\\t\\t\\t\\t\\t\\tmargin-right: 4px;\\n\\t\\t\\t\\t\\t\\t\\t\\t\\t}\\n\\t\\t\\t\\t\\t\\t\\t\\t\\t.error-message-text {\\n\\t\\t\\t\\t\\t\\t\\t\\t\\t\\tfont-size: 12px;\\n\\t\\t\\t\\t\\t\\t\\t\\t\\t\\tcolor: #DF3F34;\\n\\t\\t\\t\\t\\t\\t\\t\\t\\t\\tfont-weight: 500;\\n\\t\\t\\t\\t\\t\\t\\t\\t\\t\\t/* font-family: Sharp sans-serif; */\\n\\t\\t\\t\\t\\t\\t\\t\\t\\t\\tmargin-top: 4px;\\n\\t\\t\\t\\t\\t\\t\\t\\t\\t}\\n\\t\\t\\t\\t\\t\\t\\t\\t\\t}\\n\\t\\t\\t\\t\\t\\t\\t\\t}\\n\\t\\t\\t\\t\\t\\t\\t}\\n\\t\\t\\t\\t\\t\\t\\t.continue-btn {\\n\\t\\t\\t\\t\\t\\t\\t\\tbutton {\\n\\t\\t\\t\\t\\t\\t\\t\\t\\twidth: 100%;\\n\\t\\t\\t\\t\\t\\t\\t\\t\\theight: 46px;\\n\\t\\t\\t\\t\\t\\t\\t\\t\\tfont-size: 14px;\\n\\t\\t\\t\\t\\t\\t\\t\\t\\tfont-weight: 600;\\n\\t\\t\\t\\t\\t\\t\\t\\t\\tbackground-color: #007CFF;\\n\\t\\t\\t\\t\\t\\t\\t\\t\\tborder-radius: 4px;\\n\\t\\t\\t\\t\\t\\t\\t\\t\\tcolor: #ffffff;\\n\\t\\t\\t\\t\\t\\t\\t\\t\\tborder: 1px solid #007CFF;\\n\\t\\t\\t\\t\\t\\t\\t\\t\\tcursor: pointer;\\n\\t\\t\\t\\t\\t\\t\\t\\t}\\n\\t\\t\\t\\t\\t\\t\\t}\\n\\t\\t\\t\\t\\t\\t}\\n\\t\\t\\t\\t\\t}\\n\\t\\t\\t\\t\\t.privacy-policy{\\n\\t\\t\\t\\t\\t\\tfont-size: 14px;\\n\\t\\t\\t\\t\\t\\tfont-weight: 500;\\n\\t\\t\\t\\t\\t\\tpadding-top: 28px;\\n\\t\\t\\t\\t\\t\\tcolor: #667085;\\n\\t\\t\\t\\t\\t\\tletter-spacing: 0.4px;\\n\\t\\t\\t\\t\\t\\t}\\n\\t\\t\\t\\t}\\n\\t\\t}\\n\\n\\t</style>\\n</head>\\n\\n<body>\\n\\t<div class=\"login-container\">\\n\\t\\t<div class=\"left-content\">\\n\\t\\t\\t<div class=\"fosfor-logo\">\\n\\t\\t\\t\\t<img src=\"/images/Product_Logo.svg\" />\\n\\t\\t\\t\\t<!-- <img src=\"../images/Product_Logo.svg\" /> -->\\n\\t\\t\\t</div>\\n\\t\\t\\t<div class=\"title-container\">\\n\\t\\t\\t   <div class=\"title\">\\n\\t\\t\\t\\tSimplify your\\n\\t\\t\\t   </div>\\n\\t\\t\\t   <div class=\"sub-title\">\\n\\t\\t\\t\\tdata-to-<span style=\"color:#007CFF\">decisions</span> journey\\n\\t\\t\\t   </div>\\n\\t\\t\\t   <div style=\"border: 0.8px solid #FFFFFF; width: 509px; height: 14px; background: #FFFFFF; padding: 16px 1px 20px 3px; border-radius: 12px; filter: drop-shadow(4px 5px 15px #A3D0FF); margin-top:14px\">\\n\\t\\t\\t\\t<span style=\"font-size: 16px; font-weight: 600; color: #333333; margin-left: 20px; margin-top:10px\">\\n\\t\\t\\t\\tFosfor Semantic<span style=\"border-left: 1px solid #BCC4CF; margin: 0px 10px 0px 10px; font-size: 11px;\"></span>Data<span style=\"border-left: 1px solid #BCC4CF; margin: 0px 10px 0px 10px; font-size: 11px;\"></span>Insights<span style=\"border-left: 1px solid #BCC4CF; margin: 0px 10px 0px 10px; font-size: 11px;\"></span> Decisions<span style=\"border-left: 1px solid #BCC4CF; margin: 0px 10px 0px 10px; font-size: 11px;\"></span>Fosfor AI</span></div>\\n\\t\\t\\t</div>\\n\\t\\t\\t<!-- <div class=\"group-logo\">\\n\\t\\t\\t\\t<img style=\"width: 276px; height: 276px;\" th:src=\"@{/images/Group 191.svg}\" />\\n\\t\\t\\t</div> -->\\n\\t\\t</div>\\n\\t\\t<div class=\"right-content\">\\n\\t\\t\\t<div class=\"right-content-wrapper\">\\n\\t\\t\\t\\t<div class=\"right-title\">\\n\\t\\t\\t\\t\\tWelcome to the Fosfor Decision Cloud!\\n\\t\\t\\t\\t</div>\\n\\t\\t\\t\\t<!-- <div class=\"right-sub-title\">\\n\\t\\t\\t\\t\\tFosfor Decision Cloud\\n\\t\\t\\t\\t</div> -->\\n\\t\\t\\t\\t<div class=\"form-container\">\\n\\t\\t\\t\\t\\t<div id=\" form\">\\n\\t\\t\\t\\t\\t\\t<div class=\"label\">Business email</div>\\n\\t\\t\\t\\t\\t\\t<div class=\"user\">\\n\\t\\t\\t\\t\\t\\t\\t<input type=\"text\" autocomplete=\"off\" name=\"email\" id=\"email\" placeholder=\"Enter business email\" onkeyup=\"validateEmail();\" onkeypress=\"return event.charCode != 32\" />\\n\\t\\t\\t\\t\\t\\t\\t<div class=\"error-message-container\" >\\n\\t\\t\\t\\t\\t\\t\\t\\t<!-- <div class=\"icon\">\\n\\t\\t\\t\\t\\t\\t\\t\\t\\t<img th:src=\"@{/images/Error-Vector.svg}\" />\\n\\t\\t\\t\\t\\t\\t\\t\\t</div> -->\\n\\t\\t\\t\\t\\t\\t\\t\\t<div class=\"error-message-text\" id=\"error-message\"></div>\\n\\t\\t\\t\\t\\t\\t\\t</div>\\n\\t\\t\\t\\t\\t\\t</div>\\n\\t\\t\\t\\t\\t</div>\\n\\t\\t\\t\\t\\t<div class=\"continue-btn\">\\n\\t\\t\\t\\t\\t\\t<button onclick=\"validateUser()\" id=\"action\">Continue</button>\\n\\t\\t\\t\\t\\t</div>\\n\\t\\t\\t\\t</div>\\n\\t\\t\\t\\t<p id=\"gatekeeper-url\" style=\"display: none;\">https://qa.fdc.leni.ai</p>\\n\\t\\t\\t\\t<p id=\"usermanagement-contextpath\" style=\"display: none;\">/usermgm</p>\\n\\t\\t  </div>\\n\\t\\t  <div class=\"privacy-policy\">Â© Copyright 2024 LTIMindtree. <a style=\"text-decoration: none; color: #007CFF;font-weight:600\" href=\"https://www.ltimindtree.com/general-privacy-policy/\" target=\"_blank\">Privacy</a> and <a style=\"text-decoration: none; color: #007CFF;font-weight:600\" href=\"https://www.fosfor.com/terms-of-use/\" target=\"_blank\">Terms of use</a></div>\\n\\t\\t</div>\\n\\n\\t</div>\\n\\n\\t<script type=\"text/javascript\">\\n\\t\\tdocument.getElementById(\"action\").disabled = true;\\n\\t\\tdocument.getElementById(\"action\").style.background = \"#F3F4F6\";\\n\\t\\tdocument.getElementById(\"action\").style.color = \"#BCC4CF\";\\n\\t\\tdocument.getElementById(\"action\").style.border = \"none\";\\n\\t\\tdocument.getElementById(\"action\").style.cursor = \"not-allowed\";\\n\\t\\tvar email = document.getElementById(\"email\");\\n\\t\\tconst gatekeeperUrl = document.getElementById(\"gatekeeper-url\").innerHTML;\\n\\t\\tconst contextPath = document.getElementById(\"usermanagement-contextpath\").innerHTML;\\n\\t\\t\\n\\t\\temail.addEventListener(\"keyup\", function (event) {\\n\\t\\t\\t\\n\\t\\t\\tif (event.keyCode === 13) {\\n\\t\\t\\t\\tif(!document.getElementById(\"action\").disabled){\\n\\t\\t\\t\\t\\tevent.preventDefault();\\n\\t\\t\\t\\t\\tvalidateUser();\\n\\t\\t\\t\\t}\\n\\t\\t\\t\\t\\n\\t\\t\\t}\\n\\t\\t});\\n\\n\\t\\tfunction openTnS() {\\n\\t\\t\\twindow.open(\"https://www.fosfor.com/aspect/terms-of-service/\", \\'newwindow\\');\\n\\t\\t}\\n\\n\\n\\t\\tfunction checkInput() {\\n            const emailValue = email.value.trim().toLowerCase();\\n            const regex = /^[a-zA-Z0-9.!#$%&\\'*+/=?^_`{|}~-]+@[a-zA-Z0-9-]+(?:\\\\.[a-zA-Z0-9-]+)*$/;\\n            if ([null, \"\"].includes(emailValue) || !regex.test(emailValue)) {\\n                document.getElementById(\\'error-message\\').innerHTML = \\'Email is not registered, please contact with Administrator.\\'\\n\\t\\t\\t\\t// document.getElementById(\\'hideDiv\\').style.display = \"block\";\\n                return false;\\n            }\\n            document.getElementById(\\'error-message\\').innerHTML = \\'\\'\\n\\t\\t\\t// document.getElementById(\\'hideDiv\\').style.display = \"none\";\\n            return true;\\n\\t\\t}\\n\\n\\t\\tfunction validateUser() {\\n\\t\\t\\tif (checkInput()) {\\n\\t\\t\\t\\tfetch(\"/checkEnterpriseMail?userEmailId=\"+email.value.trim().toLowerCase(), {\\n\\t\\t\\t\\t\\tmethod: \"GET\"\\n\\t\\t\\t\\t})\\n\\t\\t\\t\\t\\t.then((response) => response.json())\\n\\t\\t\\t\\t\\t.then((res) => {\\n\\t\\t\\t\\t\\t\\tconsole.log(res);\\n\\t\\t\\t\\t\\t\\tif (res) {\\n\\t\\t\\t\\t\\t\\t\\tif (res.userDetails) {\\n\\t\\t\\t\\t\\t\\t\\t\\tcallWhomiService(res.userDetails.realmName, res.userDetails.userEmail);\\n\\t\\t\\t\\t\\t\\t\\t\\tlocalStorage.setItem(\"validateUserEmail\",res.userDetails.userEmail);\\n\\t\\t\\t\\t\\t\\t\\t} else {\\n\\t\\t\\t\\t\\t\\t\\t\\tdocument.getElementById(\\'error-message\\').innerHTML = \\'Email is not registered, please contact with Administrator.\\';\\n\\t\\t\\t\\t\\t\\t\\t}\\n\\t\\t\\t\\t\\t\\t} else {\\n\\t\\t\\t\\t\\t\\t\\tdocument.getElementById(\\'error-message\\').innerHTML = \\'Email is not registered, please contact with Administrator.\\';\\n\\t\\t\\t\\t\\t\\t}\\n\\t\\t\\t\\t\\t})\\n\\t\\t\\t\\t\\t.catch((error) => {\\n\\t\\t\\t\\t\\t\\tdocument.getElementById(\\'error-message\\').innerHTML = \\'Unable to login, please contact with Administrator.\\';\\n\\t\\t\\t\\t\\t\\tconsole.log(\"Error\", error);\\n\\t\\t\\t\\t\\t});\\n\\t\\t\\t}\\n\\t\\t}\\n\\n\\t\\tfunction callSignupService() {\\n\\t\\t\\tvar url = new URL(\"/sign-up\", window.location.origin);\\n\\t\\t\\twindow.location.href = url;\\n\\t\\t}\\n\\n\\t\\tfunction callWhomiService(realmname, username) {\\n\\t\\t\\tvar url = new URL(\"/fdc/\", window.location.origin);\\n\\t\\t\\turl.searchParams.append(\\'tenantName\\', realmname);\\n\\t\\t\\turl.searchParams.append(\\'userName\\', username);\\n\\t\\t\\twindow.location.href = url;\\n\\t\\t}\\n\\t\\tfunction validateEmail(){\\n\\t\\t\\tif(emailValidation(document.getElementById(\"email\").value)){\\n                    document.getElementById(\"action\").disabled = false;\\n                    document.getElementById(\"action\").style.background = \"#007CFF\";\\n                    document.getElementById(\"action\").style.color = \"#FFFFFF\";\\n                    document.getElementById(\"action\").style.border = \"none\";  \\n\\t\\t\\t\\t\\tdocument.getElementById(\"action\").style.cursor = \"pointer\";\\n                }\\n                else{\\n                    document.getElementById(\"action\").disabled = true;\\n                    document.getElementById(\"action\").style.background = \"#F3F4F6\";\\n                    document.getElementById(\"action\").style.color = \"#BCC4CF\";\\n                    document.getElementById(\"action\").style.border = \"none\";\\n\\t\\t\\t\\t\\tdocument.getElementById(\"action\").style.cursor = \"not-allowed\";\\n                }\\n\\t\\t}\\n\\t\\tfunction emailValidation(value) {\\n\\t\\t\\tconst inputOnlyRegEx = /^(?!\\\\d+@)[a-zA-Z0-9]+([-+.\\'][a-zA-Z0-9]+)*@(?!\\\\d+\\\\.)[a-zA-Z0-9]+([-.][a-zA-Z0-9]+)*\\\\.[a-zA-Z0-9]+([-.][a-zA-Z0-9]+)*$/;\\n\\t\\t\\treturn inputOnlyRegEx.test(value);\\n\\t\\t};\\n\\t</script>\\n</body>\\n\\n</html>'"
      ]
     },
     "execution_count": 8,
     "metadata": {},
     "output_type": "execute_result"
    }
   ],
   "source": [
    "res.text"
   ]
  },
  {
   "cell_type": "code",
   "execution_count": null,
   "id": "20f2461f",
   "metadata": {},
   "outputs": [],
   "source": []
  }
 ],
 "metadata": {
  "kernelspec": {
   "display_name": "Python 3",
   "language": "python",
   "name": "python3"
  },
  "language_info": {
   "codemirror_mode": {
    "name": "ipython",
    "version": 3
   },
   "file_extension": ".py",
   "mimetype": "text/x-python",
   "name": "python",
   "nbconvert_exporter": "python",
   "pygments_lexer": "ipython3",
   "version": "3.9.18"
  }
 },
 "nbformat": 4,
 "nbformat_minor": 5
}
