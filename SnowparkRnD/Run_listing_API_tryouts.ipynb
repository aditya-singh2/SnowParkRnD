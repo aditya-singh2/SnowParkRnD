{
 "cells": [
  {
   "cell_type": "code",
   "execution_count": 1,
   "id": "8a615090",
   "metadata": {},
   "outputs": [
    {
     "name": "stdout",
     "output_type": "stream",
     "text": [
      "Connection manager service url initialised to http://fdc-project-manager:80/project-manager\n",
      "If you need to update its value then update the variable CONNECTION_MANAGER_BASE_URL in os env.\n",
      "CPU times: user 962 ms, sys: 605 ms, total: 1.57 s\n",
      "Wall time: 11.9 s\n"
     ]
    }
   ],
   "source": [
    "%%time\n",
    "from fosforio.manager import get_conn_details_from_ds_name\n",
    "from snowflake.snowpark.session import Session\n",
    "from snowflake.ml.registry.registry import Registry\n",
    "import pandas as pd"
   ]
  },
  {
   "cell_type": "code",
   "execution_count": 2,
   "id": "9c9dddd8",
   "metadata": {},
   "outputs": [
    {
     "name": "stdout",
     "output_type": "stream",
     "text": [
      "[{'run_id': '8042932c-101a-4ddc-a808-00c092797960', 'algorithm_used': 'XGBClassifier', 'status': 'Successful', 'model_metrics': {'accuracy_score': 0.912834, 'f1_score': 0.863711823763472, 'recall_score': 0.8009236633760141, 'precision_score': 0.9371819065591582, 'roc_auc': 0.8863324874130605, 'log_loss': 3.1437201566897612}}, {'run_id': '16e3f179-bb70-4632-9a39-9a6fac4a5581', 'algorithm_used': 'DecisionTreeClassifier', 'status': 'Successful', 'model_metrics': {'accuracy_score': 0.92473, 'f1_score': 0.8841251148525358, 'recall_score': 0.8361769313619897, 'precision_score': 0.9379067021773153, 'roc_auc': 0.9036114375207266, 'log_loss': 2.7149916732535027}}, {'run_id': 'ef47a0a5-1a74-4a14-b0fd-8dbbd322057f', 'algorithm_used': 'GradientBoostingClassifier', 'status': 'Running', 'model_metrics': {}}, {'run_id': '26a15f9c-29fd-4d55-82fb-3d38cc18e4b8', 'algorithm_used': 'RandomForestClassifier', 'status': 'Running', 'model_metrics': {}}]\n",
      "CPU times: user 793 ms, sys: 239 ms, total: 1.03 s\n",
      "Wall time: 8.99 s\n"
     ]
    }
   ],
   "source": [
    "%%time\n",
    "monitor_resp = [\n",
    "    {\n",
    "        \"run_id\": \"8042932c-101a-4ddc-a808-00c092797960\",\n",
    "        \"algorithm_used\": \"XGBClassifier\",\n",
    "        \"status\": \"Successful\",\n",
    "        \"model_metrics\": {}\n",
    "    },\n",
    "    {\n",
    "        \"run_id\": \"16e3f179-bb70-4632-9a39-9a6fac4a5581\",\n",
    "        \"algorithm_used\": \"DecisionTreeClassifier\",\n",
    "        \"status\": \"Successful\",\n",
    "        \"model_metrics\": {}\n",
    "    },\n",
    "    {\n",
    "        \"run_id\": \"ef47a0a5-1a74-4a14-b0fd-8dbbd322057f\",\n",
    "        \"algorithm_used\": \"GradientBoostingClassifier\",\n",
    "        \"status\": \"Running\",\n",
    "        \"model_metrics\": {}\n",
    "    },\n",
    "    {\n",
    "        \"run_id\": \"26a15f9c-29fd-4d55-82fb-3d38cc18e4b8\",\n",
    "        \"algorithm_used\": \"RandomForestClassifier\",\n",
    "        \"status\": \"Running\",\n",
    "        \"model_metrics\": {}\n",
    "    }\n",
    "]\n",
    "\n",
    "def get_session(dataset, project_id):\n",
    "    \"\"\"\n",
    "    Method creates snowflake session object.\n",
    "    :return:\n",
    "    \"\"\"\n",
    "    try:\n",
    "        conn = get_conn_details_from_ds_name(dataset, project_id)\n",
    "        region=conn[\"params\"][\"READER\"][\"region\"] if conn[\"params\"][\"READER\"][\"cloudPlatform\"] is None \\\n",
    "                    else conn[\"params\"][\"READER\"][\"region\"]+\".\"+conn[\"params\"][\"READER\"][\"cloudPlatform\"]\n",
    "        account = conn['params']['READER']['accountId'] if region is None \\\n",
    "                    else conn['params']['READER']['accountId']+\".\"+region\n",
    "        CONNECTION_PARAMETERS = {\n",
    "            \"account\": account,\n",
    "            \"user\":conn['params']['READER']['user'],\n",
    "            \"password\": conn['params']['READER']['password'],\n",
    "            \"role\": conn['params']['READER']['role'],\n",
    "            \"database\": conn['params']['READER']['database'],\n",
    "            \"warehouse\": conn['params']['READER']['wareHouse'],\n",
    "            \"schema\": conn['params']['READER']['schema']\n",
    "        }\n",
    "        return Session.builder.configs(CONNECTION_PARAMETERS).create()\n",
    "    except Exception as ex:\n",
    "        print(\"Error while creating snowflake session\", ex)\n",
    "        raise ex\n",
    "        \n",
    "session = get_session(\"EMPLOYEE_10L\",\"0e0fb803-22db-4d88-9f2f-f6f75b6abcf0\")\n",
    "reg = Registry(session=session)\n",
    "\n",
    "model_list = session.sql(\"show models like '%exp6789%'\").collect()\n",
    "for model in model_list:\n",
    "    model_name = model[\"name\"]\n",
    "    model_run_id = model_name[-36:].replace('_','-').lower()\n",
    "    model_obj = reg.get_model(model_name)\n",
    "    metrics = {\n",
    "        \"model_metrics\" : model_obj.default.get_metric('model_metrics')\n",
    "    }\n",
    "    for run in monitor_resp:\n",
    "        if run.get('run_id') == model_run_id:\n",
    "            run.update(metrics)\n",
    "print(monitor_resp)"
   ]
  },
  {
   "cell_type": "code",
   "execution_count": 3,
   "id": "558c239d",
   "metadata": {},
   "outputs": [
    {
     "name": "stdout",
     "output_type": "stream",
     "text": [
      "                                 run_id              algorithm_used  \\\n",
      "0  8042932c-101a-4ddc-a808-00c092797960               XGBClassifier   \n",
      "1  16e3f179-bb70-4632-9a39-9a6fac4a5581      DecisionTreeClassifier   \n",
      "2  ef47a0a5-1a74-4a14-b0fd-8dbbd322057f  GradientBoostingClassifier   \n",
      "3  26a15f9c-29fd-4d55-82fb-3d38cc18e4b8      RandomForestClassifier   \n",
      "\n",
      "       status                                      model_metrics  \n",
      "0  Successful  {'accuracy_score': 0.912834, 'f1_score': 0.863...  \n",
      "1  Successful  {'accuracy_score': 0.92473, 'f1_score': 0.8841...  \n",
      "2     Running                                                 {}  \n",
      "3     Running                                                 {}  \n",
      "CPU times: user 559 ms, sys: 0 ns, total: 559 ms\n",
      "Wall time: 3.1 s\n"
     ]
    }
   ],
   "source": [
    "%%time\n",
    "####Approach 2####\n",
    "monitor_resp = [\n",
    "    {\n",
    "        \"run_id\": \"8042932c-101a-4ddc-a808-00c092797960\",\n",
    "        \"algorithm_used\": \"XGBClassifier\",\n",
    "        \"status\": \"Successful\",\n",
    "        \"model_metrics\": {}\n",
    "    },\n",
    "    {\n",
    "        \"run_id\": \"16e3f179-bb70-4632-9a39-9a6fac4a5581\",\n",
    "        \"algorithm_used\": \"DecisionTreeClassifier\",\n",
    "        \"status\": \"Successful\",\n",
    "        \"model_metrics\": {}\n",
    "    },\n",
    "    {\n",
    "        \"run_id\": \"ef47a0a5-1a74-4a14-b0fd-8dbbd322057f\",\n",
    "        \"algorithm_used\": \"GradientBoostingClassifier\",\n",
    "        \"status\": \"Running\",\n",
    "        \"model_metrics\": {}\n",
    "    },\n",
    "    {\n",
    "        \"run_id\": \"26a15f9c-29fd-4d55-82fb-3d38cc18e4b8\",\n",
    "        \"algorithm_used\": \"RandomForestClassifier\",\n",
    "        \"status\": \"Running\",\n",
    "        \"model_metrics\": {}\n",
    "    }\n",
    "]\n",
    "\n",
    "def get_session(dataset, project_id):\n",
    "    \"\"\"\n",
    "    Method creates snowflake session object.\n",
    "    :return:\n",
    "    \"\"\"\n",
    "    try:\n",
    "        conn = get_conn_details_from_ds_name(dataset, project_id)\n",
    "        region=conn[\"params\"][\"READER\"][\"region\"] if conn[\"params\"][\"READER\"][\"cloudPlatform\"] is None \\\n",
    "                    else conn[\"params\"][\"READER\"][\"region\"]+\".\"+conn[\"params\"][\"READER\"][\"cloudPlatform\"]\n",
    "        account = conn['params']['READER']['accountId'] if region is None \\\n",
    "                    else conn['params']['READER']['accountId']+\".\"+region\n",
    "        CONNECTION_PARAMETERS = {\n",
    "            \"account\": account,\n",
    "            \"user\":conn['params']['READER']['user'],\n",
    "            \"password\": conn['params']['READER']['password'],\n",
    "            \"role\": conn['params']['READER']['role'],\n",
    "            \"database\": conn['params']['READER']['database'],\n",
    "            \"warehouse\": conn['params']['READER']['wareHouse'],\n",
    "            \"schema\": conn['params']['READER']['schema']\n",
    "        }\n",
    "        return Session.builder.configs(CONNECTION_PARAMETERS).create()\n",
    "    except Exception as ex:\n",
    "        print(\"Error while creating snowflake session\", ex)\n",
    "        raise ex\n",
    "        \n",
    "session = get_session(\"EMPLOYEE_10L\",\"0e0fb803-22db-4d88-9f2f-f6f75b6abcf0\")\n",
    "reg = Registry(session=session)\n",
    "resp_df = pd.DataFrame(monitor_resp)\n",
    "model_list = session.sql(\"show models like '%exp6789%'\").collect()\n",
    "for model in model_list:\n",
    "    model_name = model[\"name\"]\n",
    "    model_run_id = model_name[-36:].replace('_','-').lower()\n",
    "    model_obj = reg.get_model(model_name)\n",
    "    metrics = {\n",
    "        \"model_metrics\" : model_obj.default.get_metric('model_metrics')\n",
    "    }\n",
    "    select_row = resp_df.loc[resp_df['run_id']==model_run_id]\n",
    "    resp_df.loc[resp_df['run_id']==model_run_id, 'model_metrics'] = str(metrics.get('model_metrics'))   \n",
    "print(resp_df)"
   ]
  },
  {
   "cell_type": "code",
   "execution_count": 2,
   "id": "f6492662",
   "metadata": {},
   "outputs": [],
   "source": [
    "import requests"
   ]
  },
  {
   "cell_type": "code",
   "execution_count": 22,
   "id": "6d626a52",
   "metadata": {},
   "outputs": [],
   "source": [
    "monitor_url = \"http://monitor-backend-service/monitor/api/v5/executions/search?objectId=f4c813a1-86f1-4148-9ef3-cf8758331729&projectId=784a85f3-443c-4662-b56d-20d9bccd0027&&executedBy=aditya1.singh2@fosfor.com\"\n",
    "temp_head = {\n",
    "    \"X-Auth-Userid\": \"aditya1.singh2@fosfor.com\",\n",
    "    \"X-Auth-Username\": \"aditya1.singh2@fosfor.com\",\n",
    "    \"X-Auth-Email\": \"aditya1.singh2@fosfor.com\",\n",
    "    \"X-Project-Id\": \"0e0fb803-22db-4d88-9f2f-f6f75b6abcf0\"\n",
    "}"
   ]
  },
  {
   "cell_type": "code",
   "execution_count": 23,
   "id": "6c7dbc1a",
   "metadata": {},
   "outputs": [],
   "source": [
    "res = requests.get(monitor_url, headers=temp_head)"
   ]
  },
  {
   "cell_type": "code",
   "execution_count": 24,
   "id": "282d0f62",
   "metadata": {},
   "outputs": [
    {
     "data": {
      "text/plain": [
       "'{\"totalRecordCount\":19,\"data\":[{\"jobinstanceId\":499867,\"objectId\":\"f4c813a1-86f1-4148-9ef3-cf8758331729\",\"projectId\":\"784a85f3-443c-4662-b56d-20d9bccd0027\",\"projectName\":\"Experiments\",\"jobObjectName\":\"sample_Airline_RandomForestC_10k.ipynb\",\"jobScheduleId\":null,\"jobInstanceInputParameter\":\"{job:FIRST,jobType:Notebook}\",\"jobType\":\"SCHEDULE\",\"jobStatus\":\"FAILED\",\"finalStatus\":\"FAILED\",\"jobCreatedby\":\"aditya1.singh2@fosfor.com\",\"jobCreatedts\":\"2024-07-07T18:30:02.201+00:00\",\"jobUpdatedby\":\"aditya1.singh2@fosfor.com\",\"jobUpdatedts\":\"2024-07-07T18:31:02.466+00:00\",\"applicationId\":null,\"executionId\":\"77305\",\"runID\":\"499867\",\"versionNumber\":\"\",\"runEngine\":null,\"attemptId\":0,\"workflowId\":\"\",\"jobConfig\":null},{\"jobinstanceId\":495247,\"objectId\":\"f4c813a1-86f1-4148-9ef3-cf8758331729\",\"projectId\":\"784a85f3-443c-4662-b56d-20d9bccd0027\",\"projectName\":\"Experiments\",\"jobObjectName\":\"sample_Airline_RandomForestC_10k.ipynb\",\"jobScheduleId\":null,\"jobInstanceInputParameter\":\"{job:FIRST,jobType:Notebook}\",\"jobType\":\"SCHEDULE\",\"jobStatus\":\"FAILED\",\"finalStatus\":\"FAILED\",\"jobCreatedby\":\"aditya1.singh2@fosfor.com\",\"jobCreatedts\":\"2024-07-06T19:39:10.733+00:00\",\"jobUpdatedby\":\"aditya1.singh2@fosfor.com\",\"jobUpdatedts\":\"2024-07-06T19:39:40.895+00:00\",\"applicationId\":null,\"executionId\":\"77286\",\"runID\":\"495247\",\"versionNumber\":\"\",\"runEngine\":null,\"attemptId\":0,\"workflowId\":\"\",\"jobConfig\":null},{\"jobinstanceId\":486462,\"objectId\":\"f4c813a1-86f1-4148-9ef3-cf8758331729\",\"projectId\":\"784a85f3-443c-4662-b56d-20d9bccd0027\",\"projectName\":\"Experiments\",\"jobObjectName\":\"sample_Airline_RandomForestC_10k.ipynb\",\"jobScheduleId\":null,\"jobInstanceInputParameter\":\"{job:FIRST,jobType:Notebook}\",\"jobType\":\"SCHEDULE\",\"jobStatus\":\"FAILED\",\"finalStatus\":\"FAILED\",\"jobCreatedby\":\"aditya1.singh2@fosfor.com\",\"jobCreatedts\":\"2024-07-05T18:30:04.560+00:00\",\"jobUpdatedby\":\"aditya1.singh2@fosfor.com\",\"jobUpdatedts\":\"2024-07-07T11:00:02.360+00:00\",\"applicationId\":null,\"executionId\":\"77263\",\"runID\":\"486462\",\"versionNumber\":\"\",\"runEngine\":null,\"attemptId\":0,\"workflowId\":\"\",\"jobConfig\":null},{\"jobinstanceId\":480734,\"objectId\":\"f4c813a1-86f1-4148-9ef3-cf8758331729\",\"projectId\":\"784a85f3-443c-4662-b56d-20d9bccd0027\",\"projectName\":\"Experiments\",\"jobObjectName\":\"sample_Airline_RandomForestC_10k.ipynb\",\"jobScheduleId\":null,\"jobInstanceInputParameter\":\"{job:FIRST,jobType:Notebook}\",\"jobType\":\"SCHEDULE\",\"jobStatus\":\"FAILED\",\"finalStatus\":\"FAILED\",\"jobCreatedby\":\"aditya1.singh2@fosfor.com\",\"jobCreatedts\":\"2024-07-04T18:30:04.320+00:00\",\"jobUpdatedby\":\"aditya1.singh2@fosfor.com\",\"jobUpdatedts\":\"2024-07-05T16:29:53.629+00:00\",\"applicationId\":null,\"executionId\":\"77245\",\"runID\":\"480734\",\"versionNumber\":\"\",\"runEngine\":null,\"attemptId\":0,\"workflowId\":\"\",\"jobConfig\":null},{\"jobinstanceId\":476171,\"objectId\":\"f4c813a1-86f1-4148-9ef3-cf8758331729\",\"projectId\":\"784a85f3-443c-4662-b56d-20d9bccd0027\",\"projectName\":\"Experiments\",\"jobObjectName\":\"sample_Airline_RandomForestC_10k.ipynb\",\"jobScheduleId\":null,\"jobInstanceInputParameter\":\"{job:FIRST,jobType:Notebook}\",\"jobType\":\"SCHEDULE\",\"jobStatus\":\"FAILED\",\"finalStatus\":\"FAILED\",\"jobCreatedby\":\"aditya1.singh2@fosfor.com\",\"jobCreatedts\":\"2024-07-03T18:30:01.444+00:00\",\"jobUpdatedby\":\"aditya1.singh2@fosfor.com\",\"jobUpdatedts\":\"2024-07-03T18:30:31.605+00:00\",\"applicationId\":null,\"executionId\":\"77230\",\"runID\":\"476171\",\"versionNumber\":\"\",\"runEngine\":null,\"attemptId\":0,\"workflowId\":\"\",\"jobConfig\":null},{\"jobinstanceId\":471027,\"objectId\":\"f4c813a1-86f1-4148-9ef3-cf8758331729\",\"projectId\":\"784a85f3-443c-4662-b56d-20d9bccd0027\",\"projectName\":\"Experiments\",\"jobObjectName\":\"sample_Airline_RandomForestC_10k.ipynb\",\"jobScheduleId\":null,\"jobInstanceInputParameter\":\"{job:FIRST,jobType:Notebook}\",\"jobType\":\"SCHEDULE\",\"jobStatus\":\"FAILED\",\"finalStatus\":\"FAILED\",\"jobCreatedby\":\"aditya1.singh2@fosfor.com\",\"jobCreatedts\":\"2024-07-02T18:30:02.286+00:00\",\"jobUpdatedby\":\"aditya1.singh2@fosfor.com\",\"jobUpdatedts\":\"2024-07-02T18:31:12.576+00:00\",\"applicationId\":null,\"executionId\":\"77220\",\"runID\":\"471027\",\"versionNumber\":\"\",\"runEngine\":null,\"attemptId\":0,\"workflowId\":\"\",\"jobConfig\":null},{\"jobinstanceId\":465818,\"objectId\":\"f4c813a1-86f1-4148-9ef3-cf8758331729\",\"projectId\":\"784a85f3-443c-4662-b56d-20d9bccd0027\",\"projectName\":\"Experiments\",\"jobObjectName\":\"sample_Airline_RandomForestC_10k.ipynb\",\"jobScheduleId\":null,\"jobInstanceInputParameter\":\"{job:FIRST,jobType:Notebook}\",\"jobType\":\"SCHEDULE\",\"jobStatus\":\"FAILED\",\"finalStatus\":\"FAILED\",\"jobCreatedby\":\"aditya1.singh2@fosfor.com\",\"jobCreatedts\":\"2024-07-01T18:30:04.844+00:00\",\"jobUpdatedby\":\"aditya1.singh2@fosfor.com\",\"jobUpdatedts\":\"2024-07-03T11:00:02.608+00:00\",\"applicationId\":null,\"executionId\":\"77206\",\"runID\":\"465818\",\"versionNumber\":\"\",\"runEngine\":null,\"attemptId\":0,\"workflowId\":\"\",\"jobConfig\":null},{\"jobinstanceId\":460708,\"objectId\":\"f4c813a1-86f1-4148-9ef3-cf8758331729\",\"projectId\":\"784a85f3-443c-4662-b56d-20d9bccd0027\",\"projectName\":\"Experiments\",\"jobObjectName\":\"sample_Airline_RandomForestC_10k.ipynb\",\"jobScheduleId\":null,\"jobInstanceInputParameter\":\"{job:FIRST,jobType:Notebook}\",\"jobType\":\"SCHEDULE\",\"jobStatus\":\"FAILED\",\"finalStatus\":\"FAILED\",\"jobCreatedby\":\"aditya1.singh2@fosfor.com\",\"jobCreatedts\":\"2024-06-30T18:30:03.061+00:00\",\"jobUpdatedby\":\"aditya1.singh2@fosfor.com\",\"jobUpdatedts\":\"2024-07-02T11:00:02.203+00:00\",\"applicationId\":null,\"executionId\":\"77188\",\"runID\":\"460708\",\"versionNumber\":\"\",\"runEngine\":null,\"attemptId\":0,\"workflowId\":\"\",\"jobConfig\":null},{\"jobinstanceId\":455842,\"objectId\":\"f4c813a1-86f1-4148-9ef3-cf8758331729\",\"projectId\":\"784a85f3-443c-4662-b56d-20d9bccd0027\",\"projectName\":\"Experiments\",\"jobObjectName\":\"sample_Airline_RandomForestC_10k.ipynb\",\"jobScheduleId\":null,\"jobInstanceInputParameter\":\"{job:FIRST,jobType:Notebook}\",\"jobType\":\"SCHEDULE\",\"jobStatus\":\"FAILED\",\"finalStatus\":\"FAILED\",\"jobCreatedby\":\"aditya1.singh2@fosfor.com\",\"jobCreatedts\":\"2024-06-29T18:30:01.960+00:00\",\"jobUpdatedby\":\"aditya1.singh2@fosfor.com\",\"jobUpdatedts\":\"2024-06-29T18:30:52.139+00:00\",\"applicationId\":null,\"executionId\":\"77166\",\"runID\":\"455842\",\"versionNumber\":\"\",\"runEngine\":null,\"attemptId\":0,\"workflowId\":\"\",\"jobConfig\":null},{\"jobinstanceId\":450433,\"objectId\":\"f4c813a1-86f1-4148-9ef3-cf8758331729\",\"projectId\":\"784a85f3-443c-4662-b56d-20d9bccd0027\",\"projectName\":\"Experiments\",\"jobObjectName\":\"sample_Airline_RandomForestC_10k.ipynb\",\"jobScheduleId\":null,\"jobInstanceInputParameter\":\"{job:FIRST,jobType:Notebook}\",\"jobType\":\"SCHEDULE\",\"jobStatus\":\"FAILED\",\"finalStatus\":\"FAILED\",\"jobCreatedby\":\"aditya1.singh2@fosfor.com\",\"jobCreatedts\":\"2024-06-28T18:30:02.518+00:00\",\"jobUpdatedby\":\"aditya1.singh2@fosfor.com\",\"jobUpdatedts\":\"2024-06-30T11:00:01.965+00:00\",\"applicationId\":null,\"executionId\":\"77147\",\"runID\":\"450433\",\"versionNumber\":\"\",\"runEngine\":null,\"attemptId\":0,\"workflowId\":\"\",\"jobConfig\":null}],\"jobTypesList\":null,\"executedByList\":null,\"projectList\":null}'"
      ]
     },
     "execution_count": 24,
     "metadata": {},
     "output_type": "execute_result"
    }
   ],
   "source": [
    "res."
   ]
  },
  {
   "cell_type": "code",
   "execution_count": null,
   "id": "1f11a6bd",
   "metadata": {},
   "outputs": [],
   "source": []
  }
 ],
 "metadata": {
  "kernelspec": {
   "display_name": "Python 3",
   "language": "python",
   "name": "python3"
  },
  "language_info": {
   "codemirror_mode": {
    "name": "ipython",
    "version": 3
   },
   "file_extension": ".py",
   "mimetype": "text/x-python",
   "name": "python",
   "nbconvert_exporter": "python",
   "pygments_lexer": "ipython3",
   "version": "3.9.18"
  }
 },
 "nbformat": 4,
 "nbformat_minor": 5
}
