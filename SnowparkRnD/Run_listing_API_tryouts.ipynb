{
 "cells": [
  {
   "cell_type": "code",
   "execution_count": 1,
   "id": "85599402",
   "metadata": {},
   "outputs": [],
   "source": [
    "monitor_resp = [\n",
    "    {\n",
    "        \"run_id\": \"8042932c-101a-4ddc-a808-00c092797960\",\n",
    "        \"algorithm_used\": \"XGBClassifier\",\n",
    "        \"status\": \"Successful\"\n",
    "    },\n",
    "    {\n",
    "        \"run_id\": \"16e3f179-bb70-4632-9a39-9a6fac4a5581\",\n",
    "        \"algorithm_used\": \"DecisionTreeClassifier\",\n",
    "        \"status\": \"Successful\"\n",
    "    },\n",
    "    {\n",
    "        \"run_id\": \"ef47a0a5-1a74-4a14-b0fd-8dbbd322057f\",\n",
    "        \"algorithm_used\": \"GradientBoostingClassifier\",\n",
    "        \"status\": \"Running\"\n",
    "    },\n",
    "    {\n",
    "        \"run_id\": \"26a15f9c-29fd-4d55-82fb-3d38cc18e4b8\",\n",
    "        \"algorithm_used\": \"RandomForestClassifier\",\n",
    "        \"status\": \"Running\"\n",
    "    }\n",
    "]"
   ]
  },
  {
   "cell_type": "code",
   "execution_count": 4,
   "id": "f9921d3c",
   "metadata": {},
   "outputs": [],
   "source": [
    "from fosforio.manager import get_conn_details_from_ds_name\n",
    "from snowflake.snowpark.session import Session\n",
    "from snowflake.ml.registry.registry import Registry"
   ]
  },
  {
   "cell_type": "code",
   "execution_count": 2,
   "id": "9a8acd8c",
   "metadata": {},
   "outputs": [
    {
     "name": "stdout",
     "output_type": "stream",
     "text": [
      "Connection manager service url initialised to http://fdc-project-manager:80/project-manager\n",
      "If you need to update its value then update the variable CONNECTION_MANAGER_BASE_URL in os env.\n"
     ]
    }
   ],
   "source": [
    "def get_session(dataset, project_id):\n",
    "    \"\"\"\n",
    "    Method creates snowflake session object.\n",
    "    :return:\n",
    "    \"\"\"\n",
    "    try:\n",
    "        conn = get_conn_details_from_ds_name(dataset, project_id)\n",
    "        region=conn[\"params\"][\"READER\"][\"region\"] if conn[\"params\"][\"READER\"][\"cloudPlatform\"] is None \\\n",
    "                    else conn[\"params\"][\"READER\"][\"region\"]+\".\"+conn[\"params\"][\"READER\"][\"cloudPlatform\"]\n",
    "        account = conn['params']['READER']['accountId'] if region is None \\\n",
    "                    else conn['params']['READER']['accountId']+\".\"+region\n",
    "        CONNECTION_PARAMETERS = {\n",
    "            \"account\": account,\n",
    "            \"user\":conn['params']['READER']['user'],\n",
    "            \"password\": conn['params']['READER']['password'],\n",
    "            \"role\": conn['params']['READER']['role'],\n",
    "            \"database\": conn['params']['READER']['database'],\n",
    "            \"warehouse\": conn['params']['READER']['wareHouse'],\n",
    "            \"schema\": conn['params']['READER']['schema']\n",
    "        }\n",
    "        return Session.builder.configs(CONNECTION_PARAMETERS).create()\n",
    "    except Exception as ex:\n",
    "        print(\"Error while creating snowflake session\", ex)\n",
    "        raise ex"
   ]
  },
  {
   "cell_type": "code",
   "execution_count": 3,
   "id": "51331976",
   "metadata": {},
   "outputs": [],
   "source": [
    "session = get_session(\"EMPLOYEE_10L\",\"0e0fb803-22db-4d88-9f2f-f6f75b6abcf0\")"
   ]
  },
  {
   "cell_type": "code",
   "execution_count": 5,
   "id": "85041042",
   "metadata": {},
   "outputs": [],
   "source": [
    "reg = Registry(session=session)"
   ]
  },
  {
   "cell_type": "code",
   "execution_count": 33,
   "id": "d6821f48",
   "metadata": {},
   "outputs": [
    {
     "name": "stdout",
     "output_type": "stream",
     "text": [
      "CPU times: user 27.9 ms, sys: 0 ns, total: 27.9 ms\n",
      "Wall time: 104 ms\n"
     ]
    }
   ],
   "source": [
    "%%time\n",
    "model_list = session.sql(\"show models like '%exp6789%'\").collect()"
   ]
  },
  {
   "cell_type": "code",
   "execution_count": 34,
   "id": "fde89373",
   "metadata": {},
   "outputs": [
    {
     "data": {
      "text/plain": [
       "[Row(created_on=datetime.datetime(2024, 7, 7, 20, 4, 19, 969000, tzinfo=<DstTzInfo 'America/Los_Angeles' PDT-1 day, 17:00:00 DST>), name='MY_RUN_LISTING_EXP_TEST12345_EXP6789_16E3F179_BB70_4632_9A39_9A6FAC4A5581', database_name='FIRST_DB', schema_name='PUBLIC', comment=None, owner='ADITYASINGH', default_version_name='V1', versions='[\"V1\"]'),\n",
       " Row(created_on=datetime.datetime(2024, 7, 7, 20, 11, 8, 496000, tzinfo=<DstTzInfo 'America/Los_Angeles' PDT-1 day, 17:00:00 DST>), name='MY_RUN_LISTING_EXP_TEST12345_EXP6789_8042932C_101A_4DDC_A808_00C092797960', database_name='FIRST_DB', schema_name='PUBLIC', comment=None, owner='ADITYASINGH', default_version_name='V1', versions='[\"V1\"]')]"
      ]
     },
     "execution_count": 34,
     "metadata": {},
     "output_type": "execute_result"
    }
   ],
   "source": [
    "model_list"
   ]
  },
  {
   "cell_type": "code",
   "execution_count": 35,
   "id": "70515c4a",
   "metadata": {},
   "outputs": [
    {
     "name": "stdout",
     "output_type": "stream",
     "text": [
      "{'accuracy_score': 0.92473, 'f1_score': 0.8841251148525358, 'recall_score': 0.8361769313619897, 'precision_score': 0.9379067021773153, 'roc_auc': 0.9036114375207266, 'log_loss': 2.7149916732535027}\n",
      "{'accuracy_score': 0.912834, 'f1_score': 0.863711823763472, 'recall_score': 0.8009236633760141, 'precision_score': 0.9371819065591582, 'roc_auc': 0.8863324874130605, 'log_loss': 3.1437201566897612}\n"
     ]
    }
   ],
   "source": [
    "for model in model_list:\n",
    "    model_name = model[\"name\"]\n",
    "    model_run_id = \n",
    "    model_obj = reg.get_model(model_name)\n",
    "    print(model_obj.default.get_metric('model_metrics'))"
   ]
  },
  {
   "cell_type": "code",
   "execution_count": 29,
   "id": "7ba94c1c",
   "metadata": {},
   "outputs": [
    {
     "name": "stdout",
     "output_type": "stream",
     "text": [
      "CPU times: user 68.1 ms, sys: 735 µs, total: 68.8 ms\n",
      "Wall time: 1.29 s\n"
     ]
    }
   ],
   "source": [
    "%%time\n",
    "m = reg.get_model(\"MY_RUN_LISTING_EXP_TEST12345_EXP6789_16E3F179_BB70_4632_9A39_9A6FAC4A5581\")"
   ]
  },
  {
   "cell_type": "code",
   "execution_count": 18,
   "id": "4eb2089a",
   "metadata": {},
   "outputs": [
    {
     "data": {
      "text/plain": [
       "['__annotations__',\n",
       " '__class__',\n",
       " '__delattr__',\n",
       " '__dict__',\n",
       " '__dir__',\n",
       " '__doc__',\n",
       " '__eq__',\n",
       " '__format__',\n",
       " '__ge__',\n",
       " '__getattribute__',\n",
       " '__gt__',\n",
       " '__hash__',\n",
       " '__init__',\n",
       " '__init_subclass__',\n",
       " '__le__',\n",
       " '__lt__',\n",
       " '__module__',\n",
       " '__ne__',\n",
       " '__new__',\n",
       " '__reduce__',\n",
       " '__reduce_ex__',\n",
       " '__repr__',\n",
       " '__setattr__',\n",
       " '__sizeof__',\n",
       " '__str__',\n",
       " '__subclasshook__',\n",
       " '__weakref__',\n",
       " '_model_name',\n",
       " '_model_ops',\n",
       " '_ref',\n",
       " 'comment',\n",
       " 'default',\n",
       " 'delete_version',\n",
       " 'description',\n",
       " 'fully_qualified_name',\n",
       " 'get_tag',\n",
       " 'name',\n",
       " 'rename',\n",
       " 'set_tag',\n",
       " 'show_tags',\n",
       " 'show_versions',\n",
       " 'unset_tag',\n",
       " 'version',\n",
       " 'versions']"
      ]
     },
     "execution_count": 18,
     "metadata": {},
     "output_type": "execute_result"
    }
   ],
   "source": [
    "dir(m)"
   ]
  },
  {
   "cell_type": "code",
   "execution_count": 30,
   "id": "662eb51c",
   "metadata": {},
   "outputs": [
    {
     "data": {
      "text/plain": [
       "{'FIRST_DB.PUBLIC.ACCURACY_SCORE': '0.92473',\n",
       " 'FIRST_DB.PUBLIC.ALGORITHMS': '[{\"algorithm_name\": \"snowflake.ml.modeling.tree.DecisionTreeClassifier\"}]',\n",
       " 'FIRST_DB.PUBLIC.ALGORITHM_CATEGORY': 'Snowparkml',\n",
       " 'FIRST_DB.PUBLIC.ALGORITHM_TYPE': 'Classification',\n",
       " 'FIRST_DB.PUBLIC.DATASET_NAME': 'EMPLOYEE_10L',\n",
       " 'FIRST_DB.PUBLIC.EXPERIMENT_ID': 'exp6789',\n",
       " 'FIRST_DB.PUBLIC.EXPERIMENT_NAME': 'My_run_listing_exp',\n",
       " 'FIRST_DB.PUBLIC.F1_SCORE': '0.8841251148525358',\n",
       " 'FIRST_DB.PUBLIC.LOG_LOSS': '2.7149916732535027',\n",
       " 'FIRST_DB.PUBLIC.MONITOR_RUN_ID': '16e3f179-bb70-4632-9a39-9a6fac4a5581',\n",
       " 'FIRST_DB.PUBLIC.PRECISION_SCORE': '0.9379067021773153',\n",
       " 'FIRST_DB.PUBLIC.PROJECT_ID': 'test12345',\n",
       " 'FIRST_DB.PUBLIC.RECALL_SCORE': '0.8361769313619897',\n",
       " 'FIRST_DB.PUBLIC.ROC_AUC': '0.9036114375207266',\n",
       " 'FIRST_DB.PUBLIC.STORED_PROCEDURE': 'run_experiment',\n",
       " 'FIRST_DB.PUBLIC.TARGET_COLUMN': 'LEAVEORNOT'}"
      ]
     },
     "execution_count": 30,
     "metadata": {},
     "output_type": "execute_result"
    }
   ],
   "source": [
    "m.show_tags()"
   ]
  },
  {
   "cell_type": "code",
   "execution_count": 31,
   "id": "387cf2de",
   "metadata": {},
   "outputs": [
    {
     "data": {
      "text/plain": [
       "{'accuracy_score': 0.92473,\n",
       " 'f1_score': 0.8841251148525358,\n",
       " 'recall_score': 0.8361769313619897,\n",
       " 'precision_score': 0.9379067021773153,\n",
       " 'roc_auc': 0.9036114375207266,\n",
       " 'log_loss': 2.7149916732535027}"
      ]
     },
     "execution_count": 31,
     "metadata": {},
     "output_type": "execute_result"
    }
   ],
   "source": [
    "m.default.get_metric('model_metrics')"
   ]
  },
  {
   "cell_type": "code",
   "execution_count": null,
   "id": "84f9f42a",
   "metadata": {},
   "outputs": [],
   "source": []
  }
 ],
 "metadata": {
  "kernelspec": {
   "display_name": "Python 3",
   "language": "python",
   "name": "python3"
  },
  "language_info": {
   "codemirror_mode": {
    "name": "ipython",
    "version": 3
   },
   "file_extension": ".py",
   "mimetype": "text/x-python",
   "name": "python",
   "nbconvert_exporter": "python",
   "pygments_lexer": "ipython3",
   "version": "3.9.18"
  }
 },
 "nbformat": 4,
 "nbformat_minor": 5
}
