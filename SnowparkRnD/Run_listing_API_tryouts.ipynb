{
 "cells": [
  {
   "cell_type": "code",
   "execution_count": 1,
   "id": "8a615090",
   "metadata": {},
   "outputs": [
    {
     "name": "stdout",
     "output_type": "stream",
     "text": [
      "Connection manager service url initialised to http://fdc-project-manager:80/project-manager\n",
      "If you need to update its value then update the variable CONNECTION_MANAGER_BASE_URL in os env.\n",
      "CPU times: user 962 ms, sys: 605 ms, total: 1.57 s\n",
      "Wall time: 11.9 s\n"
     ]
    }
   ],
   "source": [
    "%%time\n",
    "from fosforio.manager import get_conn_details_from_ds_name\n",
    "from snowflake.snowpark.session import Session\n",
    "from snowflake.ml.registry.registry import Registry\n",
    "import pandas as pd"
   ]
  },
  {
   "cell_type": "code",
   "execution_count": 2,
   "id": "9c9dddd8",
   "metadata": {},
   "outputs": [
    {
     "name": "stdout",
     "output_type": "stream",
     "text": [
      "[{'run_id': '8042932c-101a-4ddc-a808-00c092797960', 'algorithm_used': 'XGBClassifier', 'status': 'Successful', 'model_metrics': {'accuracy_score': 0.912834, 'f1_score': 0.863711823763472, 'recall_score': 0.8009236633760141, 'precision_score': 0.9371819065591582, 'roc_auc': 0.8863324874130605, 'log_loss': 3.1437201566897612}}, {'run_id': '16e3f179-bb70-4632-9a39-9a6fac4a5581', 'algorithm_used': 'DecisionTreeClassifier', 'status': 'Successful', 'model_metrics': {'accuracy_score': 0.92473, 'f1_score': 0.8841251148525358, 'recall_score': 0.8361769313619897, 'precision_score': 0.9379067021773153, 'roc_auc': 0.9036114375207266, 'log_loss': 2.7149916732535027}}, {'run_id': 'ef47a0a5-1a74-4a14-b0fd-8dbbd322057f', 'algorithm_used': 'GradientBoostingClassifier', 'status': 'Running', 'model_metrics': {}}, {'run_id': '26a15f9c-29fd-4d55-82fb-3d38cc18e4b8', 'algorithm_used': 'RandomForestClassifier', 'status': 'Running', 'model_metrics': {}}]\n",
      "CPU times: user 793 ms, sys: 239 ms, total: 1.03 s\n",
      "Wall time: 8.99 s\n"
     ]
    }
   ],
   "source": [
    "%%time\n",
    "monitor_resp = [\n",
    "    {\n",
    "        \"run_id\": \"8042932c-101a-4ddc-a808-00c092797960\",\n",
    "        \"algorithm_used\": \"XGBClassifier\",\n",
    "        \"status\": \"Successful\",\n",
    "        \"model_metrics\": {}\n",
    "    },\n",
    "    {\n",
    "        \"run_id\": \"16e3f179-bb70-4632-9a39-9a6fac4a5581\",\n",
    "        \"algorithm_used\": \"DecisionTreeClassifier\",\n",
    "        \"status\": \"Successful\",\n",
    "        \"model_metrics\": {}\n",
    "    },\n",
    "    {\n",
    "        \"run_id\": \"ef47a0a5-1a74-4a14-b0fd-8dbbd322057f\",\n",
    "        \"algorithm_used\": \"GradientBoostingClassifier\",\n",
    "        \"status\": \"Running\",\n",
    "        \"model_metrics\": {}\n",
    "    },\n",
    "    {\n",
    "        \"run_id\": \"26a15f9c-29fd-4d55-82fb-3d38cc18e4b8\",\n",
    "        \"algorithm_used\": \"RandomForestClassifier\",\n",
    "        \"status\": \"Running\",\n",
    "        \"model_metrics\": {}\n",
    "    }\n",
    "]\n",
    "\n",
    "def get_session(dataset, project_id):\n",
    "    \"\"\"\n",
    "    Method creates snowflake session object.\n",
    "    :return:\n",
    "    \"\"\"\n",
    "    try:\n",
    "        conn = get_conn_details_from_ds_name(dataset, project_id)\n",
    "        region=conn[\"params\"][\"READER\"][\"region\"] if conn[\"params\"][\"READER\"][\"cloudPlatform\"] is None \\\n",
    "                    else conn[\"params\"][\"READER\"][\"region\"]+\".\"+conn[\"params\"][\"READER\"][\"cloudPlatform\"]\n",
    "        account = conn['params']['READER']['accountId'] if region is None \\\n",
    "                    else conn['params']['READER']['accountId']+\".\"+region\n",
    "        CONNECTION_PARAMETERS = {\n",
    "            \"account\": account,\n",
    "            \"user\":conn['params']['READER']['user'],\n",
    "            \"password\": conn['params']['READER']['password'],\n",
    "            \"role\": conn['params']['READER']['role'],\n",
    "            \"database\": conn['params']['READER']['database'],\n",
    "            \"warehouse\": conn['params']['READER']['wareHouse'],\n",
    "            \"schema\": conn['params']['READER']['schema']\n",
    "        }\n",
    "        return Session.builder.configs(CONNECTION_PARAMETERS).create()\n",
    "    except Exception as ex:\n",
    "        print(\"Error while creating snowflake session\", ex)\n",
    "        raise ex\n",
    "        \n",
    "session = get_session(\"EMPLOYEE_10L\",\"0e0fb803-22db-4d88-9f2f-f6f75b6abcf0\")\n",
    "reg = Registry(session=session)\n",
    "\n",
    "model_list = session.sql(\"show models like '%exp6789%'\").collect()\n",
    "for model in model_list:\n",
    "    model_name = model[\"name\"]\n",
    "    model_run_id = model_name[-36:].replace('_','-').lower()\n",
    "    model_obj = reg.get_model(model_name)\n",
    "    metrics = {\n",
    "        \"model_metrics\" : model_obj.default.get_metric('model_metrics')\n",
    "    }\n",
    "    for run in monitor_resp:\n",
    "        if run.get('run_id') == model_run_id:\n",
    "            run.update(metrics)\n",
    "print(monitor_resp)"
   ]
  },
  {
   "cell_type": "code",
   "execution_count": 3,
   "id": "558c239d",
   "metadata": {},
   "outputs": [
    {
     "name": "stdout",
     "output_type": "stream",
     "text": [
      "                                 run_id              algorithm_used  \\\n",
      "0  8042932c-101a-4ddc-a808-00c092797960               XGBClassifier   \n",
      "1  16e3f179-bb70-4632-9a39-9a6fac4a5581      DecisionTreeClassifier   \n",
      "2  ef47a0a5-1a74-4a14-b0fd-8dbbd322057f  GradientBoostingClassifier   \n",
      "3  26a15f9c-29fd-4d55-82fb-3d38cc18e4b8      RandomForestClassifier   \n",
      "\n",
      "       status                                      model_metrics  \n",
      "0  Successful  {'accuracy_score': 0.912834, 'f1_score': 0.863...  \n",
      "1  Successful  {'accuracy_score': 0.92473, 'f1_score': 0.8841...  \n",
      "2     Running                                                 {}  \n",
      "3     Running                                                 {}  \n",
      "CPU times: user 559 ms, sys: 0 ns, total: 559 ms\n",
      "Wall time: 3.1 s\n"
     ]
    }
   ],
   "source": [
    "%%time\n",
    "####Approach 2####\n",
    "monitor_resp = [\n",
    "    {\n",
    "        \"run_id\": \"8042932c-101a-4ddc-a808-00c092797960\",\n",
    "        \"algorithm_used\": \"XGBClassifier\",\n",
    "        \"status\": \"Successful\",\n",
    "        \"model_metrics\": {}\n",
    "    },\n",
    "    {\n",
    "        \"run_id\": \"16e3f179-bb70-4632-9a39-9a6fac4a5581\",\n",
    "        \"algorithm_used\": \"DecisionTreeClassifier\",\n",
    "        \"status\": \"Successful\",\n",
    "        \"model_metrics\": {}\n",
    "    },\n",
    "    {\n",
    "        \"run_id\": \"ef47a0a5-1a74-4a14-b0fd-8dbbd322057f\",\n",
    "        \"algorithm_used\": \"GradientBoostingClassifier\",\n",
    "        \"status\": \"Running\",\n",
    "        \"model_metrics\": {}\n",
    "    },\n",
    "    {\n",
    "        \"run_id\": \"26a15f9c-29fd-4d55-82fb-3d38cc18e4b8\",\n",
    "        \"algorithm_used\": \"RandomForestClassifier\",\n",
    "        \"status\": \"Running\",\n",
    "        \"model_metrics\": {}\n",
    "    }\n",
    "]\n",
    "\n",
    "def get_session(dataset, project_id):\n",
    "    \"\"\"\n",
    "    Method creates snowflake session object.\n",
    "    :return:\n",
    "    \"\"\"\n",
    "    try:\n",
    "        conn = get_conn_details_from_ds_name(dataset, project_id)\n",
    "        region=conn[\"params\"][\"READER\"][\"region\"] if conn[\"params\"][\"READER\"][\"cloudPlatform\"] is None \\\n",
    "                    else conn[\"params\"][\"READER\"][\"region\"]+\".\"+conn[\"params\"][\"READER\"][\"cloudPlatform\"]\n",
    "        account = conn['params']['READER']['accountId'] if region is None \\\n",
    "                    else conn['params']['READER']['accountId']+\".\"+region\n",
    "        CONNECTION_PARAMETERS = {\n",
    "            \"account\": account,\n",
    "            \"user\":conn['params']['READER']['user'],\n",
    "            \"password\": conn['params']['READER']['password'],\n",
    "            \"role\": conn['params']['READER']['role'],\n",
    "            \"database\": conn['params']['READER']['database'],\n",
    "            \"warehouse\": conn['params']['READER']['wareHouse'],\n",
    "            \"schema\": conn['params']['READER']['schema']\n",
    "        }\n",
    "        return Session.builder.configs(CONNECTION_PARAMETERS).create()\n",
    "    except Exception as ex:\n",
    "        print(\"Error while creating snowflake session\", ex)\n",
    "        raise ex\n",
    "        \n",
    "session = get_session(\"EMPLOYEE_10L\",\"0e0fb803-22db-4d88-9f2f-f6f75b6abcf0\")\n",
    "reg = Registry(session=session)\n",
    "resp_df = pd.DataFrame(monitor_resp)\n",
    "model_list = session.sql(\"show models like '%exp6789%'\").collect()\n",
    "for model in model_list:\n",
    "    model_name = model[\"name\"]\n",
    "    model_run_id = model_name[-36:].replace('_','-').lower()\n",
    "    model_obj = reg.get_model(model_name)\n",
    "    metrics = {\n",
    "        \"model_metrics\" : model_obj.default.get_metric('model_metrics')\n",
    "    }\n",
    "    select_row = resp_df.loc[resp_df['run_id']==model_run_id]\n",
    "    resp_df.loc[resp_df['run_id']==model_run_id, 'model_metrics'] = str(metrics.get('model_metrics'))   \n",
    "print(resp_df)"
   ]
  },
  {
   "cell_type": "code",
   "execution_count": 30,
   "id": "2cfacea3",
   "metadata": {},
   "outputs": [],
   "source": [
    "import requests, json"
   ]
  },
  {
   "cell_type": "code",
   "execution_count": 22,
   "id": "6d626a52",
   "metadata": {},
   "outputs": [],
   "source": [
    "monitor_url = \"http://monitor-backend-service/monitor/api/v5/executions/search?objectId=f4c813a1-86f1-4148-9ef3-cf8758331729&projectId=784a85f3-443c-4662-b56d-20d9bccd0027&&executedBy=aditya1.singh2@fosfor.com\"\n",
    "temp_head = {\n",
    "    \"X-Auth-Userid\": \"aditya1.singh2@fosfor.com\",\n",
    "    \"X-Auth-Username\": \"aditya1.singh2@fosfor.com\",\n",
    "    \"X-Auth-Email\": \"aditya1.singh2@fosfor.com\",\n",
    "    \"X-Project-Id\": \"0e0fb803-22db-4d88-9f2f-f6f75b6abcf0\"\n",
    "}"
   ]
  },
  {
   "cell_type": "code",
   "execution_count": 33,
   "id": "0deaf02d",
   "metadata": {},
   "outputs": [
    {
     "ename": "KeyboardInterrupt",
     "evalue": "",
     "output_type": "error",
     "traceback": [
      "\u001b[0;31m---------------------------------------------------------------------------\u001b[0m",
      "\u001b[0;31mKeyboardInterrupt\u001b[0m                         Traceback (most recent call last)",
      "Cell \u001b[0;32mIn[33], line 1\u001b[0m\n\u001b[0;32m----> 1\u001b[0m res \u001b[38;5;241m=\u001b[39m \u001b[43mrequests\u001b[49m\u001b[38;5;241;43m.\u001b[39;49m\u001b[43mget\u001b[49m\u001b[43m(\u001b[49m\u001b[43mmonitor_url\u001b[49m\u001b[43m,\u001b[49m\u001b[43m \u001b[49m\u001b[43mheaders\u001b[49m\u001b[38;5;241;43m=\u001b[39;49m\u001b[43mtemp_head\u001b[49m\u001b[43m)\u001b[49m\n\u001b[1;32m      2\u001b[0m res \u001b[38;5;241m=\u001b[39m json\u001b[38;5;241m.\u001b[39mloads(res\u001b[38;5;241m.\u001b[39mtext)\n",
      "File \u001b[0;32m/packages/Python-3.9-Snowpark/7e0b365a-f7cb-4d2a-ba2a-e8ed02dbe50c/3.9/requests/api.py:73\u001b[0m, in \u001b[0;36mget\u001b[0;34m(url, params, **kwargs)\u001b[0m\n\u001b[1;32m     62\u001b[0m \u001b[38;5;28;01mdef\u001b[39;00m \u001b[38;5;21mget\u001b[39m(url, params\u001b[38;5;241m=\u001b[39m\u001b[38;5;28;01mNone\u001b[39;00m, \u001b[38;5;241m*\u001b[39m\u001b[38;5;241m*\u001b[39mkwargs):\n\u001b[1;32m     63\u001b[0m \u001b[38;5;250m    \u001b[39m\u001b[38;5;124mr\u001b[39m\u001b[38;5;124;03m\"\"\"Sends a GET request.\u001b[39;00m\n\u001b[1;32m     64\u001b[0m \n\u001b[1;32m     65\u001b[0m \u001b[38;5;124;03m    :param url: URL for the new :class:`Request` object.\u001b[39;00m\n\u001b[0;32m   (...)\u001b[0m\n\u001b[1;32m     70\u001b[0m \u001b[38;5;124;03m    :rtype: requests.Response\u001b[39;00m\n\u001b[1;32m     71\u001b[0m \u001b[38;5;124;03m    \"\"\"\u001b[39;00m\n\u001b[0;32m---> 73\u001b[0m     \u001b[38;5;28;01mreturn\u001b[39;00m \u001b[43mrequest\u001b[49m\u001b[43m(\u001b[49m\u001b[38;5;124;43m\"\u001b[39;49m\u001b[38;5;124;43mget\u001b[39;49m\u001b[38;5;124;43m\"\u001b[39;49m\u001b[43m,\u001b[49m\u001b[43m \u001b[49m\u001b[43murl\u001b[49m\u001b[43m,\u001b[49m\u001b[43m \u001b[49m\u001b[43mparams\u001b[49m\u001b[38;5;241;43m=\u001b[39;49m\u001b[43mparams\u001b[49m\u001b[43m,\u001b[49m\u001b[43m \u001b[49m\u001b[38;5;241;43m*\u001b[39;49m\u001b[38;5;241;43m*\u001b[39;49m\u001b[43mkwargs\u001b[49m\u001b[43m)\u001b[49m\n",
      "File \u001b[0;32m/packages/Python-3.9-Snowpark/7e0b365a-f7cb-4d2a-ba2a-e8ed02dbe50c/3.9/requests/api.py:59\u001b[0m, in \u001b[0;36mrequest\u001b[0;34m(method, url, **kwargs)\u001b[0m\n\u001b[1;32m     55\u001b[0m \u001b[38;5;66;03m# By using the 'with' statement we are sure the session is closed, thus we\u001b[39;00m\n\u001b[1;32m     56\u001b[0m \u001b[38;5;66;03m# avoid leaving sockets open which can trigger a ResourceWarning in some\u001b[39;00m\n\u001b[1;32m     57\u001b[0m \u001b[38;5;66;03m# cases, and look like a memory leak in others.\u001b[39;00m\n\u001b[1;32m     58\u001b[0m \u001b[38;5;28;01mwith\u001b[39;00m sessions\u001b[38;5;241m.\u001b[39mSession() \u001b[38;5;28;01mas\u001b[39;00m session:\n\u001b[0;32m---> 59\u001b[0m     \u001b[38;5;28;01mreturn\u001b[39;00m \u001b[43msession\u001b[49m\u001b[38;5;241;43m.\u001b[39;49m\u001b[43mrequest\u001b[49m\u001b[43m(\u001b[49m\u001b[43mmethod\u001b[49m\u001b[38;5;241;43m=\u001b[39;49m\u001b[43mmethod\u001b[49m\u001b[43m,\u001b[49m\u001b[43m \u001b[49m\u001b[43murl\u001b[49m\u001b[38;5;241;43m=\u001b[39;49m\u001b[43murl\u001b[49m\u001b[43m,\u001b[49m\u001b[43m \u001b[49m\u001b[38;5;241;43m*\u001b[39;49m\u001b[38;5;241;43m*\u001b[39;49m\u001b[43mkwargs\u001b[49m\u001b[43m)\u001b[49m\n",
      "File \u001b[0;32m/packages/Python-3.9-Snowpark/7e0b365a-f7cb-4d2a-ba2a-e8ed02dbe50c/3.9/requests/sessions.py:589\u001b[0m, in \u001b[0;36mSession.request\u001b[0;34m(self, method, url, params, data, headers, cookies, files, auth, timeout, allow_redirects, proxies, hooks, stream, verify, cert, json)\u001b[0m\n\u001b[1;32m    584\u001b[0m send_kwargs \u001b[38;5;241m=\u001b[39m {\n\u001b[1;32m    585\u001b[0m     \u001b[38;5;124m\"\u001b[39m\u001b[38;5;124mtimeout\u001b[39m\u001b[38;5;124m\"\u001b[39m: timeout,\n\u001b[1;32m    586\u001b[0m     \u001b[38;5;124m\"\u001b[39m\u001b[38;5;124mallow_redirects\u001b[39m\u001b[38;5;124m\"\u001b[39m: allow_redirects,\n\u001b[1;32m    587\u001b[0m }\n\u001b[1;32m    588\u001b[0m send_kwargs\u001b[38;5;241m.\u001b[39mupdate(settings)\n\u001b[0;32m--> 589\u001b[0m resp \u001b[38;5;241m=\u001b[39m \u001b[38;5;28;43mself\u001b[39;49m\u001b[38;5;241;43m.\u001b[39;49m\u001b[43msend\u001b[49m\u001b[43m(\u001b[49m\u001b[43mprep\u001b[49m\u001b[43m,\u001b[49m\u001b[43m \u001b[49m\u001b[38;5;241;43m*\u001b[39;49m\u001b[38;5;241;43m*\u001b[39;49m\u001b[43msend_kwargs\u001b[49m\u001b[43m)\u001b[49m\n\u001b[1;32m    591\u001b[0m \u001b[38;5;28;01mreturn\u001b[39;00m resp\n",
      "File \u001b[0;32m/packages/Python-3.9-Snowpark/7e0b365a-f7cb-4d2a-ba2a-e8ed02dbe50c/3.9/requests/sessions.py:703\u001b[0m, in \u001b[0;36mSession.send\u001b[0;34m(self, request, **kwargs)\u001b[0m\n\u001b[1;32m    700\u001b[0m start \u001b[38;5;241m=\u001b[39m preferred_clock()\n\u001b[1;32m    702\u001b[0m \u001b[38;5;66;03m# Send the request\u001b[39;00m\n\u001b[0;32m--> 703\u001b[0m r \u001b[38;5;241m=\u001b[39m \u001b[43madapter\u001b[49m\u001b[38;5;241;43m.\u001b[39;49m\u001b[43msend\u001b[49m\u001b[43m(\u001b[49m\u001b[43mrequest\u001b[49m\u001b[43m,\u001b[49m\u001b[43m \u001b[49m\u001b[38;5;241;43m*\u001b[39;49m\u001b[38;5;241;43m*\u001b[39;49m\u001b[43mkwargs\u001b[49m\u001b[43m)\u001b[49m\n\u001b[1;32m    705\u001b[0m \u001b[38;5;66;03m# Total elapsed time of the request (approximately)\u001b[39;00m\n\u001b[1;32m    706\u001b[0m elapsed \u001b[38;5;241m=\u001b[39m preferred_clock() \u001b[38;5;241m-\u001b[39m start\n",
      "File \u001b[0;32m/packages/Python-3.9-Snowpark/7e0b365a-f7cb-4d2a-ba2a-e8ed02dbe50c/3.9/requests/adapters.py:667\u001b[0m, in \u001b[0;36mHTTPAdapter.send\u001b[0;34m(self, request, stream, timeout, verify, cert, proxies)\u001b[0m\n\u001b[1;32m    664\u001b[0m     timeout \u001b[38;5;241m=\u001b[39m TimeoutSauce(connect\u001b[38;5;241m=\u001b[39mtimeout, read\u001b[38;5;241m=\u001b[39mtimeout)\n\u001b[1;32m    666\u001b[0m \u001b[38;5;28;01mtry\u001b[39;00m:\n\u001b[0;32m--> 667\u001b[0m     resp \u001b[38;5;241m=\u001b[39m \u001b[43mconn\u001b[49m\u001b[38;5;241;43m.\u001b[39;49m\u001b[43murlopen\u001b[49m\u001b[43m(\u001b[49m\n\u001b[1;32m    668\u001b[0m \u001b[43m        \u001b[49m\u001b[43mmethod\u001b[49m\u001b[38;5;241;43m=\u001b[39;49m\u001b[43mrequest\u001b[49m\u001b[38;5;241;43m.\u001b[39;49m\u001b[43mmethod\u001b[49m\u001b[43m,\u001b[49m\n\u001b[1;32m    669\u001b[0m \u001b[43m        \u001b[49m\u001b[43murl\u001b[49m\u001b[38;5;241;43m=\u001b[39;49m\u001b[43murl\u001b[49m\u001b[43m,\u001b[49m\n\u001b[1;32m    670\u001b[0m \u001b[43m        \u001b[49m\u001b[43mbody\u001b[49m\u001b[38;5;241;43m=\u001b[39;49m\u001b[43mrequest\u001b[49m\u001b[38;5;241;43m.\u001b[39;49m\u001b[43mbody\u001b[49m\u001b[43m,\u001b[49m\n\u001b[1;32m    671\u001b[0m \u001b[43m        \u001b[49m\u001b[43mheaders\u001b[49m\u001b[38;5;241;43m=\u001b[39;49m\u001b[43mrequest\u001b[49m\u001b[38;5;241;43m.\u001b[39;49m\u001b[43mheaders\u001b[49m\u001b[43m,\u001b[49m\n\u001b[1;32m    672\u001b[0m \u001b[43m        \u001b[49m\u001b[43mredirect\u001b[49m\u001b[38;5;241;43m=\u001b[39;49m\u001b[38;5;28;43;01mFalse\u001b[39;49;00m\u001b[43m,\u001b[49m\n\u001b[1;32m    673\u001b[0m \u001b[43m        \u001b[49m\u001b[43massert_same_host\u001b[49m\u001b[38;5;241;43m=\u001b[39;49m\u001b[38;5;28;43;01mFalse\u001b[39;49;00m\u001b[43m,\u001b[49m\n\u001b[1;32m    674\u001b[0m \u001b[43m        \u001b[49m\u001b[43mpreload_content\u001b[49m\u001b[38;5;241;43m=\u001b[39;49m\u001b[38;5;28;43;01mFalse\u001b[39;49;00m\u001b[43m,\u001b[49m\n\u001b[1;32m    675\u001b[0m \u001b[43m        \u001b[49m\u001b[43mdecode_content\u001b[49m\u001b[38;5;241;43m=\u001b[39;49m\u001b[38;5;28;43;01mFalse\u001b[39;49;00m\u001b[43m,\u001b[49m\n\u001b[1;32m    676\u001b[0m \u001b[43m        \u001b[49m\u001b[43mretries\u001b[49m\u001b[38;5;241;43m=\u001b[39;49m\u001b[38;5;28;43mself\u001b[39;49m\u001b[38;5;241;43m.\u001b[39;49m\u001b[43mmax_retries\u001b[49m\u001b[43m,\u001b[49m\n\u001b[1;32m    677\u001b[0m \u001b[43m        \u001b[49m\u001b[43mtimeout\u001b[49m\u001b[38;5;241;43m=\u001b[39;49m\u001b[43mtimeout\u001b[49m\u001b[43m,\u001b[49m\n\u001b[1;32m    678\u001b[0m \u001b[43m        \u001b[49m\u001b[43mchunked\u001b[49m\u001b[38;5;241;43m=\u001b[39;49m\u001b[43mchunked\u001b[49m\u001b[43m,\u001b[49m\n\u001b[1;32m    679\u001b[0m \u001b[43m    \u001b[49m\u001b[43m)\u001b[49m\n\u001b[1;32m    681\u001b[0m \u001b[38;5;28;01mexcept\u001b[39;00m (ProtocolError, \u001b[38;5;167;01mOSError\u001b[39;00m) \u001b[38;5;28;01mas\u001b[39;00m err:\n\u001b[1;32m    682\u001b[0m     \u001b[38;5;28;01mraise\u001b[39;00m \u001b[38;5;167;01mConnectionError\u001b[39;00m(err, request\u001b[38;5;241m=\u001b[39mrequest)\n",
      "File \u001b[0;32m/packages/Python-3.9-Snowpark/7e0b365a-f7cb-4d2a-ba2a-e8ed02dbe50c/3.9/urllib3/connectionpool.py:789\u001b[0m, in \u001b[0;36mHTTPConnectionPool.urlopen\u001b[0;34m(self, method, url, body, headers, retries, redirect, assert_same_host, timeout, pool_timeout, release_conn, chunked, body_pos, preload_content, decode_content, **response_kw)\u001b[0m\n\u001b[1;32m    786\u001b[0m response_conn \u001b[38;5;241m=\u001b[39m conn \u001b[38;5;28;01mif\u001b[39;00m \u001b[38;5;129;01mnot\u001b[39;00m release_conn \u001b[38;5;28;01melse\u001b[39;00m \u001b[38;5;28;01mNone\u001b[39;00m\n\u001b[1;32m    788\u001b[0m \u001b[38;5;66;03m# Make the request on the HTTPConnection object\u001b[39;00m\n\u001b[0;32m--> 789\u001b[0m response \u001b[38;5;241m=\u001b[39m \u001b[38;5;28;43mself\u001b[39;49m\u001b[38;5;241;43m.\u001b[39;49m\u001b[43m_make_request\u001b[49m\u001b[43m(\u001b[49m\n\u001b[1;32m    790\u001b[0m \u001b[43m    \u001b[49m\u001b[43mconn\u001b[49m\u001b[43m,\u001b[49m\n\u001b[1;32m    791\u001b[0m \u001b[43m    \u001b[49m\u001b[43mmethod\u001b[49m\u001b[43m,\u001b[49m\n\u001b[1;32m    792\u001b[0m \u001b[43m    \u001b[49m\u001b[43murl\u001b[49m\u001b[43m,\u001b[49m\n\u001b[1;32m    793\u001b[0m \u001b[43m    \u001b[49m\u001b[43mtimeout\u001b[49m\u001b[38;5;241;43m=\u001b[39;49m\u001b[43mtimeout_obj\u001b[49m\u001b[43m,\u001b[49m\n\u001b[1;32m    794\u001b[0m \u001b[43m    \u001b[49m\u001b[43mbody\u001b[49m\u001b[38;5;241;43m=\u001b[39;49m\u001b[43mbody\u001b[49m\u001b[43m,\u001b[49m\n\u001b[1;32m    795\u001b[0m \u001b[43m    \u001b[49m\u001b[43mheaders\u001b[49m\u001b[38;5;241;43m=\u001b[39;49m\u001b[43mheaders\u001b[49m\u001b[43m,\u001b[49m\n\u001b[1;32m    796\u001b[0m \u001b[43m    \u001b[49m\u001b[43mchunked\u001b[49m\u001b[38;5;241;43m=\u001b[39;49m\u001b[43mchunked\u001b[49m\u001b[43m,\u001b[49m\n\u001b[1;32m    797\u001b[0m \u001b[43m    \u001b[49m\u001b[43mretries\u001b[49m\u001b[38;5;241;43m=\u001b[39;49m\u001b[43mretries\u001b[49m\u001b[43m,\u001b[49m\n\u001b[1;32m    798\u001b[0m \u001b[43m    \u001b[49m\u001b[43mresponse_conn\u001b[49m\u001b[38;5;241;43m=\u001b[39;49m\u001b[43mresponse_conn\u001b[49m\u001b[43m,\u001b[49m\n\u001b[1;32m    799\u001b[0m \u001b[43m    \u001b[49m\u001b[43mpreload_content\u001b[49m\u001b[38;5;241;43m=\u001b[39;49m\u001b[43mpreload_content\u001b[49m\u001b[43m,\u001b[49m\n\u001b[1;32m    800\u001b[0m \u001b[43m    \u001b[49m\u001b[43mdecode_content\u001b[49m\u001b[38;5;241;43m=\u001b[39;49m\u001b[43mdecode_content\u001b[49m\u001b[43m,\u001b[49m\n\u001b[1;32m    801\u001b[0m \u001b[43m    \u001b[49m\u001b[38;5;241;43m*\u001b[39;49m\u001b[38;5;241;43m*\u001b[39;49m\u001b[43mresponse_kw\u001b[49m\u001b[43m,\u001b[49m\n\u001b[1;32m    802\u001b[0m \u001b[43m\u001b[49m\u001b[43m)\u001b[49m\n\u001b[1;32m    804\u001b[0m \u001b[38;5;66;03m# Everything went great!\u001b[39;00m\n\u001b[1;32m    805\u001b[0m clean_exit \u001b[38;5;241m=\u001b[39m \u001b[38;5;28;01mTrue\u001b[39;00m\n",
      "File \u001b[0;32m/packages/Python-3.9-Snowpark/7e0b365a-f7cb-4d2a-ba2a-e8ed02dbe50c/3.9/urllib3/connectionpool.py:536\u001b[0m, in \u001b[0;36mHTTPConnectionPool._make_request\u001b[0;34m(self, conn, method, url, body, headers, retries, timeout, chunked, response_conn, preload_content, decode_content, enforce_content_length)\u001b[0m\n\u001b[1;32m    534\u001b[0m \u001b[38;5;66;03m# Receive the response from the server\u001b[39;00m\n\u001b[1;32m    535\u001b[0m \u001b[38;5;28;01mtry\u001b[39;00m:\n\u001b[0;32m--> 536\u001b[0m     response \u001b[38;5;241m=\u001b[39m \u001b[43mconn\u001b[49m\u001b[38;5;241;43m.\u001b[39;49m\u001b[43mgetresponse\u001b[49m\u001b[43m(\u001b[49m\u001b[43m)\u001b[49m\n\u001b[1;32m    537\u001b[0m \u001b[38;5;28;01mexcept\u001b[39;00m (BaseSSLError, \u001b[38;5;167;01mOSError\u001b[39;00m) \u001b[38;5;28;01mas\u001b[39;00m e:\n\u001b[1;32m    538\u001b[0m     \u001b[38;5;28mself\u001b[39m\u001b[38;5;241m.\u001b[39m_raise_timeout(err\u001b[38;5;241m=\u001b[39me, url\u001b[38;5;241m=\u001b[39murl, timeout_value\u001b[38;5;241m=\u001b[39mread_timeout)\n",
      "File \u001b[0;32m/packages/Python-3.9-Snowpark/7e0b365a-f7cb-4d2a-ba2a-e8ed02dbe50c/3.9/urllib3/connection.py:464\u001b[0m, in \u001b[0;36mHTTPConnection.getresponse\u001b[0;34m(self)\u001b[0m\n\u001b[1;32m    461\u001b[0m \u001b[38;5;28;01mfrom\u001b[39;00m \u001b[38;5;21;01m.\u001b[39;00m\u001b[38;5;21;01mresponse\u001b[39;00m \u001b[38;5;28;01mimport\u001b[39;00m HTTPResponse\n\u001b[1;32m    463\u001b[0m \u001b[38;5;66;03m# Get the response from http.client.HTTPConnection\u001b[39;00m\n\u001b[0;32m--> 464\u001b[0m httplib_response \u001b[38;5;241m=\u001b[39m \u001b[38;5;28;43msuper\u001b[39;49m\u001b[43m(\u001b[49m\u001b[43m)\u001b[49m\u001b[38;5;241;43m.\u001b[39;49m\u001b[43mgetresponse\u001b[49m\u001b[43m(\u001b[49m\u001b[43m)\u001b[49m\n\u001b[1;32m    466\u001b[0m \u001b[38;5;28;01mtry\u001b[39;00m:\n\u001b[1;32m    467\u001b[0m     assert_header_parsing(httplib_response\u001b[38;5;241m.\u001b[39mmsg)\n",
      "File \u001b[0;32m/opt/conda/lib/python3.9/http/client.py:1377\u001b[0m, in \u001b[0;36mHTTPConnection.getresponse\u001b[0;34m(self)\u001b[0m\n\u001b[1;32m   1375\u001b[0m \u001b[38;5;28;01mtry\u001b[39;00m:\n\u001b[1;32m   1376\u001b[0m     \u001b[38;5;28;01mtry\u001b[39;00m:\n\u001b[0;32m-> 1377\u001b[0m         \u001b[43mresponse\u001b[49m\u001b[38;5;241;43m.\u001b[39;49m\u001b[43mbegin\u001b[49m\u001b[43m(\u001b[49m\u001b[43m)\u001b[49m\n\u001b[1;32m   1378\u001b[0m     \u001b[38;5;28;01mexcept\u001b[39;00m \u001b[38;5;167;01mConnectionError\u001b[39;00m:\n\u001b[1;32m   1379\u001b[0m         \u001b[38;5;28mself\u001b[39m\u001b[38;5;241m.\u001b[39mclose()\n",
      "File \u001b[0;32m/opt/conda/lib/python3.9/http/client.py:320\u001b[0m, in \u001b[0;36mHTTPResponse.begin\u001b[0;34m(self)\u001b[0m\n\u001b[1;32m    318\u001b[0m \u001b[38;5;66;03m# read until we get a non-100 response\u001b[39;00m\n\u001b[1;32m    319\u001b[0m \u001b[38;5;28;01mwhile\u001b[39;00m \u001b[38;5;28;01mTrue\u001b[39;00m:\n\u001b[0;32m--> 320\u001b[0m     version, status, reason \u001b[38;5;241m=\u001b[39m \u001b[38;5;28;43mself\u001b[39;49m\u001b[38;5;241;43m.\u001b[39;49m\u001b[43m_read_status\u001b[49m\u001b[43m(\u001b[49m\u001b[43m)\u001b[49m\n\u001b[1;32m    321\u001b[0m     \u001b[38;5;28;01mif\u001b[39;00m status \u001b[38;5;241m!=\u001b[39m CONTINUE:\n\u001b[1;32m    322\u001b[0m         \u001b[38;5;28;01mbreak\u001b[39;00m\n",
      "File \u001b[0;32m/opt/conda/lib/python3.9/http/client.py:281\u001b[0m, in \u001b[0;36mHTTPResponse._read_status\u001b[0;34m(self)\u001b[0m\n\u001b[1;32m    280\u001b[0m \u001b[38;5;28;01mdef\u001b[39;00m \u001b[38;5;21m_read_status\u001b[39m(\u001b[38;5;28mself\u001b[39m):\n\u001b[0;32m--> 281\u001b[0m     line \u001b[38;5;241m=\u001b[39m \u001b[38;5;28mstr\u001b[39m(\u001b[38;5;28;43mself\u001b[39;49m\u001b[38;5;241;43m.\u001b[39;49m\u001b[43mfp\u001b[49m\u001b[38;5;241;43m.\u001b[39;49m\u001b[43mreadline\u001b[49m\u001b[43m(\u001b[49m\u001b[43m_MAXLINE\u001b[49m\u001b[43m \u001b[49m\u001b[38;5;241;43m+\u001b[39;49m\u001b[43m \u001b[49m\u001b[38;5;241;43m1\u001b[39;49m\u001b[43m)\u001b[49m, \u001b[38;5;124m\"\u001b[39m\u001b[38;5;124miso-8859-1\u001b[39m\u001b[38;5;124m\"\u001b[39m)\n\u001b[1;32m    282\u001b[0m     \u001b[38;5;28;01mif\u001b[39;00m \u001b[38;5;28mlen\u001b[39m(line) \u001b[38;5;241m>\u001b[39m _MAXLINE:\n\u001b[1;32m    283\u001b[0m         \u001b[38;5;28;01mraise\u001b[39;00m LineTooLong(\u001b[38;5;124m\"\u001b[39m\u001b[38;5;124mstatus line\u001b[39m\u001b[38;5;124m\"\u001b[39m)\n",
      "File \u001b[0;32m/opt/conda/lib/python3.9/socket.py:704\u001b[0m, in \u001b[0;36mSocketIO.readinto\u001b[0;34m(self, b)\u001b[0m\n\u001b[1;32m    702\u001b[0m \u001b[38;5;28;01mwhile\u001b[39;00m \u001b[38;5;28;01mTrue\u001b[39;00m:\n\u001b[1;32m    703\u001b[0m     \u001b[38;5;28;01mtry\u001b[39;00m:\n\u001b[0;32m--> 704\u001b[0m         \u001b[38;5;28;01mreturn\u001b[39;00m \u001b[38;5;28;43mself\u001b[39;49m\u001b[38;5;241;43m.\u001b[39;49m\u001b[43m_sock\u001b[49m\u001b[38;5;241;43m.\u001b[39;49m\u001b[43mrecv_into\u001b[49m\u001b[43m(\u001b[49m\u001b[43mb\u001b[49m\u001b[43m)\u001b[49m\n\u001b[1;32m    705\u001b[0m     \u001b[38;5;28;01mexcept\u001b[39;00m timeout:\n\u001b[1;32m    706\u001b[0m         \u001b[38;5;28mself\u001b[39m\u001b[38;5;241m.\u001b[39m_timeout_occurred \u001b[38;5;241m=\u001b[39m \u001b[38;5;28;01mTrue\u001b[39;00m\n",
      "\u001b[0;31mKeyboardInterrupt\u001b[0m: "
     ]
    }
   ],
   "source": [
    "res = requests.get(monitor_url, headers=temp_head)"
   ]
  },
  {
   "cell_type": "code",
   "execution_count": 32,
   "id": "022b5f30",
   "metadata": {},
   "outputs": [
    {
     "data": {
      "text/plain": [
       "'\"{\\\\\"totalRecordCount\\\\\":19,\\\\\"data\\\\\":[{\\\\\"jobinstanceId\\\\\":499867,\\\\\"objectId\\\\\":\\\\\"f4c813a1-86f1-4148-9ef3-cf8758331729\\\\\",\\\\\"projectId\\\\\":\\\\\"784a85f3-443c-4662-b56d-20d9bccd0027\\\\\",\\\\\"projectName\\\\\":\\\\\"Experiments\\\\\",\\\\\"jobObjectName\\\\\":\\\\\"sample_Airline_RandomForestC_10k.ipynb\\\\\",\\\\\"jobScheduleId\\\\\":null,\\\\\"jobInstanceInputParameter\\\\\":\\\\\"{job:FIRST,jobType:Notebook}\\\\\",\\\\\"jobType\\\\\":\\\\\"SCHEDULE\\\\\",\\\\\"jobStatus\\\\\":\\\\\"FAILED\\\\\",\\\\\"finalStatus\\\\\":\\\\\"FAILED\\\\\",\\\\\"jobCreatedby\\\\\":\\\\\"aditya1.singh2@fosfor.com\\\\\",\\\\\"jobCreatedts\\\\\":\\\\\"2024-07-07T18:30:02.201+00:00\\\\\",\\\\\"jobUpdatedby\\\\\":\\\\\"aditya1.singh2@fosfor.com\\\\\",\\\\\"jobUpdatedts\\\\\":\\\\\"2024-07-07T18:31:02.466+00:00\\\\\",\\\\\"applicationId\\\\\":null,\\\\\"executionId\\\\\":\\\\\"77305\\\\\",\\\\\"runID\\\\\":\\\\\"499867\\\\\",\\\\\"versionNumber\\\\\":\\\\\"\\\\\",\\\\\"runEngine\\\\\":null,\\\\\"attemptId\\\\\":0,\\\\\"workflowId\\\\\":\\\\\"\\\\\",\\\\\"jobConfig\\\\\":null},{\\\\\"jobinstanceId\\\\\":495247,\\\\\"objectId\\\\\":\\\\\"f4c813a1-86f1-4148-9ef3-cf8758331729\\\\\",\\\\\"projectId\\\\\":\\\\\"784a85f3-443c-4662-b56d-20d9bccd0027\\\\\",\\\\\"projectName\\\\\":\\\\\"Experiments\\\\\",\\\\\"jobObjectName\\\\\":\\\\\"sample_Airline_RandomForestC_10k.ipynb\\\\\",\\\\\"jobScheduleId\\\\\":null,\\\\\"jobInstanceInputParameter\\\\\":\\\\\"{job:FIRST,jobType:Notebook}\\\\\",\\\\\"jobType\\\\\":\\\\\"SCHEDULE\\\\\",\\\\\"jobStatus\\\\\":\\\\\"FAILED\\\\\",\\\\\"finalStatus\\\\\":\\\\\"FAILED\\\\\",\\\\\"jobCreatedby\\\\\":\\\\\"aditya1.singh2@fosfor.com\\\\\",\\\\\"jobCreatedts\\\\\":\\\\\"2024-07-06T19:39:10.733+00:00\\\\\",\\\\\"jobUpdatedby\\\\\":\\\\\"aditya1.singh2@fosfor.com\\\\\",\\\\\"jobUpdatedts\\\\\":\\\\\"2024-07-06T19:39:40.895+00:00\\\\\",\\\\\"applicationId\\\\\":null,\\\\\"executionId\\\\\":\\\\\"77286\\\\\",\\\\\"runID\\\\\":\\\\\"495247\\\\\",\\\\\"versionNumber\\\\\":\\\\\"\\\\\",\\\\\"runEngine\\\\\":null,\\\\\"attemptId\\\\\":0,\\\\\"workflowId\\\\\":\\\\\"\\\\\",\\\\\"jobConfig\\\\\":null},{\\\\\"jobinstanceId\\\\\":486462,\\\\\"objectId\\\\\":\\\\\"f4c813a1-86f1-4148-9ef3-cf8758331729\\\\\",\\\\\"projectId\\\\\":\\\\\"784a85f3-443c-4662-b56d-20d9bccd0027\\\\\",\\\\\"projectName\\\\\":\\\\\"Experiments\\\\\",\\\\\"jobObjectName\\\\\":\\\\\"sample_Airline_RandomForestC_10k.ipynb\\\\\",\\\\\"jobScheduleId\\\\\":null,\\\\\"jobInstanceInputParameter\\\\\":\\\\\"{job:FIRST,jobType:Notebook}\\\\\",\\\\\"jobType\\\\\":\\\\\"SCHEDULE\\\\\",\\\\\"jobStatus\\\\\":\\\\\"FAILED\\\\\",\\\\\"finalStatus\\\\\":\\\\\"FAILED\\\\\",\\\\\"jobCreatedby\\\\\":\\\\\"aditya1.singh2@fosfor.com\\\\\",\\\\\"jobCreatedts\\\\\":\\\\\"2024-07-05T18:30:04.560+00:00\\\\\",\\\\\"jobUpdatedby\\\\\":\\\\\"aditya1.singh2@fosfor.com\\\\\",\\\\\"jobUpdatedts\\\\\":\\\\\"2024-07-07T11:00:02.360+00:00\\\\\",\\\\\"applicationId\\\\\":null,\\\\\"executionId\\\\\":\\\\\"77263\\\\\",\\\\\"runID\\\\\":\\\\\"486462\\\\\",\\\\\"versionNumber\\\\\":\\\\\"\\\\\",\\\\\"runEngine\\\\\":null,\\\\\"attemptId\\\\\":0,\\\\\"workflowId\\\\\":\\\\\"\\\\\",\\\\\"jobConfig\\\\\":null},{\\\\\"jobinstanceId\\\\\":480734,\\\\\"objectId\\\\\":\\\\\"f4c813a1-86f1-4148-9ef3-cf8758331729\\\\\",\\\\\"projectId\\\\\":\\\\\"784a85f3-443c-4662-b56d-20d9bccd0027\\\\\",\\\\\"projectName\\\\\":\\\\\"Experiments\\\\\",\\\\\"jobObjectName\\\\\":\\\\\"sample_Airline_RandomForestC_10k.ipynb\\\\\",\\\\\"jobScheduleId\\\\\":null,\\\\\"jobInstanceInputParameter\\\\\":\\\\\"{job:FIRST,jobType:Notebook}\\\\\",\\\\\"jobType\\\\\":\\\\\"SCHEDULE\\\\\",\\\\\"jobStatus\\\\\":\\\\\"FAILED\\\\\",\\\\\"finalStatus\\\\\":\\\\\"FAILED\\\\\",\\\\\"jobCreatedby\\\\\":\\\\\"aditya1.singh2@fosfor.com\\\\\",\\\\\"jobCreatedts\\\\\":\\\\\"2024-07-04T18:30:04.320+00:00\\\\\",\\\\\"jobUpdatedby\\\\\":\\\\\"aditya1.singh2@fosfor.com\\\\\",\\\\\"jobUpdatedts\\\\\":\\\\\"2024-07-05T16:29:53.629+00:00\\\\\",\\\\\"applicationId\\\\\":null,\\\\\"executionId\\\\\":\\\\\"77245\\\\\",\\\\\"runID\\\\\":\\\\\"480734\\\\\",\\\\\"versionNumber\\\\\":\\\\\"\\\\\",\\\\\"runEngine\\\\\":null,\\\\\"attemptId\\\\\":0,\\\\\"workflowId\\\\\":\\\\\"\\\\\",\\\\\"jobConfig\\\\\":null},{\\\\\"jobinstanceId\\\\\":476171,\\\\\"objectId\\\\\":\\\\\"f4c813a1-86f1-4148-9ef3-cf8758331729\\\\\",\\\\\"projectId\\\\\":\\\\\"784a85f3-443c-4662-b56d-20d9bccd0027\\\\\",\\\\\"projectName\\\\\":\\\\\"Experiments\\\\\",\\\\\"jobObjectName\\\\\":\\\\\"sample_Airline_RandomForestC_10k.ipynb\\\\\",\\\\\"jobScheduleId\\\\\":null,\\\\\"jobInstanceInputParameter\\\\\":\\\\\"{job:FIRST,jobType:Notebook}\\\\\",\\\\\"jobType\\\\\":\\\\\"SCHEDULE\\\\\",\\\\\"jobStatus\\\\\":\\\\\"FAILED\\\\\",\\\\\"finalStatus\\\\\":\\\\\"FAILED\\\\\",\\\\\"jobCreatedby\\\\\":\\\\\"aditya1.singh2@fosfor.com\\\\\",\\\\\"jobCreatedts\\\\\":\\\\\"2024-07-03T18:30:01.444+00:00\\\\\",\\\\\"jobUpdatedby\\\\\":\\\\\"aditya1.singh2@fosfor.com\\\\\",\\\\\"jobUpdatedts\\\\\":\\\\\"2024-07-03T18:30:31.605+00:00\\\\\",\\\\\"applicationId\\\\\":null,\\\\\"executionId\\\\\":\\\\\"77230\\\\\",\\\\\"runID\\\\\":\\\\\"476171\\\\\",\\\\\"versionNumber\\\\\":\\\\\"\\\\\",\\\\\"runEngine\\\\\":null,\\\\\"attemptId\\\\\":0,\\\\\"workflowId\\\\\":\\\\\"\\\\\",\\\\\"jobConfig\\\\\":null},{\\\\\"jobinstanceId\\\\\":471027,\\\\\"objectId\\\\\":\\\\\"f4c813a1-86f1-4148-9ef3-cf8758331729\\\\\",\\\\\"projectId\\\\\":\\\\\"784a85f3-443c-4662-b56d-20d9bccd0027\\\\\",\\\\\"projectName\\\\\":\\\\\"Experiments\\\\\",\\\\\"jobObjectName\\\\\":\\\\\"sample_Airline_RandomForestC_10k.ipynb\\\\\",\\\\\"jobScheduleId\\\\\":null,\\\\\"jobInstanceInputParameter\\\\\":\\\\\"{job:FIRST,jobType:Notebook}\\\\\",\\\\\"jobType\\\\\":\\\\\"SCHEDULE\\\\\",\\\\\"jobStatus\\\\\":\\\\\"FAILED\\\\\",\\\\\"finalStatus\\\\\":\\\\\"FAILED\\\\\",\\\\\"jobCreatedby\\\\\":\\\\\"aditya1.singh2@fosfor.com\\\\\",\\\\\"jobCreatedts\\\\\":\\\\\"2024-07-02T18:30:02.286+00:00\\\\\",\\\\\"jobUpdatedby\\\\\":\\\\\"aditya1.singh2@fosfor.com\\\\\",\\\\\"jobUpdatedts\\\\\":\\\\\"2024-07-02T18:31:12.576+00:00\\\\\",\\\\\"applicationId\\\\\":null,\\\\\"executionId\\\\\":\\\\\"77220\\\\\",\\\\\"runID\\\\\":\\\\\"471027\\\\\",\\\\\"versionNumber\\\\\":\\\\\"\\\\\",\\\\\"runEngine\\\\\":null,\\\\\"attemptId\\\\\":0,\\\\\"workflowId\\\\\":\\\\\"\\\\\",\\\\\"jobConfig\\\\\":null},{\\\\\"jobinstanceId\\\\\":465818,\\\\\"objectId\\\\\":\\\\\"f4c813a1-86f1-4148-9ef3-cf8758331729\\\\\",\\\\\"projectId\\\\\":\\\\\"784a85f3-443c-4662-b56d-20d9bccd0027\\\\\",\\\\\"projectName\\\\\":\\\\\"Experiments\\\\\",\\\\\"jobObjectName\\\\\":\\\\\"sample_Airline_RandomForestC_10k.ipynb\\\\\",\\\\\"jobScheduleId\\\\\":null,\\\\\"jobInstanceInputParameter\\\\\":\\\\\"{job:FIRST,jobType:Notebook}\\\\\",\\\\\"jobType\\\\\":\\\\\"SCHEDULE\\\\\",\\\\\"jobStatus\\\\\":\\\\\"FAILED\\\\\",\\\\\"finalStatus\\\\\":\\\\\"FAILED\\\\\",\\\\\"jobCreatedby\\\\\":\\\\\"aditya1.singh2@fosfor.com\\\\\",\\\\\"jobCreatedts\\\\\":\\\\\"2024-07-01T18:30:04.844+00:00\\\\\",\\\\\"jobUpdatedby\\\\\":\\\\\"aditya1.singh2@fosfor.com\\\\\",\\\\\"jobUpdatedts\\\\\":\\\\\"2024-07-03T11:00:02.608+00:00\\\\\",\\\\\"applicationId\\\\\":null,\\\\\"executionId\\\\\":\\\\\"77206\\\\\",\\\\\"runID\\\\\":\\\\\"465818\\\\\",\\\\\"versionNumber\\\\\":\\\\\"\\\\\",\\\\\"runEngine\\\\\":null,\\\\\"attemptId\\\\\":0,\\\\\"workflowId\\\\\":\\\\\"\\\\\",\\\\\"jobConfig\\\\\":null},{\\\\\"jobinstanceId\\\\\":460708,\\\\\"objectId\\\\\":\\\\\"f4c813a1-86f1-4148-9ef3-cf8758331729\\\\\",\\\\\"projectId\\\\\":\\\\\"784a85f3-443c-4662-b56d-20d9bccd0027\\\\\",\\\\\"projectName\\\\\":\\\\\"Experiments\\\\\",\\\\\"jobObjectName\\\\\":\\\\\"sample_Airline_RandomForestC_10k.ipynb\\\\\",\\\\\"jobScheduleId\\\\\":null,\\\\\"jobInstanceInputParameter\\\\\":\\\\\"{job:FIRST,jobType:Notebook}\\\\\",\\\\\"jobType\\\\\":\\\\\"SCHEDULE\\\\\",\\\\\"jobStatus\\\\\":\\\\\"FAILED\\\\\",\\\\\"finalStatus\\\\\":\\\\\"FAILED\\\\\",\\\\\"jobCreatedby\\\\\":\\\\\"aditya1.singh2@fosfor.com\\\\\",\\\\\"jobCreatedts\\\\\":\\\\\"2024-06-30T18:30:03.061+00:00\\\\\",\\\\\"jobUpdatedby\\\\\":\\\\\"aditya1.singh2@fosfor.com\\\\\",\\\\\"jobUpdatedts\\\\\":\\\\\"2024-07-02T11:00:02.203+00:00\\\\\",\\\\\"applicationId\\\\\":null,\\\\\"executionId\\\\\":\\\\\"77188\\\\\",\\\\\"runID\\\\\":\\\\\"460708\\\\\",\\\\\"versionNumber\\\\\":\\\\\"\\\\\",\\\\\"runEngine\\\\\":null,\\\\\"attemptId\\\\\":0,\\\\\"workflowId\\\\\":\\\\\"\\\\\",\\\\\"jobConfig\\\\\":null},{\\\\\"jobinstanceId\\\\\":455842,\\\\\"objectId\\\\\":\\\\\"f4c813a1-86f1-4148-9ef3-cf8758331729\\\\\",\\\\\"projectId\\\\\":\\\\\"784a85f3-443c-4662-b56d-20d9bccd0027\\\\\",\\\\\"projectName\\\\\":\\\\\"Experiments\\\\\",\\\\\"jobObjectName\\\\\":\\\\\"sample_Airline_RandomForestC_10k.ipynb\\\\\",\\\\\"jobScheduleId\\\\\":null,\\\\\"jobInstanceInputParameter\\\\\":\\\\\"{job:FIRST,jobType:Notebook}\\\\\",\\\\\"jobType\\\\\":\\\\\"SCHEDULE\\\\\",\\\\\"jobStatus\\\\\":\\\\\"FAILED\\\\\",\\\\\"finalStatus\\\\\":\\\\\"FAILED\\\\\",\\\\\"jobCreatedby\\\\\":\\\\\"aditya1.singh2@fosfor.com\\\\\",\\\\\"jobCreatedts\\\\\":\\\\\"2024-06-29T18:30:01.960+00:00\\\\\",\\\\\"jobUpdatedby\\\\\":\\\\\"aditya1.singh2@fosfor.com\\\\\",\\\\\"jobUpdatedts\\\\\":\\\\\"2024-06-29T18:30:52.139+00:00\\\\\",\\\\\"applicationId\\\\\":null,\\\\\"executionId\\\\\":\\\\\"77166\\\\\",\\\\\"runID\\\\\":\\\\\"455842\\\\\",\\\\\"versionNumber\\\\\":\\\\\"\\\\\",\\\\\"runEngine\\\\\":null,\\\\\"attemptId\\\\\":0,\\\\\"workflowId\\\\\":\\\\\"\\\\\",\\\\\"jobConfig\\\\\":null},{\\\\\"jobinstanceId\\\\\":450433,\\\\\"objectId\\\\\":\\\\\"f4c813a1-86f1-4148-9ef3-cf8758331729\\\\\",\\\\\"projectId\\\\\":\\\\\"784a85f3-443c-4662-b56d-20d9bccd0027\\\\\",\\\\\"projectName\\\\\":\\\\\"Experiments\\\\\",\\\\\"jobObjectName\\\\\":\\\\\"sample_Airline_RandomForestC_10k.ipynb\\\\\",\\\\\"jobScheduleId\\\\\":null,\\\\\"jobInstanceInputParameter\\\\\":\\\\\"{job:FIRST,jobType:Notebook}\\\\\",\\\\\"jobType\\\\\":\\\\\"SCHEDULE\\\\\",\\\\\"jobStatus\\\\\":\\\\\"FAILED\\\\\",\\\\\"finalStatus\\\\\":\\\\\"FAILED\\\\\",\\\\\"jobCreatedby\\\\\":\\\\\"aditya1.singh2@fosfor.com\\\\\",\\\\\"jobCreatedts\\\\\":\\\\\"2024-06-28T18:30:02.518+00:00\\\\\",\\\\\"jobUpdatedby\\\\\":\\\\\"aditya1.singh2@fosfor.com\\\\\",\\\\\"jobUpdatedts\\\\\":\\\\\"2024-06-30T11:00:01.965+00:00\\\\\",\\\\\"applicationId\\\\\":null,\\\\\"executionId\\\\\":\\\\\"77147\\\\\",\\\\\"runID\\\\\":\\\\\"450433\\\\\",\\\\\"versionNumber\\\\\":\\\\\"\\\\\",\\\\\"runEngine\\\\\":null,\\\\\"attemptId\\\\\":0,\\\\\"workflowId\\\\\":\\\\\"\\\\\",\\\\\"jobConfig\\\\\":null}],\\\\\"jobTypesList\\\\\":null,\\\\\"executedByList\\\\\":null,\\\\\"projectList\\\\\":null}\"'"
      ]
     },
     "execution_count": 32,
     "metadata": {},
     "output_type": "execute_result"
    }
   ],
   "source": [
    "res"
   ]
  },
  {
   "cell_type": "code",
   "execution_count": 25,
   "id": "a54d6eed",
   "metadata": {},
   "outputs": [
    {
     "data": {
      "text/plain": [
       "['__attrs__',\n",
       " '__bool__',\n",
       " '__class__',\n",
       " '__delattr__',\n",
       " '__dict__',\n",
       " '__dir__',\n",
       " '__doc__',\n",
       " '__enter__',\n",
       " '__eq__',\n",
       " '__exit__',\n",
       " '__format__',\n",
       " '__ge__',\n",
       " '__getattribute__',\n",
       " '__getstate__',\n",
       " '__gt__',\n",
       " '__hash__',\n",
       " '__init__',\n",
       " '__init_subclass__',\n",
       " '__iter__',\n",
       " '__le__',\n",
       " '__lt__',\n",
       " '__module__',\n",
       " '__ne__',\n",
       " '__new__',\n",
       " '__nonzero__',\n",
       " '__reduce__',\n",
       " '__reduce_ex__',\n",
       " '__repr__',\n",
       " '__setattr__',\n",
       " '__setstate__',\n",
       " '__sizeof__',\n",
       " '__str__',\n",
       " '__subclasshook__',\n",
       " '__weakref__',\n",
       " '_content',\n",
       " '_content_consumed',\n",
       " '_next',\n",
       " 'apparent_encoding',\n",
       " 'close',\n",
       " 'connection',\n",
       " 'content',\n",
       " 'cookies',\n",
       " 'elapsed',\n",
       " 'encoding',\n",
       " 'headers',\n",
       " 'history',\n",
       " 'is_permanent_redirect',\n",
       " 'is_redirect',\n",
       " 'iter_content',\n",
       " 'iter_lines',\n",
       " 'json',\n",
       " 'links',\n",
       " 'next',\n",
       " 'ok',\n",
       " 'raise_for_status',\n",
       " 'raw',\n",
       " 'reason',\n",
       " 'request',\n",
       " 'status_code',\n",
       " 'text',\n",
       " 'url']"
      ]
     },
     "execution_count": 25,
     "metadata": {},
     "output_type": "execute_result"
    }
   ],
   "source": [
    "dir(res)"
   ]
  },
  {
   "cell_type": "code",
   "execution_count": null,
   "id": "a7f833c0",
   "metadata": {},
   "outputs": [],
   "source": []
  }
 ],
 "metadata": {
  "kernelspec": {
   "display_name": "Python 3",
   "language": "python",
   "name": "python3"
  },
  "language_info": {
   "codemirror_mode": {
    "name": "ipython",
    "version": 3
   },
   "file_extension": ".py",
   "mimetype": "text/x-python",
   "name": "python",
   "nbconvert_exporter": "python",
   "pygments_lexer": "ipython3",
   "version": "3.9.18"
  }
 },
 "nbformat": 4,
 "nbformat_minor": 5
}
