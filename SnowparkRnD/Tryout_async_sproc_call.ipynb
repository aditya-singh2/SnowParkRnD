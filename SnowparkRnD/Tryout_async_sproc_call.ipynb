{
 "cells": [
  {
   "cell_type": "code",
   "execution_count": 1,
   "id": "b9345492",
   "metadata": {},
   "outputs": [
    {
     "name": "stdout",
     "output_type": "stream",
     "text": [
      "6d0370b7-7aab-4394-884a-266bc284d07a\n"
     ]
    }
   ],
   "source": [
    "import uuid\n",
    "# project_id = str(uuid.uuid4())\n",
    "run_id = str(uuid.uuid4())\n",
    "print(run_id)"
   ]
  },
  {
   "cell_type": "code",
   "execution_count": 2,
   "id": "f2d621e6",
   "metadata": {},
   "outputs": [],
   "source": [
    "# payload-1 (classification Airline Delay dataset)\n",
    "exp_data = '''{{\n",
    "\"source\":\"EXP\", \n",
    "\"project_id\":\"0e0fb803-22db-4d88-9f2f-f6f75b6abcf0\", \n",
    "\"id\":\"7bbb5061-54d4-4862-8d47-7fbee388a4d1\", \n",
    "\"run_id\":\"{0}\", \n",
    "\"exp_name\": \"Final_recipe\", \n",
    "\"algorithm_type\":\"classification\", \n",
    "\"algo_details\": {{\"snowflake.ml.modeling.xgboost.XGBClassifier\": null}}, \n",
    "\"dataset\": \"AIRLINE_DEP_DELAY_10K\", \n",
    "\"target_column\": \"DEP_DEL15\"}}'''.format(run_id)"
   ]
  },
  {
   "cell_type": "code",
   "execution_count": 3,
   "id": "1df37eaa",
   "metadata": {},
   "outputs": [],
   "source": [
    "# payload-2 (Regression Alcohol dataset)\n",
    "exp_data = '''{{\n",
    "\"source\":\"EXP\", \n",
    "\"project_id\":\"0e0fb803-22db-4d88-9f2f-f6f75b6abcf0\", \n",
    "\"id\":\"7bbb5061-54d4-4862-8d47-7fbee388a4d1\", \n",
    "\"run_id\":\"{0}\", \n",
    "\"exp_name\": \"Final_recipe\", \n",
    "\"algorithm_type\":\"regression\", \n",
    "\"algo_details\": {{\"snowflake.ml.modeling.ensemble.RandomForestRegressor\": null}}, \n",
    "\"dataset\": \"ALCOHOL_DATA_10L\", \n",
    "\"target_column\": \"QUALITY\"}}'''.format(run_id)"
   ]
  },
  {
   "cell_type": "code",
   "execution_count": null,
   "id": "6155b5ed",
   "metadata": {},
   "outputs": [],
   "source": [
    "# payload-3 (classification Employee dataset)\n",
    "exp_data = '''{{\n",
    "\"source\":\"EXP\", \n",
    "\"project_id\":\"0e0fb803-22db-4d88-9f2f-f6f75b6abcf0\", \n",
    "\"id\":\"7bbb5061-54d4-4862-8d47-7fbee388a4d1\", \n",
    "\"run_id\":\"{0}\", \n",
    "\"exp_name\": \"Final_recipe\", \n",
    "\"algorithm_type\":\"classification\", \n",
    "\"algo_details\": {{\"snowflake.ml.modeling.linear_model.LogisticRegression\": null}}, \n",
    "\"dataset\": \"EMPLOYEE_10L\", \n",
    "\"target_column\": \"LEAVEORNOT\"}}'''.format(run_id)"
   ]
  },
  {
   "cell_type": "code",
   "execution_count": null,
   "id": "482a5138",
   "metadata": {},
   "outputs": [],
   "source": [
    "# payload-4 (Regression Diamonds dataset)\n",
    "exp_data = '''{{\n",
    "\"source\":\"EXP\", \n",
    "\"project_id\":\"0e0fb803-22db-4d88-9f2f-f6f75b6abcf0\", \n",
    "\"id\":\"7bbb5061-54d4-4862-8d47-7fbee388a4d1\", \n",
    "\"run_id\":\"{0}\", \n",
    "\"exp_name\": \"Final_recipe\", \n",
    "\"algorithm_type\":\"regression\", \n",
    "\"algo_details\": {{\"snowflake.ml.modeling.xgboost.XGBRegressor\": null}}, \n",
    "\"dataset\": \"DIAMONDS\", \n",
    "\"target_column\": \"PRICE\"}}'''.format(run_id)"
   ]
  },
  {
   "cell_type": "code",
   "execution_count": 3,
   "id": "a8fc1b75",
   "metadata": {},
   "outputs": [
    {
     "data": {
      "text/plain": [
       "'{\\n\"source\":\"EXP\", \\n\"project_id\":\"0e0fb803-22db-4d88-9f2f-f6f75b6abcf0\", \\n\"id\":\"7bbb5061-54d4-4862-8d47-7fbee388a4d1\", \\n\"run_id\":\"6d0370b7-7aab-4394-884a-266bc284d07a\", \\n\"exp_name\": \"Final_recipe\", \\n\"algorithm_type\":\"classification\", \\n\"algo_details\": {\"snowflake.ml.modeling.xgboost.XGBClassifier\": null}, \\n\"dataset\": \"AIRLINE_DEP_DELAY_10K\", \\n\"target_column\": \"DEP_DEL15\"}'"
      ]
     },
     "execution_count": 3,
     "metadata": {},
     "output_type": "execute_result"
    }
   ],
   "source": [
    "exp_data"
   ]
  },
  {
   "cell_type": "code",
   "execution_count": 4,
   "id": "101789b3",
   "metadata": {},
   "outputs": [
    {
     "name": "stdout",
     "output_type": "stream",
     "text": [
      "Connection manager service url initialised to http://fdc-project-manager:80/project-manager\n",
      "If you need to update its value then update the variable CONNECTION_MANAGER_BASE_URL in os env.\n"
     ]
    }
   ],
   "source": [
    "from snowflake.snowpark.session import Session\n",
    "import snow_exp as sf\n",
    "import json, asyncio"
   ]
  },
  {
   "cell_type": "code",
   "execution_count": 29,
   "id": "59a3e1a2",
   "metadata": {},
   "outputs": [],
   "source": [
    "#API function\n",
    "def execute_sf_sproc(payload, sproc_name=\"run_experiment\"):\n",
    "    try:\n",
    "#         task = asyncio.create_task(initiate_sproc_process(payload))\n",
    "        task = initiate_sproc_process(payload)\n",
    "        print(task)\n",
    "        print(\"Success\")\n",
    "    except Exception as ex:    \n",
    "        return \"Failed: \",ex\n",
    "\n",
    "def initiate_sproc_process(payload, sproc_name=\"run_experiment\"):\n",
    "    exp_details = json.loads(payload)\n",
    "    print(\"Creating Snowflake Session object...\")\n",
    "    session = sf.get_session(exp_details.get(\"dataset\"),exp_details.get(\"project_id\"))\n",
    "    print(\"Session has been created !\")\n",
    "    stage = sf.create_stage(session)\n",
    "    print(\"Creating stored procedure...\")\n",
    "    func = sf.run_experiment\n",
    "    sf.create_sproc(session, stage, func)\n",
    "    print(\"Stored procedure has been created successfully!\")\n",
    "    print(\"Executing Procedure\")\n",
    "#     session.add_import(\"/notebooks/notebooks/SnowparkRnD/snow_exp.py\", import_path=\"notebooks.notebooks.SnowparkRnD.snow_exp\")\n",
    "    sproc_response = session.call(sproc_name, payload)\n",
    "#     sproc_response = sf.run_experiment(session,payload)\n",
    "    print(\"Stored Procedure Executed Successfully !\")\n",
    "    return sproc_response\n",
    "\n",
    "def create_sproc(session, stage, func_name=\"run_experiment\"):\n",
    "    print(\"Creating stored procedure...\")\n",
    "    session.custom_package_usage_config['enabled'] = True\n",
    "    session.sproc.register(func=sf.run_experiment,\n",
    "                           name=func_name,\n",
    "                           packages=[\"snowflake-snowpark-python\", \"snowflake-ml-python\",\"scikit-learn\"],\n",
    "                           isPermanant=False,\n",
    "                           stage_location=stage,\n",
    "                           replace=True)\n",
    "    print(\"Stored procedure has been created successfully!\")"
   ]
  },
  {
   "cell_type": "code",
   "execution_count": 30,
   "id": "25618f67",
   "metadata": {},
   "outputs": [
    {
     "name": "stdout",
     "output_type": "stream",
     "text": [
      "Creating Snowflake Session object...\n",
      "Session has been created !\n",
      "Creating stored procedure...\n",
      "Creating stored procedure...\n"
     ]
    },
    {
     "data": {
      "text/plain": [
       "('Failed: ', TypeError('can only join an iterable'))"
      ]
     },
     "execution_count": 30,
     "metadata": {},
     "output_type": "execute_result"
    }
   ],
   "source": [
    "execute_sf_sproc(exp_data)"
   ]
  },
  {
   "cell_type": "code",
   "execution_count": 7,
   "id": "5542d14d",
   "metadata": {},
   "outputs": [
    {
     "name": "stdout",
     "output_type": "stream",
     "text": [
      "('Failed: ', RuntimeError('asyncio.run() cannot be called from a running event loop'))\n"
     ]
    }
   ],
   "source": [
    "print(a)"
   ]
  },
  {
   "cell_type": "code",
   "execution_count": 1,
   "id": "914d9fdd",
   "metadata": {},
   "outputs": [
    {
     "name": "stdout",
     "output_type": "stream",
     "text": [
      "Creating Snowflake Session object...\n"
     ]
    },
    {
     "ename": "NameError",
     "evalue": "name 'json' is not defined",
     "output_type": "error",
     "traceback": [
      "\u001b[0;31m---------------------------------------------------------------------------\u001b[0m",
      "\u001b[0;31mNameError\u001b[0m                                 Traceback (most recent call last)",
      "File \u001b[0;32m<timed exec>:4\u001b[0m\n",
      "\u001b[0;31mNameError\u001b[0m: name 'json' is not defined"
     ]
    }
   ],
   "source": [
    "%%time\n",
    "# Initilization\n",
    "# logging.basicConfig(stream=sys.stdout, level=logging.INFO)\n",
    "print(\"Creating Snowflake Session object...\")\n",
    "exp_details=json.loads(exp_data)\n",
    "session = get_session(exp_details.get(\"dataset\"),exp_details.get(\"project_id\"))\n",
    "stage = create_stage(session)\n",
    "print(\"Session has been created !\")\n",
    "\n",
    "print(\"Creating stored procedure...\")\n",
    "session.custom_package_usage_config['enabled'] = True\n",
    "session.sproc.register(func=run_experiment,\n",
    "                       name=\"run_experiment\",\n",
    "                       packages=[\"snowflake-snowpark-python\", \"snowflake-ml-python\",\"scikit-learn\"],\n",
    "                       isPermanant=False,\n",
    "                       stage_location=stage,\n",
    "                       replace=True)\n",
    "print(\"Stored procedure has been created successfully!\")\n",
    "\n",
    "# tagging session\n",
    "print(\"Setting tag to session object: tag= \", run_id)\n",
    "session.query_tag=run_id\n",
    "\n",
    "print(\"Executing Procedure\")\n",
    "procedure_response = session.call(\"run_experiment\", exp_data)\n",
    "# procedure_response = run_experiment(session, exp_data)\n",
    "print(\"Stored Procedure Executed Successfully !\")\n",
    "print(procedure_response)\n",
    "\n",
    "#Log in mlflow\n",
    "print(\"Logging in mlflow completed !\")"
   ]
  },
  {
   "cell_type": "code",
   "execution_count": null,
   "id": "1bc91bf6",
   "metadata": {},
   "outputs": [],
   "source": []
  }
 ],
 "metadata": {
  "kernelspec": {
   "display_name": "Python 3",
   "language": "python",
   "name": "python3"
  },
  "language_info": {
   "codemirror_mode": {
    "name": "ipython",
    "version": 3
   },
   "file_extension": ".py",
   "mimetype": "text/x-python",
   "name": "python",
   "nbconvert_exporter": "python",
   "pygments_lexer": "ipython3",
   "version": "3.9.18"
  }
 },
 "nbformat": 4,
 "nbformat_minor": 5
}
