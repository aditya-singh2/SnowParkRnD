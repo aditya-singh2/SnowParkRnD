{
 "cells": [
  {
   "cell_type": "code",
   "execution_count": 1,
   "id": "b9345492",
   "metadata": {},
   "outputs": [
    {
     "name": "stdout",
     "output_type": "stream",
     "text": [
      "6d0370b7-7aab-4394-884a-266bc284d07a\n"
     ]
    }
   ],
   "source": [
    "import uuid\n",
    "# project_id = str(uuid.uuid4())\n",
    "run_id = str(uuid.uuid4())\n",
    "print(run_id)"
   ]
  },
  {
   "cell_type": "code",
   "execution_count": 2,
   "id": "f2d621e6",
   "metadata": {},
   "outputs": [],
   "source": [
    "# payload-1 (classification Airline Delay dataset)\n",
    "exp_data = '''{{\n",
    "\"source\":\"EXP\", \n",
    "\"project_id\":\"0e0fb803-22db-4d88-9f2f-f6f75b6abcf0\", \n",
    "\"id\":\"7bbb5061-54d4-4862-8d47-7fbee388a4d1\", \n",
    "\"run_id\":\"{0}\", \n",
    "\"exp_name\": \"Final_recipe\", \n",
    "\"algorithm_type\":\"classification\", \n",
    "\"algo_details\": {{\"snowflake.ml.modeling.xgboost.XGBClassifier\": null}}, \n",
    "\"dataset\": \"AIRLINE_DEP_DELAY_10K\", \n",
    "\"target_column\": \"DEP_DEL15\"}}'''.format(run_id)"
   ]
  },
  {
   "cell_type": "code",
   "execution_count": 3,
   "id": "1df37eaa",
   "metadata": {},
   "outputs": [],
   "source": [
    "# payload-2 (Regression Alcohol dataset)\n",
    "exp_data = '''{{\n",
    "\"source\":\"EXP\", \n",
    "\"project_id\":\"0e0fb803-22db-4d88-9f2f-f6f75b6abcf0\", \n",
    "\"id\":\"7bbb5061-54d4-4862-8d47-7fbee388a4d1\", \n",
    "\"run_id\":\"{0}\", \n",
    "\"exp_name\": \"Final_recipe\", \n",
    "\"algorithm_type\":\"regression\", \n",
    "\"algo_details\": {{\"snowflake.ml.modeling.ensemble.RandomForestRegressor\": null}}, \n",
    "\"dataset\": \"ALCOHOL_DATA_10L\", \n",
    "\"target_column\": \"QUALITY\"}}'''.format(run_id)"
   ]
  },
  {
   "cell_type": "code",
   "execution_count": null,
   "id": "6155b5ed",
   "metadata": {},
   "outputs": [],
   "source": [
    "# payload-3 (classification Employee dataset)\n",
    "exp_data = '''{{\n",
    "\"source\":\"EXP\", \n",
    "\"project_id\":\"0e0fb803-22db-4d88-9f2f-f6f75b6abcf0\", \n",
    "\"id\":\"7bbb5061-54d4-4862-8d47-7fbee388a4d1\", \n",
    "\"run_id\":\"{0}\", \n",
    "\"exp_name\": \"Final_recipe\", \n",
    "\"algorithm_type\":\"classification\", \n",
    "\"algo_details\": {{\"snowflake.ml.modeling.linear_model.LogisticRegression\": null}}, \n",
    "\"dataset\": \"EMPLOYEE_10L\", \n",
    "\"target_column\": \"LEAVEORNOT\"}}'''.format(run_id)"
   ]
  },
  {
   "cell_type": "code",
   "execution_count": null,
   "id": "482a5138",
   "metadata": {},
   "outputs": [],
   "source": [
    "# payload-4 (Regression Diamonds dataset)\n",
    "exp_data = '''{{\n",
    "\"source\":\"EXP\", \n",
    "\"project_id\":\"0e0fb803-22db-4d88-9f2f-f6f75b6abcf0\", \n",
    "\"id\":\"7bbb5061-54d4-4862-8d47-7fbee388a4d1\", \n",
    "\"run_id\":\"{0}\", \n",
    "\"exp_name\": \"Final_recipe\", \n",
    "\"algorithm_type\":\"regression\", \n",
    "\"algo_details\": {{\"snowflake.ml.modeling.xgboost.XGBRegressor\": null}}, \n",
    "\"dataset\": \"DIAMONDS\", \n",
    "\"target_column\": \"PRICE\"}}'''.format(run_id)"
   ]
  },
  {
   "cell_type": "code",
   "execution_count": 3,
   "id": "a8fc1b75",
   "metadata": {},
   "outputs": [
    {
     "data": {
      "text/plain": [
       "'{\\n\"source\":\"EXP\", \\n\"project_id\":\"0e0fb803-22db-4d88-9f2f-f6f75b6abcf0\", \\n\"id\":\"7bbb5061-54d4-4862-8d47-7fbee388a4d1\", \\n\"run_id\":\"6d0370b7-7aab-4394-884a-266bc284d07a\", \\n\"exp_name\": \"Final_recipe\", \\n\"algorithm_type\":\"classification\", \\n\"algo_details\": {\"snowflake.ml.modeling.xgboost.XGBClassifier\": null}, \\n\"dataset\": \"AIRLINE_DEP_DELAY_10K\", \\n\"target_column\": \"DEP_DEL15\"}'"
      ]
     },
     "execution_count": 3,
     "metadata": {},
     "output_type": "execute_result"
    }
   ],
   "source": [
    "exp_data"
   ]
  },
  {
   "cell_type": "code",
   "execution_count": 4,
   "id": "101789b3",
   "metadata": {},
   "outputs": [
    {
     "name": "stdout",
     "output_type": "stream",
     "text": [
      "Connection manager service url initialised to http://fdc-project-manager:80/project-manager\n",
      "If you need to update its value then update the variable CONNECTION_MANAGER_BASE_URL in os env.\n"
     ]
    }
   ],
   "source": [
    "from snowflake.snowpark.session import Session\n",
    "import snow_exp as sf\n",
    "import json, asyncio"
   ]
  },
  {
   "cell_type": "code",
   "execution_count": 25,
   "id": "59a3e1a2",
   "metadata": {},
   "outputs": [],
   "source": [
    "#API function\n",
    "def execute_sf_sproc(payload, sproc_name=\"run_experiment\"):\n",
    "    try:\n",
    "#         task = asyncio.create_task(initiate_sproc_process(payload))\n",
    "        task = initiate_sproc_process(payload)\n",
    "        print(task)\n",
    "        print(\"Success\")\n",
    "    except Exception as ex:    \n",
    "        return \"Failed: \",ex\n",
    "\n",
    "def initiate_sproc_process(payload, sproc_name=\"run_experiment\"):\n",
    "    exp_details = json.loads(payload)\n",
    "    print(\"Creating Snowflake Session object...\")\n",
    "    session = sf.get_session(exp_details.get(\"dataset\"),exp_details.get(\"project_id\"))\n",
    "    print(\"Session has been created !\")\n",
    "    stage = sf.create_stage(session)\n",
    "    print(\"Creating stored procedure...\")\n",
    "#     sf.create_sproc(session, stage, sf.run_experiment)\n",
    "    print(\"Stored procedure has been created successfully!\")\n",
    "    print(\"Executing Procedure\")\n",
    "#     session.add_import(\"/notebooks/notebooks/SnowparkRnD/snow_exp.py\", import_path=\"notebooks.notebooks.SnowparkRnD.snow_exp\")\n",
    "#     sproc_response = session.call(sproc_name, payload)\n",
    "    sproc_response = sf.run_experiment(session,payload)\n",
    "    print(\"Stored Procedure Executed Successfully !\")\n",
    "    return sproc_response\n",
    "\n",
    "def create_sproc(session, stage, func_name=\"run_experiment\"):\n",
    "    print(\"Creating stored procedure...\")\n",
    "    session.custom_package_usage_config['enabled'] = True\n",
    "    session.sproc.register(func=sf.run_experiment,\n",
    "                           name=func_name,\n",
    "                           packages=[\"snowflake-snowpark-python\", \"snowflake-ml-python\",\"scikit-learn\"],\n",
    "                           isPermanant=False,\n",
    "                           stage_location=stage,\n",
    "                           replace=True)\n",
    "    print(\"Stored procedure has been created successfully!\")"
   ]
  },
  {
   "cell_type": "code",
   "execution_count": 26,
   "id": "25618f67",
   "metadata": {},
   "outputs": [
    {
     "name": "stdout",
     "output_type": "stream",
     "text": [
      "Creating Snowflake Session object...\n",
      "Session has been created !\n",
      "Creating stored procedure...\n",
      "Stored procedure has been created successfully!\n",
      "Executing Procedure\n",
      "-----------------------------------------------\n",
      "|\"status\"                                     |\n",
      "-----------------------------------------------\n",
      "|SOURCE already exists, statement succeeded.  |\n",
      "-----------------------------------------------\n",
      "\n",
      "---------------------------------------------------\n",
      "|\"status\"                                         |\n",
      "---------------------------------------------------\n",
      "|PROJECT_ID already exists, statement succeeded.  |\n",
      "---------------------------------------------------\n",
      "\n",
      "-------------------------------------------\n",
      "|\"status\"                                 |\n",
      "-------------------------------------------\n",
      "|ID already exists, statement succeeded.  |\n",
      "-------------------------------------------\n",
      "\n",
      "-----------------------------------------------\n",
      "|\"status\"                                     |\n",
      "-----------------------------------------------\n",
      "|RUN_ID already exists, statement succeeded.  |\n",
      "-----------------------------------------------\n",
      "\n",
      "-------------------------------------------------\n",
      "|\"status\"                                       |\n",
      "-------------------------------------------------\n",
      "|EXP_NAME already exists, statement succeeded.  |\n",
      "-------------------------------------------------\n",
      "\n",
      "------------------------------------------------------\n",
      "|\"status\"                                            |\n",
      "------------------------------------------------------\n",
      "|ALGORITHM_TYPE already exists, statement succee...  |\n",
      "------------------------------------------------------\n",
      "\n",
      "-----------------------------------------------------\n",
      "|\"status\"                                           |\n",
      "-----------------------------------------------------\n",
      "|ALGO_DETAILS already exists, statement succeeded.  |\n",
      "-----------------------------------------------------\n",
      "\n",
      "------------------------------------------------\n",
      "|\"status\"                                      |\n",
      "------------------------------------------------\n",
      "|DATASET already exists, statement succeeded.  |\n",
      "------------------------------------------------\n",
      "\n",
      "------------------------------------------------------\n",
      "|\"status\"                                            |\n",
      "------------------------------------------------------\n",
      "|TARGET_COLUMN already exists, statement succeeded.  |\n",
      "------------------------------------------------------\n",
      "\n",
      "------------------------------------------------------\n",
      "|\"status\"                                            |\n",
      "------------------------------------------------------\n",
      "|ACCURACY_SCORE already exists, statement succee...  |\n",
      "------------------------------------------------------\n",
      "\n",
      "------------------------------------------------------\n",
      "|\"status\"                                            |\n",
      "------------------------------------------------------\n",
      "|PRECISION_SCORE already exists, statement succe...  |\n",
      "------------------------------------------------------\n",
      "\n",
      "-----------------------------------------------------\n",
      "|\"status\"                                           |\n",
      "-----------------------------------------------------\n",
      "|RECALL_SCORE already exists, statement succeeded.  |\n",
      "-----------------------------------------------------\n",
      "\n",
      "-------------------------------------------------\n",
      "|\"status\"                                       |\n",
      "-------------------------------------------------\n",
      "|F1_SCORE already exists, statement succeeded.  |\n",
      "-------------------------------------------------\n",
      "\n",
      "------------------------------------------------\n",
      "|\"status\"                                      |\n",
      "------------------------------------------------\n",
      "|ROC_AUC already exists, statement succeeded.  |\n",
      "------------------------------------------------\n",
      "\n",
      "-------------------------------------------------\n",
      "|\"status\"                                       |\n",
      "-------------------------------------------------\n",
      "|LOG_LOSS already exists, statement succeeded.  |\n",
      "-------------------------------------------------\n",
      "\n",
      "Reading dataset features\n",
      "numerical_features:  ['SNWD', 'DAY_OF_WEEK', 'MONTH', 'LONGITUDE', 'CARRIER_HISTORICAL', 'DISTANCE_GROUP', 'TMAX', 'AVG_MONTHLY_PASS_AIRPORT', 'AIRLINE_FLIGHTS_MONTH', 'FLT_ATTENDANTS_PER_PASS', 'LATITUDE', 'AVG_MONTHLY_PASS_AIRLINE', 'AIRPORT_FLIGHTS_MONTH', 'DEP_BLOCK_HIST', 'DAY_HISTORICAL', 'GROUND_SERV_PER_PASS', 'SNOW', 'DEP_AIRPORT_HIST', 'AIRLINE_AIRPORT_FLIGHTS_MONTH', 'AWND', 'NUMBER_OF_SEATS', 'CONCURRENT_FLIGHTS', 'PLANE_AGE', 'PRCP', 'SEGMENT_NUMBER']\n",
      "categorical_features: ['DEP_TIME_BLK', 'CARRIER_NAME', 'DEPARTING_AIRPORT', 'PREVIOUS_AIRPORT']\n",
      "['DEP_TIME_BLK', 'CARRIER_NAME', 'DEPARTING_AIRPORT', 'PREVIOUS_AIRPORT'] columns are non numeric in feature dataset, encoding required.\n",
      "Columns identified to be encoded with label encoder: ['DEP_TIME_BLK', 'CARRIER_NAME', 'DEPARTING_AIRPORT', 'PREVIOUS_AIRPORT']\n",
      "Columns identified to be encoded with one hot encoder: []\n",
      "Setting up preprocessing pipeline based on dataset\n",
      "Selected preprocesing steps: \n",
      "[('le_DEP_TIME_BLK', <snowflake.ml.modeling.preprocessing.label_encoder.LabelEncoder object at 0x7ff75ca598e0>), ('le_CARRIER_NAME', <snowflake.ml.modeling.preprocessing.label_encoder.LabelEncoder object at 0x7ff75ca59160>), ('le_DEPARTING_AIRPORT', <snowflake.ml.modeling.preprocessing.label_encoder.LabelEncoder object at 0x7ff75ca59d60>), ('le_PREVIOUS_AIRPORT', <snowflake.ml.modeling.preprocessing.label_encoder.LabelEncoder object at 0x7ff75ca59f40>), ('scaler', <snowflake.ml.modeling.preprocessing.min_max_scaler.MinMaxScaler object at 0x7ff75ca59af0>)]\n",
      "Running data preprocessing pipeline\n",
      "-----------------------------------------------------------------------------------------------------------------------------------------------------------------------------------------------------------------------------------------------------------------------------------------------------------------------------------------------------------------------------------------------------------------------------------------------------------------------------------------------------------------------------------------------------------------------------------------------------------------------------------------------------------------------------\n",
      "|\"SNWD\"  |\"DAY_OF_WEEK\"        |\"MONTH\"              |\"LONGITUDE\"          |\"CARRIER_HISTORICAL\"  |\"DISTANCE_GROUP\"     |\"TMAX\"              |\"AVG_MONTHLY_PASS_AIRPORT\"  |\"AIRLINE_FLIGHTS_MONTH\"  |\"FLT_ATTENDANTS_PER_PASS\"  |\"LATITUDE\"           |\"AVG_MONTHLY_PASS_AIRLINE\"  |\"AIRPORT_FLIGHTS_MONTH\"  |\"DEP_BLOCK_HIST\"     |\"DAY_HISTORICAL\"     |\"GROUND_SERV_PER_PASS\"  |\"SNOW\"  |\"DEP_AIRPORT_HIST\"   |\"AIRLINE_AIRPORT_FLIGHTS_MONTH\"  |\"AWND\"               |\"NUMBER_OF_SEATS\"     |\"CONCURRENT_FLIGHTS\"  |\"PLANE_AGE\"  |\"PRCP\"               |\"SEGMENT_NUMBER\"     |\"PREVIOUS_AIRPORT\"  |\"DEPARTING_AIRPORT\"  |\"CARRIER_NAME\"  |\"DEP_TIME_BLK\"  |\"DEP_DEL15\"  |\n",
      "-----------------------------------------------------------------------------------------------------------------------------------------------------------------------------------------------------------------------------------------------------------------------------------------------------------------------------------------------------------------------------------------------------------------------------------------------------------------------------------------------------------------------------------------------------------------------------------------------------------------------------------------------------------------------------\n",
      "|0.0     |0.8333333333333334   |0.2727272727272727   |0.8040475281327912   |0.26291914704819064   |0.20000000000000004  |0.5526315789473684  |0.1744465023043245          |0.6796586592477664       |0.41378505475033117        |0.5321264783972965   |0.9285148853085841          |0.16796463286099078      |0.27522497654814015  |0.43711144076048003  |0.6379310766886747      |0.0     |0.44336796949528057  |0.008061191773920211             |0.40981061782055256  |0.2252559726962457    |0.037037037037037035  |0.5625       |0.0                  |0.15384615384615385  |14.0                |10.0                 |6.0             |5.0             |0            |\n",
      "|0.0     |0.16666666666666666  |0.1818181818181818   |0.9598840996383727   |0.31894490003018344   |0.1                  |0.4122807017543859  |0.26489499288156393         |0.14810158186649547      |0.0                        |0.5078445570842386   |0.05725000106513142         |0.39085372994495843      |0.2999138493221676   |0.17092516018353376  |0.389352166528466       |0.0     |0.46790582787760393  |0.08940594512893327              |0.3542378143433716   |0.020477815699658702  |0.2777777777777778    |0.46875      |0.0                  |0.07692307692307693  |17.0                |37.0                 |7.0             |5.0             |0            |\n",
      "|0.0     |0.6666666666666666   |0.09090909090909091  |0.6116888659284383   |0.4376340377790309    |0.7000000000000001   |0.4649122807017544  |0.6222891447050592          |0.3382198205910153       |0.728469163216533          |0.48358677286990104  |0.621869201085582           |0.4517507904906898       |0.393752088147564    |0.7970363849819914   |1.0                     |0.0     |0.6377352756633737   |0.21412540649475564              |0.29183483390251475  |0.4402730375426621    |0.3333333333333333    |0.21875      |0.0                  |0.07692307692307693  |155.0               |85.0                 |16.0            |5.0             |0            |\n",
      "|0.0     |0.8333333333333334   |0.2727272727272727   |0.4597605624312122   |0.23761938592506038   |1.0                  |0.5526315789473684  |0.6309663029648315          |0.13869420220070267      |0.09279779051350562        |0.3428192131305817   |0.1867189342798414          |0.4807940039817309       |0.23821544388258592  |0.43711144076048003  |0.7548621460569017      |0.0     |0.22484374207293006  |0.07442861723079741              |0.20832039739211425  |0.4675767918088737    |0.3333333333333333    |0.09375      |0.0                  |0.07692307692307693  |216.0               |42.0                 |0.0             |4.0             |0            |\n",
      "|0.0     |0.9999999999999999   |0.6363636363636364   |0.49632757575076925  |0.44831874767540897   |0.0                  |0.9035087719298245  |0.42672806875606056         |0.9755586467640397       |0.17732779474678284        |0.3944243301955105   |1.0                         |0.3841199203653824       |0.2462535919283162   |0.5537678055932115   |0.4136087725182285      |0.0     |0.2593267896354779   |0.2799432052397747               |0.13194660043464762  |0.3378839590443686    |0.24074074074074076   |0.625        |0.0                  |0.07692307692307693  |259.0               |44.0                 |14.0            |4.0             |0            |\n",
      "|0.0     |0.33333333333333337  |0.4545454545454545   |0.6116888659284383   |0.6835133676808427    |0.5000000000000001   |0.719298245614035   |0.6222891447050592          |0.9567617213275551       |0.17732779474678284        |0.48358677286990104  |1.0                         |0.6083265019323106       |0.16483297144790038  |0.7983002781408416   |0.4136087725182285      |0.0     |0.5130004122713442   |0.272523244629689                |0.222291213908724    |0.3378839590443686    |0.4074074074074074    |0.40625      |0.0                  |0.07692307692307693  |75.0                |85.0                 |14.0            |2.0             |1            |\n",
      "|0.0     |0.16666666666666666  |0.0                  |0.4597605624312122   |0.4109977896863793    |0.5000000000000001   |0.5087719298245613  |0.6309663029648315          |0.3623490806627076       |0.728469163216533          |0.3428192131305817   |0.621869201085582           |0.4867373228715306       |0.5192743030487511   |0.33104429030044114  |1.0                     |0.0     |0.47062819673673706  |0.09623047680117254              |0.2430922073890096   |0.4402730375426621    |0.25                  |0.3125       |0.06641000962463907  |0.15384615384615385  |264.0               |42.0                 |16.0            |12.0            |0            |\n",
      "|0.0     |0.0                  |0.36363636363636365  |0.5316255250331303   |0.6444875414157234    |0.5000000000000001   |0.7894736842105262  |0.4089989139000998          |0.9641627877944822       |0.17732779474678284        |0.3306058411778904   |1.0                         |0.39480618339384005      |0.29990579148013163  |0.5366181916156211   |0.4136087725182285      |0.0     |0.47795218540281403  |0.2334081436357807               |0.16671841043154298  |0.3378839590443686    |0.3425925925925926    |0.40625      |0.0                  |0.15384615384615385  |115.0               |62.0                 |14.0            |5.0             |0            |\n",
      "|0.0     |0.9999999999999999   |0.9999999999999999   |0.49632757575076925  |0.698429722790137     |0.0                  |0.4035087719298245  |0.42672806875606056         |0.960052074973695        |0.17732779474678284        |0.3944243301955105   |1.0                         |0.3528516219697857       |0.4128670736253012   |0.7369822873786812   |0.4136087725182285      |0.0     |0.3877976982709225   |0.2353318371272844               |0.04874262651350513  |0.3378839590443686    |0.2222222222222222    |0.34375      |0.0                  |0.15384615384615385  |290.0               |44.0                 |14.0            |6.0             |0            |\n",
      "|0.0     |0.16666666666666666  |0.9090909090909091   |0.8413894566609015   |0.12760892299347198   |0.4                  |0.5438596491228069  |1.0                         |0.663483316391133        |0.41378505475033117        |0.33555394641564074  |0.9285148853085841          |0.8798161377210446       |0.1156724618565313   |0.2927938912198539   |0.6379310766886747      |0.0     |0.46790582787760393  |0.8932350112215454               |0.1875194039118286   |0.4641638225255973    |0.8425925925925926    |0.125        |0.0                  |0.0                  |186.0               |4.0                  |6.0             |3.0             |0            |\n",
      "-----------------------------------------------------------------------------------------------------------------------------------------------------------------------------------------------------------------------------------------------------------------------------------------------------------------------------------------------------------------------------------------------------------------------------------------------------------------------------------------------------------------------------------------------------------------------------------------------------------------------------------------------------------------------------\n",
      "\n",
      "Transformed dataset: \n",
      " None\n"
     ]
    },
    {
     "name": "stdout",
     "output_type": "stream",
     "text": [
      "----Running Algorithm XGBClassifier----\n",
      "Running model pipeline XGBClassifier\n"
     ]
    },
    {
     "name": "stderr",
     "output_type": "stream",
     "text": [
      "The version of package 'snowflake-snowpark-python' in the local environment is 1.19.0, which does not fit the criteria for the requirement 'snowflake-snowpark-python'. Your UDF might not work when the package version is different between the server and your local environment.\n"
     ]
    },
    {
     "name": "stdout",
     "output_type": "stream",
     "text": [
      "Running prediction on model with test dataset\n",
      "Generating Metrices\n"
     ]
    },
    {
     "name": "stderr",
     "output_type": "stream",
     "text": [
      "DataFrame.flatten() is deprecated since 0.7.0. Use `DataFrame.join_table_function()` instead.\n",
      "The version of package 'snowflake-snowpark-python' in the local environment is 1.19.0, which does not fit the criteria for the requirement 'snowflake-snowpark-python'. Your UDF might not work when the package version is different between the server and your local environment.\n"
     ]
    },
    {
     "name": "stdout",
     "output_type": "stream",
     "text": [
      "{'accuracy_score': 0.803922, 'f1_score': 0.23076923076923075, 'recall_score': 0.15113350125944586, 'precision_score': 0.4878048780487805, 'roc_auc': 0.5563945047380613, 'log_loss': 7.0706121046545105}\n",
      "Started: Registering model on snowflake\n"
     ]
    },
    {
     "name": "stderr",
     "output_type": "stream",
     "text": [
      "/opt/conda/lib/python3.9/contextlib.py:119: UserWarning: `relax_version` is not set and therefore defaulted to True. Dependency version constraints relaxed from ==x.y.z to >=x.y, <(x+1). To use specific dependency versions for compatibility, reproducibility, etc., set `options={'relax_version': False}` when logging the model.\n",
      "  return next(self.gen)\n"
     ]
    },
    {
     "name": "stdout",
     "output_type": "stream",
     "text": [
      "Registeration of model completed!!!\n",
      "Final_recipe_0e0fb803_22db_4d88_9f2f_f6f75b6abcf0_7bbb5061_54d4_4862_8d47_7fbee388a4d1_6d0370b7_7aab_4394_884a_266bc284d07a\n",
      "------------------------------------\n",
      "|\"status\"                          |\n",
      "------------------------------------\n",
      "|Statement executed successfully.  |\n",
      "------------------------------------\n",
      "\n",
      "------------------------------------\n",
      "|\"status\"                          |\n",
      "------------------------------------\n",
      "|Statement executed successfully.  |\n",
      "------------------------------------\n",
      "\n",
      "------------------------------------\n",
      "|\"status\"                          |\n",
      "------------------------------------\n",
      "|Statement executed successfully.  |\n",
      "------------------------------------\n",
      "\n",
      "------------------------------------\n",
      "|\"status\"                          |\n",
      "------------------------------------\n",
      "|Statement executed successfully.  |\n",
      "------------------------------------\n",
      "\n",
      "------------------------------------\n",
      "|\"status\"                          |\n",
      "------------------------------------\n",
      "|Statement executed successfully.  |\n",
      "------------------------------------\n",
      "\n",
      "------------------------------------\n",
      "|\"status\"                          |\n",
      "------------------------------------\n",
      "|Statement executed successfully.  |\n",
      "------------------------------------\n",
      "\n",
      "------------------------------------\n",
      "|\"status\"                          |\n",
      "------------------------------------\n",
      "|Statement executed successfully.  |\n",
      "------------------------------------\n",
      "\n",
      "------------------------------------\n",
      "|\"status\"                          |\n",
      "------------------------------------\n",
      "|Statement executed successfully.  |\n",
      "------------------------------------\n",
      "\n",
      "------------------------------------\n",
      "|\"status\"                          |\n",
      "------------------------------------\n",
      "|Statement executed successfully.  |\n",
      "------------------------------------\n",
      "\n",
      "------------------------------------\n",
      "|\"status\"                          |\n",
      "------------------------------------\n",
      "|Statement executed successfully.  |\n",
      "------------------------------------\n",
      "\n",
      "------------------------------------\n",
      "|\"status\"                          |\n",
      "------------------------------------\n",
      "|Statement executed successfully.  |\n",
      "------------------------------------\n",
      "\n",
      "------------------------------------\n",
      "|\"status\"                          |\n",
      "------------------------------------\n",
      "|Statement executed successfully.  |\n",
      "------------------------------------\n",
      "\n",
      "------------------------------------\n",
      "|\"status\"                          |\n",
      "------------------------------------\n",
      "|Statement executed successfully.  |\n",
      "------------------------------------\n",
      "\n",
      "------------------------------------\n",
      "|\"status\"                          |\n",
      "------------------------------------\n",
      "|Statement executed successfully.  |\n",
      "------------------------------------\n",
      "\n",
      "------------------------------------\n",
      "|\"status\"                          |\n",
      "------------------------------------\n",
      "|Statement executed successfully.  |\n",
      "------------------------------------\n",
      "\n",
      "Stored Procedure Executed Successfully !\n",
      "[{'exp_name': 'Final_recipe', 'version': 'V1', 'matrices': {'model_metrics': {'accuracy_score': 0.803922, 'f1_score': 0.23076923076923075, 'recall_score': 0.15113350125944586, 'precision_score': 0.4878048780487805, 'roc_auc': 0.5563945047380613, 'log_loss': 7.0706121046545105}, 'project_id': '0e0fb803-22db-4d88-9f2f-f6f75b6abcf0', 'source': 'EXP'}, 'algorithm_type': 'classification', 'algorithm': ['snowflake.ml.modeling.xgboost.XGBClassifier'], 'dataset': 'AIRLINE_DEP_DELAY_10K', 'target_column': 'DEP_DEL15', 'RUN_STATUS': 'SUCCESS', 'registry_model_name': 'Final_recipe_0e0fb803-22db-4d88-9f2f-f6f75b6abcf0_7bbb5061-54d4-4862-8d47-7fbee388a4d1_6d0370b7-7aab-4394-884a-266bc284d07a'}]\n",
      "Success\n"
     ]
    }
   ],
   "source": [
    "execute_sf_sproc(exp_data)"
   ]
  },
  {
   "cell_type": "code",
   "execution_count": 7,
   "id": "5542d14d",
   "metadata": {},
   "outputs": [
    {
     "name": "stdout",
     "output_type": "stream",
     "text": [
      "('Failed: ', RuntimeError('asyncio.run() cannot be called from a running event loop'))\n"
     ]
    }
   ],
   "source": [
    "print(a)"
   ]
  },
  {
   "cell_type": "code",
   "execution_count": 1,
   "id": "914d9fdd",
   "metadata": {},
   "outputs": [
    {
     "name": "stdout",
     "output_type": "stream",
     "text": [
      "Creating Snowflake Session object...\n"
     ]
    },
    {
     "ename": "NameError",
     "evalue": "name 'json' is not defined",
     "output_type": "error",
     "traceback": [
      "\u001b[0;31m---------------------------------------------------------------------------\u001b[0m",
      "\u001b[0;31mNameError\u001b[0m                                 Traceback (most recent call last)",
      "File \u001b[0;32m<timed exec>:4\u001b[0m\n",
      "\u001b[0;31mNameError\u001b[0m: name 'json' is not defined"
     ]
    }
   ],
   "source": [
    "%%time\n",
    "# Initilization\n",
    "# logging.basicConfig(stream=sys.stdout, level=logging.INFO)\n",
    "print(\"Creating Snowflake Session object...\")\n",
    "exp_details=json.loads(exp_data)\n",
    "session = get_session(exp_details.get(\"dataset\"),exp_details.get(\"project_id\"))\n",
    "stage = create_stage(session)\n",
    "print(\"Session has been created !\")\n",
    "\n",
    "print(\"Creating stored procedure...\")\n",
    "session.custom_package_usage_config['enabled'] = True\n",
    "session.sproc.register(func=run_experiment,\n",
    "                       name=\"run_experiment\",\n",
    "                       packages=[\"snowflake-snowpark-python\", \"snowflake-ml-python\",\"scikit-learn\"],\n",
    "                       isPermanant=False,\n",
    "                       stage_location=stage,\n",
    "                       replace=True)\n",
    "print(\"Stored procedure has been created successfully!\")\n",
    "\n",
    "# tagging session\n",
    "print(\"Setting tag to session object: tag= \", run_id)\n",
    "session.query_tag=run_id\n",
    "\n",
    "print(\"Executing Procedure\")\n",
    "procedure_response = session.call(\"run_experiment\", exp_data)\n",
    "# procedure_response = run_experiment(session, exp_data)\n",
    "print(\"Stored Procedure Executed Successfully !\")\n",
    "print(procedure_response)\n",
    "\n",
    "#Log in mlflow\n",
    "print(\"Logging in mlflow completed !\")"
   ]
  },
  {
   "cell_type": "code",
   "execution_count": null,
   "id": "1bc91bf6",
   "metadata": {},
   "outputs": [],
   "source": []
  }
 ],
 "metadata": {
  "kernelspec": {
   "display_name": "Python 3",
   "language": "python",
   "name": "python3"
  },
  "language_info": {
   "codemirror_mode": {
    "name": "ipython",
    "version": 3
   },
   "file_extension": ".py",
   "mimetype": "text/x-python",
   "name": "python",
   "nbconvert_exporter": "python",
   "pygments_lexer": "ipython3",
   "version": "3.9.18"
  }
 },
 "nbformat": 4,
 "nbformat_minor": 5
}
