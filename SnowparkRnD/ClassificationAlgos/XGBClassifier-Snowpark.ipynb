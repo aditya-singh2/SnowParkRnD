{
 "cells": [
  {
   "cell_type": "code",
   "execution_count": 46,
   "id": "3fb33bf4",
   "metadata": {},
   "outputs": [],
   "source": [
    "def run_exp(sf_pass, algos, dataset, target):    \n",
    "    import os, importlib\n",
    "    from snowflake.snowpark import Session\n",
    "    from snowflake.ml.modeling.pipeline import Pipeline\n",
    "    from snowflake.ml.modeling.preprocessing import MinMaxScaler, OrdinalEncoder\n",
    "    from snowflake.ml.modeling.metrics import mean_squared_error, mean_absolute_error, r2_score\n",
    "    from snowflake.snowpark.types import StructType, StructField, IntegerType, StringType\n",
    "#     from snowflake.ml.modeling.xgboost import XGBClassifier\n",
    "    from snowflake.snowpark import Session, FileOperation\n",
    "\n",
    "    connection_parameters = {\n",
    "        \"account\": \"ug94937.us-east4.gcp\",\n",
    "        \"user\": \"ADITYASINGH\",\n",
    "        \"password\": sf_pass,\n",
    "        \"role\": \"ADITYASINGH\",  # optional\n",
    "        \"warehouse\": \"FOSFOR_INSIGHT_WH\",  # optional\n",
    "        \"database\": \"FIRST_DB\",  # optional\n",
    "        \"schema\": \"PUBLIC\",  # optional\n",
    "    } \n",
    "    \n",
    "    session = Session.builder.configs(connection_parameters).create()\n",
    "    session.sql_simplifier_enabled = True\n",
    "    \n",
    "    # Read dataset\n",
    "    df_train, df_test = session.table(dataset).drop('ROW').random_split(weights=[0.9, 0.1], seed=0)\n",
    "    features = df_train.columns\n",
    "    features.remove(target)\n",
    "    \n",
    "    # generating feature names\n",
    "    data_schema = session.sql(f\"DESCRIBE TABLE {dataset}\").collect()\n",
    "    categorical_types = ['VARCHAR','CHAR','STRING','TEXT','BOOL']\n",
    "    categorical_features = []\n",
    "    for row in data_schema:\n",
    "        for typ in categorical_types:\n",
    "            if typ in row['type'] and row['name']!=target:\n",
    "                categorical_features.append(row['name'])\n",
    "                break\n",
    "    numerical_features = list(set(features) - set(categorical_features))\n",
    "    categorical_features_oe = list(map(lambda a: a+'_OE', categorical_features))\n",
    "    \n",
    "    \n",
    "    # Define a pipeline that does the preprocessing and training of \n",
    "    # dynamically generate list of selected algorithms for imports\n",
    "    for algorithm in algos:\n",
    "        df_all_pred = None\n",
    "        algorithm = algorithm.rsplit('.', 1)\n",
    "        module = importlib.import_module(algorithm[0])\n",
    "        attr = getattr(module, algorithm[1])\n",
    "        pipe = Pipeline(steps=[\n",
    "                  (\"ord\", OrdinalEncoder(input_cols=categorical_features, output_cols=categorical_features_oe)),\n",
    "                  (\"scaler\", MinMaxScaler(input_cols=numerical_features, output_cols=numerical_features)),\n",
    "                  (\"algorithm\", attr(input_cols=categorical_features_oe+numerical_features\n",
    "                                              , label_cols=[target]\n",
    "                                              , output_cols=['PREDICTION']))\n",
    "                 ]\n",
    "               )\n",
    "         \n",
    "        # Fit the pipeline\n",
    "        xgb_model = pipe.fit(df_train)\n",
    "         \n",
    "        # Test the model\n",
    "        df_test_pred = xgb_model.predict(df_test)\n",
    "        \n",
    "        #combining predictions\n",
    "        if df_all_pred is None:\n",
    "            schema = StructType([\n",
    "                StructField(f\"PREDICTIONS_{algorithm[1]}\", IntegerType)\n",
    "            ])\n",
    "            df_all_pred = session.create_dataframe([], schema)\n",
    "            df_all_pred = df_test_pred['PREDICTIONS']\n",
    "        else:\n",
    "            df_all_pred[f\"PREDICTIONS_{algorithm[1]}\"] = df_test_pred['PREDICTIONS']\n",
    "        # metrices\n",
    "        mse = mean_squared_error(df=df_test_pred, y_true_col_names=target, y_pred_col_names=\"PREDICTION\")\n",
    "        mae = mean_absolute_error(df=df_test_pred, y_true_col_names=target, y_pred_col_names=\"PREDICTION\")\n",
    "        r2 = r2_score(df=df_test_pred, y_true_col_name=target, y_pred_col_name=\"PREDICTION\")\n",
    "        print(f'MSE: {mse}')\n",
    "        print(f'MAE: {mae}')\n",
    "        print(f'R2: {r2}')\n",
    "    return df_test_pred"
   ]
  },
  {
   "cell_type": "code",
   "execution_count": 47,
   "id": "f0f11cbf",
   "metadata": {},
   "outputs": [
    {
     "name": "stderr",
     "output_type": "stream",
     "text": [
      "The version of package 'snowflake-snowpark-python' in the local environment is 1.17.0, which does not fit the criteria for the requirement 'snowflake-snowpark-python'. Your UDF might not work when the package version is different between the server and your local environment.\n",
      "The version of package 'scikit-learn' in the local environment is 1.3.2, which does not fit the criteria for the requirement 'scikit-learn==1.3.0'. Your UDF might not work when the package version is different between the server and your local environment.\n",
      "/packages/Python-3.9-Snowpark/5fc8e328-978d-48c7-b3ec-89dee2264cf3/3.9/sklearn/base.py:348: InconsistentVersionWarning: Trying to unpickle estimator DecisionTreeRegressor from version 1.3.0 when using version 1.3.2. This might lead to breaking code or invalid results. Use at your own risk. For more info please refer to:\n",
      "https://scikit-learn.org/stable/model_persistence.html#security-maintainability-limitations\n",
      "  warnings.warn(\n",
      "/packages/Python-3.9-Snowpark/5fc8e328-978d-48c7-b3ec-89dee2264cf3/3.9/sklearn/base.py:348: InconsistentVersionWarning: Trying to unpickle estimator AdaBoostRegressor from version 1.3.0 when using version 1.3.2. This might lead to breaking code or invalid results. Use at your own risk. For more info please refer to:\n",
      "https://scikit-learn.org/stable/model_persistence.html#security-maintainability-limitations\n",
      "  warnings.warn(\n",
      "The version of package 'scikit-learn' in the local environment is 1.3.2, which does not fit the criteria for the requirement 'scikit-learn==1.3.0'. Your UDF might not work when the package version is different between the server and your local environment.\n"
     ]
    },
    {
     "name": "stdout",
     "output_type": "stream",
     "text": [
      "MSE: 0.1727640136965599\n",
      "MAE: 0.31845926309526407\n",
      "R2: 0.26641396693757746\n"
     ]
    }
   ],
   "source": [
    "test = run_exp(os.environ.get('SF_Password'),\n",
    "               ['snowflake.ml.modeling.naive_bayes.GaussianNB',\n",
    "                'snowflake.ml.modeling.neighbors.KNeighborsClassifier',\n",
    "               ],\n",
    "               'EMPLOYEE', \n",
    "               'LEAVEORNOT')"
   ]
  },
  {
   "cell_type": "code",
   "execution_count": 64,
   "id": "4a5caa47",
   "metadata": {},
   "outputs": [],
   "source": [
    "import os, importlib\n",
    "from snowflake.snowpark import Session\n",
    "from snowflake.ml.modeling.pipeline import Pipeline\n",
    "from snowflake.ml.modeling.preprocessing import MinMaxScaler, OrdinalEncoder\n",
    "from snowflake.ml.modeling.metrics import mean_squared_error, mean_absolute_error, r2_score\n",
    "from snowflake.snowpark.types import StructType, StructField, IntegerType, StringType\n",
    "#    from snowflake.ml.modeling.xgboost import XGBClassifier\n",
    "from snowflake.snowpark import Session, FileOperation\n",
    "connection_parameters = {\n",
    "    \"account\": \"ug94937.us-east4.gcp\",\n",
    "    \"user\": \"ADITYASINGH\",\n",
    "    \"password\": os.environ.get('SF_Password'),\n",
    "    \"role\": \"ADITYASINGH\",  # optional\n",
    "    \"warehouse\": \"FOSFOR_INSIGHT_WH\",  # optional\n",
    "    \"database\": \"FIRST_DB\",  # optional\n",
    "    \"schema\": \"PUBLIC\",  # optional\n",
    "} \n",
    "\n",
    "session = Session.builder.configs(connection_parameters).create()\n",
    "session.sql_simplifier_enabled = True"
   ]
  },
  {
   "cell_type": "code",
   "execution_count": 65,
   "id": "1a87bcb2",
   "metadata": {},
   "outputs": [],
   "source": [
    "schema = StructType([\n",
    "            StructField(f\"PREDICTIONS\", IntegerType)\n",
    "            ])"
   ]
  },
  {
   "cell_type": "code",
   "execution_count": 66,
   "id": "f09dd96d",
   "metadata": {},
   "outputs": [
    {
     "ename": "TypeError",
     "evalue": "Unsupported data type: type",
     "output_type": "error",
     "traceback": [
      "\u001b[0;31m---------------------------------------------------------------------------\u001b[0m",
      "\u001b[0;31mTypeError\u001b[0m                                 Traceback (most recent call last)",
      "Cell \u001b[0;32mIn[66], line 1\u001b[0m\n\u001b[0;32m----> 1\u001b[0m df_all_pred \u001b[38;5;241m=\u001b[39m \u001b[43msession\u001b[49m\u001b[38;5;241;43m.\u001b[39;49m\u001b[43mcreate_dataframe\u001b[49m\u001b[43m(\u001b[49m\u001b[43m[\u001b[49m\u001b[43m]\u001b[49m\u001b[43m,\u001b[49m\u001b[43m \u001b[49m\u001b[43mschema\u001b[49m\u001b[43m)\u001b[49m\n",
      "File \u001b[0;32m/packages/Python-3.9-Snowpark/5fc8e328-978d-48c7-b3ec-89dee2264cf3/3.9/snowflake/snowpark/session.py:2694\u001b[0m, in \u001b[0;36mSession.create_dataframe\u001b[0;34m(self, data, schema)\u001b[0m\n\u001b[1;32m   2688\u001b[0m         project_columns\u001b[38;5;241m.\u001b[39mappend(column(name))\n\u001b[1;32m   2690\u001b[0m \u001b[38;5;28;01mif\u001b[39;00m \u001b[38;5;28mself\u001b[39m\u001b[38;5;241m.\u001b[39msql_simplifier_enabled:\n\u001b[1;32m   2691\u001b[0m     df \u001b[38;5;241m=\u001b[39m DataFrame(\n\u001b[1;32m   2692\u001b[0m         \u001b[38;5;28mself\u001b[39m,\n\u001b[1;32m   2693\u001b[0m         \u001b[38;5;28mself\u001b[39m\u001b[38;5;241m.\u001b[39m_analyzer\u001b[38;5;241m.\u001b[39mcreate_select_statement(\n\u001b[0;32m-> 2694\u001b[0m             from_\u001b[38;5;241m=\u001b[39m\u001b[38;5;28;43mself\u001b[39;49m\u001b[38;5;241;43m.\u001b[39;49m\u001b[43m_analyzer\u001b[49m\u001b[38;5;241;43m.\u001b[39;49m\u001b[43mcreate_select_snowflake_plan\u001b[49m\u001b[43m(\u001b[49m\n\u001b[1;32m   2695\u001b[0m \u001b[43m                \u001b[49m\u001b[43mSnowflakeValues\u001b[49m\u001b[43m(\u001b[49m\u001b[43mattrs\u001b[49m\u001b[43m,\u001b[49m\u001b[43m \u001b[49m\u001b[43mconverted\u001b[49m\u001b[43m,\u001b[49m\u001b[43m \u001b[49m\u001b[43mschema_query\u001b[49m\u001b[38;5;241;43m=\u001b[39;49m\u001b[43mschema_query\u001b[49m\u001b[43m)\u001b[49m\u001b[43m,\u001b[49m\n\u001b[1;32m   2696\u001b[0m \u001b[43m                \u001b[49m\u001b[43manalyzer\u001b[49m\u001b[38;5;241;43m=\u001b[39;49m\u001b[38;5;28;43mself\u001b[39;49m\u001b[38;5;241;43m.\u001b[39;49m\u001b[43m_analyzer\u001b[49m\u001b[43m,\u001b[49m\n\u001b[1;32m   2697\u001b[0m \u001b[43m            \u001b[49m\u001b[43m)\u001b[49m,\n\u001b[1;32m   2698\u001b[0m             analyzer\u001b[38;5;241m=\u001b[39m\u001b[38;5;28mself\u001b[39m\u001b[38;5;241m.\u001b[39m_analyzer,\n\u001b[1;32m   2699\u001b[0m         ),\n\u001b[1;32m   2700\u001b[0m     )\u001b[38;5;241m.\u001b[39mselect(project_columns)\n\u001b[1;32m   2701\u001b[0m \u001b[38;5;28;01melse\u001b[39;00m:\n\u001b[1;32m   2702\u001b[0m     df \u001b[38;5;241m=\u001b[39m DataFrame(\n\u001b[1;32m   2703\u001b[0m         \u001b[38;5;28mself\u001b[39m, SnowflakeValues(attrs, converted, schema_query\u001b[38;5;241m=\u001b[39mschema_query)\n\u001b[1;32m   2704\u001b[0m     )\u001b[38;5;241m.\u001b[39mselect(project_columns)\n",
      "File \u001b[0;32m/packages/Python-3.9-Snowpark/5fc8e328-978d-48c7-b3ec-89dee2264cf3/3.9/snowflake/snowpark/_internal/analyzer/analyzer.py:1187\u001b[0m, in \u001b[0;36mAnalyzer.create_select_snowflake_plan\u001b[0;34m(self, *args, **kwargs)\u001b[0m\n\u001b[1;32m   1186\u001b[0m \u001b[38;5;28;01mdef\u001b[39;00m \u001b[38;5;21mcreate_select_snowflake_plan\u001b[39m(\u001b[38;5;28mself\u001b[39m, \u001b[38;5;241m*\u001b[39margs, \u001b[38;5;241m*\u001b[39m\u001b[38;5;241m*\u001b[39mkwargs):\n\u001b[0;32m-> 1187\u001b[0m     \u001b[38;5;28;01mreturn\u001b[39;00m \u001b[43mSelectSnowflakePlan\u001b[49m\u001b[43m(\u001b[49m\u001b[38;5;241;43m*\u001b[39;49m\u001b[43margs\u001b[49m\u001b[43m,\u001b[49m\u001b[43m \u001b[49m\u001b[38;5;241;43m*\u001b[39;49m\u001b[38;5;241;43m*\u001b[39;49m\u001b[43mkwargs\u001b[49m\u001b[43m)\u001b[49m\n",
      "File \u001b[0;32m/packages/Python-3.9-Snowpark/5fc8e328-978d-48c7-b3ec-89dee2264cf3/3.9/snowflake/snowpark/_internal/analyzer/select_statement.py:429\u001b[0m, in \u001b[0;36mSelectSnowflakePlan.__init__\u001b[0;34m(self, snowflake_plan, analyzer)\u001b[0m\n\u001b[1;32m    424\u001b[0m \u001b[38;5;28;01mdef\u001b[39;00m \u001b[38;5;21m__init__\u001b[39m(\u001b[38;5;28mself\u001b[39m, snowflake_plan: LogicalPlan, \u001b[38;5;241m*\u001b[39m, analyzer: \u001b[38;5;124m\"\u001b[39m\u001b[38;5;124mAnalyzer\u001b[39m\u001b[38;5;124m\"\u001b[39m) \u001b[38;5;241m-\u001b[39m\u001b[38;5;241m>\u001b[39m \u001b[38;5;28;01mNone\u001b[39;00m:\n\u001b[1;32m    425\u001b[0m     \u001b[38;5;28msuper\u001b[39m()\u001b[38;5;241m.\u001b[39m\u001b[38;5;21m__init__\u001b[39m(analyzer)\n\u001b[1;32m    426\u001b[0m     \u001b[38;5;28mself\u001b[39m\u001b[38;5;241m.\u001b[39m_snowflake_plan: SnowflakePlan \u001b[38;5;241m=\u001b[39m (\n\u001b[1;32m    427\u001b[0m         snowflake_plan\n\u001b[1;32m    428\u001b[0m         \u001b[38;5;28;01mif\u001b[39;00m \u001b[38;5;28misinstance\u001b[39m(snowflake_plan, SnowflakePlan)\n\u001b[0;32m--> 429\u001b[0m         \u001b[38;5;28;01melse\u001b[39;00m \u001b[43manalyzer\u001b[49m\u001b[38;5;241;43m.\u001b[39;49m\u001b[43mresolve\u001b[49m\u001b[43m(\u001b[49m\u001b[43msnowflake_plan\u001b[49m\u001b[43m)\u001b[49m\n\u001b[1;32m    430\u001b[0m     )\n\u001b[1;32m    431\u001b[0m     \u001b[38;5;28mself\u001b[39m\u001b[38;5;241m.\u001b[39mexpr_to_alias\u001b[38;5;241m.\u001b[39mupdate(\u001b[38;5;28mself\u001b[39m\u001b[38;5;241m.\u001b[39m_snowflake_plan\u001b[38;5;241m.\u001b[39mexpr_to_alias)\n\u001b[1;32m    432\u001b[0m     \u001b[38;5;28mself\u001b[39m\u001b[38;5;241m.\u001b[39mdf_aliased_col_name_to_real_col_name\u001b[38;5;241m.\u001b[39mupdate(\n\u001b[1;32m    433\u001b[0m         \u001b[38;5;28mself\u001b[39m\u001b[38;5;241m.\u001b[39m_snowflake_plan\u001b[38;5;241m.\u001b[39mdf_aliased_col_name_to_real_col_name\n\u001b[1;32m    434\u001b[0m     )\n",
      "File \u001b[0;32m/packages/Python-3.9-Snowpark/5fc8e328-978d-48c7-b3ec-89dee2264cf3/3.9/snowflake/snowpark/_internal/analyzer/analyzer.py:712\u001b[0m, in \u001b[0;36mAnalyzer.resolve\u001b[0;34m(self, logical_plan)\u001b[0m\n\u001b[1;32m    709\u001b[0m \u001b[38;5;28mself\u001b[39m\u001b[38;5;241m.\u001b[39msubquery_plans \u001b[38;5;241m=\u001b[39m []\n\u001b[1;32m    710\u001b[0m \u001b[38;5;28mself\u001b[39m\u001b[38;5;241m.\u001b[39mgenerated_alias_maps \u001b[38;5;241m=\u001b[39m {}\n\u001b[0;32m--> 712\u001b[0m result \u001b[38;5;241m=\u001b[39m \u001b[38;5;28;43mself\u001b[39;49m\u001b[38;5;241;43m.\u001b[39;49m\u001b[43mdo_resolve\u001b[49m\u001b[43m(\u001b[49m\u001b[43mlogical_plan\u001b[49m\u001b[43m)\u001b[49m\n\u001b[1;32m    714\u001b[0m result\u001b[38;5;241m.\u001b[39madd_aliases(\u001b[38;5;28mself\u001b[39m\u001b[38;5;241m.\u001b[39mgenerated_alias_maps)\n\u001b[1;32m    716\u001b[0m \u001b[38;5;28;01mif\u001b[39;00m \u001b[38;5;28mself\u001b[39m\u001b[38;5;241m.\u001b[39msubquery_plans:\n",
      "File \u001b[0;32m/packages/Python-3.9-Snowpark/5fc8e328-978d-48c7-b3ec-89dee2264cf3/3.9/snowflake/snowpark/_internal/analyzer/analyzer.py:755\u001b[0m, in \u001b[0;36mAnalyzer.do_resolve\u001b[0;34m(self, logical_plan)\u001b[0m\n\u001b[1;32m    749\u001b[0m             use_maps\u001b[38;5;241m.\u001b[39mupdate(\n\u001b[1;32m    750\u001b[0m                 {p: q \u001b[38;5;28;01mfor\u001b[39;00m p, q \u001b[38;5;129;01min\u001b[39;00m v\u001b[38;5;241m.\u001b[39mexpr_to_alias\u001b[38;5;241m.\u001b[39mitems() \u001b[38;5;28;01mif\u001b[39;00m counts[p] \u001b[38;5;241m<\u001b[39m \u001b[38;5;241m2\u001b[39m}\n\u001b[1;32m    751\u001b[0m             )\n\u001b[1;32m    753\u001b[0m     \u001b[38;5;28mself\u001b[39m\u001b[38;5;241m.\u001b[39malias_maps_to_use \u001b[38;5;241m=\u001b[39m use_maps\n\u001b[0;32m--> 755\u001b[0m res \u001b[38;5;241m=\u001b[39m \u001b[38;5;28;43mself\u001b[39;49m\u001b[38;5;241;43m.\u001b[39;49m\u001b[43mdo_resolve_with_resolved_children\u001b[49m\u001b[43m(\u001b[49m\n\u001b[1;32m    756\u001b[0m \u001b[43m    \u001b[49m\u001b[43mlogical_plan\u001b[49m\u001b[43m,\u001b[49m\u001b[43m \u001b[49m\u001b[43mresolved_children\u001b[49m\u001b[43m,\u001b[49m\u001b[43m \u001b[49m\u001b[43mdf_aliased_col_name_to_real_col_name\u001b[49m\n\u001b[1;32m    757\u001b[0m \u001b[43m\u001b[49m\u001b[43m)\u001b[49m\n\u001b[1;32m    758\u001b[0m res\u001b[38;5;241m.\u001b[39mdf_aliased_col_name_to_real_col_name\u001b[38;5;241m.\u001b[39mupdate(\n\u001b[1;32m    759\u001b[0m     df_aliased_col_name_to_real_col_name\n\u001b[1;32m    760\u001b[0m )\n\u001b[1;32m    761\u001b[0m \u001b[38;5;28;01mreturn\u001b[39;00m res\n",
      "File \u001b[0;32m/packages/Python-3.9-Snowpark/5fc8e328-978d-48c7-b3ec-89dee2264cf3/3.9/snowflake/snowpark/_internal/analyzer/analyzer.py:903\u001b[0m, in \u001b[0;36mAnalyzer.do_resolve_with_resolved_children\u001b[0;34m(self, logical_plan, resolved_children, df_aliased_col_name_to_real_col_name)\u001b[0m\n\u001b[1;32m    901\u001b[0m     schema_query \u001b[38;5;241m=\u001b[39m logical_plan\u001b[38;5;241m.\u001b[39mschema_query\n\u001b[1;32m    902\u001b[0m \u001b[38;5;28;01melse\u001b[39;00m:\n\u001b[0;32m--> 903\u001b[0m     schema_query \u001b[38;5;241m=\u001b[39m \u001b[43mschema_query_for_values_statement\u001b[49m\u001b[43m(\u001b[49m\u001b[43mlogical_plan\u001b[49m\u001b[38;5;241;43m.\u001b[39;49m\u001b[43moutput\u001b[49m\u001b[43m)\u001b[49m\n\u001b[1;32m    905\u001b[0m \u001b[38;5;28;01mif\u001b[39;00m logical_plan\u001b[38;5;241m.\u001b[39mdata:\n\u001b[1;32m    906\u001b[0m     \u001b[38;5;28;01mif\u001b[39;00m (\n\u001b[1;32m    907\u001b[0m         \u001b[38;5;28mlen\u001b[39m(logical_plan\u001b[38;5;241m.\u001b[39moutput) \u001b[38;5;241m*\u001b[39m \u001b[38;5;28mlen\u001b[39m(logical_plan\u001b[38;5;241m.\u001b[39mdata)\n\u001b[1;32m    908\u001b[0m         \u001b[38;5;241m<\u001b[39m ARRAY_BIND_THRESHOLD\n\u001b[1;32m    909\u001b[0m     ):\n",
      "File \u001b[0;32m/packages/Python-3.9-Snowpark/5fc8e328-978d-48c7-b3ec-89dee2264cf3/3.9/snowflake/snowpark/_internal/analyzer/analyzer_utils.py:493\u001b[0m, in \u001b[0;36mschema_query_for_values_statement\u001b[0;34m(output)\u001b[0m\n\u001b[1;32m    492\u001b[0m \u001b[38;5;28;01mdef\u001b[39;00m \u001b[38;5;21mschema_query_for_values_statement\u001b[39m(output: List[Attribute]) \u001b[38;5;241m-\u001b[39m\u001b[38;5;241m>\u001b[39m \u001b[38;5;28mstr\u001b[39m:\n\u001b[0;32m--> 493\u001b[0m     cells \u001b[38;5;241m=\u001b[39m [schema_expression(attr\u001b[38;5;241m.\u001b[39mdatatype, attr\u001b[38;5;241m.\u001b[39mnullable) \u001b[38;5;28;01mfor\u001b[39;00m attr \u001b[38;5;129;01min\u001b[39;00m output]\n\u001b[1;32m    495\u001b[0m     query \u001b[38;5;241m=\u001b[39m (\n\u001b[1;32m    496\u001b[0m         SELECT\n\u001b[1;32m    497\u001b[0m         \u001b[38;5;241m+\u001b[39m COMMA\u001b[38;5;241m.\u001b[39mjoin([\u001b[38;5;124mf\u001b[39m\u001b[38;5;124m\"\u001b[39m\u001b[38;5;132;01m{\u001b[39;00mDOLLAR\u001b[38;5;132;01m}\u001b[39;00m\u001b[38;5;132;01m{\u001b[39;00mi\u001b[38;5;241m+\u001b[39m\u001b[38;5;241m1\u001b[39m\u001b[38;5;132;01m}\u001b[39;00m\u001b[38;5;132;01m{\u001b[39;00mAS\u001b[38;5;132;01m}\u001b[39;00m\u001b[38;5;132;01m{\u001b[39;00mattr\u001b[38;5;241m.\u001b[39mname\u001b[38;5;132;01m}\u001b[39;00m\u001b[38;5;124m\"\u001b[39m \u001b[38;5;28;01mfor\u001b[39;00m i, attr \u001b[38;5;129;01min\u001b[39;00m \u001b[38;5;28menumerate\u001b[39m(output)])\n\u001b[0;32m   (...)\u001b[0m\n\u001b[1;32m    502\u001b[0m         \u001b[38;5;241m+\u001b[39m RIGHT_PARENTHESIS\n\u001b[1;32m    503\u001b[0m     )\n\u001b[1;32m    504\u001b[0m     \u001b[38;5;28;01mreturn\u001b[39;00m query\n",
      "File \u001b[0;32m/packages/Python-3.9-Snowpark/5fc8e328-978d-48c7-b3ec-89dee2264cf3/3.9/snowflake/snowpark/_internal/analyzer/analyzer_utils.py:493\u001b[0m, in \u001b[0;36m<listcomp>\u001b[0;34m(.0)\u001b[0m\n\u001b[1;32m    492\u001b[0m \u001b[38;5;28;01mdef\u001b[39;00m \u001b[38;5;21mschema_query_for_values_statement\u001b[39m(output: List[Attribute]) \u001b[38;5;241m-\u001b[39m\u001b[38;5;241m>\u001b[39m \u001b[38;5;28mstr\u001b[39m:\n\u001b[0;32m--> 493\u001b[0m     cells \u001b[38;5;241m=\u001b[39m [\u001b[43mschema_expression\u001b[49m\u001b[43m(\u001b[49m\u001b[43mattr\u001b[49m\u001b[38;5;241;43m.\u001b[39;49m\u001b[43mdatatype\u001b[49m\u001b[43m,\u001b[49m\u001b[43m \u001b[49m\u001b[43mattr\u001b[49m\u001b[38;5;241;43m.\u001b[39;49m\u001b[43mnullable\u001b[49m\u001b[43m)\u001b[49m \u001b[38;5;28;01mfor\u001b[39;00m attr \u001b[38;5;129;01min\u001b[39;00m output]\n\u001b[1;32m    495\u001b[0m     query \u001b[38;5;241m=\u001b[39m (\n\u001b[1;32m    496\u001b[0m         SELECT\n\u001b[1;32m    497\u001b[0m         \u001b[38;5;241m+\u001b[39m COMMA\u001b[38;5;241m.\u001b[39mjoin([\u001b[38;5;124mf\u001b[39m\u001b[38;5;124m\"\u001b[39m\u001b[38;5;132;01m{\u001b[39;00mDOLLAR\u001b[38;5;132;01m}\u001b[39;00m\u001b[38;5;132;01m{\u001b[39;00mi\u001b[38;5;241m+\u001b[39m\u001b[38;5;241m1\u001b[39m\u001b[38;5;132;01m}\u001b[39;00m\u001b[38;5;132;01m{\u001b[39;00mAS\u001b[38;5;132;01m}\u001b[39;00m\u001b[38;5;132;01m{\u001b[39;00mattr\u001b[38;5;241m.\u001b[39mname\u001b[38;5;132;01m}\u001b[39;00m\u001b[38;5;124m\"\u001b[39m \u001b[38;5;28;01mfor\u001b[39;00m i, attr \u001b[38;5;129;01min\u001b[39;00m \u001b[38;5;28menumerate\u001b[39m(output)])\n\u001b[0;32m   (...)\u001b[0m\n\u001b[1;32m    502\u001b[0m         \u001b[38;5;241m+\u001b[39m RIGHT_PARENTHESIS\n\u001b[1;32m    503\u001b[0m     )\n\u001b[1;32m    504\u001b[0m     \u001b[38;5;28;01mreturn\u001b[39;00m query\n",
      "File \u001b[0;32m/packages/Python-3.9-Snowpark/5fc8e328-978d-48c7-b3ec-89dee2264cf3/3.9/snowflake/snowpark/_internal/analyzer/datatype_mapper.py:174\u001b[0m, in \u001b[0;36mschema_expression\u001b[0;34m(data_type, is_nullable)\u001b[0m\n\u001b[1;32m    172\u001b[0m     \u001b[38;5;28;01mif\u001b[39;00m \u001b[38;5;28misinstance\u001b[39m(data_type, VariantType):\n\u001b[1;32m    173\u001b[0m         \u001b[38;5;28;01mreturn\u001b[39;00m \u001b[38;5;124m\"\u001b[39m\u001b[38;5;124mPARSE_JSON(\u001b[39m\u001b[38;5;124m'\u001b[39m\u001b[38;5;124mNULL\u001b[39m\u001b[38;5;124m'\u001b[39m\u001b[38;5;124m) :: VARIANT\u001b[39m\u001b[38;5;124m\"\u001b[39m\n\u001b[0;32m--> 174\u001b[0m     \u001b[38;5;28;01mreturn\u001b[39;00m \u001b[38;5;124m\"\u001b[39m\u001b[38;5;124mNULL :: \u001b[39m\u001b[38;5;124m\"\u001b[39m \u001b[38;5;241m+\u001b[39m \u001b[43mconvert_sp_to_sf_type\u001b[49m\u001b[43m(\u001b[49m\u001b[43mdata_type\u001b[49m\u001b[43m)\u001b[49m\n\u001b[1;32m    176\u001b[0m \u001b[38;5;28;01mif\u001b[39;00m \u001b[38;5;28misinstance\u001b[39m(data_type, _NumericType):\n\u001b[1;32m    177\u001b[0m     \u001b[38;5;28;01mreturn\u001b[39;00m \u001b[38;5;124m\"\u001b[39m\u001b[38;5;124m0 :: \u001b[39m\u001b[38;5;124m\"\u001b[39m \u001b[38;5;241m+\u001b[39m convert_sp_to_sf_type(data_type)\n",
      "File \u001b[0;32m/packages/Python-3.9-Snowpark/5fc8e328-978d-48c7-b3ec-89dee2264cf3/3.9/snowflake/snowpark/_internal/type_utils.py:295\u001b[0m, in \u001b[0;36mconvert_sp_to_sf_type\u001b[0;34m(datatype)\u001b[0m\n\u001b[1;32m    293\u001b[0m \u001b[38;5;28;01mif\u001b[39;00m \u001b[38;5;28misinstance\u001b[39m(datatype, VectorType):\n\u001b[1;32m    294\u001b[0m     \u001b[38;5;28;01mreturn\u001b[39;00m \u001b[38;5;124mf\u001b[39m\u001b[38;5;124m\"\u001b[39m\u001b[38;5;124mVECTOR(\u001b[39m\u001b[38;5;132;01m{\u001b[39;00mdatatype\u001b[38;5;241m.\u001b[39melement_type\u001b[38;5;132;01m}\u001b[39;00m\u001b[38;5;124m,\u001b[39m\u001b[38;5;132;01m{\u001b[39;00mdatatype\u001b[38;5;241m.\u001b[39mdimension\u001b[38;5;132;01m}\u001b[39;00m\u001b[38;5;124m)\u001b[39m\u001b[38;5;124m\"\u001b[39m\n\u001b[0;32m--> 295\u001b[0m \u001b[38;5;28;01mraise\u001b[39;00m \u001b[38;5;167;01mTypeError\u001b[39;00m(\u001b[38;5;124mf\u001b[39m\u001b[38;5;124m\"\u001b[39m\u001b[38;5;124mUnsupported data type: \u001b[39m\u001b[38;5;132;01m{\u001b[39;00mdatatype\u001b[38;5;241m.\u001b[39m\u001b[38;5;18m__class__\u001b[39m\u001b[38;5;241m.\u001b[39m\u001b[38;5;18m__name__\u001b[39m\u001b[38;5;132;01m}\u001b[39;00m\u001b[38;5;124m\"\u001b[39m)\n",
      "\u001b[0;31mTypeError\u001b[0m: Unsupported data type: type"
     ]
    }
   ],
   "source": [
    "df_all_pred = session.create_dataframe([], schema)"
   ]
  },
  {
   "cell_type": "code",
   "execution_count": 43,
   "id": "e7258829",
   "metadata": {},
   "outputs": [
    {
     "data": {
      "text/plain": [
       "'AdaBoostRegressor'"
      ]
     },
     "execution_count": 43,
     "metadata": {},
     "output_type": "execute_result"
    }
   ],
   "source": [
    "algo = 'snowflake.ml.modeling.ensemble.AdaBoostRegressor'"
   ]
  },
  {
   "cell_type": "code",
   "execution_count": null,
   "id": "706c490f",
   "metadata": {},
   "outputs": [],
   "source": []
  }
 ],
 "metadata": {
  "kernelspec": {
   "display_name": "Python 3",
   "language": "python",
   "name": "python3"
  },
  "language_info": {
   "codemirror_mode": {
    "name": "ipython",
    "version": 3
   },
   "file_extension": ".py",
   "mimetype": "text/x-python",
   "name": "python",
   "nbconvert_exporter": "python",
   "pygments_lexer": "ipython3",
   "version": "3.9.18"
  }
 },
 "nbformat": 4,
 "nbformat_minor": 5
}
