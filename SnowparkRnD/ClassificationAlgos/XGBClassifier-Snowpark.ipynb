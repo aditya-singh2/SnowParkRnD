{
 "cells": [
  {
   "cell_type": "code",
   "execution_count": 46,
   "id": "3fb33bf4",
   "metadata": {},
   "outputs": [],
   "source": [
    "def run_exp(sf_pass, algos, dataset, target):    \n",
    "    import os, importlib\n",
    "    from snowflake.snowpark import Session\n",
    "    from snowflake.ml.modeling.pipeline import Pipeline\n",
    "    from snowflake.ml.modeling.preprocessing import MinMaxScaler, OrdinalEncoder\n",
    "    from snowflake.ml.modeling.metrics import mean_squared_error, mean_absolute_error, r2_score\n",
    "#     from snowflake.ml.modeling.xgboost import XGBClassifier\n",
    "    from snowflake.snowpark import Session, FileOperation\n",
    "\n",
    "    connection_parameters = {\n",
    "        \"account\": \"ug94937.us-east4.gcp\",\n",
    "        \"user\": \"ADITYASINGH\",\n",
    "        \"password\": sf_pass,\n",
    "        \"role\": \"ADITYASINGH\",  # optional\n",
    "        \"warehouse\": \"FOSFOR_INSIGHT_WH\",  # optional\n",
    "        \"database\": \"FIRST_DB\",  # optional\n",
    "        \"schema\": \"PUBLIC\",  # optional\n",
    "    } \n",
    "    \n",
    "    session = Session.builder.configs(connection_parameters).create()\n",
    "    session.sql_simplifier_enabled = True\n",
    "    \n",
    "    # Read dataset\n",
    "    df_train, df_test = session.table(dataset).drop('ROW').random_split(weights=[0.9, 0.1], seed=0)\n",
    "    features = df_train.columns\n",
    "    features.remove(target)\n",
    "    \n",
    "    # generating feature names\n",
    "    data_schema = session.sql(f\"DESCRIBE TABLE {dataset}\").collect()\n",
    "    categorical_types = ['VARCHAR','CHAR','STRING','TEXT','BOOL']\n",
    "    categorical_features = []\n",
    "    for row in data_schema:\n",
    "        for typ in categorical_types:\n",
    "            if typ in row['type'] and row['name']!=target:\n",
    "                categorical_features.append(row['name'])\n",
    "                break\n",
    "    numerical_features = list(set(features) - set(categorical_features))\n",
    "    categorical_features_oe = list(map(lambda a: a+'_OE', categorical_features))\n",
    "    \n",
    "    \n",
    "    # Define a pipeline that does the preprocessing and training of \n",
    "    # dynamically generate list of selected algorithms for imports\n",
    "    for algorithm in algos:\n",
    "        algorithm = algorithm.rsplit('.', 1)\n",
    "        module = importlib.import_module(algorithm[0])\n",
    "        attr = getattr(module, algorithm[1])\n",
    "        pipe = Pipeline(steps=[\n",
    "                  (\"ord\", OrdinalEncoder(input_cols=categorical_features, output_cols=categorical_features_oe)),\n",
    "                  (\"scaler\", MinMaxScaler(input_cols=numerical_features, output_cols=numerical_features)),\n",
    "                  (\"algorithm\", attr(input_cols=categorical_features_oe+numerical_features\n",
    "                                              , label_cols=[target]\n",
    "                                              , output_cols=['PREDICTION']))\n",
    "                 ]\n",
    "               )\n",
    "         \n",
    "        # Fit the pipeline\n",
    "        xgb_model = pipe.fit(df_train)\n",
    "         \n",
    "        # Test the model\n",
    "        df_test_pred = xgb_model.predict(df_test)\n",
    "        \n",
    "        # metrices\n",
    "        mse = mean_squared_error(df=df_test_pred, y_true_col_names=target, y_pred_col_names=\"PREDICTION\")\n",
    "        mae = mean_absolute_error(df=df_test_pred, y_true_col_names=target, y_pred_col_names=\"PREDICTION\")\n",
    "        r2 = r2_score(df=df_test_pred, y_true_col_name=target, y_pred_col_name=\"PREDICTION\")\n",
    "        print(f'MSE: {mse}')\n",
    "        print(f'MAE: {mae}')\n",
    "        print(f'R2: {r2}')\n",
    "    return df_test_pred"
   ]
  },
  {
   "cell_type": "code",
   "execution_count": 47,
   "id": "f0f11cbf",
   "metadata": {},
   "outputs": [
    {
     "name": "stderr",
     "output_type": "stream",
     "text": [
      "The version of package 'snowflake-snowpark-python' in the local environment is 1.17.0, which does not fit the criteria for the requirement 'snowflake-snowpark-python'. Your UDF might not work when the package version is different between the server and your local environment.\n",
      "The version of package 'scikit-learn' in the local environment is 1.3.2, which does not fit the criteria for the requirement 'scikit-learn==1.3.0'. Your UDF might not work when the package version is different between the server and your local environment.\n",
      "/packages/Python-3.9-Snowpark/5fc8e328-978d-48c7-b3ec-89dee2264cf3/3.9/sklearn/base.py:348: InconsistentVersionWarning: Trying to unpickle estimator DecisionTreeRegressor from version 1.3.0 when using version 1.3.2. This might lead to breaking code or invalid results. Use at your own risk. For more info please refer to:\n",
      "https://scikit-learn.org/stable/model_persistence.html#security-maintainability-limitations\n",
      "  warnings.warn(\n",
      "/packages/Python-3.9-Snowpark/5fc8e328-978d-48c7-b3ec-89dee2264cf3/3.9/sklearn/base.py:348: InconsistentVersionWarning: Trying to unpickle estimator AdaBoostRegressor from version 1.3.0 when using version 1.3.2. This might lead to breaking code or invalid results. Use at your own risk. For more info please refer to:\n",
      "https://scikit-learn.org/stable/model_persistence.html#security-maintainability-limitations\n",
      "  warnings.warn(\n",
      "The version of package 'scikit-learn' in the local environment is 1.3.2, which does not fit the criteria for the requirement 'scikit-learn==1.3.0'. Your UDF might not work when the package version is different between the server and your local environment.\n"
     ]
    },
    {
     "name": "stdout",
     "output_type": "stream",
     "text": [
      "MSE: 0.1727640136965599\n",
      "MAE: 0.31845926309526407\n",
      "R2: 0.26641396693757746\n"
     ]
    }
   ],
   "source": [
    "test = run_exp(os.environ.get('SF_Password'),['snowflake.ml.modeling.ensemble.AdaBoostRegressor'], 'EMPLOYEE', 'LEAVEORNOT')"
   ]
  },
  {
   "cell_type": "code",
   "execution_count": 39,
   "id": "260eb872",
   "metadata": {},
   "outputs": [],
   "source": [
    "algo = 'snowflake.ml.modeling.ensemble.AdaBoostRegressor'"
   ]
  },
  {
   "cell_type": "code",
   "execution_count": 55,
   "id": "fbae02ef",
   "metadata": {},
   "outputs": [
    {
     "name": "stdout",
     "output_type": "stream",
     "text": [
      "---------------------------------------------------------------------------------------------------------------------------------------------------------------------------------------------------------------------------------------------------\n",
      "|\"AGE\"                |\"EXPERIENCEINCURRENTDOMAIN\"  |\"JOININGYEAR\"        |\"PAYMENTTIER\"  |\"EDUCATION_OE\"  |\"CITY_OE\"  |\"GENDER_OE\"  |\"EVERBENCHED_OE\"  |\"EDUCATION\"  |\"CITY\"     |\"GENDER\"  |\"EVERBENCHED\"  |\"LEAVEORNOT\"  |\"PREDICTION\"         |\n",
      "---------------------------------------------------------------------------------------------------------------------------------------------------------------------------------------------------------------------------------------------------\n",
      "|0.0                  |0.0                          |0.6666666666666856   |0.5            |0.0             |1.0        |0.0          |0.0               |Bachelors    |New Delhi  |Female    |No             |1             |0.7052023121387283   |\n",
      "|0.26315789473684204  |0.7142857142857142           |0.5                  |1.0            |0.0             |0.0        |1.0          |1.0               |Bachelors    |Bangalore  |Male      |Yes            |0             |0.14017163874131588  |\n",
      "|0.7894736842105261   |0.2857142857142857           |0.6666666666666856   |1.0            |0.0             |0.0        |1.0          |0.0               |Bachelors    |Bangalore  |Male      |No             |0             |0.14017163874131588  |\n",
      "|0.4736842105263157   |0.2857142857142857           |0.16666666666668561  |0.5            |0.0             |2.0        |0.0          |0.0               |Bachelors    |Pune       |Female    |No             |1             |0.7052023121387283   |\n",
      "|0.1578947368421051   |0.42857142857142855          |0.3333333333333144   |1.0            |0.0             |2.0        |0.0          |0.0               |Bachelors    |Pune       |Female    |No             |0             |0.14017163874131588  |\n",
      "|0.3157894736842104   |0.5714285714285714           |0.3333333333333144   |1.0            |0.0             |0.0        |1.0          |0.0               |Bachelors    |Bangalore  |Male      |No             |0             |0.14017163874131588  |\n",
      "|0.6315789473684208   |0.7142857142857142           |0.8333333333333144   |0.5            |0.0             |1.0        |0.0          |0.0               |Bachelors    |New Delhi  |Female    |No             |0             |0.2961460446247465   |\n",
      "|0.7368421052631577   |0.2857142857142857           |0.16666666666668561  |1.0            |1.0             |1.0        |1.0          |0.0               |Masters      |New Delhi  |Male      |No             |0             |0.3479212253829322   |\n",
      "|0.26315789473684204  |0.7142857142857142           |0.3333333333333144   |1.0            |0.0             |0.0        |1.0          |0.0               |Bachelors    |Bangalore  |Male      |No             |1             |0.14017163874131588  |\n",
      "|0.21052631578947345  |0.5714285714285714           |0.5                  |1.0            |2.0             |1.0        |1.0          |0.0               |PHD          |New Delhi  |Male      |No             |0             |0.3479212253829322   |\n",
      "---------------------------------------------------------------------------------------------------------------------------------------------------------------------------------------------------------------------------------------------------\n",
      "\n",
      "None\n"
     ]
    }
   ],
   "source": [
    "print(test.show())"
   ]
  },
  {
   "cell_type": "code",
   "execution_count": 43,
   "id": "1ee95d2e",
   "metadata": {},
   "outputs": [
    {
     "data": {
      "text/plain": [
       "'AdaBoostRegressor'"
      ]
     },
     "execution_count": 43,
     "metadata": {},
     "output_type": "execute_result"
    }
   ],
   "source": []
  },
  {
   "cell_type": "code",
   "execution_count": null,
   "id": "b0064db9",
   "metadata": {},
   "outputs": [],
   "source": []
  }
 ],
 "metadata": {
  "kernelspec": {
   "display_name": "Python 3",
   "language": "python",
   "name": "python3"
  },
  "language_info": {
   "codemirror_mode": {
    "name": "ipython",
    "version": 3
   },
   "file_extension": ".py",
   "mimetype": "text/x-python",
   "name": "python",
   "nbconvert_exporter": "python",
   "pygments_lexer": "ipython3",
   "version": "3.9.18"
  }
 },
 "nbformat": 4,
 "nbformat_minor": 5
}
