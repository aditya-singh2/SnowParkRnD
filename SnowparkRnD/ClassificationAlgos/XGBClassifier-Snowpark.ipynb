{
 "cells": [
  {
   "cell_type": "code",
   "execution_count": 1,
   "id": "3fb33bf4",
   "metadata": {},
   "outputs": [],
   "source": [
    "def run_exp():    \n",
    "    import os\n",
    "    from snowflake.snowpark import Session\n",
    "    from snowflake.ml.modeling.pipeline import Pipeline\n",
    "    from snowflake.ml.modeling.preprocessing import MinMaxScaler, OrdinalEncoder\n",
    "    from snowflake.ml.modeling.metrics import mean_squared_error, mean_absolute_error, r2_score\n",
    "    from snowflake.ml.modeling.xgboost import XGBClassifier\n",
    "    from snowflake.snowpark import Session, FileOperation\n",
    "\n",
    "    connection_parameters = {\n",
    "        \"account\": \"ug94937.us-east4.gcp\",\n",
    "        \"user\": \"ADITYASINGH\",\n",
    "        \"password\": os.environ.get('SF_Password'),\n",
    "        \"role\": \"ADITYASINGH\",  # optional\n",
    "        \"warehouse\": \"FOSFOR_INSIGHT_WH\",  # optional\n",
    "    #     \"authenticator\": \"externalbrowser\", # optional\n",
    "        \"database\": \"FIRST_DB\",  # optional\n",
    "        \"schema\": \"PUBLIC\",  # optional\n",
    "    } \n",
    "    \n",
    "    session = Session.builder.configs(connection_parameters).create()\n",
    "    session.sql_simplifier_enabled = True\n",
    "    \n",
    "    "
   ]
  },
  {
   "cell_type": "code",
   "execution_count": 13,
   "id": "6496c1cc",
   "metadata": {},
   "outputs": [],
   "source": [
    "# data = session.table('EMPLOYEE')\n",
    "df_train, df_test = session.table('EMPLOYEE').drop('ROW').random_split(weights=[0.9, 0.1], seed=0)"
   ]
  },
  {
   "cell_type": "code",
   "execution_count": 15,
   "id": "1c35e0d1",
   "metadata": {},
   "outputs": [
    {
     "name": "stdout",
     "output_type": "stream",
     "text": [
      "-------------------------------------------------------------------------------------------------------------------------------------------\n",
      "|\"EDUCATION\"  |\"JOININGYEAR\"  |\"CITY\"     |\"PAYMENTTIER\"  |\"AGE\"  |\"GENDER\"  |\"EVERBENCHED\"  |\"EXPERIENCEINCURRENTDOMAIN\"  |\"LEAVEORNOT\"  |\n",
      "-------------------------------------------------------------------------------------------------------------------------------------------\n",
      "|Bachelors    |2017           |Bangalore  |3              |34     |Male      |No             |0                            |0             |\n",
      "|Bachelors    |2013           |Pune       |1              |28     |Female    |No             |3                            |1             |\n",
      "|Bachelors    |2014           |New Delhi  |3              |38     |Female    |No             |2                            |0             |\n",
      "|Masters      |2016           |Bangalore  |3              |27     |Male      |No             |5                            |1             |\n",
      "|Masters      |2017           |Pune       |3              |24     |Male      |Yes            |2                            |1             |\n",
      "|Bachelors    |2016           |Bangalore  |3              |22     |Male      |No             |0                            |0             |\n",
      "|Bachelors    |2015           |New Delhi  |3              |38     |Male      |No             |0                            |0             |\n",
      "|Bachelors    |2016           |Bangalore  |3              |34     |Female    |No             |2                            |1             |\n",
      "|Bachelors    |2016           |Pune       |3              |23     |Male      |No             |1                            |0             |\n",
      "|Masters      |2017           |New Delhi  |2              |37     |Male      |No             |2                            |0             |\n",
      "-------------------------------------------------------------------------------------------------------------------------------------------\n",
      "\n"
     ]
    }
   ],
   "source": [
    "df_train.show()"
   ]
  },
  {
   "cell_type": "code",
   "execution_count": 25,
   "id": "70261a25",
   "metadata": {},
   "outputs": [
    {
     "name": "stdout",
     "output_type": "stream",
     "text": [
      "['EDUCATION', 'JOININGYEAR', 'CITY', 'PAYMENTTIER', 'AGE', 'GENDER', 'EVERBENCHED', 'EXPERIENCEINCURRENTDOMAIN']\n"
     ]
    }
   ],
   "source": [
    "cols = df_train.columns\n",
    "cols.remove('LEAVEORNOT')\n",
    "print(cols)"
   ]
  },
  {
   "cell_type": "code",
   "execution_count": 26,
   "id": "0ba4f02d",
   "metadata": {},
   "outputs": [],
   "source": [
    "data_schema = session.sql(\"DESCRIBE TABLE EMPLOYEE\").collect()"
   ]
  },
  {
   "cell_type": "code",
   "execution_count": 27,
   "id": "86eedb59",
   "metadata": {},
   "outputs": [],
   "source": [
    "categorical_types = ['VARCHAR','CHAR','STRING','TEXT','BOOL']\n",
    "categorical_columns = []\n",
    "for row in data_schema:\n",
    "    for typ in categorical_types:\n",
    "        if typ in row['type'] and row['name']!='LEAVEORNOT':\n",
    "            categorical_columns.append(row['name'])\n",
    "            break"
   ]
  },
  {
   "cell_type": "code",
   "execution_count": 28,
   "id": "9769588c",
   "metadata": {},
   "outputs": [],
   "source": [
    "numerical_columns = list(set(cols) - set(categorical_columns))"
   ]
  },
  {
   "cell_type": "code",
   "execution_count": 29,
   "id": "48838c83",
   "metadata": {},
   "outputs": [
    {
     "name": "stdout",
     "output_type": "stream",
     "text": [
      "['AGE', 'EXPERIENCEINCURRENTDOMAIN', 'JOININGYEAR', 'PAYMENTTIER']\n",
      "['EDUCATION', 'CITY', 'GENDER', 'EVERBENCHED']\n"
     ]
    }
   ],
   "source": [
    "print(numerical_columns)\n",
    "print(categorical_columns)"
   ]
  },
  {
   "cell_type": "code",
   "execution_count": 30,
   "id": "10da7087",
   "metadata": {},
   "outputs": [],
   "source": [
    "categorical_columns_oe = list(map(lambda a: a+'_OE', categorical_columns))"
   ]
  },
  {
   "cell_type": "code",
   "execution_count": 31,
   "id": "1494250d",
   "metadata": {},
   "outputs": [
    {
     "name": "stdout",
     "output_type": "stream",
     "text": [
      "['EDUCATION_OE', 'CITY_OE', 'GENDER_OE', 'EVERBENCHED_OE']\n",
      "['EDUCATION', 'CITY', 'GENDER', 'EVERBENCHED']\n"
     ]
    }
   ],
   "source": [
    "print(categorical_columns_oe)\n",
    "print(categorical_columns)"
   ]
  },
  {
   "cell_type": "code",
   "execution_count": 33,
   "id": "8ec24b69",
   "metadata": {},
   "outputs": [
    {
     "name": "stdout",
     "output_type": "stream",
     "text": [
      "MSE: 0.1475054229934924\n",
      "MAE: 0.147505\n",
      "R2: 0.3736663336668855\n"
     ]
    }
   ],
   "source": [
    "# Define a pipeline that does the preprocessing and training of \n",
    "# a XGBRegressor model\n",
    "pipe = Pipeline(steps=[\n",
    "          (\"ord\", OrdinalEncoder(input_cols=categorical_columns, output_cols=categorical_columns_oe)),\n",
    "          (\"scaler\", MinMaxScaler(input_cols=numerical_columns, output_cols=numerical_columns)),\n",
    "          (\"regressor\", XGBClassifier(input_cols=categorical_columns_oe+numerical_columns\n",
    "                                      , label_cols=[\"LEAVEORNOT\"]\n",
    "                                      , output_cols=['PREDICTION'], n_jobs=-1))\n",
    "         ]\n",
    "       )\n",
    " \n",
    "# Fit the pipeline\n",
    "xgb_model = pipe.fit(df_train)\n",
    " \n",
    "# Test the model\n",
    "df_test_pred = xgb_model.predict(df_test)\n",
    "mse = mean_squared_error(df=df_test_pred, y_true_col_names=\"LEAVEORNOT\", y_pred_col_names=\"PREDICTION\")\n",
    "mae = mean_absolute_error(df=df_test_pred, y_true_col_names=\"LEAVEORNOT\", y_pred_col_names=\"PREDICTION\")\n",
    "r2 = r2_score(df=df_test_pred, y_true_col_name=\"LEAVEORNOT\", y_pred_col_name=\"PREDICTION\")\n",
    "print(f'MSE: {mse}')\n",
    "print(f'MAE: {mae}')\n",
    "print(f'R2: {r2}')"
   ]
  },
  {
   "cell_type": "code",
   "execution_count": null,
   "id": "f0f11cbf",
   "metadata": {},
   "outputs": [],
   "source": []
  }
 ],
 "metadata": {
  "kernelspec": {
   "display_name": "Python 3",
   "language": "python",
   "name": "python3"
  },
  "language_info": {
   "codemirror_mode": {
    "name": "ipython",
    "version": 3
   },
   "file_extension": ".py",
   "mimetype": "text/x-python",
   "name": "python",
   "nbconvert_exporter": "python",
   "pygments_lexer": "ipython3",
   "version": "3.9.18"
  }
 },
 "nbformat": 4,
 "nbformat_minor": 5
}
