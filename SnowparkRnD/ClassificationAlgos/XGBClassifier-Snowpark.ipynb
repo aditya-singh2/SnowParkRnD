{
 "cells": [
  {
   "cell_type": "code",
   "execution_count": 1,
   "id": "3fb33bf4",
   "metadata": {},
   "outputs": [],
   "source": [
    "def run_exp():    \n",
    "    import os\n",
    "    from snowflake.snowpark import Session\n",
    "    from snowflake.ml.modeling.pipeline import Pipeline\n",
    "    from snowflake.ml.modeling.preprocessing import MinMaxScaler, OrdinalEncoder\n",
    "    from snowflake.ml.modeling.metrics import mean_squared_error, mean_absolute_error, r2_score\n",
    "    from snowflake.ml.modeling.xgboost import XGBClassifier\n",
    "    from snowflake.snowpark import Session, FileOperation\n",
    "\n",
    "    connection_parameters = {\n",
    "        \"account\": \"ug94937.us-east4.gcp\",\n",
    "        \"user\": \"ADITYASINGH\",\n",
    "        \"password\": os.environ.get('SF_Password'),\n",
    "        \"role\": \"ADITYASINGH\",  # optional\n",
    "        \"warehouse\": \"FOSFOR_INSIGHT_WH\",  # optional\n",
    "    #     \"authenticator\": \"externalbrowser\", # optional\n",
    "        \"database\": \"FIRST_DB\",  # optional\n",
    "        \"schema\": \"PUBLIC\",  # optional\n",
    "    } \n",
    "    \n",
    "    session = Session.builder.configs(connection_parameters).create()\n",
    "    session.sql_simplifier_enabled = True\n",
    "    \n",
    "    #Read dataset\n",
    "    df_train, df_test = session.table('EMPLOYEE').drop('ROW').random_split(weights=[0.9, 0.1], seed=0)\n",
    "    features = df_train.columns\n",
    "    features.remove('LEAVEORNOT')\n",
    "    \n",
    "    #generating feature names\n",
    "    data_schema = session.sql(\"DESCRIBE TABLE EMPLOYEE\").collect()\n",
    "    categorical_types = ['VARCHAR','CHAR','STRING','TEXT','BOOL']\n",
    "    categorical_features = []\n",
    "    for row in data_schema:\n",
    "        for typ in categorical_types:\n",
    "            if typ in row['type'] and row['name']!='LEAVEORNOT':\n",
    "                categorical_features.append(row['name'])\n",
    "                break\n",
    "    numerical_features = list(set(features) - set(categorical_features))\n",
    "    categorical_columns_oe = list(map(lambda a: a+'_OE', categorical_columns))\n",
    "    \n",
    "    # Define a pipeline that does the preprocessing and training of \n",
    "    # a XGBRegressor model\n",
    "    pipe = Pipeline(steps=[\n",
    "              (\"ord\", OrdinalEncoder(input_cols=categorical_columns, output_cols=categorical_columns_oe)),\n",
    "              (\"scaler\", MinMaxScaler(input_cols=numerical_columns, output_cols=numerical_columns)),\n",
    "              (\"regressor\", XGBClassifier(input_cols=categorical_columns_oe+numerical_columns\n",
    "                                          , label_cols=[\"LEAVEORNOT\"]\n",
    "                                          , output_cols=['PREDICTION'], n_jobs=-1))\n",
    "             ]\n",
    "           )\n",
    "     \n",
    "    # Fit the pipeline\n",
    "    xgb_model = pipe.fit(df_train)\n",
    "     \n",
    "    # Test the model\n",
    "    df_test_pred = xgb_model.predict(df_test)\n",
    "    \n",
    "    "
   ]
  },
  {
   "cell_type": "code",
   "execution_count": 33,
   "id": "a7be8976",
   "metadata": {},
   "outputs": [
    {
     "name": "stdout",
     "output_type": "stream",
     "text": [
      "MSE: 0.1475054229934924\n",
      "MAE: 0.147505\n",
      "R2: 0.3736663336668855\n"
     ]
    }
   ],
   "source": [
    "# Define a pipeline that does the preprocessing and training of \n",
    "# a XGBRegressor model\n",
    "pipe = Pipeline(steps=[\n",
    "          (\"ord\", OrdinalEncoder(input_cols=categorical_columns, output_cols=categorical_columns_oe)),\n",
    "          (\"scaler\", MinMaxScaler(input_cols=numerical_columns, output_cols=numerical_columns)),\n",
    "          (\"regressor\", XGBClassifier(input_cols=categorical_columns_oe+numerical_columns\n",
    "                                      , label_cols=[\"LEAVEORNOT\"]\n",
    "                                      , output_cols=['PREDICTION'], n_jobs=-1))\n",
    "         ]\n",
    "       )\n",
    " \n",
    "# Fit the pipeline\n",
    "xgb_model = pipe.fit(df_train)\n",
    " \n",
    "# Test the model\n",
    "df_test_pred = xgb_model.predict(df_test)\n",
    "mse = mean_squared_error(df=df_test_pred, y_true_col_names=\"LEAVEORNOT\", y_pred_col_names=\"PREDICTION\")\n",
    "mae = mean_absolute_error(df=df_test_pred, y_true_col_names=\"LEAVEORNOT\", y_pred_col_names=\"PREDICTION\")\n",
    "r2 = r2_score(df=df_test_pred, y_true_col_name=\"LEAVEORNOT\", y_pred_col_name=\"PREDICTION\")\n",
    "print(f'MSE: {mse}')\n",
    "print(f'MAE: {mae}')\n",
    "print(f'R2: {r2}')"
   ]
  },
  {
   "cell_type": "code",
   "execution_count": null,
   "id": "f0f11cbf",
   "metadata": {},
   "outputs": [],
   "source": []
  }
 ],
 "metadata": {
  "kernelspec": {
   "display_name": "Python 3",
   "language": "python",
   "name": "python3"
  },
  "language_info": {
   "codemirror_mode": {
    "name": "ipython",
    "version": 3
   },
   "file_extension": ".py",
   "mimetype": "text/x-python",
   "name": "python",
   "nbconvert_exporter": "python",
   "pygments_lexer": "ipython3",
   "version": "3.9.18"
  }
 },
 "nbformat": 4,
 "nbformat_minor": 5
}
