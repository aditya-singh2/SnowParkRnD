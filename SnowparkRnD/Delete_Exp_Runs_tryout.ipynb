{
 "cells": [
  {
   "cell_type": "code",
   "execution_count": 3,
   "id": "f01f3c6a",
   "metadata": {},
   "outputs": [
    {
     "name": "stdout",
     "output_type": "stream",
     "text": [
      "CPU times: user 18 µs, sys: 8 µs, total: 26 µs\n",
      "Wall time: 31 µs\n"
     ]
    }
   ],
   "source": [
    "%%time\n",
    "from fosforio.manager import get_conn_details_from_ds_name\n",
    "from snowflake.snowpark.session import Session\n",
    "from snowflake.ml.registry import Registry\n",
    "import pandas as pd, re, json"
   ]
  },
  {
   "cell_type": "code",
   "execution_count": 2,
   "id": "decd56c3",
   "metadata": {},
   "outputs": [],
   "source": [
    "def get_session(dataset, project_id):\n",
    "    \"\"\"\n",
    "    Method creates snowflake session object.\n",
    "    :return:\n",
    "    \"\"\"\n",
    "    try:\n",
    "        conn = get_conn_details_from_ds_name(dataset, project_id)\n",
    "        region=conn[\"params\"][\"READER\"][\"region\"] if conn[\"params\"][\"READER\"][\"cloudPlatform\"] is None \\\n",
    "                    else conn[\"params\"][\"READER\"][\"region\"]+\".\"+conn[\"params\"][\"READER\"][\"cloudPlatform\"]\n",
    "        account = conn['params']['READER']['accountId'] if region is None \\\n",
    "                    else conn['params']['READER']['accountId']+\".\"+region\n",
    "        CONNECTION_PARAMETERS = {\n",
    "            \"account\": account,\n",
    "            \"user\":conn['params']['READER']['user'],\n",
    "            \"password\": conn['params']['READER']['password'],\n",
    "            \"role\": conn['params']['READER']['role'],\n",
    "            \"database\": conn['params']['READER']['database'],\n",
    "            \"warehouse\": conn['params']['READER']['wareHouse'],\n",
    "            \"schema\": conn['params']['READER']['schema']\n",
    "        }\n",
    "        return Session.builder.configs(CONNECTION_PARAMETERS).create()\n",
    "    except Exception as ex:\n",
    "        print(\"Error while creating snowflake session\", ex)\n",
    "        raise ex"
   ]
  },
  {
   "cell_type": "code",
   "execution_count": 4,
   "id": "f59a7305",
   "metadata": {},
   "outputs": [],
   "source": [
    "session = get_session('DIAMONDS',\"fd0cf79c-8118-43a7-8f0b-059e8f78227a\")"
   ]
  },
  {
   "cell_type": "code",
   "execution_count": 5,
   "id": "e9d8c6dd",
   "metadata": {},
   "outputs": [],
   "source": [
    "import requests\n",
    "exp_id=\"8baa2fcf-6e7f-4bca-b2ae-776011ec4363\"#\"600b9f90-f431-4590-83c7-f38fe138dedc\"\n",
    "project_id=\"68bce134-6d7a-4e24-9591-86266438acf9\"#\"fd0cf79c-8118-43a7-8f0b-059e8f78227a\"\n",
    "executions_url = f\"http://monitor-backend-service/monitor/api/v4/executions/search?objectId={exp_id}&projectId={project_id}&jobType=EXPERIMENT&profile=DETAILED\"\n",
    "\n",
    "temp_head = {\n",
    "    \"X-Auth-Userid\": \"aditya1.singh2@fosfor.com\",\n",
    "    \"X-Auth-Username\": \"aditya1.singh2@fosfor.com\",\n",
    "    \"X-Auth-Email\": \"aditya1.singh2@fosfor.com\",\n",
    "    \"X-Project-Id\": \"68bce134-6d7a-4e24-9591-86266438acf9\"\n",
    "}"
   ]
  },
  {
   "cell_type": "code",
   "execution_count": 6,
   "id": "96d655cf",
   "metadata": {},
   "outputs": [
    {
     "name": "stdout",
     "output_type": "stream",
     "text": [
      "http://monitor-backend-service/monitor/api/v4/executions/search?objectId=8baa2fcf-6e7f-4bca-b2ae-776011ec4363&projectId=68bce134-6d7a-4e24-9591-86266438acf9&jobType=EXPERIMENT&profile=DETAILED\n"
     ]
    }
   ],
   "source": [
    "print(executions_url)"
   ]
  },
  {
   "cell_type": "code",
   "execution_count": 7,
   "id": "6d0ee0db",
   "metadata": {},
   "outputs": [
    {
     "name": "stdout",
     "output_type": "stream",
     "text": [
      "{'totalRecordCount': 3, 'data': [{'jobinstanceId': 110212, 'objectId': '8baa2fcf-6e7f-4bca-b2ae-776011ec4363', 'projectId': '68bce134-6d7a-4e24-9591-86266438acf9', 'projectName': None, 'jobObjectName': 'New_Experiment_04', 'jobScheduleId': None, 'jobInstanceInputParameter': '{\"input_params\":\"{\\\\\"currentTime\\\\\":\\\\\"2024-07-11T05:24:29Z\\\\\",\\\\\"objectName\\\\\":\\\\\"New_Experiment_04\\\\\",\\\\\"lastRunDate\\\\\":\\\\\"\\\\\",\\\\\"instanceId\\\\\":\\\\\"110212\\\\\",\\\\\"lastSuccessfulRunDate\\\\\":\\\\\"\\\\\",\\\\\"userId\\\\\":\\\\\"aditya1.singh2@fosfor.com\\\\\"}\"}', 'jobType': 'EXPERIMENT', 'jobStatus': 'FAILED', 'finalStatus': 'FAILED', 'jobCreatedby': 'aditya1.singh2@fosfor.com', 'jobCreatedts': '2024-07-11T05:24:28.923+00:00', 'jobUpdatedby': 'aditya1.singh2@fosfor.com', 'jobUpdatedts': '2024-07-11T05:28:33.381+00:00', 'applicationId': '', 'executionId': None, 'runID': '110212', 'versionNumber': None, 'runEngine': 'SNOWFLAKE', 'attemptId': 110316, 'workflowId': None, 'jobConfig': '{\"snowflake_query\": \"CALL RUN_EXPERIMENT({\\'monitor_run_id\\': \\'MONITORRUNID\\', \\'project_id\\': \\'68bce134-6d7a-4e24-9591-86266438acf9\\', \\'experiment_id\\': \\'8baa2fcf-6e7f-4bca-b2ae-776011ec4363\\', \\'experiment_name\\': \\'New_Experiment_04\\', \\'stored_procedure\\': \\'run_experiment\\', \\'algorithm_category\\': \\'Snowparkml\\', \\'algorithm_type\\': \\'Classification\\', \\'dataset_name\\': \\'EMPLOYEE\\', \\'target_column\\': \\'LEAVEORNOT\\', \\'algorithms\\': [{\\'algorithm_name\\': \\'snowflake.ml.modeling.xgboost.XGBClassifier\\'}]});\"}'}, {'jobinstanceId': 110213, 'objectId': '8baa2fcf-6e7f-4bca-b2ae-776011ec4363', 'projectId': '68bce134-6d7a-4e24-9591-86266438acf9', 'projectName': None, 'jobObjectName': 'New_Experiment_04', 'jobScheduleId': None, 'jobInstanceInputParameter': '{\"input_params\":\"{\\\\\"currentTime\\\\\":\\\\\"2024-07-11T05:24:29Z\\\\\",\\\\\"objectName\\\\\":\\\\\"New_Experiment_04\\\\\",\\\\\"lastRunDate\\\\\":\\\\\"\\\\\",\\\\\"instanceId\\\\\":\\\\\"110213\\\\\",\\\\\"lastSuccessfulRunDate\\\\\":\\\\\"\\\\\",\\\\\"userId\\\\\":\\\\\"aditya1.singh2@fosfor.com\\\\\"}\"}', 'jobType': 'EXPERIMENT', 'jobStatus': 'FAILED', 'finalStatus': 'FAILED', 'jobCreatedby': 'aditya1.singh2@fosfor.com', 'jobCreatedts': '2024-07-11T05:24:29.074+00:00', 'jobUpdatedby': 'aditya1.singh2@fosfor.com', 'jobUpdatedts': '2024-07-11T05:28:34.100+00:00', 'applicationId': '', 'executionId': None, 'runID': '110213', 'versionNumber': None, 'runEngine': 'SNOWFLAKE', 'attemptId': 110317, 'workflowId': None, 'jobConfig': '{\"snowflake_query\": \"CALL RUN_EXPERIMENT({\\'monitor_run_id\\': \\'MONITORRUNID\\', \\'project_id\\': \\'68bce134-6d7a-4e24-9591-86266438acf9\\', \\'experiment_id\\': \\'8baa2fcf-6e7f-4bca-b2ae-776011ec4363\\', \\'experiment_name\\': \\'New_Experiment_04\\', \\'stored_procedure\\': \\'run_experiment\\', \\'algorithm_category\\': \\'Snowparkml\\', \\'algorithm_type\\': \\'Classification\\', \\'dataset_name\\': \\'EMPLOYEE\\', \\'target_column\\': \\'LEAVEORNOT\\', \\'algorithms\\': [{\\'algorithm_name\\': \\'snowflake.ml.modeling.xgboost.XGBClassifier\\'}]});\"}'}, {'jobinstanceId': 110214, 'objectId': '8baa2fcf-6e7f-4bca-b2ae-776011ec4363', 'projectId': '68bce134-6d7a-4e24-9591-86266438acf9', 'projectName': None, 'jobObjectName': 'New_Experiment_04', 'jobScheduleId': None, 'jobInstanceInputParameter': '{\"input_params\":\"{\\\\\"currentTime\\\\\":\\\\\"2024-07-11T05:24:29Z\\\\\",\\\\\"objectName\\\\\":\\\\\"New_Experiment_04\\\\\",\\\\\"lastRunDate\\\\\":\\\\\"\\\\\",\\\\\"instanceId\\\\\":\\\\\"110214\\\\\",\\\\\"lastSuccessfulRunDate\\\\\":\\\\\"\\\\\",\\\\\"userId\\\\\":\\\\\"aditya1.singh2@fosfor.com\\\\\"}\"}', 'jobType': 'EXPERIMENT', 'jobStatus': 'SUCCESSFUL', 'finalStatus': 'SUCCESSFUL', 'jobCreatedby': 'aditya1.singh2@fosfor.com', 'jobCreatedts': '2024-07-11T05:24:29.209+00:00', 'jobUpdatedby': 'aditya1.singh2@fosfor.com', 'jobUpdatedts': '2024-07-11T05:28:38.470+00:00', 'applicationId': '01b59724-0000-72d8-0000-576d074e081a', 'executionId': None, 'runID': '110214', 'versionNumber': None, 'runEngine': 'SNOWFLAKE', 'attemptId': 110318, 'workflowId': None, 'jobConfig': '{\"snowflake_query\": \"CALL RUN_EXPERIMENT({\\'monitor_run_id\\': \\'MONITORRUNID\\', \\'project_id\\': \\'68bce134-6d7a-4e24-9591-86266438acf9\\', \\'experiment_id\\': \\'8baa2fcf-6e7f-4bca-b2ae-776011ec4363\\', \\'experiment_name\\': \\'New_Experiment_04\\', \\'stored_procedure\\': \\'run_experiment\\', \\'algorithm_category\\': \\'Snowparkml\\', \\'algorithm_type\\': \\'Classification\\', \\'dataset_name\\': \\'EMPLOYEE\\', \\'target_column\\': \\'LEAVEORNOT\\', \\'algorithms\\': [{\\'algorithm_name\\': \\'snowflake.ml.modeling.xgboost.XGBClassifier\\'}]});\"}'}], 'jobTypesList': None, 'executedByList': None, 'projectList': None}\n"
     ]
    }
   ],
   "source": [
    "response = requests.get(executions_url, headers=temp_head)\n",
    "print(response.json())\n",
    "res = response.json()"
   ]
  },
  {
   "cell_type": "code",
   "execution_count": 8,
   "id": "3d87755e",
   "metadata": {},
   "outputs": [],
   "source": [
    "_res_format = {\n",
    "            \"run_id\": \"\",\n",
    "            \"algorithm_used\": \"\",\n",
    "            \"run_status\": \"\",\n",
    "        }\n",
    "monitor_resp = []"
   ]
  },
  {
   "cell_type": "code",
   "execution_count": 13,
   "id": "585fcf79",
   "metadata": {},
   "outputs": [
    {
     "name": "stdout",
     "output_type": "stream",
     "text": [
      "110212\n",
      "{'run_id': '\"110212\"', 'algorithm_used': 'XGBClassifier', 'run_status': 'FAILED'}\n",
      "110213\n",
      "{'run_id': '\"110213\"', 'algorithm_used': 'XGBClassifier', 'run_status': 'FAILED'}\n",
      "110214\n",
      "{'run_id': '\"110214\"', 'algorithm_used': 'XGBClassifier', 'run_status': 'SUCCESSFUL'}\n",
      "[{'run_id': '\"110214\"', 'algorithm_used': 'XGBClassifier', 'run_status': 'SUCCESSFUL'}, {'run_id': '\"110214\"', 'algorithm_used': 'XGBClassifier', 'run_status': 'SUCCESSFUL'}, {'run_id': '\"110214\"', 'algorithm_used': 'XGBClassifier', 'run_status': 'SUCCESSFUL'}, {'run_id': '\"110214\"', 'algorithm_used': 'XGBClassifier', 'run_status': 'SUCCESSFUL'}, {'run_id': '\"110214\"', 'algorithm_used': 'XGBClassifier', 'run_status': 'SUCCESSFUL'}, {'run_id': '\"110214\"', 'algorithm_used': 'XGBClassifier', 'run_status': 'SUCCESSFUL'}, {'run_id': '\"110214\"', 'algorithm_used': 'XGBClassifier', 'run_status': 'SUCCESSFUL'}, {'run_id': '\"110214\"', 'algorithm_used': 'XGBClassifier', 'run_status': 'SUCCESSFUL'}, {'run_id': '\"110214\"', 'algorithm_used': 'XGBClassifier', 'run_status': 'SUCCESSFUL'}, {'run_id': '\"110214\"', 'algorithm_used': 'XGBClassifier', 'run_status': 'SUCCESSFUL'}, {'run_id': '\"110214\"', 'algorithm_used': 'XGBClassifier', 'run_status': 'SUCCESSFUL'}, {'run_id': '\"110214\"', 'algorithm_used': 'XGBClassifier', 'run_status': 'SUCCESSFUL'}]\n"
     ]
    }
   ],
   "source": [
    "for data in res.get('data'):\n",
    "    jobConfig=data.get('jobConfig')\n",
    "    pattern = r\"snowflake\\.ml[^']*\"\n",
    "    match = re.search(pattern, jobConfig)\n",
    "    if match:\n",
    "        algorithm_used = match.group().rsplit('.', 1)\n",
    "    print(data.get(\"runID\"))\n",
    "    _res_format.update({\"run_id\": f'\"{data.get(\"runID\")}\"',\n",
    "                        \"run_status\": data.get('jobStatus'),\n",
    "                        \"algorithm_used\": algorithm_used[1] if match else None})\n",
    "    res_data = _res_format\n",
    "    print(res_data)\n",
    "    monitor_resp.append(res_data)\n",
    "print(monitor_resp)"
   ]
  },
  {
   "cell_type": "code",
   "execution_count": 10,
   "id": "f913fa25",
   "metadata": {},
   "outputs": [
    {
     "name": "stdout",
     "output_type": "stream",
     "text": [
      "[{'run_id': '\"110214\"', 'algorithm_used': 'XGBClassifier', 'run_status': 'SUCCESSFUL'}, {'run_id': '\"110214\"', 'algorithm_used': 'XGBClassifier', 'run_status': 'SUCCESSFUL'}, {'run_id': '\"110214\"', 'algorithm_used': 'XGBClassifier', 'run_status': 'SUCCESSFUL'}]\n"
     ]
    }
   ],
   "source": [
    "print(monitor_resp)"
   ]
  },
  {
   "cell_type": "code",
   "execution_count": null,
   "id": "81c665ff",
   "metadata": {},
   "outputs": [],
   "source": []
  },
  {
   "cell_type": "code",
   "execution_count": null,
   "id": "ad3ca60e",
   "metadata": {},
   "outputs": [],
   "source": [
    "run_id = 109797\n",
    "delete_run_url = f\"http://monitor-backend-service/monitor/monitor/api/v1/delete/{run_id}\""
   ]
  },
  {
   "cell_type": "code",
   "execution_count": null,
   "id": "8b50c866",
   "metadata": {},
   "outputs": [],
   "source": [
    "response = requests.delete(delete_run_url, headers=temp_head)\n",
    "print(response.text)"
   ]
  },
  {
   "cell_type": "code",
   "execution_count": null,
   "id": "de5c4859",
   "metadata": {},
   "outputs": [],
   "source": [
    "delete = sesseion.sql(\"DROP \")"
   ]
  }
 ],
 "metadata": {
  "kernelspec": {
   "display_name": "Python 3",
   "language": "python",
   "name": "python3"
  },
  "language_info": {
   "codemirror_mode": {
    "name": "ipython",
    "version": 3
   },
   "file_extension": ".py",
   "mimetype": "text/x-python",
   "name": "python",
   "nbconvert_exporter": "python",
   "pygments_lexer": "ipython3",
   "version": "3.9.18"
  }
 },
 "nbformat": 4,
 "nbformat_minor": 5
}
