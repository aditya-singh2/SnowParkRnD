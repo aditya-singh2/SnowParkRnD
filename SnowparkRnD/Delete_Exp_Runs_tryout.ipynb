{
 "cells": [
  {
   "cell_type": "code",
   "execution_count": 1,
   "id": "ff010754",
   "metadata": {},
   "outputs": [
    {
     "name": "stdout",
     "output_type": "stream",
     "text": [
      "Connection manager service url initialised to http://fdc-project-manager:80/project-manager\n",
      "If you need to update its value then update the variable CONNECTION_MANAGER_BASE_URL in os env.\n",
      "CPU times: user 1.56 s, sys: 750 ms, total: 2.31 s\n",
      "Wall time: 3.95 s\n"
     ]
    }
   ],
   "source": [
    "%%time\n",
    "from fosforio.manager import get_conn_details_from_ds_name\n",
    "from snowflake.snowpark.session import Session\n",
    "from snowflake.ml.registry import Registry\n",
    "import pandas as pd, re, json"
   ]
  },
  {
   "cell_type": "code",
   "execution_count": 2,
   "id": "78e92b95",
   "metadata": {},
   "outputs": [],
   "source": [
    "def get_session(dataset, project_id):\n",
    "    \"\"\"\n",
    "    Method creates snowflake session object.\n",
    "    :return:\n",
    "    \"\"\"\n",
    "    try:\n",
    "        conn = get_conn_details_from_ds_name(dataset, project_id)\n",
    "        region=conn[\"params\"][\"READER\"][\"region\"] if conn[\"params\"][\"READER\"][\"cloudPlatform\"] is None \\\n",
    "                    else conn[\"params\"][\"READER\"][\"region\"]+\".\"+conn[\"params\"][\"READER\"][\"cloudPlatform\"]\n",
    "        account = conn['params']['READER']['accountId'] if region is None \\\n",
    "                    else conn['params']['READER']['accountId']+\".\"+region\n",
    "        CONNECTION_PARAMETERS = {\n",
    "            \"account\": account,\n",
    "            \"user\":conn['params']['READER']['user'],\n",
    "            \"password\": conn['params']['READER']['password'],\n",
    "            \"role\": conn['params']['READER']['role'],\n",
    "            \"database\": conn['params']['READER']['database'],\n",
    "            \"warehouse\": conn['params']['READER']['wareHouse'],\n",
    "            \"schema\": conn['params']['READER']['schema']\n",
    "        }\n",
    "        return Session.builder.configs(CONNECTION_PARAMETERS).create()\n",
    "    except Exception as ex:\n",
    "        print(\"Error while creating snowflake session\", ex)\n",
    "        raise ex"
   ]
  },
  {
   "cell_type": "code",
   "execution_count": 3,
   "id": "32e6f3f1",
   "metadata": {},
   "outputs": [],
   "source": [
    "session = get_session('DIAMONDS',\"fd0cf79c-8118-43a7-8f0b-059e8f78227a\")"
   ]
  },
  {
   "cell_type": "code",
   "execution_count": 4,
   "id": "ab831200",
   "metadata": {},
   "outputs": [],
   "source": [
    "import requests\n",
    "exp_id=\"8baa2fcf-6e7f-4bca-b2ae-776011ec4363\"#\"600b9f90-f431-4590-83c7-f38fe138dedc\"\n",
    "project_id=\"68bce134-6d7a-4e24-9591-86266438acf9\",#\"fd0cf79c-8118-43a7-8f0b-059e8f78227a\"\n",
    "executions_url = f\"http://monitor-backend-service/monitor/api/v4/executions/search?objectId={exp_id}&projectId={project_id}&jobType=EXPERIMENT&profile=DETAILED\"\n",
    "\n",
    "temp_head = {\n",
    "    \"X-Auth-Userid\": \"aditya1.singh2@fosfor.com\",\n",
    "    \"X-Auth-Username\": \"aditya1.singh2@fosfor.com\",\n",
    "    \"X-Auth-Email\": \"aditya1.singh2@fosfor.com\",\n",
    "    \"X-Project-Id\": \"68bce134-6d7a-4e24-9591-86266438acf9\"\n",
    "}"
   ]
  },
  {
   "cell_type": "code",
   "execution_count": null,
   "id": "2bb996df",
   "metadata": {},
   "outputs": [],
   "source": [
    "print(executions_url)"
   ]
  },
  {
   "cell_type": "code",
   "execution_count": null,
   "id": "fd8b84fc",
   "metadata": {},
   "outputs": [],
   "source": [
    "response = requests.get(executions_url, headers=temp_head)\n",
    "print(response.json())\n",
    "res = response.json()"
   ]
  },
  {
   "cell_type": "code",
   "execution_count": null,
   "id": "e55ae3b8",
   "metadata": {},
   "outputs": [],
   "source": [
    "run_id = 109797\n",
    "delete_run_url = f\"http://monitor-backend-service/monitor/monitor/api/v1/delete/{run_id}\""
   ]
  },
  {
   "cell_type": "code",
   "execution_count": null,
   "id": "bb65d12e",
   "metadata": {},
   "outputs": [],
   "source": [
    "response = requests.delete(delete_run_url, headers=temp_head)\n",
    "print(response.text)"
   ]
  },
  {
   "cell_type": "code",
   "execution_count": null,
   "id": "7e211b03",
   "metadata": {},
   "outputs": [],
   "source": []
  }
 ],
 "metadata": {
  "kernelspec": {
   "display_name": "Python 3",
   "language": "python",
   "name": "python3"
  },
  "language_info": {
   "codemirror_mode": {
    "name": "ipython",
    "version": 3
   },
   "file_extension": ".py",
   "mimetype": "text/x-python",
   "name": "python",
   "nbconvert_exporter": "python",
   "pygments_lexer": "ipython3",
   "version": "3.9.18"
  }
 },
 "nbformat": 4,
 "nbformat_minor": 5
}
