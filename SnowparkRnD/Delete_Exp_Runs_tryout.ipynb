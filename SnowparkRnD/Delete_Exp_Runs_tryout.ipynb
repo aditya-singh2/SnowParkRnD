{
 "cells": [
  {
   "cell_type": "code",
   "execution_count": 1,
   "id": "6cca0557",
   "metadata": {},
   "outputs": [
    {
     "name": "stdout",
     "output_type": "stream",
     "text": [
      "Connection manager service url initialised to http://fdc-project-manager:80/project-manager\n",
      "If you need to update its value then update the variable CONNECTION_MANAGER_BASE_URL in os env.\n",
      "CPU times: user 1.41 s, sys: 759 ms, total: 2.17 s\n",
      "Wall time: 8.25 s\n"
     ]
    }
   ],
   "source": [
    "%%time\n",
    "from fosforio.manager import get_conn_details_from_ds_name\n",
    "from snowflake.snowpark.session import Session\n",
    "from snowflake.ml.registry import Registry\n",
    "import pandas as pd, re, json"
   ]
  },
  {
   "cell_type": "code",
   "execution_count": 2,
   "id": "2634b439",
   "metadata": {},
   "outputs": [],
   "source": [
    "def get_session(dataset, project_id):\n",
    "    \"\"\"\n",
    "    Method creates snowflake session object.\n",
    "    :return:\n",
    "    \"\"\"\n",
    "    try:\n",
    "        conn = get_conn_details_from_ds_name(dataset, project_id)\n",
    "        region=conn[\"params\"][\"READER\"][\"region\"] if conn[\"params\"][\"READER\"][\"cloudPlatform\"] is None \\\n",
    "                    else conn[\"params\"][\"READER\"][\"region\"]+\".\"+conn[\"params\"][\"READER\"][\"cloudPlatform\"]\n",
    "        account = conn['params']['READER']['accountId'] if region is None \\\n",
    "                    else conn['params']['READER']['accountId']+\".\"+region\n",
    "        CONNECTION_PARAMETERS = {\n",
    "            \"account\": account,\n",
    "            \"user\":conn['params']['READER']['user'],\n",
    "            \"password\": conn['params']['READER']['password'],\n",
    "            \"role\": conn['params']['READER']['role'],\n",
    "            \"database\": conn['params']['READER']['database'],\n",
    "            \"warehouse\": conn['params']['READER']['wareHouse'],\n",
    "            \"schema\": conn['params']['READER']['schema']\n",
    "        }\n",
    "        return Session.builder.configs(CONNECTION_PARAMETERS).create()\n",
    "    except Exception as ex:\n",
    "        print(\"Error while creating snowflake session\", ex)\n",
    "        raise ex"
   ]
  },
  {
   "cell_type": "code",
   "execution_count": 3,
   "id": "89dfdc64",
   "metadata": {},
   "outputs": [],
   "source": [
    "session = get_session('DIAMONDS',\"fd0cf79c-8118-43a7-8f0b-059e8f78227a\")"
   ]
  },
  {
   "cell_type": "code",
   "execution_count": 4,
   "id": "a3ba8659",
   "metadata": {},
   "outputs": [],
   "source": [
    "import requests\n",
    "exp_id=\"aaaawwwwweeeer\"#\"600b9f90-f431-4590-83c7-f38fe138dedc\"\n",
    "project_id=\"fd0cf79c-8118-43a7-8f0b-059e8f78227a\"\n",
    "executions_url = f\"http://monitor-backend-service/monitor/api/v4/executions/search?objectId={exp_id}&projectId={project_id}&jobType=EXPERIMENT&profile=DETAILED\"\n",
    "\n",
    "temp_head = {\n",
    "    \"X-Auth-Userid\": \"aditya1.singh2@fosfor.com\",\n",
    "    \"X-Auth-Username\": \"aditya1.singh2@fosfor.com\",\n",
    "    \"X-Auth-Email\": \"aditya1.singh2@fosfor.com\",\n",
    "    \"X-Project-Id\": \"68bce134-6d7a-4e24-9591-86266438acf9\"\n",
    "}"
   ]
  },
  {
   "cell_type": "code",
   "execution_count": 5,
   "id": "0afaf2bb",
   "metadata": {},
   "outputs": [
    {
     "name": "stdout",
     "output_type": "stream",
     "text": [
      "{'totalRecordCount': 32, 'data': [{'jobinstanceId': 109574, 'objectId': 'aaaawwwwweeeer', 'projectId': 'fd0cf79c-8118-43a7-8f0b-059e8f78227a', 'projectName': None, 'jobObjectName': 'exp_001', 'jobScheduleId': None, 'jobInstanceInputParameter': '{}', 'jobType': 'EXPERIMENT', 'jobStatus': 'DIDNOTRUN', 'finalStatus': 'DIDNOTRUN', 'jobCreatedby': 'aditya1.singh2@fosfor.com', 'jobCreatedts': '2024-07-09T09:07:50.960+00:00', 'jobUpdatedby': 'aditya1.singh2@fosfor.com', 'jobUpdatedts': '2024-07-09T09:07:50.960+00:00', 'applicationId': '', 'executionId': None, 'runID': '109574', 'versionNumber': None, 'runEngine': 'SNOWFLAKE', 'attemptId': 109678, 'workflowId': None, 'jobConfig': '{\"snowflake_query\": CALL experiment_stored_proc(\\'{\"monitor_run_id\": \"MONITORRUNID\", \"experiment_id\": \"aaaawwwwweeeer\", \"experiment_name\": \"exp_001\", \"stored_procedure\": \"run_experiment\", \"algorithm_category\": \"Snowparkml\", \"algorithm_type\": \"Classification\", \"dataset_name\": \"diamonds_dataset\", \"target_column\": \"quality\", \"algorithms\": [{\"algorithm_name\": \"snowflake.ml.modeling.ensemble.RandomForestRegressor\"}]}\\');, \"algorithm\": algo.get(\"algorithm_name\")}'}, {'jobinstanceId': 109579, 'objectId': 'aaaawwwwweeeer', 'projectId': 'fd0cf79c-8118-43a7-8f0b-059e8f78227a', 'projectName': None, 'jobObjectName': 'exp_001', 'jobScheduleId': None, 'jobInstanceInputParameter': '{}', 'jobType': 'EXPERIMENT', 'jobStatus': 'DIDNOTRUN', 'finalStatus': 'DIDNOTRUN', 'jobCreatedby': 'aditya1.singh2@fosfor.com', 'jobCreatedts': '2024-07-09T09:20:18.621+00:00', 'jobUpdatedby': 'aditya1.singh2@fosfor.com', 'jobUpdatedts': '2024-07-09T09:20:18.621+00:00', 'applicationId': '', 'executionId': None, 'runID': '109579', 'versionNumber': None, 'runEngine': 'SNOWFLAKE', 'attemptId': 109683, 'workflowId': None, 'jobConfig': '{\"snowflake_query\": CALL experiment_stored_proc(\\'{\"monitor_run_id\": \"MONITORRUNID\", \"experiment_id\": \"aaaawwwwweeeer\", \"experiment_name\": \"exp_001\", \"stored_procedure\": \"run_experiment\", \"algorithm_category\": \"Snowparkml\", \"algorithm_type\": \"Classification\", \"dataset_name\": \"diamonds_dataset\", \"target_column\": \"quality\", \"algorithms\": [{\"algorithm_name\": \"snowflake.ml.modeling.ensemble.RandomForestRegressor\"}]}\\');, \"algorithm\": algo.get(\"algorithm_name\")}'}, {'jobinstanceId': 109587, 'objectId': 'aaaawwwwweeeer', 'projectId': 'fd0cf79c-8118-43a7-8f0b-059e8f78227a', 'projectName': None, 'jobObjectName': 'exp_001', 'jobScheduleId': None, 'jobInstanceInputParameter': '{}', 'jobType': 'EXPERIMENT', 'jobStatus': 'DIDNOTRUN', 'finalStatus': 'DIDNOTRUN', 'jobCreatedby': 'aditya1.singh2@fosfor.com', 'jobCreatedts': '2024-07-09T09:47:07.724+00:00', 'jobUpdatedby': 'aditya1.singh2@fosfor.com', 'jobUpdatedts': '2024-07-09T09:47:07.724+00:00', 'applicationId': '', 'executionId': None, 'runID': '109587', 'versionNumber': None, 'runEngine': 'SNOWFLAKE', 'attemptId': 109691, 'workflowId': None, 'jobConfig': '{\"snowflake_query\": \"CALL experiment_stored_proc(\\'{\"monitor_run_id\": \"MONITORRUNID\", \"experiment_id\": \"aaaawwwwweeeer\", \"experiment_name\": \"exp_001\", \"stored_procedure\": \"run_experiment\", \"algorithm_category\": \"Snowparkml\", \"algorithm_type\": \"Classification\", \"dataset_name\": \"diamonds_dataset\", \"target_column\": \"quality\", \"algorithms\": [{\"algorithm_name\": \"snowflake.ml.modeling.ensemble.RandomForestRegressor\"}]}\\');\", \"algorithm\": algo.get(\"algorithm_name\")}'}, {'jobinstanceId': 109588, 'objectId': 'aaaawwwwweeeer', 'projectId': 'fd0cf79c-8118-43a7-8f0b-059e8f78227a', 'projectName': None, 'jobObjectName': 'exp_001', 'jobScheduleId': None, 'jobInstanceInputParameter': '{}', 'jobType': 'EXPERIMENT', 'jobStatus': 'DIDNOTRUN', 'finalStatus': 'DIDNOTRUN', 'jobCreatedby': 'aditya1.singh2@fosfor.com', 'jobCreatedts': '2024-07-09T09:49:02.660+00:00', 'jobUpdatedby': 'aditya1.singh2@fosfor.com', 'jobUpdatedts': '2024-07-09T09:49:02.660+00:00', 'applicationId': '', 'executionId': None, 'runID': '109588', 'versionNumber': None, 'runEngine': 'SNOWFLAKE', 'attemptId': 109692, 'workflowId': None, 'jobConfig': '{\"snowflake_query\": \"CALL experiment_stored_proc(\\'{\"monitor_run_id\": \"MONITORRUNID\", \"experiment_id\": \"aaaawwwwweeeer\", \"experiment_name\": \"exp_001\", \"stored_procedure\": \"run_experiment\", \"algorithm_category\": \"Snowparkml\", \"algorithm_type\": \"Classification\", \"dataset_name\": \"diamonds_dataset\", \"target_column\": \"quality\", \"algorithms\": [{\"algorithm_name\": \"snowflake.ml.modeling.ensemble.RandomForestRegressor\"}]}\\');\", \"algorithm\": \"snowflake.ml.modeling.ensemble.RandomForestRegressor\"}'}, {'jobinstanceId': 109590, 'objectId': 'aaaawwwwweeeer', 'projectId': 'fd0cf79c-8118-43a7-8f0b-059e8f78227a', 'projectName': None, 'jobObjectName': 'exp_001', 'jobScheduleId': None, 'jobInstanceInputParameter': '{\"input_params\":\"{\\\\\"currentTime\\\\\":\\\\\"2024-07-09T09:51:40Z\\\\\",\\\\\"objectName\\\\\":\\\\\"exp_001\\\\\",\\\\\"lastRunDate\\\\\":\\\\\"\\\\\",\\\\\"instanceId\\\\\":\\\\\"109590\\\\\",\\\\\"lastSuccessfulRunDate\\\\\":\\\\\"\\\\\",\\\\\"userId\\\\\":\\\\\"aditya1.singh2@fosfor.com\\\\\"}\"}', 'jobType': 'EXPERIMENT', 'jobStatus': 'FAILED', 'finalStatus': 'FAILED', 'jobCreatedby': 'aditya1.singh2@fosfor.com', 'jobCreatedts': '2024-07-09T09:51:40.347+00:00', 'jobUpdatedby': 'aditya1.singh2@fosfor.com', 'jobUpdatedts': '2024-07-09T09:51:43.027+00:00', 'applicationId': '', 'executionId': None, 'runID': '109590', 'versionNumber': None, 'runEngine': 'SNOWFLAKE', 'attemptId': 109694, 'workflowId': None, 'jobConfig': '{\"snowflake_query\": \"CALL experiment_stored_proc(\\'{\\'monitor_run_id\\': \\'MONITORRUNID\\', \\'experiment_id\\': \\'aaaawwwwweeeer\\', \\'experiment_name\\': \\'exp_001\\', \\'stored_procedure\\': \\'run_experiment\\', \\'algorithm_category\\': \\'Snowparkml\\', \\'algorithm_type\\': \\'Classification\\', \\'dataset_name\\': \\'diamonds_dataset\\', \\'target_column\\': \\'quality\\', \\'algorithms\\': [{\\'algorithm_name\\': \\'snowflake.ml.modeling.ensemble.RandomForestRegressor\\'}]}\\');\", \"algorithm\": \"snowflake.ml.modeling.ensemble.RandomForestRegressor\"}'}, {'jobinstanceId': 109593, 'objectId': 'aaaawwwwweeeer', 'projectId': 'fd0cf79c-8118-43a7-8f0b-059e8f78227a', 'projectName': None, 'jobObjectName': 'exp_001', 'jobScheduleId': None, 'jobInstanceInputParameter': '{\"input_params\":\"{\\\\\"currentTime\\\\\":\\\\\"2024-07-09T09:57:54Z\\\\\",\\\\\"objectName\\\\\":\\\\\"exp_001\\\\\",\\\\\"lastRunDate\\\\\":\\\\\"2024-07-09T09:51:40Z\\\\\",\\\\\"instanceId\\\\\":\\\\\"109593\\\\\",\\\\\"lastSuccessfulRunDate\\\\\":\\\\\"\\\\\",\\\\\"userId\\\\\":\\\\\"aditya1.singh2@fosfor.com\\\\\"}\"}', 'jobType': 'EXPERIMENT', 'jobStatus': 'FAILED', 'finalStatus': 'FAILED', 'jobCreatedby': 'aditya1.singh2@fosfor.com', 'jobCreatedts': '2024-07-09T09:57:54.589+00:00', 'jobUpdatedby': 'aditya1.singh2@fosfor.com', 'jobUpdatedts': '2024-07-09T09:57:55.285+00:00', 'applicationId': '', 'executionId': None, 'runID': '109593', 'versionNumber': None, 'runEngine': 'SNOWFLAKE', 'attemptId': 109697, 'workflowId': None, 'jobConfig': '{\"snowflake_query\": \"CALL experiment_stored_proc(\\'{\\'monitor_run_id\\': \\'MONITORRUNID\\', \\'experiment_id\\': \\'aaaawwwwweeeer\\', \\'experiment_name\\': \\'exp_001\\', \\'stored_procedure\\': \\'run_experiment\\', \\'algorithm_category\\': \\'Snowparkml\\', \\'algorithm_type\\': \\'Classification\\', \\'dataset_name\\': \\'diamonds_dataset\\', \\'target_column\\': \\'quality\\', \\'algorithms\\': [{\\'algorithm_name\\': \\'snowflake.ml.modeling.ensemble.RandomForestRegressor\\'}]}\\');\", \"algorithm\": \"snowflake.ml.modeling.ensemble.RandomForestRegressor\"}'}, {'jobinstanceId': 109594, 'objectId': 'aaaawwwwweeeer', 'projectId': 'fd0cf79c-8118-43a7-8f0b-059e8f78227a', 'projectName': None, 'jobObjectName': 'exp_001', 'jobScheduleId': None, 'jobInstanceInputParameter': '{\"input_params\":\"{\\\\\"currentTime\\\\\":\\\\\"2024-07-09T09:58:02Z\\\\\",\\\\\"objectName\\\\\":\\\\\"exp_001\\\\\",\\\\\"lastRunDate\\\\\":\\\\\"2024-07-09T09:57:54Z\\\\\",\\\\\"instanceId\\\\\":\\\\\"109594\\\\\",\\\\\"lastSuccessfulRunDate\\\\\":\\\\\"\\\\\",\\\\\"userId\\\\\":\\\\\"aditya1.singh2@fosfor.com\\\\\"}\"}', 'jobType': 'EXPERIMENT', 'jobStatus': 'FAILED', 'finalStatus': 'FAILED', 'jobCreatedby': 'aditya1.singh2@fosfor.com', 'jobCreatedts': '2024-07-09T09:58:02.296+00:00', 'jobUpdatedby': 'aditya1.singh2@fosfor.com', 'jobUpdatedts': '2024-07-09T09:58:03.080+00:00', 'applicationId': '', 'executionId': None, 'runID': '109594', 'versionNumber': None, 'runEngine': 'SNOWFLAKE', 'attemptId': 109698, 'workflowId': None, 'jobConfig': '{\"snowflake_query\": \"CALL experiment_stored_proc(\\'{\\'monitor_run_id\\': \\'MONITORRUNID\\', \\'experiment_id\\': \\'aaaawwwwweeeer\\', \\'experiment_name\\': \\'exp_001\\', \\'stored_procedure\\': \\'run_experiment\\', \\'algorithm_category\\': \\'Snowparkml\\', \\'algorithm_type\\': \\'Classification\\', \\'dataset_name\\': \\'diamonds_dataset\\', \\'target_column\\': \\'quality\\', \\'algorithms\\': [{\\'algorithm_name\\': \\'snowflake.ml.modeling.ensemble.RandomForestRegressor\\'}]}\\');\", \"algorithm\": \"snowflake.ml.modeling.ensemble.RandomForestRegressor\"}'}, {'jobinstanceId': 109739, 'objectId': 'aaaawwwwweeeer', 'projectId': 'fd0cf79c-8118-43a7-8f0b-059e8f78227a', 'projectName': None, 'jobObjectName': 'exp_001', 'jobScheduleId': None, 'jobInstanceInputParameter': '{}', 'jobType': 'EXPERIMENT', 'jobStatus': 'DIDNOTRUN', 'finalStatus': 'DIDNOTRUN', 'jobCreatedby': 'aditya1.singh2@fosfor.com', 'jobCreatedts': '2024-07-09T18:49:50.514+00:00', 'jobUpdatedby': 'aditya1.singh2@fosfor.com', 'jobUpdatedts': '2024-07-09T18:49:50.514+00:00', 'applicationId': '', 'executionId': None, 'runID': '109739', 'versionNumber': None, 'runEngine': 'SNOWFLAKE', 'attemptId': 109843, 'workflowId': None, 'jobConfig': '{\"snowflake_query\": \"CALL experiment_stored_proc(\\'{\"monitor_run_id\": \"MONITORRUNID\", \"experiment_id\": \"aaaawwwwweeeer\", \"experiment_name\": \"exp_001\", \"stored_procedure\": \"run_experiment\", \"algorithm_category\": \"Snowparkml\", \"algorithm_type\": \"Classification\", \"dataset_name\": \"diamonds_dataset\", \"target_column\": \"quality\", \"algorithms\": [{\"algorithm_name\": \"snowflake.ml.modeling.ensemble.RandomForestRegressor\"}]}\\');\", \"algorithm\": \"snowflake.ml.modeling.ensemble.RandomForestRegressor\"}'}, {'jobinstanceId': 109740, 'objectId': 'aaaawwwwweeeer', 'projectId': 'fd0cf79c-8118-43a7-8f0b-059e8f78227a', 'projectName': None, 'jobObjectName': 'exp_001', 'jobScheduleId': None, 'jobInstanceInputParameter': '{}', 'jobType': 'EXPERIMENT', 'jobStatus': 'DIDNOTRUN', 'finalStatus': 'DIDNOTRUN', 'jobCreatedby': 'aditya1.singh2@fosfor.com', 'jobCreatedts': '2024-07-09T18:51:53.752+00:00', 'jobUpdatedby': 'aditya1.singh2@fosfor.com', 'jobUpdatedts': '2024-07-09T18:51:53.752+00:00', 'applicationId': '', 'executionId': None, 'runID': '109740', 'versionNumber': None, 'runEngine': 'SNOWFLAKE', 'attemptId': 109844, 'workflowId': None, 'jobConfig': '{\"snowflake_query\": \"CALL experiment_stored_proc(\\'{\"monitor_run_id\": \"MONITORRUNID\", \"experiment_id\": \"aaaawwwwweeeer\", \"experiment_name\": \"exp_001\", \"stored_procedure\": \"run_experiment\", \"algorithm_category\": \"Snowparkml\", \"algorithm_type\": \"Classification\", \"dataset_name\": \"diamonds_dataset\", \"target_column\": \"quality\", \"algorithms\": [{\"algorithm_name\": \"snowflake.ml.modeling.ensemble.RandomForestRegressor\"}]}\\');\", \"algorithm\": \"snowflake.ml.modeling.ensemble.RandomForestRegressor\"}'}, {'jobinstanceId': 109741, 'objectId': 'aaaawwwwweeeer', 'projectId': 'fd0cf79c-8118-43a7-8f0b-059e8f78227a', 'projectName': None, 'jobObjectName': 'exp_001', 'jobScheduleId': None, 'jobInstanceInputParameter': '{}', 'jobType': 'EXPERIMENT', 'jobStatus': 'DIDNOTRUN', 'finalStatus': 'DIDNOTRUN', 'jobCreatedby': 'aditya1.singh2@fosfor.com', 'jobCreatedts': '2024-07-09T18:53:06.244+00:00', 'jobUpdatedby': 'aditya1.singh2@fosfor.com', 'jobUpdatedts': '2024-07-09T18:53:06.244+00:00', 'applicationId': '', 'executionId': None, 'runID': '109741', 'versionNumber': None, 'runEngine': 'SNOWFLAKE', 'attemptId': 109845, 'workflowId': None, 'jobConfig': '{\"snowflake_query\": \"CALL experiment_stored_proc(\\\\\\'{\"monitor_run_id\": \"MONITORRUNID\", \"experiment_id\": \"aaaawwwwweeeer\", \"experiment_name\": \"exp_001\", \"stored_procedure\": \"run_experiment\", \"algorithm_category\": \"Snowparkml\", \"algorithm_type\": \"Classification\", \"dataset_name\": \"diamonds_dataset\", \"target_column\": \"quality\", \"algorithms\": [{\"algorithm_name\": \"snowflake.ml.modeling.ensemble.RandomForestRegressor\"}]}\\\\\\');\", \"algorithm\": \"snowflake.ml.modeling.ensemble.RandomForestRegressor\"}'}], 'jobTypesList': None, 'executedByList': None, 'projectList': None}\n"
     ]
    }
   ],
   "source": [
    "response = requests.get(executions_url, headers=temp_head)\n",
    "print(response.json())\n",
    "res = response.json()"
   ]
  },
  {
   "cell_type": "code",
   "execution_count": 6,
   "id": "c3db3c45",
   "metadata": {},
   "outputs": [],
   "source": [
    "delete_run_url = f\"http://monitor-backend-service/monitor/api/v1/delete/109801\""
   ]
  },
  {
   "cell_type": "code",
   "execution_count": 7,
   "id": "7a520e7f",
   "metadata": {},
   "outputs": [
    {
     "name": "stdout",
     "output_type": "stream",
     "text": [
      "{'type': 'about:blank', 'title': 'Not Found', 'status': 404, 'detail': 'No static resource api/v1/delete/109801.', 'instance': '/monitor/api/v1/delete/109801'}\n"
     ]
    }
   ],
   "source": [
    "response = requests.delete(delete_run_url, headers=temp_head)\n",
    "print(response.json())\n",
    "res = response.json()"
   ]
  },
  {
   "cell_type": "code",
   "execution_count": null,
   "id": "436f2067",
   "metadata": {},
   "outputs": [],
   "source": []
  }
 ],
 "metadata": {
  "kernelspec": {
   "display_name": "Python 3",
   "language": "python",
   "name": "python3"
  },
  "language_info": {
   "codemirror_mode": {
    "name": "ipython",
    "version": 3
   },
   "file_extension": ".py",
   "mimetype": "text/x-python",
   "name": "python",
   "nbconvert_exporter": "python",
   "pygments_lexer": "ipython3",
   "version": "3.9.18"
  }
 },
 "nbformat": 4,
 "nbformat_minor": 5
}
