{
 "cells": [
  {
   "cell_type": "code",
   "execution_count": null,
   "id": "d62e7055",
   "metadata": {},
   "outputs": [],
   "source": [
    "# Imports\n",
    "from snowflake.snowpark.session import Session\n",
    "from snowflake.ml.modeling.pipeline import Pipeline\n",
    "from snowflake.ml.modeling.preprocessing import MinMaxScaler, LabelEncoder, OrdinalEncoder\n",
    "from snowflake.ml.modeling.metrics import r2_score, accuracy_score, precision_score, roc_auc_score, f1_score, recall_score\n",
    "from snowflake.snowpark.functions import col, is_null, regexp_replace, when, lit\n",
    "from snowflake.snowpark.types import StringType\n",
    "from snowflake.snowpark.exceptions import SnowparkSQLException\n",
    "import importlib, sys, json, os, logging\n"
   ]
  }
 ],
 "metadata": {
  "kernelspec": {
   "display_name": "Python 3",
   "language": "python",
   "name": "python3"
  },
  "language_info": {
   "codemirror_mode": {
    "name": "ipython",
    "version": 3
   },
   "file_extension": ".py",
   "mimetype": "text/x-python",
   "name": "python",
   "nbconvert_exporter": "python",
   "pygments_lexer": "ipython3",
   "version": "3.9.18"
  }
 },
 "nbformat": 4,
 "nbformat_minor": 5
}
