{
 "cells": [
  {
   "cell_type": "code",
   "execution_count": 1,
   "id": "59d6b7ea",
   "metadata": {},
   "outputs": [
    {
     "name": "stdout",
     "output_type": "stream",
     "text": [
      "AIRLINE_DEP_DELAY.csv\t    AIRLINE_DEP_DELAY_10k.csv  mlflow_sample_data.csv\r\n",
      "AIRLINE_DEP_DELAY_100k.csv  Employee.csv\r\n"
     ]
    }
   ],
   "source": [
    "!ls /data"
   ]
  },
  {
   "cell_type": "code",
   "execution_count": 2,
   "id": "119e5e84",
   "metadata": {},
   "outputs": [],
   "source": [
    "import os\n",
    "from snowflake.snowpark import Session\n",
    "from snowflake.snowpark.version import VERSION\n",
    "# from snowflake.snowpark.types import StructType, StructField, DoubleType, StringType\n",
    "# import snowflake.snowpark.functions as F"
   ]
  },
  {
   "cell_type": "code",
   "execution_count": 3,
   "id": "f659b843",
   "metadata": {},
   "outputs": [],
   "source": [
    "connection_parameters = {\n",
    "    \"account\": \"ug94937.us-east4.gcp\",\n",
    "    \"user\": \"ADITYASINGH\",\n",
    "    \"password\": os.environ.get('SF_Password'),\n",
    "    \"role\": \"ADITYASINGH\",  # optional\n",
    "    \"warehouse\": \"FOSFOR_INSIGHT_WH\",  # optional\n",
    "#     \"authenticator\": \"externalbrowser\", # optional\n",
    "    \"database\": \"FIRST_DB\",  # optional\n",
    "    \"schema\": \"PUBLIC\",  # optional\n",
    "} "
   ]
  },
  {
   "cell_type": "code",
   "execution_count": 4,
   "id": "527b7ac5",
   "metadata": {},
   "outputs": [
    {
     "name": "stdout",
     "output_type": "stream",
     "text": [
      "\n",
      "Connection Established with the following parameters:\n",
      "User                        : ADITYASINGH\n",
      "Role                        : \"ADITYASINGH\"\n",
      "Database                    : \"FIRST_DB\"\n",
      "Schema                      : \"PUBLIC\"\n",
      "Warehouse                   : \"FOSFOR_INSIGHT_WH\"\n",
      "Snowflake version           : 8.21.3\n",
      "Snowpark for Python version : 1.18.0\n"
     ]
    }
   ],
   "source": [
    "# Make a Snowpark Connection\n",
    "\n",
    "################################################################################################################\n",
    "#  You can also use the SnowSQL Client to configure your connection params:\n",
    "#  https://docs.snowflake.com/en/user-guide/snowsql-install-config.html\n",
    "#\n",
    "#  >>> from snowflake.ml.utils import connection_params\n",
    "#  >>> session = Session.builder.configs(connection_params.SnowflakeLoginOptions()\n",
    "#  >>> ).create()   \n",
    "#\n",
    "#  NOTE: If you have named connection params then specify the connection name\n",
    "#  Example:\n",
    "#  \n",
    "#  >>> session = Session.builder.configs(\n",
    "#  >>> connection_params.SnowflakeLoginOptions(connection_name='connections.snowml')\n",
    "#  >>> ).create()\n",
    "#\n",
    "#################################################################################################################\n",
    "\n",
    "# Edit the connection.json before creating the session object below\n",
    "# Create Snowflake Session object\n",
    "# connection_parameters = json.load(open('connection.json'))\n",
    "session = Session.builder.configs(connection_parameters).create()\n",
    "session.sql_simplifier_enabled = True\n",
    "\n",
    "snowflake_environment = session.sql('SELECT current_user(), current_version()').collect()\n",
    "snowpark_version = VERSION\n",
    "\n",
    "# Current Environment Details\n",
    "print('\\nConnection Established with the following parameters:')\n",
    "print('User                        : {}'.format(snowflake_environment[0][0]))\n",
    "print('Role                        : {}'.format(session.get_current_role()))\n",
    "print('Database                    : {}'.format(session.get_current_database()))\n",
    "print('Schema                      : {}'.format(session.get_current_schema()))\n",
    "print('Warehouse                   : {}'.format(session.get_current_warehouse()))\n",
    "print('Snowflake version           : {}'.format(snowflake_environment[0][1]))\n",
    "print('Snowpark for Python version : {}.{}.{}'.format(snowpark_version[0],snowpark_version[1],snowpark_version[2]))"
   ]
  },
  {
   "cell_type": "code",
   "execution_count": 6,
   "id": "4d976911",
   "metadata": {},
   "outputs": [
    {
     "data": {
      "text/plain": [
       "[Row(source='mlflow_sample_data.csv', target='mlflow_sample_data.csv', source_size=100485, target_size=100485, source_compression='NONE', target_compression='NONE', status='UPLOADED', message='')]"
      ]
     },
     "execution_count": 6,
     "metadata": {},
     "output_type": "execute_result"
    }
   ],
   "source": [
    "# session.sql('PUT file:///data/mlflow_sample_data.csv @my_int_stage AUTO_COMPRESS=FALSE;;').collect()"
   ]
  },
  {
   "cell_type": "code",
   "execution_count": 7,
   "id": "fc84a8a1",
   "metadata": {},
   "outputs": [],
   "source": [
    "# df = session.read.csv(\"@my_int_stage/diamonds.csv\")"
   ]
  },
  {
   "cell_type": "code",
   "execution_count": 8,
   "id": "68959350",
   "metadata": {},
   "outputs": [
    {
     "name": "stdout",
     "output_type": "stream",
     "text": [
      "-----------------------------------------------------------------------------------------------------------\n",
      "|\"c1\"  |\"c2\"     |\"c3\"         |\"c4\"     |\"c5\"       |\"c6\"     |\"c7\"     |\"c8\"     |\"c9\"  |\"c10\"  |\"c11\"  |\n",
      "-----------------------------------------------------------------------------------------------------------\n",
      "|\"\"    |\"carat\"  |\"cut\"        |\"color\"  |\"clarity\"  |\"depth\"  |\"table\"  |\"price\"  |\"x\"   |\"y\"    |\"z\"    |\n",
      "|\"1\"   |0.23     |\"Ideal\"      |\"E\"      |\"SI2\"      |61.5     |55       |326      |3.95  |3.98   |2.43   |\n",
      "|\"2\"   |0.21     |\"Premium\"    |\"E\"      |\"SI1\"      |59.8     |61       |326      |3.89  |3.84   |2.31   |\n",
      "|\"3\"   |0.23     |\"Good\"       |\"E\"      |\"VS1\"      |56.9     |65       |327      |4.05  |4.07   |2.31   |\n",
      "|\"4\"   |0.29     |\"Premium\"    |\"I\"      |\"VS2\"      |62.4     |58       |334      |4.2   |4.23   |2.63   |\n",
      "|\"5\"   |0.31     |\"Good\"       |\"J\"      |\"SI2\"      |63.3     |58       |335      |4.34  |4.35   |2.75   |\n",
      "|\"6\"   |0.24     |\"Very Good\"  |\"J\"      |\"VVS2\"     |62.8     |57       |336      |3.94  |3.96   |2.48   |\n",
      "|\"7\"   |0.24     |\"Very Good\"  |\"I\"      |\"VVS1\"     |62.3     |57       |336      |3.95  |3.98   |2.47   |\n",
      "|\"8\"   |0.26     |\"Very Good\"  |\"H\"      |\"SI1\"      |61.9     |55       |337      |4.07  |4.11   |2.53   |\n",
      "|\"9\"   |0.22     |\"Fair\"       |\"E\"      |\"VS2\"      |65.1     |61       |337      |3.87  |3.78   |2.49   |\n",
      "-----------------------------------------------------------------------------------------------------------\n",
      "\n"
     ]
    }
   ],
   "source": [
    "# df.show()"
   ]
  },
  {
   "cell_type": "code",
   "execution_count": 5,
   "id": "d6e92629",
   "metadata": {},
   "outputs": [
    {
     "data": {
      "text/plain": [
       "<snowflake.snowpark.table.Table at 0x7feedbc82160>"
      ]
     },
     "execution_count": 5,
     "metadata": {},
     "output_type": "execute_result"
    }
   ],
   "source": [
    "import pandas as pd\n",
    "\n",
    "\n",
    "# olist_customers = pd.read_csv(\"/home/10683796/Desktop/fdc/snowflake/final_data/olist_customers_dataset.csv\")\n",
    "# olist_customers.columns = map(lambda x: str(x).upper(), olist_customers.columns)\n",
    "# session.write_pandas(olist_customers, table_name=\"OLIST_CUSTOMERS\", database=\"FDC_DEV_SUNNYCHUGH\", schema=\"PUBLIC\",  auto_create_table=True, overwrite=True)\n",
    "\n",
    "\n",
    "# olist_orders = pd.read_csv(r\"C:\\Users\\10658205\\OneDrive - LTIMindtree\\Fosfor\\DS_persona_experiment\\datasets\\mlflow_sample_data.csv\")\n",
    "# olist_orders.columns = map(lambda x: str(x).upper(), olist_orders.columns)\n",
    "# session.write_pandas(olist_orders, table_name=\"MLFLOW_SAMPLE_DATA\", database=\"FDC_DEV_ABHISHEK\", schema=\"PUBLIC\",  auto_create_table=True, overwrite=True)\n",
    "#\n",
    "# olist_products = pd.read_csv(r\"C:\\Users\\10658205\\OneDrive - LTIMindtree\\Fosfor\\DS_persona_experiment\\datasets\\Employee.csv\")\n",
    "# olist_products.columns = map(lambda x: str(x).upper(), olist_products.columns)\n",
    "# session.write_pandas(olist_products, table_name=\"MLFLOW_BINARY_CLASSIFICATION\", database=\"FDC_DEV_ABHISHEK\", schema=\"PUBLIC\",  auto_create_table=True, overwrite=True)\n",
    "\n",
    "my_data = pd.read_csv(r\"/data/AIRLINE_DEP_DELAY_10k.csv\")\n",
    "my_data.columns = map(lambda x: str(x).upper(), my_data.columns)\n",
    "my_data.columns = my_data.columns.str.replace(' ', '_')\n",
    "my_data = my_data.loc[:, ~my_data.columns.str.contains('^Unnamed')]\n",
    "my_data.head()\n",
    "session.write_pandas(my_data, table_name=\"AIRLINE_DEP_DELAY_10K\", auto_create_table=True, overwrite=True)\n",
    "#\n",
    "# product_category_name_translation = pd.read_csv(\"/home/10683796/Desktop/fdc/snowflake/final_data/product_category_name_translation.csv\")\n",
    "# product_category_name_translation.columns = map(lambda x: str(x).upper(), product_category_name_translation.columns)\n",
    "# session.write_pandas(product_category_name_translation, table_name=\"PRODUCT_CATEGORY_NAMES_TRANSLATION\", database=\"FDC_DEV_SUNNYCHUGH\", schema=\"PUBLIC\",  auto_create_table=True, overwrite=True)"
   ]
  },
  {
   "cell_type": "code",
   "execution_count": 7,
   "id": "c69e72a5",
   "metadata": {},
   "outputs": [],
   "source": [
    "session.close()"
   ]
  },
  {
   "cell_type": "code",
   "execution_count": null,
   "id": "9fd04899",
   "metadata": {},
   "outputs": [],
   "source": []
  }
 ],
 "metadata": {
  "kernelspec": {
   "display_name": "Python 3",
   "language": "python",
   "name": "python3"
  },
  "language_info": {
   "codemirror_mode": {
    "name": "ipython",
    "version": 3
   },
   "file_extension": ".py",
   "mimetype": "text/x-python",
   "name": "python",
   "nbconvert_exporter": "python",
   "pygments_lexer": "ipython3",
   "version": "3.9.18"
  }
 },
 "nbformat": 4,
 "nbformat_minor": 5
}
