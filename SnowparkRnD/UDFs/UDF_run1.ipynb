{
 "cells": [
  {
   "cell_type": "code",
   "execution_count": null,
   "id": "f0f11cbf",
   "metadata": {},
   "outputs": [],
   "source": [
    "!pwd"
   ]
  },
  {
   "cell_type": "code",
   "execution_count": null,
   "id": "867628b9",
   "metadata": {},
   "outputs": [],
   "source": [
    "!ls"
   ]
  },
  {
   "cell_type": "code",
   "execution_count": null,
   "id": "bc96544e",
   "metadata": {},
   "outputs": [],
   "source": [
    "!jupyter nbconvert RunExperiment_Sample_On_Snowpark.ipynb --to python --output run_experiment.py"
   ]
  },
  {
   "cell_type": "code",
   "execution_count": null,
   "id": "3d87f5d3",
   "metadata": {},
   "outputs": [],
   "source": [
    "from run_experiment import run_exp"
   ]
  },
  {
   "cell_type": "code",
   "execution_count": null,
   "id": "7bcabe39",
   "metadata": {},
   "outputs": [],
   "source": [
    "import os\n",
    "from snowflake.snowpark import Session\n",
    "from snowflake.snowpark.functions import udf\n",
    "import pandas as pd"
   ]
  },
  {
   "cell_type": "code",
   "execution_count": null,
   "id": "1f871849",
   "metadata": {},
   "outputs": [],
   "source": [
    "connection_parameters = {\n",
    "    \"account\": \"ug94937.us-east4.gcp\",\n",
    "    \"user\": \"ADITYASINGH\",\n",
    "    \"password\": os.environ.get('SF_Password'),\n",
    "    \"role\": \"ADITYASINGH\",  # optional\n",
    "    \"warehouse\": \"FOSFOR_INSIGHT_WH\",  # optional\n",
    "    \"database\": \"FIRST_DB\",  # optional\n",
    "    \"schema\": \"PUBLIC\",  # optional\n",
    "    }\n",
    "session = Session.builder.configs(connection_parameters).create()\n",
    "session.sql_simplifier_enabled = True"
   ]
  },
  {
   "cell_type": "code",
   "execution_count": null,
   "id": "af8c563d",
   "metadata": {},
   "outputs": [],
   "source": [
    "session.add_import(\"run_experiment.py\", import_path=\".run_experiment\")\n",
    "session.add_packages(\"numpy\", \"pandas\", \"snowflake\", \"snowflake-ml-python\")"
   ]
  },
  {
   "cell_type": "code",
   "execution_count": null,
   "id": "1726c70a",
   "metadata": {},
   "outputs": [],
   "source": [
    "# def udf_run_exp(sf_pass: str, dataset: str, target: str) -> pd.DataFrame:\n",
    "#     return run_exp(sf_pass, dataset, target)\n",
    "from snowflake.snowpark.types import StructType, StructField, IntegerType, StringType, ArrayType"
   ]
  },
  {
   "cell_type": "code",
   "execution_count": null,
   "id": "09f3bdab",
   "metadata": {},
   "outputs": [],
   "source": [
    "udf_run_exp = udf(\n",
    "    func=run_exp,\n",
    "    return_type=StringType(),\n",
    "    input_types=[ArrayType(StringType()),StringType(),StringType()],\n",
    "    name=\"udf_run_exp\",\n",
    "    packages = ('pandas', 'snowflake-snowpark-python', 'snowflake', 'snowflake-ml-python'),\n",
    "    session=session\n",
    "    )"
   ]
  },
  {
   "cell_type": "code",
   "execution_count": null,
   "id": "7044d601",
   "metadata": {},
   "outputs": [],
   "source": [
    "session"
   ]
  },
  {
   "cell_type": "code",
   "execution_count": null,
   "id": "b7d5577f",
   "metadata": {},
   "outputs": [],
   "source": [
    "password = os.environ.get('SF_Password')"
   ]
  },
  {
   "cell_type": "code",
   "execution_count": null,
   "id": "6c63825e",
   "metadata": {},
   "outputs": [],
   "source": [
    "out = session.sql(f\"select udf_run_exp(ARRAY_CONSTRUCT('snowflake.ml.modeling.naive_bayes.GaussianNB'),'EMPLOYEE', 'LEAVEORNOT') as run\").collect()"
   ]
  },
  {
   "cell_type": "code",
   "execution_count": null,
   "id": "c5371b4d",
   "metadata": {},
   "outputs": [],
   "source": [
    "@udf\n",
    "def add_udf(x: int, y: int) -> int:\n",
    "    return x + y\n",
    "df = session.create_dataframe([[1, 2], [3, 4]], schema=[\"x\", \"y\"])\n",
    "df.select(add_udf(\"x\", \"y\")).to_df(\"add_result\").collect()"
   ]
  },
  {
   "cell_type": "code",
   "execution_count": null,
   "id": "cae3d39d",
   "metadata": {},
   "outputs": [],
   "source": [
    "algos=['snowflake.ml.modeling.naive_bayes.GaussianNB',\n",
    "       'snowflake.ml.modeling.neighbors.KNeighborsClassifier',\n",
    "      ]"
   ]
  },
  {
   "cell_type": "code",
   "execution_count": null,
   "id": "7cbc5ad9",
   "metadata": {},
   "outputs": [],
   "source": [
    "session.close()"
   ]
  },
  {
   "cell_type": "code",
   "execution_count": 6,
   "id": "5d7ecf88",
   "metadata": {},
   "outputs": [],
   "source": [
    "from sklearn.svm import SVR"
   ]
  },
  {
   "cell_type": "code",
   "execution_count": 3,
   "id": "8d3865f5",
   "metadata": {},
   "outputs": [
    {
     "data": {
      "text/plain": [
       "['C',\n",
       " 'cache_size',\n",
       " 'coef0',\n",
       " 'degree',\n",
       " 'drop_input_cols',\n",
       " 'epsilon',\n",
       " 'gamma',\n",
       " 'input_cols',\n",
       " 'kernel',\n",
       " 'label_cols',\n",
       " 'max_iter',\n",
       " 'output_cols',\n",
       " 'passthrough_cols',\n",
       " 'sample_weight_col',\n",
       " 'shrinking',\n",
       " 'tol',\n",
       " 'verbose']"
      ]
     },
     "execution_count": 3,
     "metadata": {},
     "output_type": "execute_result"
    }
   ],
   "source": [
    "SVR._get_param_names()"
   ]
  },
  {
   "cell_type": "code",
   "execution_count": 7,
   "id": "8552e3a7",
   "metadata": {},
   "outputs": [],
   "source": [
    "a = SVR(degree=3,epsilon=0.1,'gamma': 'scale','kernel': 'rbf','max_iter': -1)"
   ]
  },
  {
   "cell_type": "code",
   "execution_count": 8,
   "id": "fc661db3",
   "metadata": {},
   "outputs": [
    {
     "data": {
      "text/plain": [
       "{'C': 1.0,\n",
       " 'cache_size': 200,\n",
       " 'coef0': 0.0,\n",
       " 'degree': 3,\n",
       " 'epsilon': 0.1,\n",
       " 'gamma': 'scale',\n",
       " 'kernel': 'rbf',\n",
       " 'max_iter': -1,\n",
       " 'shrinking': True,\n",
       " 'tol': 0.001,\n",
       " 'verbose': False}"
      ]
     },
     "execution_count": 8,
     "metadata": {},
     "output_type": "execute_result"
    }
   ],
   "source": [
    "a.get_params()"
   ]
  },
  {
   "cell_type": "code",
   "execution_count": 2,
   "id": "f464698e",
   "metadata": {},
   "outputs": [],
   "source": [
    "from snowflake.ml.modeling.svm import SVR"
   ]
  },
  {
   "cell_type": "code",
   "execution_count": null,
   "id": "35d0de9b",
   "metadata": {},
   "outputs": [],
   "source": []
  }
 ],
 "metadata": {
  "kernelspec": {
   "display_name": "Python 3",
   "language": "python",
   "name": "python3"
  },
  "language_info": {
   "codemirror_mode": {
    "name": "ipython",
    "version": 3
   },
   "file_extension": ".py",
   "mimetype": "text/x-python",
   "name": "python",
   "nbconvert_exporter": "python",
   "pygments_lexer": "ipython3",
   "version": "3.9.18"
  }
 },
 "nbformat": 4,
 "nbformat_minor": 5
}
