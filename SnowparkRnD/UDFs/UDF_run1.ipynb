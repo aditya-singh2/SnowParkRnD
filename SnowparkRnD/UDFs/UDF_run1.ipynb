{
 "cells": [
  {
   "cell_type": "code",
   "execution_count": 1,
   "id": "f0f11cbf",
   "metadata": {},
   "outputs": [
    {
     "name": "stdout",
     "output_type": "stream",
     "text": [
      "/notebooks/notebooks/SnowparkRnD/UDFs\r\n"
     ]
    }
   ],
   "source": [
    "!pwd"
   ]
  },
  {
   "cell_type": "code",
   "execution_count": 3,
   "id": "f6973e0f",
   "metadata": {},
   "outputs": [],
   "source": [
    "from Run_Experiment import run_experiment"
   ]
  },
  {
   "cell_type": "code",
   "execution_count": 13,
   "id": "e944936c",
   "metadata": {},
   "outputs": [],
   "source": [
    "import os\n",
    "from snowflake.snowpark import Session\n",
    "from snowflake.snowpark.functions import udf\n",
    "import pandas as pd"
   ]
  },
  {
   "cell_type": "code",
   "execution_count": 9,
   "id": "05630d22",
   "metadata": {},
   "outputs": [],
   "source": [
    "connection_parameters = {\n",
    "    \"account\": \"ug94937.us-east4.gcp\",\n",
    "    \"user\": \"ADITYASINGH\",\n",
    "    \"password\": os.environ.get('SF_Password'),\n",
    "    \"role\": \"ADITYASINGH\",  # optional\n",
    "    \"warehouse\": \"FOSFOR_INSIGHT_WH\",  # optional\n",
    "    \"database\": \"FIRST_DB\",  # optional\n",
    "    \"schema\": \"PUBLIC\",  # optional\n",
    "    }\n",
    "session = Session.builder.configs(connection_parameters).create()\n",
    "session.sql_simplifier_enabled = True"
   ]
  },
  {
   "cell_type": "code",
   "execution_count": 11,
   "id": "6c4a592b",
   "metadata": {},
   "outputs": [],
   "source": [
    "session.add_import(\"Run_Experiment.py\", import_path=\"Run_Experiment\")\n",
    "session.add_packages(\"numpy\")"
   ]
  },
  {
   "cell_type": "code",
   "execution_count": 15,
   "id": "02b8178e",
   "metadata": {},
   "outputs": [],
   "source": [
    "@udf\n",
    "def udf_run_exp(sf_pass: str, dataset: str, target: str) -> pd.DataFrame:\n",
    "    return run_experiment(sf_pass, dataset, target)"
   ]
  },
  {
   "cell_type": "code",
   "execution_count": null,
   "id": "80b2a456",
   "metadata": {},
   "outputs": [],
   "source": []
  }
 ],
 "metadata": {
  "kernelspec": {
   "display_name": "Python 3",
   "language": "python",
   "name": "python3"
  },
  "language_info": {
   "codemirror_mode": {
    "name": "ipython",
    "version": 3
   },
   "file_extension": ".py",
   "mimetype": "text/x-python",
   "name": "python",
   "nbconvert_exporter": "python",
   "pygments_lexer": "ipython3",
   "version": "3.9.18"
  }
 },
 "nbformat": 4,
 "nbformat_minor": 5
}
