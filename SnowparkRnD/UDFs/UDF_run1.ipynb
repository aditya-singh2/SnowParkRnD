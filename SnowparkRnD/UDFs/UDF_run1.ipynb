{
 "cells": [
  {
   "cell_type": "code",
   "execution_count": null,
   "id": "f0f11cbf",
   "metadata": {},
   "outputs": [],
   "source": [
    "!pwd"
   ]
  },
  {
   "cell_type": "code",
   "execution_count": null,
   "id": "867628b9",
   "metadata": {},
   "outputs": [],
   "source": [
    "!ls"
   ]
  },
  {
   "cell_type": "code",
   "execution_count": null,
   "id": "bc96544e",
   "metadata": {},
   "outputs": [],
   "source": [
    "!jupyter nbconvert RunExperiment_Sample_On_Snowpark.ipynb --to python --output run_experiment.py"
   ]
  },
  {
   "cell_type": "code",
   "execution_count": null,
   "id": "3d87f5d3",
   "metadata": {},
   "outputs": [],
   "source": [
    "from run_experiment import run_exp"
   ]
  },
  {
   "cell_type": "code",
   "execution_count": null,
   "id": "7bcabe39",
   "metadata": {},
   "outputs": [],
   "source": [
    "import os\n",
    "from snowflake.snowpark import Session\n",
    "from snowflake.snowpark.functions import udf\n",
    "import pandas as pd"
   ]
  },
  {
   "cell_type": "code",
   "execution_count": null,
   "id": "1f871849",
   "metadata": {},
   "outputs": [],
   "source": [
    "connection_parameters = {\n",
    "    \"account\": \"ug94937.us-east4.gcp\",\n",
    "    \"user\": \"ADITYASINGH\",\n",
    "    \"password\": os.environ.get('SF_Password'),\n",
    "    \"role\": \"ADITYASINGH\",  # optional\n",
    "    \"warehouse\": \"FOSFOR_INSIGHT_WH\",  # optional\n",
    "    \"database\": \"FIRST_DB\",  # optional\n",
    "    \"schema\": \"PUBLIC\",  # optional\n",
    "    }\n",
    "session = Session.builder.configs(connection_parameters).create()\n",
    "session.sql_simplifier_enabled = True"
   ]
  },
  {
   "cell_type": "code",
   "execution_count": null,
   "id": "af8c563d",
   "metadata": {},
   "outputs": [],
   "source": [
    "session.add_import(\"run_experiment.py\", import_path=\".run_experiment\")\n",
    "session.add_packages(\"numpy\", \"pandas\", \"snowflake\", \"snowflake-ml-python\")"
   ]
  },
  {
   "cell_type": "code",
   "execution_count": null,
   "id": "1726c70a",
   "metadata": {},
   "outputs": [],
   "source": [
    "# def udf_run_exp(sf_pass: str, dataset: str, target: str) -> pd.DataFrame:\n",
    "#     return run_exp(sf_pass, dataset, target)\n",
    "from snowflake.snowpark.types import StructType, StructField, IntegerType, StringType, ArrayType"
   ]
  },
  {
   "cell_type": "code",
   "execution_count": null,
   "id": "09f3bdab",
   "metadata": {},
   "outputs": [],
   "source": [
    "udf_run_exp = udf(\n",
    "    func=run_exp,\n",
    "    return_type=StringType(),\n",
    "    input_types=[ArrayType(StringType()),StringType(),StringType()],\n",
    "    name=\"udf_run_exp\",\n",
    "    packages = ('pandas', 'snowflake-snowpark-python', 'snowflake', 'snowflake-ml-python'),\n",
    "    session=session\n",
    "    )"
   ]
  },
  {
   "cell_type": "code",
   "execution_count": null,
   "id": "7044d601",
   "metadata": {},
   "outputs": [],
   "source": [
    "session"
   ]
  },
  {
   "cell_type": "code",
   "execution_count": null,
   "id": "b7d5577f",
   "metadata": {},
   "outputs": [],
   "source": [
    "password = os.environ.get('SF_Password')"
   ]
  },
  {
   "cell_type": "code",
   "execution_count": null,
   "id": "6c63825e",
   "metadata": {},
   "outputs": [],
   "source": [
    "out = session.sql(f\"select udf_run_exp(ARRAY_CONSTRUCT('snowflake.ml.modeling.naive_bayes.GaussianNB'),'EMPLOYEE', 'LEAVEORNOT') as run\").collect()"
   ]
  },
  {
   "cell_type": "code",
   "execution_count": null,
   "id": "c5371b4d",
   "metadata": {},
   "outputs": [],
   "source": [
    "@udf\n",
    "def add_udf(x: int, y: int) -> int:\n",
    "    return x + y\n",
    "df = session.create_dataframe([[1, 2], [3, 4]], schema=[\"x\", \"y\"])\n",
    "df.select(add_udf(\"x\", \"y\")).to_df(\"add_result\").collect()"
   ]
  },
  {
   "cell_type": "code",
   "execution_count": null,
   "id": "cae3d39d",
   "metadata": {},
   "outputs": [],
   "source": [
    "algos=['snowflake.ml.modeling.naive_bayes.GaussianNB',\n",
    "       'snowflake.ml.modeling.neighbors.KNeighborsClassifier',\n",
    "      ]"
   ]
  },
  {
   "cell_type": "code",
   "execution_count": null,
   "id": "7cbc5ad9",
   "metadata": {},
   "outputs": [],
   "source": [
    "session.close()"
   ]
  },
  {
   "cell_type": "code",
   "execution_count": null,
   "id": "5d7ecf88",
   "metadata": {},
   "outputs": [],
   "source": [
    "from sklearn.svm import SVR"
   ]
  },
  {
   "cell_type": "code",
   "execution_count": 1,
   "id": "fed11fba",
   "metadata": {},
   "outputs": [
    {
     "ename": "NameError",
     "evalue": "name 'SVR' is not defined",
     "output_type": "error",
     "traceback": [
      "\u001b[0;31m---------------------------------------------------------------------------\u001b[0m",
      "\u001b[0;31mNameError\u001b[0m                                 Traceback (most recent call last)",
      "Cell \u001b[0;32mIn[1], line 1\u001b[0m\n\u001b[0;32m----> 1\u001b[0m \u001b[43mSVR\u001b[49m\u001b[38;5;241m.\u001b[39m_get_param_names()\n",
      "\u001b[0;31mNameError\u001b[0m: name 'SVR' is not defined"
     ]
    }
   ],
   "source": [
    "SVR._get_param_names()"
   ]
  },
  {
   "cell_type": "code",
   "execution_count": null,
   "id": "0d45b2e9",
   "metadata": {},
   "outputs": [],
   "source": [
    "a = SVR()"
   ]
  },
  {
   "cell_type": "code",
   "execution_count": null,
   "id": "3761b0f2",
   "metadata": {},
   "outputs": [],
   "source": [
    "a.get_params()"
   ]
  },
  {
   "cell_type": "code",
   "execution_count": null,
   "id": "684e019b",
   "metadata": {},
   "outputs": [],
   "source": [
    "from "
   ]
  }
 ],
 "metadata": {
  "kernelspec": {
   "display_name": "Python 3",
   "language": "python",
   "name": "python3"
  },
  "language_info": {
   "codemirror_mode": {
    "name": "ipython",
    "version": 3
   },
   "file_extension": ".py",
   "mimetype": "text/x-python",
   "name": "python",
   "nbconvert_exporter": "python",
   "pygments_lexer": "ipython3",
   "version": "3.9.18"
  }
 },
 "nbformat": 4,
 "nbformat_minor": 5
}
