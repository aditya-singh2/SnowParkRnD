{
 "cells": [
  {
   "cell_type": "code",
   "execution_count": 1,
   "id": "f0f11cbf",
   "metadata": {},
   "outputs": [
    {
     "name": "stdout",
     "output_type": "stream",
     "text": [
      "/notebooks/notebooks/SnowparkRnD/UDFs\r\n"
     ]
    }
   ],
   "source": [
    "!pwd"
   ]
  },
  {
   "cell_type": "code",
   "execution_count": 3,
   "id": "8a4a3c79",
   "metadata": {},
   "outputs": [],
   "source": [
    "from Run_Experiment import run_experiment"
   ]
  },
  {
   "cell_type": "code",
   "execution_count": 4,
   "id": "59586870",
   "metadata": {},
   "outputs": [],
   "source": [
    "from snowflake.snowpark.functions import udf"
   ]
  },
  {
   "cell_type": "code",
   "execution_count": null,
   "id": "023d2eb4",
   "metadata": {},
   "outputs": [],
   "source": [
    "session.add_import(\"tests/resources/test_udf_dir/test_udf_file.py\", import_path=\"resources.test_udf_dir.test_udf_file\")"
   ]
  }
 ],
 "metadata": {
  "kernelspec": {
   "display_name": "Python 3",
   "language": "python",
   "name": "python3"
  },
  "language_info": {
   "codemirror_mode": {
    "name": "ipython",
    "version": 3
   },
   "file_extension": ".py",
   "mimetype": "text/x-python",
   "name": "python",
   "nbconvert_exporter": "python",
   "pygments_lexer": "ipython3",
   "version": "3.9.18"
  }
 },
 "nbformat": 4,
 "nbformat_minor": 5
}
