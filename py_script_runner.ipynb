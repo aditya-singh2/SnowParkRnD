{
 "cells": [
  {
   "cell_type": "code",
   "execution_count": null,
   "id": "3476083f",
   "metadata": {},
   "outputs": [
    {
     "name": "stdout",
     "output_type": "stream",
     "text": [
      "Connection manager service url initialised to http://fdc-project-manager:80/project-manager\n",
      "If you need to update its value then update the variable CONNECTION_MANAGER_BASE_URL in os env.\n",
      "0557887f-f376-4a64-a059-c2bbaddc6e1b\n",
      "Creating Snowflake Session object...\n",
      "INFO:snowflake.connector.connection:Snowflake Connector for Python Version: 3.10.1, Python Version: 3.9.18, Platform: Linux-6.1.75+-x86_64-with-glibc2.34\n",
      "INFO:snowflake.connector.connection:This connection is in OCSP Fail Open Mode. TLS Certificates would be checked for validity and revocation status. Any other Certificate Revocation related exceptions or OCSP Responder failures would be disregarded in favor of connectivity.\n",
      "INFO:snowflake.snowpark.session:Snowpark Session information: \n",
      "\"version\" : 1.17.0,\n",
      "\"python.version\" : 3.9.18,\n",
      "\"python.connector.version\" : 3.10.1,\n",
      "\"python.connector.session.id\" : 96125693112234,\n",
      "\"os.name\" : Linux\n",
      "\n",
      "Session has been created !\n",
      "INFO:snowflake.connector.cursor:Number of results in first chunk: 1\n",
      "Creating stored procedure...\n",
      "Creating stored procedure...\n",
      "INFO:snowflake.connector.cursor:Number of results in first chunk: 0\n",
      "INFO:snowflake.connector.cursor:Number of results in first chunk: 3\n",
      "WARNING:snowflake.snowpark.session:The version of package 'scikit-learn' in the local environment is 1.3.2, which does not fit the criteria for the requirement 'scikit-learn'. Your UDF might not work when the package version is different between the server and your local environment.\n",
      "INFO:snowflake.connector.cursor:Number of results in first chunk: 1\n",
      "INFO:snowflake.connector.cursor:Number of results in first chunk: 0\n",
      "INFO:snowflake.connector.cursor:Number of results in first chunk: 0\n",
      "INFO:snowflake.connector.cursor:Number of results in first chunk: 1\n",
      "Stored procedure has been created successfully!\n",
      "Stored procedure has been created successfully!\n",
      "Executing Procedure\n",
      "INFO:snowflake.connector.cursor:Number of results in first chunk: 12\n"
     ]
    }
   ],
   "source": [
    "! cd /notebooks/notebooks/SnowparkRnD/ && python snow_exp.py"
   ]
  },
  {
   "cell_type": "code",
   "execution_count": null,
   "id": "587be273",
   "metadata": {},
   "outputs": [],
   "source": []
  }
 ],
 "metadata": {
  "kernelspec": {
   "display_name": "Python 3",
   "language": "python",
   "name": "python3"
  },
  "language_info": {
   "codemirror_mode": {
    "name": "ipython",
    "version": 3
   },
   "file_extension": ".py",
   "mimetype": "text/x-python",
   "name": "python",
   "nbconvert_exporter": "python",
   "pygments_lexer": "ipython3",
   "version": "3.9.18"
  }
 },
 "nbformat": 4,
 "nbformat_minor": 5
}
