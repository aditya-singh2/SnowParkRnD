{
 "cells": [
  {
   "cell_type": "code",
   "execution_count": 4,
   "id": "7560e651",
   "metadata": {},
   "outputs": [],
   "source": [
    "! cd /notebooks/notebooks/SnowparkRnD/ && python snow_exp.py"
   ]
  },
  {
   "cell_type": "code",
   "execution_count": null,
   "id": "7bbb97fd",
   "metadata": {},
   "outputs": [],
   "source": []
  }
 ],
 "metadata": {
  "kernelspec": {
   "display_name": "Python 3",
   "language": "python",
   "name": "python3"
  },
  "language_info": {
   "codemirror_mode": {
    "name": "ipython",
    "version": 3
   },
   "file_extension": ".py",
   "mimetype": "text/x-python",
   "name": "python",
   "nbconvert_exporter": "python",
   "pygments_lexer": "ipython3",
   "version": "3.9.18"
  }
 },
 "nbformat": 4,
 "nbformat_minor": 5
}
