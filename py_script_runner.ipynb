{
 "cells": [
  {
   "cell_type": "code",
   "execution_count": 2,
   "id": "78bdb4fd",
   "metadata": {},
   "outputs": [
    {
     "name": "stdout",
     "output_type": "stream",
     "text": [
      "Connection manager service url initialised to http://fdc-project-manager:80/project-manager\n",
      "If you need to update its value then update the variable CONNECTION_MANAGER_BASE_URL in os env.\n",
      "Traceback (most recent call last):\n",
      "  File \"/notebooks/notebooks/SnowparkRnD/snow_exp.py\", line 352, in <module>\n",
      "    Initilization\n",
      "NameError: name 'Initilization' is not defined\n"
     ]
    }
   ],
   "source": [
    "! cd /notebooks/notebooks/SnowparkRnD/ && python snow_exp.py"
   ]
  },
  {
   "cell_type": "code",
   "execution_count": null,
   "id": "8628b20e",
   "metadata": {},
   "outputs": [],
   "source": []
  }
 ],
 "metadata": {
  "kernelspec": {
   "display_name": "Python 3",
   "language": "python",
   "name": "python3"
  },
  "language_info": {
   "codemirror_mode": {
    "name": "ipython",
    "version": 3
   },
   "file_extension": ".py",
   "mimetype": "text/x-python",
   "name": "python",
   "nbconvert_exporter": "python",
   "pygments_lexer": "ipython3",
   "version": "3.9.18"
  }
 },
 "nbformat": 4,
 "nbformat_minor": 5
}
